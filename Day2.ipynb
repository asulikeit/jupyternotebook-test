{
 "cells": [
  {
   "cell_type": "code",
   "execution_count": 17,
   "metadata": {},
   "outputs": [],
   "source": [
    "from pandas import Series, DataFrame\n",
    "import pandas as pd\n",
    "\n",
    "import nltk\n",
    "\n",
    "%matplotlib inline"
   ]
  },
  {
   "cell_type": "code",
   "execution_count": 18,
   "metadata": {
    "collapsed": true
   },
   "outputs": [],
   "source": [
    "from nltk.corpus import gutenberg"
   ]
  },
  {
   "cell_type": "code",
   "execution_count": 19,
   "metadata": {},
   "outputs": [
    {
     "data": {
      "text/plain": [
       "<PlaintextCorpusReader in 'C:\\\\Users\\\\student\\\\AppData\\\\Roaming\\\\nltk_data\\\\corpora\\\\gutenberg'>"
      ]
     },
     "execution_count": 19,
     "metadata": {},
     "output_type": "execute_result"
    }
   ],
   "source": [
    "gutenberg"
   ]
  },
  {
   "cell_type": "code",
   "execution_count": 20,
   "metadata": {
    "collapsed": true
   },
   "outputs": [
    {
     "data": {
      "text/plain": [
       "['austen-emma.txt',\n",
       " 'austen-persuasion.txt',\n",
       " 'austen-sense.txt',\n",
       " 'bible-kjv.txt',\n",
       " 'blake-poems.txt',\n",
       " 'bryant-stories.txt',\n",
       " 'burgess-busterbrown.txt',\n",
       " 'carroll-alice.txt',\n",
       " 'chesterton-ball.txt',\n",
       " 'chesterton-brown.txt',\n",
       " 'chesterton-thursday.txt',\n",
       " 'edgeworth-parents.txt',\n",
       " 'melville-moby_dick.txt',\n",
       " 'milton-paradise.txt',\n",
       " 'shakespeare-caesar.txt',\n",
       " 'shakespeare-hamlet.txt',\n",
       " 'shakespeare-macbeth.txt',\n",
       " 'whitman-leaves.txt']"
      ]
     },
     "execution_count": 20,
     "metadata": {},
     "output_type": "execute_result"
    }
   ],
   "source": [
    "gutenberg.fileids()"
   ]
  },
  {
   "cell_type": "code",
   "execution_count": 21,
   "metadata": {
    "collapsed": true
   },
   "outputs": [],
   "source": [
    "raw_text = gutenberg.raw('austen-emma.txt')"
   ]
  },
  {
   "cell_type": "code",
   "execution_count": 22,
   "metadata": {},
   "outputs": [
    {
     "data": {
      "text/plain": [
       "'[Emma by Jane Austen 1816]\\n\\nVOLUME I\\n\\nCHAPTER I\\n\\n\\nEmma Woodhouse, handsome, clever, and rich, with a'"
      ]
     },
     "execution_count": 22,
     "metadata": {},
     "output_type": "execute_result"
    }
   ],
   "source": [
    "raw_text[:100]"
   ]
  },
  {
   "cell_type": "code",
   "execution_count": 23,
   "metadata": {
    "collapsed": true
   },
   "outputs": [],
   "source": [
    "tokens = gutenberg.words('austen-emma.txt')"
   ]
  },
  {
   "cell_type": "code",
   "execution_count": 24,
   "metadata": {},
   "outputs": [
    {
     "data": {
      "text/plain": [
       "['[', 'Emma', 'by', 'Jane', 'Austen', '1816', ']', 'VOLUME', 'I', 'CHAPTER']"
      ]
     },
     "execution_count": 24,
     "metadata": {},
     "output_type": "execute_result"
    }
   ],
   "source": [
    "tokens[:10]"
   ]
  },
  {
   "cell_type": "code",
   "execution_count": 30,
   "metadata": {
    "collapsed": true
   },
   "outputs": [],
   "source": [
    "import re"
   ]
  },
  {
   "cell_type": "code",
   "execution_count": 35,
   "metadata": {},
   "outputs": [
    {
     "data": {
      "text/plain": [
       "['', 'Emma', 'by', 'Jane', 'Austen', '1816', 'VOLUME', 'I', 'CHAPTER', 'I']"
      ]
     },
     "execution_count": 35,
     "metadata": {},
     "output_type": "execute_result"
    }
   ],
   "source": [
    "re.split('\\W+', raw_text)[:10]"
   ]
  },
  {
   "cell_type": "code",
   "execution_count": 33,
   "metadata": {
    "collapsed": true
   },
   "outputs": [],
   "source": [
    "word_tokens = nltk.tokenize.word_tokenize(raw_text)"
   ]
  },
  {
   "cell_type": "code",
   "execution_count": 34,
   "metadata": {},
   "outputs": [
    {
     "data": {
      "text/plain": [
       "['[', 'Emma', 'by', 'Jane', 'Austen', '1816', ']', 'VOLUME', 'I', 'CHAPTER']"
      ]
     },
     "execution_count": 34,
     "metadata": {},
     "output_type": "execute_result"
    }
   ],
   "source": [
    "word_tokens[:10]"
   ]
  },
  {
   "cell_type": "code",
   "execution_count": 36,
   "metadata": {
    "collapsed": true
   },
   "outputs": [],
   "source": [
    "sent_tokens = nltk.tokenize.sent_tokenize(raw_text)"
   ]
  },
  {
   "cell_type": "code",
   "execution_count": 37,
   "metadata": {
    "collapsed": true
   },
   "outputs": [
    {
     "data": {
      "text/plain": [
       "['[Emma by Jane Austen 1816]\\n\\nVOLUME I\\n\\nCHAPTER I\\n\\n\\nEmma Woodhouse, handsome, clever, and rich, with a comfortable home\\nand happy disposition, seemed to unite some of the best blessings\\nof existence; and had lived nearly twenty-one years in the world\\nwith very little to distress or vex her.',\n",
       " \"She was the youngest of the two daughters of a most affectionate,\\nindulgent father; and had, in consequence of her sister's marriage,\\nbeen mistress of his house from a very early period.\",\n",
       " 'Her mother\\nhad died too long ago for her to have more than an indistinct\\nremembrance of her caresses; and her place had been supplied\\nby an excellent woman as governess, who had fallen little short\\nof a mother in affection.',\n",
       " \"Sixteen years had Miss Taylor been in Mr. Woodhouse's family,\\nless as a governess than a friend, very fond of both daughters,\\nbut particularly of Emma.\",\n",
       " 'Between _them_ it was more the intimacy\\nof sisters.',\n",
       " \"Even before Miss Taylor had ceased to hold the nominal\\noffice of governess, the mildness of her temper had hardly allowed\\nher to impose any restraint; and the shadow of authority being\\nnow long passed away, they had been living together as friend and\\nfriend very mutually attached, and Emma doing just what she liked;\\nhighly esteeming Miss Taylor's judgment, but directed chiefly by\\nher own.\",\n",
       " \"The real evils, indeed, of Emma's situation were the power of having\\nrather too much her own way, and a disposition to think a little\\ntoo well of herself; these were the disadvantages which threatened\\nalloy to her many enjoyments.\",\n",
       " 'The danger, however, was at present\\nso unperceived, that they did not by any means rank as misfortunes\\nwith her.',\n",
       " 'Sorrow came--a gentle sorrow--but not at all in the shape of any\\ndisagreeable consciousness.--Miss Taylor married.',\n",
       " \"It was Miss\\nTaylor's loss which first brought grief.\"]"
      ]
     },
     "execution_count": 37,
     "metadata": {},
     "output_type": "execute_result"
    }
   ],
   "source": [
    "sent_tokens[:10]"
   ]
  },
  {
   "cell_type": "code",
   "execution_count": 40,
   "metadata": {
    "collapsed": true
   },
   "outputs": [],
   "source": [
    "def 어휘통계산출(raw_text):\n",
    "    word_tokens = nltk.tokenize.word_tokenize(raw_text)\n",
    "    sent_toknes = nltk.tokenize.sent_tokenize(raw_text)\n",
    "    어휘_토큰 = Series(t for t in word_tokens).str.lower().drop_duplicates()\n",
    "    글자수 = len(raw_text)\n",
    "    단어수 = len(word_tokens)\n",
    "    문장수 = len(sent_toknes)\n",
    "    어휘수 = len(어휘_토큰)\n",
    "    return Series({'글자': 글자수, '단어': 단어수, '문장': 문장수, '어휘': 어휘수})"
   ]
  },
  {
   "cell_type": "code",
   "execution_count": 41,
   "metadata": {},
   "outputs": [
    {
     "data": {
      "text/plain": [
       "글자    887071\n",
       "단어    191673\n",
       "문장      7493\n",
       "어휘      8000\n",
       "dtype: int64"
      ]
     },
     "execution_count": 41,
     "metadata": {},
     "output_type": "execute_result"
    }
   ],
   "source": [
    "어휘통계산출(raw_text)"
   ]
  },
  {
   "cell_type": "code",
   "execution_count": 46,
   "metadata": {},
   "outputs": [],
   "source": [
    "집계결과 = []\n",
    "for fid in gutenberg.fileids():\n",
    "    통계 = 어휘통계산출(gutenberg.raw(fid))\n",
    "    통계.name = fid\n",
    "    집계결과.append(통계)"
   ]
  },
  {
   "cell_type": "code",
   "execution_count": 48,
   "metadata": {},
   "outputs": [],
   "source": [
    "말뭉치_통계 = pd.concat(집계결과, axis=1).T"
   ]
  },
  {
   "cell_type": "code",
   "execution_count": 49,
   "metadata": {
    "collapsed": true
   },
   "outputs": [
    {
     "data": {
      "text/html": [
       "<div>\n",
       "<style>\n",
       "    .dataframe thead tr:only-child th {\n",
       "        text-align: right;\n",
       "    }\n",
       "\n",
       "    .dataframe thead th {\n",
       "        text-align: left;\n",
       "    }\n",
       "\n",
       "    .dataframe tbody tr th {\n",
       "        vertical-align: top;\n",
       "    }\n",
       "</style>\n",
       "<table border=\"1\" class=\"dataframe\">\n",
       "  <thead>\n",
       "    <tr style=\"text-align: right;\">\n",
       "      <th></th>\n",
       "      <th>글자</th>\n",
       "      <th>단어</th>\n",
       "      <th>문장</th>\n",
       "      <th>어휘</th>\n",
       "    </tr>\n",
       "  </thead>\n",
       "  <tbody>\n",
       "    <tr>\n",
       "      <th>melville-moby_dick.txt</th>\n",
       "      <td>1242990</td>\n",
       "      <td>254989</td>\n",
       "      <td>9852</td>\n",
       "      <td>18717</td>\n",
       "    </tr>\n",
       "    <tr>\n",
       "      <th>bible-kjv.txt</th>\n",
       "      <td>4332554</td>\n",
       "      <td>946812</td>\n",
       "      <td>29812</td>\n",
       "      <td>17188</td>\n",
       "    </tr>\n",
       "    <tr>\n",
       "      <th>whitman-leaves.txt</th>\n",
       "      <td>711215</td>\n",
       "      <td>149198</td>\n",
       "      <td>3827</td>\n",
       "      <td>13739</td>\n",
       "    </tr>\n",
       "    <tr>\n",
       "      <th>milton-paradise.txt</th>\n",
       "      <td>468220</td>\n",
       "      <td>95709</td>\n",
       "      <td>1835</td>\n",
       "      <td>9282</td>\n",
       "    </tr>\n",
       "    <tr>\n",
       "      <th>edgeworth-parents.txt</th>\n",
       "      <td>935158</td>\n",
       "      <td>209090</td>\n",
       "      <td>10096</td>\n",
       "      <td>8818</td>\n",
       "    </tr>\n",
       "    <tr>\n",
       "      <th>chesterton-ball.txt</th>\n",
       "      <td>457450</td>\n",
       "      <td>97203</td>\n",
       "      <td>4624</td>\n",
       "      <td>8485</td>\n",
       "    </tr>\n",
       "    <tr>\n",
       "      <th>chesterton-brown.txt</th>\n",
       "      <td>406629</td>\n",
       "      <td>85412</td>\n",
       "      <td>3712</td>\n",
       "      <td>8058</td>\n",
       "    </tr>\n",
       "    <tr>\n",
       "      <th>austen-emma.txt</th>\n",
       "      <td>887071</td>\n",
       "      <td>191673</td>\n",
       "      <td>7493</td>\n",
       "      <td>8000</td>\n",
       "    </tr>\n",
       "    <tr>\n",
       "      <th>austen-sense.txt</th>\n",
       "      <td>673022</td>\n",
       "      <td>141367</td>\n",
       "      <td>4833</td>\n",
       "      <td>6681</td>\n",
       "    </tr>\n",
       "    <tr>\n",
       "      <th>chesterton-thursday.txt</th>\n",
       "      <td>320525</td>\n",
       "      <td>69408</td>\n",
       "      <td>3588</td>\n",
       "      <td>6491</td>\n",
       "    </tr>\n",
       "    <tr>\n",
       "      <th>austen-persuasion.txt</th>\n",
       "      <td>466292</td>\n",
       "      <td>97888</td>\n",
       "      <td>3654</td>\n",
       "      <td>5967</td>\n",
       "    </tr>\n",
       "    <tr>\n",
       "      <th>shakespeare-hamlet.txt</th>\n",
       "      <td>162881</td>\n",
       "      <td>36326</td>\n",
       "      <td>2355</td>\n",
       "      <td>4812</td>\n",
       "    </tr>\n",
       "    <tr>\n",
       "      <th>bryant-stories.txt</th>\n",
       "      <td>249439</td>\n",
       "      <td>55621</td>\n",
       "      <td>2715</td>\n",
       "      <td>4011</td>\n",
       "    </tr>\n",
       "    <tr>\n",
       "      <th>shakespeare-macbeth.txt</th>\n",
       "      <td>100351</td>\n",
       "      <td>22211</td>\n",
       "      <td>1465</td>\n",
       "      <td>3555</td>\n",
       "    </tr>\n",
       "    <tr>\n",
       "      <th>shakespeare-caesar.txt</th>\n",
       "      <td>112310</td>\n",
       "      <td>25217</td>\n",
       "      <td>1592</td>\n",
       "      <td>3093</td>\n",
       "    </tr>\n",
       "    <tr>\n",
       "      <th>carroll-alice.txt</th>\n",
       "      <td>144395</td>\n",
       "      <td>33310</td>\n",
       "      <td>1625</td>\n",
       "      <td>2838</td>\n",
       "    </tr>\n",
       "    <tr>\n",
       "      <th>burgess-busterbrown.txt</th>\n",
       "      <td>84663</td>\n",
       "      <td>18542</td>\n",
       "      <td>1001</td>\n",
       "      <td>1553</td>\n",
       "    </tr>\n",
       "    <tr>\n",
       "      <th>blake-poems.txt</th>\n",
       "      <td>38153</td>\n",
       "      <td>8239</td>\n",
       "      <td>355</td>\n",
       "      <td>1534</td>\n",
       "    </tr>\n",
       "  </tbody>\n",
       "</table>\n",
       "</div>"
      ],
      "text/plain": [
       "                              글자      단어     문장     어휘\n",
       "melville-moby_dick.txt   1242990  254989   9852  18717\n",
       "bible-kjv.txt            4332554  946812  29812  17188\n",
       "whitman-leaves.txt        711215  149198   3827  13739\n",
       "milton-paradise.txt       468220   95709   1835   9282\n",
       "edgeworth-parents.txt     935158  209090  10096   8818\n",
       "chesterton-ball.txt       457450   97203   4624   8485\n",
       "chesterton-brown.txt      406629   85412   3712   8058\n",
       "austen-emma.txt           887071  191673   7493   8000\n",
       "austen-sense.txt          673022  141367   4833   6681\n",
       "chesterton-thursday.txt   320525   69408   3588   6491\n",
       "austen-persuasion.txt     466292   97888   3654   5967\n",
       "shakespeare-hamlet.txt    162881   36326   2355   4812\n",
       "bryant-stories.txt        249439   55621   2715   4011\n",
       "shakespeare-macbeth.txt   100351   22211   1465   3555\n",
       "shakespeare-caesar.txt    112310   25217   1592   3093\n",
       "carroll-alice.txt         144395   33310   1625   2838\n",
       "burgess-busterbrown.txt    84663   18542   1001   1553\n",
       "blake-poems.txt            38153    8239    355   1534"
      ]
     },
     "execution_count": 49,
     "metadata": {},
     "output_type": "execute_result"
    }
   ],
   "source": [
    "말뭉치_통계.sort_values(by='어휘', ascending=False)"
   ]
  },
  {
   "cell_type": "code",
   "execution_count": 50,
   "metadata": {
    "collapsed": true
   },
   "outputs": [],
   "source": [
    "어휘다양성 = 말뭉치_통계['단어'] / 말뭉치_통계['어휘']"
   ]
  },
  {
   "cell_type": "code",
   "execution_count": 52,
   "metadata": {},
   "outputs": [
    {
     "data": {
      "text/plain": [
       "<matplotlib.axes._subplots.AxesSubplot at 0x17a51e80>"
      ]
     },
     "execution_count": 52,
     "metadata": {},
     "output_type": "execute_result"
    },
    {
     "data": {
      "image/png": "[encoded data removed]",
      "text/plain": [
       "<matplotlib.figure.Figure at 0x10c40080>"
      ]
     },
     "metadata": {},
     "output_type": "display_data"
    }
   ],
   "source": [
    "어휘다양성.sort_values().plot(kind='barh')"
   ]
  },
  {
   "cell_type": "code",
   "execution_count": 53,
   "metadata": {
    "collapsed": true
   },
   "outputs": [],
   "source": [
    "from nltk.corpus import nps_chat"
   ]
  },
  {
   "cell_type": "code",
   "execution_count": 54,
   "metadata": {},
   "outputs": [
    {
     "data": {
      "text/plain": [
       "<NPSChatCorpusReader in 'C:\\\\Users\\\\student\\\\AppData\\\\Roaming\\\\nltk_data\\\\corpora\\\\nps_chat'>"
      ]
     },
     "execution_count": 54,
     "metadata": {},
     "output_type": "execute_result"
    }
   ],
   "source": [
    "nps_chat"
   ]
  },
  {
   "cell_type": "code",
   "execution_count": 57,
   "metadata": {},
   "outputs": [],
   "source": [
    "tokens = nps_chat.posts('10-19-30s_705posts.xml')"
   ]
  },
  {
   "cell_type": "code",
   "execution_count": 58,
   "metadata": {},
   "outputs": [
    {
     "data": {
      "text/plain": [
       "[['U11', 'lol'], ['lol', 'U11'], ['wb', 'U9'], ...]"
      ]
     },
     "execution_count": 58,
     "metadata": {},
     "output_type": "execute_result"
    }
   ],
   "source": [
    "tokens"
   ]
  },
  {
   "cell_type": "code",
   "execution_count": 59,
   "metadata": {
    "collapsed": true
   },
   "outputs": [],
   "source": [
    "from nltk.corpus import brown"
   ]
  },
  {
   "cell_type": "code",
   "execution_count": 60,
   "metadata": {},
   "outputs": [
    {
     "data": {
      "text/plain": [
       "<CategorizedTaggedCorpusReader in 'C:\\\\Users\\\\student\\\\AppData\\\\Roaming\\\\nltk_data\\\\corpora\\\\brown'>"
      ]
     },
     "execution_count": 60,
     "metadata": {},
     "output_type": "execute_result"
    }
   ],
   "source": [
    "brown"
   ]
  },
  {
   "cell_type": "code",
   "execution_count": 61,
   "metadata": {
    "scrolled": true
   },
   "outputs": [
    {
     "data": {
      "text/plain": [
       "['adventure',\n",
       " 'belles_lettres',\n",
       " 'editorial',\n",
       " 'fiction',\n",
       " 'government',\n",
       " 'hobbies',\n",
       " 'humor',\n",
       " 'learned',\n",
       " 'lore',\n",
       " 'mystery',\n",
       " 'news',\n",
       " 'religion',\n",
       " 'reviews',\n",
       " 'romance',\n",
       " 'science_fiction']"
      ]
     },
     "execution_count": 61,
     "metadata": {},
     "output_type": "execute_result"
    }
   ],
   "source": [
    "brown.categories()"
   ]
  },
  {
   "cell_type": "code",
   "execution_count": 62,
   "metadata": {
    "collapsed": true
   },
   "outputs": [],
   "source": [
    "news_tokens = brown.words(categories = 'news')"
   ]
  },
  {
   "cell_type": "code",
   "execution_count": 63,
   "metadata": {
    "scrolled": true
   },
   "outputs": [
    {
     "data": {
      "text/plain": [
       "['The', 'Fulton', 'County', 'Grand', 'Jury', 'said', ...]"
      ]
     },
     "execution_count": 63,
     "metadata": {},
     "output_type": "execute_result"
    }
   ],
   "source": [
    "news_tokens"
   ]
  },
  {
   "cell_type": "code",
   "execution_count": 66,
   "metadata": {},
   "outputs": [
    {
     "data": {
      "text/plain": [
       "can       94\n",
       "could     87\n",
       "may       93\n",
       "might     38\n",
       "must      53\n",
       "will     389\n",
       "dtype: int64"
      ]
     },
     "execution_count": 66,
     "metadata": {},
     "output_type": "execute_result"
    }
   ],
   "source": [
    "관심단어 = ['can', 'could', 'may', 'might', 'must', 'will']\n",
    "Series(t for t in news_tokens).str.lower().value_counts()[관심단어]"
   ]
  },
  {
   "cell_type": "markdown",
   "metadata": {},
   "source": [
    "#### 연습\n",
    "\n",
    "brown 말뭉치의 모든 카테고리에 대해 관심 토큰의 도수를 집계해 비교해 봅시다"
   ]
  },
  {
   "cell_type": "code",
   "execution_count": 71,
   "metadata": {
    "collapsed": true
   },
   "outputs": [],
   "source": [
    "집계 = []\n",
    "for 분류 in brown.categories():\n",
    "    tokens = brown.words(categories = 분류)\n",
    "    토큰도수 = Series(t for t in tokens).str.lower().value_counts()\n",
    "    토큰도수.name = 분류\n",
    "    집계.append(토큰도수[관심단어])"
   ]
  },
  {
   "cell_type": "code",
   "execution_count": 72,
   "metadata": {
    "collapsed": true
   },
   "outputs": [],
   "source": [
    "분류별_통계 = pd.concat(집계, axis=1).T"
   ]
  },
  {
   "cell_type": "code",
   "execution_count": 75,
   "metadata": {
    "collapsed": true
   },
   "outputs": [],
   "source": [
    "분류별_비율 = 분류별_통계.div(분류별_통계.sum(1), axis=0)"
   ]
  },
  {
   "cell_type": "code",
   "execution_count": 76,
   "metadata": {},
   "outputs": [
    {
     "data": {
      "text/plain": [
       "<matplotlib.axes._subplots.AxesSubplot at 0x10159630>"
      ]
     },
     "execution_count": 76,
     "metadata": {},
     "output_type": "execute_result"
    },
    {
     "data": {
      "image/png": "[encoded data removed]",
      "text/plain": [
       "<matplotlib.figure.Figure at 0x10f63ba8>"
      ]
     },
     "metadata": {},
     "output_type": "display_data"
    }
   ],
   "source": [
    "분류별_비율.plot(kind='barh', stacked=True)"
   ]
  },
  {
   "cell_type": "markdown",
   "metadata": {},
   "source": [
    "#### 또다른 말뭉치"
   ]
  },
  {
   "cell_type": "code",
   "execution_count": 77,
   "metadata": {
    "collapsed": true
   },
   "outputs": [],
   "source": [
    "from nltk.corpus import udhr as 인권선언"
   ]
  },
  {
   "cell_type": "code",
   "execution_count": 78,
   "metadata": {},
   "outputs": [
    {
     "data": {
      "text/plain": [
       "<UdhrCorpusReader in 'C:\\\\Users\\\\student\\\\AppData\\\\Roaming\\\\nltk_data\\\\corpora\\\\udhr'>"
      ]
     },
     "execution_count": 78,
     "metadata": {},
     "output_type": "execute_result"
    }
   ],
   "source": [
    "인권선언"
   ]
  },
  {
   "cell_type": "code",
   "execution_count": 79,
   "metadata": {},
   "outputs": [
    {
     "data": {
      "text/plain": [
       "['Kazakh-UTF8',\n",
       " 'Kiche_Quiche-Latin1',\n",
       " 'Kicongo-Latin1',\n",
       " 'Kimbundu_Mbundu-Latin1',\n",
       " 'Kinyamwezi_Nyamwezi-Latin1',\n",
       " 'Kinyarwanda-Latin1',\n",
       " 'Kituba-Latin1',\n",
       " 'Korean_Hankuko-UTF8',\n",
       " 'Kpelewo-UTF8',\n",
       " 'Krio-UTF8']"
      ]
     },
     "execution_count": 79,
     "metadata": {},
     "output_type": "execute_result"
    }
   ],
   "source": [
    "인권선언.fileids()[140:150]"
   ]
  },
  {
   "cell_type": "code",
   "execution_count": 80,
   "metadata": {
    "collapsed": true
   },
   "outputs": [],
   "source": [
    "이름 = '다니엘'"
   ]
  },
  {
   "cell_type": "code",
   "execution_count": 84,
   "metadata": {},
   "outputs": [
    {
     "data": {
      "text/plain": [
       "[45796, 45768, 50648]"
      ]
     },
     "execution_count": 84,
     "metadata": {},
     "output_type": "execute_result"
    }
   ],
   "source": [
    "유니코드_포인트 = [ord(글자) for 글자 in 이름]\n",
    "유니코드_포인트"
   ]
  },
  {
   "cell_type": "code",
   "execution_count": 85,
   "metadata": {},
   "outputs": [
    {
     "data": {
      "text/plain": [
       "['0xb2e4', '0xb2c8', '0xc5d8']"
      ]
     },
     "execution_count": 85,
     "metadata": {},
     "output_type": "execute_result"
    }
   ],
   "source": [
    "유니코드_포인트_hex = [hex(cp) for cp in 유니코드_포인트]\n",
    "유니코드_포인트_hex   "
   ]
  },
  {
   "cell_type": "code",
   "execution_count": 86,
   "metadata": {},
   "outputs": [
    {
     "data": {
      "text/plain": [
       "b'\\xeb\\x8b\\xa4\\xeb\\x8b\\x88\\xec\\x97\\x98'"
      ]
     },
     "execution_count": 86,
     "metadata": {},
     "output_type": "execute_result"
    }
   ],
   "source": [
    "이름.encode('utf-8')"
   ]
  },
  {
   "cell_type": "code",
   "execution_count": 81,
   "metadata": {},
   "outputs": [
    {
     "data": {
      "text/plain": [
       "b'\\xff\\xfe\\xe4\\xb2\\xc8\\xb2\\xd8\\xc5'"
      ]
     },
     "execution_count": 81,
     "metadata": {},
     "output_type": "execute_result"
    }
   ],
   "source": [
    "이름.encode('utf-16')"
   ]
  },
  {
   "cell_type": "code",
   "execution_count": 82,
   "metadata": {},
   "outputs": [
    {
     "data": {
      "text/plain": [
       "b'\\xb4\\xd9\\xb4\\xcf\\xbf\\xa4'"
      ]
     },
     "execution_count": 82,
     "metadata": {},
     "output_type": "execute_result"
    }
   ],
   "source": [
    "이름.encode('cp949')"
   ]
  },
  {
   "cell_type": "code",
   "execution_count": 87,
   "metadata": {},
   "outputs": [
    {
     "name": "stdout",
     "output_type": "stream",
     "text": [
      "인코딩 불가\n"
     ]
    }
   ],
   "source": [
    "try:\n",
    "    이름.encode('ascii')\n",
    "except UnicodeEncodeError:\n",
    "    print('인코딩 불가')"
   ]
  },
  {
   "cell_type": "code",
   "execution_count": 88,
   "metadata": {
    "collapsed": true
   },
   "outputs": [],
   "source": [
    "한국어 = 인권선언.raw('Korean_Hankuko-UTF8')"
   ]
  },
  {
   "cell_type": "code",
   "execution_count": 89,
   "metadata": {
    "collapsed": true
   },
   "outputs": [
    {
     "data": {
      "text/plain": [
       "'세 계 인 권 선 언\\n\\n전 문 \\n\\n모든 인류 구성원의 천부의 존엄성과 동등하고 양도할 수 없는 권리를 인정하는 것이 세계의 자유 , 정의 및 평화의 기초이며 , \\n\\n인권에 대한 무시와 경멸이 인류의 양심을 격분시키는 만행을 초래하였으며 , 인간이 언론과 신앙의 자유, 그리고 공포와 결핍으로부터의 자유를 누릴 수 있는 세계의 도래가 모든 사람들의 지고한 열망으로서 천명되어 왔으며 , \\n\\n인간이 폭정과 억압에 대항하는 마지막 수단으로서 반란을 일으키도록 강요받지 않으려면 , 법에 의한 통치에 의하여 인권이 보호되어야 하는 것이 필수적이며 , \\n\\n국가간에 우호관계의 발전을 증진하는 것이 필수적이며 , \\n\\n국제연합의 모든 사람들은 그 헌장에서 기본적 인권, 인간의 존엄과 가치 , 그리고 남녀의 동등한 권리에 대한 신념을 재확인하였으며, 보다 폭넓은 자유속에서 사회적 진보와 보다 나은 생활수준을 증진하기로 다짐하였고, \\n\\n회원국들은 국제연합과 협력하여 인권과 기본적 자유의 보편적 존중과 준수를 증진할 것을 스스로 서약하였으며 , \\n\\n이러한 권리와 자유에 대한 공통의 이해가 이 서약의 완전한 이행을 위하여 가장 중요하므로 , \\n\\n이에, \\n\\n국제연합총회는, \\n\\n모든 개인과 사회 각 기관이 이 선언을 항상 유념하면서 학습 및 교육을 통하여 이러한 권리와 자유에 대한 존중을 증진하기 위하여 노력하며 , 국내적 그리고 국제적인 점진적 조치를 통하여 회원국 국민들 자신과 그 관할 영토의 국민들 사이에서 이러한 권리와 자유가 보편적이고 효과적으로 인식되고 준수되도록 노력하도록 하기 위하여 , 모든 사람과 국가가 성취하여야 할 공통의 기준으로서 이 세계인권선언을 선포한다. \\n\\n제 1 조 \\n\\n모든 인간은 태어날 때부터 자유로우며 그 존엄과 권리에 있어 동등하다. 인간은 천부적으로 이성과 양심을 부여받았으며 서로 형제애의 정신으로 행동하여야 한다. \\n\\n제 2 조 \\n\\n모든 사람은 인종, 피부색, 성, 언어, 종교, 정치적 또는 기타의 견해, 민족적 또는 사회적 출신, 재산, 출생 또는 기'"
      ]
     },
     "execution_count": 89,
     "metadata": {},
     "output_type": "execute_result"
    }
   ],
   "source": [
    "한국어[:1000]"
   ]
  },
  {
   "cell_type": "code",
   "execution_count": 91,
   "metadata": {
    "collapsed": true
   },
   "outputs": [],
   "source": [
    "대상텍스트목록 = [\n",
    "    'Korean_Hankuko-UTF8',\n",
    "    'English-Latin1',\n",
    "    'Chinese_Mandarin-GB2312',\n",
    "    'Japanese_Nihongo-UTF8'\n",
    "]"
   ]
  },
  {
   "cell_type": "code",
   "execution_count": 92,
   "metadata": {
    "collapsed": true
   },
   "outputs": [],
   "source": [
    "토큰길이 = {}\n",
    "for fid in 대상텍스트목록:\n",
    "    tokens = 인권선언.words(fid)\n",
    "    토큰길이[fid] = len(tokens)"
   ]
  },
  {
   "cell_type": "code",
   "execution_count": 95,
   "metadata": {},
   "outputs": [
    {
     "data": {
      "text/plain": [
       "['세', '계', '인', '권', '선', '언', '전', '문', '모든', '인류', ...]"
      ]
     },
     "execution_count": 95,
     "metadata": {},
     "output_type": "execute_result"
    }
   ],
   "source": [
    "인권선언.words(대상텍스트목록[0])"
   ]
  },
  {
   "cell_type": "code",
   "execution_count": 94,
   "metadata": {},
   "outputs": [
    {
     "data": {
      "text/plain": [
       "Japanese_Nihongo-UTF8       508\n",
       "Korean_Hankuko-UTF8        1142\n",
       "English-Latin1             1781\n",
       "Chinese_Mandarin-GB2312    2884\n",
       "dtype: int64"
      ]
     },
     "execution_count": 94,
     "metadata": {},
     "output_type": "execute_result"
    }
   ],
   "source": [
    "Series(토큰길이).sort_values()"
   ]
  },
  {
   "cell_type": "code",
   "execution_count": 97,
   "metadata": {},
   "outputs": [],
   "source": [
    "from nltk.corpus.reader.bnc import BNCCorpusReader"
   ]
  },
  {
   "cell_type": "code",
   "execution_count": 102,
   "metadata": {},
   "outputs": [],
   "source": [
    "bnc_reader = BNCCorpusReader(\n",
    "    root = 'data/BNC/2554/download/Texts/',\n",
    "    fileids = r'[A-Z]/\\w+/\\w+\\.xml'\n",
    ")"
   ]
  },
  {
   "cell_type": "code",
   "execution_count": 103,
   "metadata": {
    "collapsed": true
   },
   "outputs": [
    {
     "data": {
      "text/plain": [
       "['A/A0/A00.xml',\n",
       " 'A/A0/A01.xml',\n",
       " 'A/A0/A02.xml',\n",
       " 'A/A0/A03.xml',\n",
       " 'A/A0/A04.xml',\n",
       " 'A/A0/A05.xml',\n",
       " 'A/A0/A06.xml',\n",
       " 'A/A0/A07.xml',\n",
       " 'A/A0/A08.xml',\n",
       " 'A/A0/A0A.xml',\n",
       " 'A/A0/A0B.xml',\n",
       " 'A/A0/A0C.xml',\n",
       " 'A/A0/A0D.xml',\n",
       " 'A/A0/A0E.xml',\n",
       " 'A/A0/A0F.xml',\n",
       " 'A/A0/A0G.xml',\n",
       " 'A/A0/A0H.xml',\n",
       " 'A/A0/A0J.xml',\n",
       " 'A/A0/A0K.xml',\n",
       " 'A/A0/A0L.xml',\n",
       " 'A/A0/A0M.xml',\n",
       " 'A/A0/A0N.xml',\n",
       " 'A/A0/A0P.xml',\n",
       " 'A/A0/A0R.xml',\n",
       " 'A/A0/A0S.xml',\n",
       " 'A/A0/A0T.xml',\n",
       " 'A/A0/A0U.xml',\n",
       " 'A/A0/A0V.xml',\n",
       " 'A/A0/A0W.xml',\n",
       " 'A/A0/A0X.xml',\n",
       " 'A/A0/A0Y.xml',\n",
       " 'A/A1/A10.xml',\n",
       " 'A/A1/A11.xml',\n",
       " 'A/A1/A12.xml',\n",
       " 'A/A1/A13.xml',\n",
       " 'A/A1/A14.xml',\n",
       " 'A/A1/A15.xml',\n",
       " 'A/A1/A16.xml',\n",
       " 'A/A1/A17.xml',\n",
       " 'A/A1/A18.xml',\n",
       " 'A/A1/A19.xml',\n",
       " 'A/A1/A1A.xml',\n",
       " 'A/A1/A1B.xml',\n",
       " 'A/A1/A1D.xml',\n",
       " 'A/A1/A1E.xml',\n",
       " 'A/A1/A1F.xml',\n",
       " 'A/A1/A1G.xml',\n",
       " 'A/A1/A1H.xml',\n",
       " 'A/A1/A1J.xml',\n",
       " 'A/A1/A1K.xml',\n",
       " 'A/A1/A1L.xml',\n",
       " 'A/A1/A1M.xml',\n",
       " 'A/A1/A1N.xml',\n",
       " 'A/A1/A1P.xml',\n",
       " 'A/A1/A1R.xml',\n",
       " 'A/A1/A1S.xml',\n",
       " 'A/A1/A1T.xml',\n",
       " 'A/A1/A1U.xml',\n",
       " 'A/A1/A1V.xml',\n",
       " 'A/A1/A1W.xml',\n",
       " 'A/A1/A1X.xml',\n",
       " 'A/A1/A1Y.xml',\n",
       " 'A/A2/A20.xml',\n",
       " 'A/A2/A21.xml',\n",
       " 'A/A2/A22.xml',\n",
       " 'A/A2/A23.xml',\n",
       " 'A/A2/A24.xml',\n",
       " 'A/A2/A25.xml',\n",
       " 'A/A2/A26.xml',\n",
       " 'A/A2/A27.xml',\n",
       " 'A/A2/A28.xml',\n",
       " 'A/A2/A29.xml',\n",
       " 'A/A2/A2A.xml',\n",
       " 'A/A2/A2B.xml',\n",
       " 'A/A2/A2C.xml',\n",
       " 'A/A2/A2D.xml',\n",
       " 'A/A2/A2E.xml',\n",
       " 'A/A2/A2F.xml',\n",
       " 'A/A2/A2G.xml',\n",
       " 'A/A2/A2H.xml',\n",
       " 'A/A2/A2J.xml',\n",
       " 'A/A2/A2K.xml',\n",
       " 'A/A2/A2L.xml',\n",
       " 'A/A2/A2M.xml',\n",
       " 'A/A2/A2N.xml',\n",
       " 'A/A2/A2P.xml',\n",
       " 'A/A2/A2R.xml',\n",
       " 'A/A2/A2S.xml',\n",
       " 'A/A2/A2T.xml',\n",
       " 'A/A2/A2U.xml',\n",
       " 'A/A2/A2V.xml',\n",
       " 'A/A2/A2W.xml',\n",
       " 'A/A2/A2X.xml',\n",
       " 'A/A2/A2Y.xml',\n",
       " 'A/A3/A30.xml',\n",
       " 'A/A3/A31.xml',\n",
       " 'A/A3/A32.xml',\n",
       " 'A/A3/A33.xml',\n",
       " 'A/A3/A34.xml',\n",
       " 'A/A3/A35.xml']"
      ]
     },
     "execution_count": 103,
     "metadata": {},
     "output_type": "execute_result"
    }
   ],
   "source": [
    "bnc_reader.fileids()[:100]"
   ]
  },
  {
   "cell_type": "code",
   "execution_count": 104,
   "metadata": {},
   "outputs": [
    {
     "data": {
      "text/plain": [
       "['FACTSHEET', 'WHAT', 'IS', 'AIDS', '?', 'AIDS', '(', ...]"
      ]
     },
     "execution_count": 104,
     "metadata": {},
     "output_type": "execute_result"
    }
   ],
   "source": [
    "bnc_reader.words('A/A0/A00.xml')"
   ]
  },
  {
   "cell_type": "code",
   "execution_count": 106,
   "metadata": {},
   "outputs": [
    {
     "data": {
      "text/plain": [
       "['AIDS', '(', 'Acquired', 'Immune', 'Deficiency', ...]"
      ]
     },
     "execution_count": 106,
     "metadata": {},
     "output_type": "execute_result"
    }
   ],
   "source": [
    "bnc_reader.words('A/A0/A00.xml')[5:]"
   ]
  },
  {
   "cell_type": "code",
   "execution_count": 105,
   "metadata": {},
   "outputs": [
    {
     "data": {
      "text/plain": [
       "['aids', '(', 'acquire', 'immune', 'deficiency', ...]"
      ]
     },
     "execution_count": 105,
     "metadata": {},
     "output_type": "execute_result"
    }
   ],
   "source": [
    "bnc_reader.words('A/A0/A00.xml', stem=True)[5:]"
   ]
  },
  {
   "cell_type": "code",
   "execution_count": 107,
   "metadata": {},
   "outputs": [
    {
     "data": {
      "text/plain": [
       "[('FACTSHEET', 'SUBST'), ('WHAT', 'PRON'), ...]"
      ]
     },
     "execution_count": 107,
     "metadata": {},
     "output_type": "execute_result"
    }
   ],
   "source": [
    "bnc_reader.tagged_words('A/A0/A00.xml')"
   ]
  },
  {
   "cell_type": "code",
   "execution_count": 108,
   "metadata": {
    "collapsed": true
   },
   "outputs": [],
   "source": [
    "bnc_text = nltk.Text(bnc_reader.words('A/A0/A00.xml'))"
   ]
  },
  {
   "cell_type": "code",
   "execution_count": 109,
   "metadata": {},
   "outputs": [
    {
     "name": "stdout",
     "output_type": "stream",
     "text": [
      "hiv patients people global acet time unconditional only praise ironing\n",
      "thursday\n"
     ]
    }
   ],
   "source": [
    "bnc_text.similar('AIDS')"
   ]
  },
  {
   "cell_type": "code",
   "execution_count": 111,
   "metadata": {},
   "outputs": [
    {
     "name": "stdout",
     "output_type": "stream",
     "text": [
      "Home Care; 840 7879; 081 840; South East; Health Authority; Maurice\n",
      "Adams; Sue Lore; home care; Anthony Kasozi; equipment loans;\n",
      "International Adviser; General Manager; Peter Johnson; HIV positive;\n",
      "Patrick Dixon; people ill; financial support; Jackie Sears; John\n",
      "Creedy; Jonathan Mann\n"
     ]
    }
   ],
   "source": [
    "bnc_text.collocations()"
   ]
  },
  {
   "cell_type": "markdown",
   "metadata": {},
   "source": [
    "#### sejong 텍스트 분석"
   ]
  },
  {
   "cell_type": "code",
   "execution_count": 112,
   "metadata": {
    "collapsed": true
   },
   "outputs": [],
   "source": [
    "import pyko"
   ]
  },
  {
   "cell_type": "code",
   "execution_count": 116,
   "metadata": {},
   "outputs": [],
   "source": [
    "sejong_reader = pyko.reader.SejongCorpusReader(\n",
    "    root = 'data/sejong',\n",
    "    fileids = 'spoken/word_tag/.+\\.txt',\n",
    "    encoding='utf-16'\n",
    ")"
   ]
  },
  {
   "cell_type": "code",
   "execution_count": 117,
   "metadata": {},
   "outputs": [
    {
     "data": {
      "text/plain": [
       "['spoken/word_tag/5CT_0013.txt',\n",
       " 'spoken/word_tag/5CT_0014.txt',\n",
       " 'spoken/word_tag/5CT_0015.txt',\n",
       " 'spoken/word_tag/5CT_0016.txt',\n",
       " 'spoken/word_tag/5CT_0017.txt',\n",
       " 'spoken/word_tag/5CT_0018.txt',\n",
       " 'spoken/word_tag/5CT_0019.txt',\n",
       " 'spoken/word_tag/5CT_0020.txt',\n",
       " 'spoken/word_tag/5CT_0021.txt',\n",
       " 'spoken/word_tag/5CT_0022.txt']"
      ]
     },
     "execution_count": 117,
     "metadata": {},
     "output_type": "execute_result"
    }
   ],
   "source": [
    "sejong_reader.fileids()[:10]"
   ]
  },
  {
   "cell_type": "code",
   "execution_count": 121,
   "metadata": {},
   "outputs": [],
   "source": [
    "tokens = sejong_reader.words(tagged=False)"
   ]
  },
  {
   "cell_type": "code",
   "execution_count": 122,
   "metadata": {},
   "outputs": [],
   "source": [
    "tagged_tokens = sejong_reader.words(tagged=True)"
   ]
  },
  {
   "cell_type": "code",
   "execution_count": 124,
   "metadata": {},
   "outputs": [
    {
     "data": {
      "text/plain": [
       "['아침에', '한', '일찍', '가면은', '일곱시', '이십분', '십오분', '십오분', '차를', '타고,']"
      ]
     },
     "execution_count": 124,
     "metadata": {},
     "output_type": "execute_result"
    }
   ],
   "source": [
    "tokens[10:20]"
   ]
  },
  {
   "cell_type": "code",
   "execution_count": 125,
   "metadata": {},
   "outputs": [
    {
     "data": {
      "text/plain": [
       "('뭐', (('뭐', 'NP'),))"
      ]
     },
     "execution_count": 125,
     "metadata": {},
     "output_type": "execute_result"
    }
   ],
   "source": [
    "tagged_tokens[0][0]"
   ]
  },
  {
   "cell_type": "code",
   "execution_count": 126,
   "metadata": {},
   "outputs": [
    {
     "data": {
      "text/plain": [
       "[('아침에', (('아침', 'NNG'), ('에', 'JKB'))),\n",
       " ('한', (('한', 'MM'),)),\n",
       " ('일찍', (('일찍', 'MAG'),)),\n",
       " ('가면은', (('가', 'VV'), ('면은', 'EC'))),\n",
       " ('일곱시', (('일곱', 'NR'), ('시', 'NNB'))),\n",
       " ('이십분', (('이', 'NR'), ('십', 'NR'), ('분', 'NNB'))),\n",
       " ('십오분', (('십', 'NR'), ('오', 'NR'), ('분', 'NNB'))),\n",
       " ('십오분', (('십', 'NR'), ('오', 'NR'), ('분', 'NNB'))),\n",
       " ('차를', (('차', 'NNG'), ('를', 'JKO'))),\n",
       " ('타고,', (('타', 'VV'), ('고', 'EC'), (',', 'SP')))]"
      ]
     },
     "execution_count": 126,
     "metadata": {},
     "output_type": "execute_result"
    }
   ],
   "source": [
    "tagged_tokens[10:20]"
   ]
  },
  {
   "cell_type": "code",
   "execution_count": 127,
   "metadata": {
    "collapsed": true
   },
   "outputs": [],
   "source": [
    "경로 = 'data/sejong/spoken/raw/4CM00003.txt'"
   ]
  },
  {
   "cell_type": "code",
   "execution_count": 128,
   "metadata": {
    "collapsed": true
   },
   "outputs": [],
   "source": [
    "from bs4 import BeautifulSoup"
   ]
  },
  {
   "cell_type": "code",
   "execution_count": 131,
   "metadata": {},
   "outputs": [],
   "source": [
    "with open(경로, encoding='utf-16') as file:\n",
    "    soup = BeautifulSoup(file, 'xml')"
   ]
  },
  {
   "cell_type": "code",
   "execution_count": 132,
   "metadata": {
    "collapsed": true
   },
   "outputs": [],
   "source": [
    "raw_text = soup.find('text').text"
   ]
  },
  {
   "cell_type": "code",
   "execution_count": 133,
   "metadata": {},
   "outputs": [
    {
     "data": {
      "text/plain": [
       "'\\n뭘 좀 올려야지.\\n뭘 좀 올렸어.\\n다시 돌려 앞으로.\\n됐어.\\n\\n우리가족은 아빠 엄마 오빠 나.\\n목소리 왜 이케 작어.\\n이렇게 네 명인데,\\n원래 할아버지두 같이 살었는데,\\n할아버지'"
      ]
     },
     "execution_count": 133,
     "metadata": {},
     "output_type": "execute_result"
    }
   ],
   "source": [
    "raw_text[:100]"
   ]
  },
  {
   "cell_type": "code",
   "execution_count": 134,
   "metadata": {
    "collapsed": true
   },
   "outputs": [],
   "source": [
    "with open('sejong_4CM00003.txt', 'w', encoding='utf-8') as file:\n",
    "    file.write(raw_text)"
   ]
  },
  {
   "cell_type": "code",
   "execution_count": 135,
   "metadata": {
    "collapsed": true
   },
   "outputs": [],
   "source": [
    "from nltk.corpus import PlaintextCorpusReader"
   ]
  },
  {
   "cell_type": "code",
   "execution_count": 136,
   "metadata": {
    "collapsed": true
   },
   "outputs": [],
   "source": [
    "reader = PlaintextCorpusReader(\n",
    "    root = '.',\n",
    "    fileids = 'sejong_4CM00003.txt'\n",
    ")"
   ]
  },
  {
   "cell_type": "code",
   "execution_count": 137,
   "metadata": {},
   "outputs": [
    {
     "data": {
      "text/plain": [
       "['sejong_4CM00003.txt']"
      ]
     },
     "execution_count": 137,
     "metadata": {},
     "output_type": "execute_result"
    }
   ],
   "source": [
    "reader.fileids()"
   ]
  },
  {
   "cell_type": "code",
   "execution_count": 138,
   "metadata": {},
   "outputs": [
    {
     "data": {
      "text/plain": [
       "['뭘', '좀', '올려야지', '.', '뭘', '좀', '올렸어', '.', '다시', ...]"
      ]
     },
     "execution_count": 138,
     "metadata": {},
     "output_type": "execute_result"
    }
   ],
   "source": [
    "reader.words()"
   ]
  },
  {
   "cell_type": "code",
   "execution_count": 139,
   "metadata": {
    "collapsed": true
   },
   "outputs": [],
   "source": [
    "처리기 = pyko.OpenKoreanTextProcessor()"
   ]
  },
  {
   "cell_type": "code",
   "execution_count": 141,
   "metadata": {},
   "outputs": [
    {
     "data": {
      "text/plain": [
       "['한국어', '를', '처리', '합니다', 'ㅋㅋㅋ']"
      ]
     },
     "execution_count": 141,
     "metadata": {},
     "output_type": "execute_result"
    }
   ],
   "source": [
    "처리기.tokenize('한국어를 처리합니다ㅋㅋㅋ')"
   ]
  },
  {
   "cell_type": "code",
   "execution_count": 143,
   "metadata": {},
   "outputs": [],
   "source": [
    "reader = PlaintextCorpusReader(\n",
    "    root = '.',\n",
    "    fileids = 'sejong_4CM00003.txt',\n",
    "    word_tokenizer = 처리기\n",
    ")"
   ]
  },
  {
   "cell_type": "code",
   "execution_count": 144,
   "metadata": {},
   "outputs": [
    {
     "data": {
      "text/plain": [
       "['\\r\\n', '우리', '가족', '은', '아빠', '엄마', '오빠', '나', '.', '\\r\\n']"
      ]
     },
     "execution_count": 144,
     "metadata": {},
     "output_type": "execute_result"
    }
   ],
   "source": [
    "reader.words()[20:30]"
   ]
  },
  {
   "cell_type": "markdown",
   "metadata": {},
   "source": [
    "# 어휘 자원\n",
    "\n",
    "lexical resources"
   ]
  },
  {
   "cell_type": "code",
   "execution_count": 145,
   "metadata": {
    "collapsed": true
   },
   "outputs": [],
   "source": [
    "from nltk.corpus import words as 영어사전"
   ]
  },
  {
   "cell_type": "code",
   "execution_count": 146,
   "metadata": {},
   "outputs": [
    {
     "data": {
      "text/plain": [
       "['A',\n",
       " 'a',\n",
       " 'aa',\n",
       " 'aal',\n",
       " 'aalii',\n",
       " 'aam',\n",
       " 'Aani',\n",
       " 'aardvark',\n",
       " 'aardwolf',\n",
       " 'Aaron']"
      ]
     },
     "execution_count": 146,
     "metadata": {},
     "output_type": "execute_result"
    }
   ],
   "source": [
    "영어사전.words()[:10]"
   ]
  },
  {
   "cell_type": "code",
   "execution_count": 147,
   "metadata": {
    "collapsed": true
   },
   "outputs": [],
   "source": [
    "tokens = gutenberg.words('austen-emma.txt')"
   ]
  },
  {
   "cell_type": "code",
   "execution_count": 148,
   "metadata": {},
   "outputs": [
    {
     "data": {
      "text/plain": [
       "['[', 'Emma', 'by', 'Jane', 'Austen', '1816', ']', ...]"
      ]
     },
     "execution_count": 148,
     "metadata": {},
     "output_type": "execute_result"
    }
   ],
   "source": [
    "tokens"
   ]
  },
  {
   "cell_type": "code",
   "execution_count": 149,
   "metadata": {},
   "outputs": [
    {
     "data": {
      "text/plain": [
       "True"
      ]
     },
     "execution_count": 149,
     "metadata": {},
     "output_type": "execute_result"
    }
   ],
   "source": [
    "'emma' in 영어사전.words()"
   ]
  },
  {
   "cell_type": "code",
   "execution_count": 150,
   "metadata": {},
   "outputs": [
    {
     "data": {
      "text/plain": [
       "False"
      ]
     },
     "execution_count": 150,
     "metadata": {},
     "output_type": "execute_result"
    }
   ],
   "source": [
    "'jpype' in 영어사전.words()"
   ]
  },
  {
   "cell_type": "code",
   "execution_count": 151,
   "metadata": {
    "collapsed": true
   },
   "outputs": [],
   "source": [
    "def 사전수록여부확인(token):\n",
    "    return token in 영어사전.words()"
   ]
  },
  {
   "cell_type": "code",
   "execution_count": 152,
   "metadata": {
    "collapsed": true
   },
   "outputs": [],
   "source": [
    "단어들 = Series(t for t in tokens).str.lower()"
   ]
  },
  {
   "cell_type": "code",
   "execution_count": 156,
   "metadata": {},
   "outputs": [],
   "source": [
    "고유단어들 = 단어들.drop_duplicates()"
   ]
  },
  {
   "cell_type": "code",
   "execution_count": 159,
   "metadata": {},
   "outputs": [],
   "source": [
    "수록여부 = 고유단어들.isin(영어사전.words())"
   ]
  },
  {
   "cell_type": "code",
   "execution_count": 164,
   "metadata": {},
   "outputs": [],
   "source": [
    "알파벳문자여부 = 고유단어들.str.isalpha()"
   ]
  },
  {
   "cell_type": "code",
   "execution_count": 165,
   "metadata": {
    "collapsed": true
   },
   "outputs": [
    {
     "data": {
      "text/plain": [
       "4                austen\n",
       "29               seemed\n",
       "36            blessings\n",
       "47                years\n",
       "63             youngest\n",
       "67            daughters\n",
       "102                died\n",
       "117            caresses\n",
       "124            supplied\n",
       "147              taylor\n",
       "150                  mr\n",
       "166                fond\n",
       "184             sisters\n",
       "191              ceased\n",
       "207             allowed\n",
       "222              passed\n",
       "244               liked\n",
       "247           esteeming\n",
       "263               evils\n",
       "276              having\n",
       "299       disadvantages\n",
       "301          threatened\n",
       "306          enjoyments\n",
       "325               means\n",
       "328         misfortunes\n",
       "462              weston\n",
       "491             denying\n",
       "500            promoted\n",
       "531            recalled\n",
       "553              played\n",
       "              ...      \n",
       "187196         chambers\n",
       "187211           astley\n",
       "187950            shows\n",
       "187956           drills\n",
       "188330        brightest\n",
       "188766          lessons\n",
       "188793      resolutions\n",
       "188942           gayest\n",
       "188973        conniving\n",
       "189048          figures\n",
       "190099          readier\n",
       "190144     dispositions\n",
       "190169             bids\n",
       "190261        inclining\n",
       "190281           jewels\n",
       "190493        commended\n",
       "190974              xix\n",
       "190981        intervals\n",
       "191152          fullest\n",
       "191587          created\n",
       "191928          sounded\n",
       "192030       acquiesced\n",
       "192072       befriended\n",
       "192117           robbed\n",
       "192123          turkeys\n",
       "192210        protected\n",
       "192321         weddings\n",
       "192368            veils\n",
       "192390     deficiencies\n",
       "192402      predictions\n",
       "Length: 2005, dtype: object"
      ]
     },
     "execution_count": 165,
     "metadata": {},
     "output_type": "execute_result"
    }
   ],
   "source": [
    "고유단어들[~수록여부 & 알파벳문자여부]"
   ]
  },
  {
   "cell_type": "code",
   "execution_count": 166,
   "metadata": {
    "collapsed": true
   },
   "outputs": [],
   "source": [
    "from nltk.corpus import stopwords"
   ]
  },
  {
   "cell_type": "code",
   "execution_count": 167,
   "metadata": {
    "collapsed": true
   },
   "outputs": [
    {
     "data": {
      "text/plain": [
       "['arabic',\n",
       " 'azerbaijani',\n",
       " 'danish',\n",
       " 'dutch',\n",
       " 'english',\n",
       " 'finnish',\n",
       " 'french',\n",
       " 'german',\n",
       " 'greek',\n",
       " 'hungarian',\n",
       " 'italian',\n",
       " 'kazakh',\n",
       " 'nepali',\n",
       " 'norwegian',\n",
       " 'portuguese',\n",
       " 'romanian',\n",
       " 'russian',\n",
       " 'spanish',\n",
       " 'swedish',\n",
       " 'turkish']"
      ]
     },
     "execution_count": 167,
     "metadata": {},
     "output_type": "execute_result"
    }
   ],
   "source": [
    "stopwords.fileids()"
   ]
  },
  {
   "cell_type": "code",
   "execution_count": 168,
   "metadata": {
    "collapsed": true
   },
   "outputs": [],
   "source": [
    "en_stopwords = stopwords.words('english')"
   ]
  },
  {
   "cell_type": "code",
   "execution_count": 169,
   "metadata": {},
   "outputs": [
    {
     "data": {
      "text/plain": [
       "['i', 'me', 'my', 'myself', 'we', 'our', 'ours', 'ourselves', 'you', \"you're\"]"
      ]
     },
     "execution_count": 169,
     "metadata": {},
     "output_type": "execute_result"
    }
   ],
   "source": [
    "en_stopwords[:10]"
   ]
  },
  {
   "cell_type": "code",
   "execution_count": 171,
   "metadata": {
    "scrolled": true
   },
   "outputs": [
    {
     "data": {
      "text/plain": [
       "mr                1153\n",
       "emma               865\n",
       "could              837\n",
       "would              820\n",
       "mrs                699\n",
       "miss               599\n",
       "must               567\n",
       "harriet            506\n",
       "much               486\n",
       "said               484\n",
       "one                452\n",
       "weston             440\n",
       "every              435\n",
       "well               401\n",
       "thing              398\n",
       "knightley          389\n",
       "elton              385\n",
       "think              383\n",
       "little             359\n",
       "good               358\n",
       "never              358\n",
       "know               337\n",
       "might              326\n",
       "woodhouse          313\n",
       "say                310\n",
       "jane               301\n",
       "quite              282\n",
       "time               279\n",
       "great              264\n",
       "nothing            256\n",
       "                  ... \n",
       "cherishing           1\n",
       "arrow                1\n",
       "confirm              1\n",
       "bench                1\n",
       "lamentations         1\n",
       "softly               1\n",
       "unsentimental        1\n",
       "red                  1\n",
       "fluctuations         1\n",
       "preserves            1\n",
       "coldly               1\n",
       "coach                1\n",
       "inferiorities        1\n",
       "detailed             1\n",
       "incomplete           1\n",
       "lain                 1\n",
       "coast                1\n",
       "alphabetically       1\n",
       "enemies              1\n",
       "stockings            1\n",
       "inspection           1\n",
       "admits               1\n",
       "puff                 1\n",
       "em                   1\n",
       "closely              1\n",
       "mirth                1\n",
       "cameos               1\n",
       "fogs                 1\n",
       "hindrance            1\n",
       "abhorred             1\n",
       "Length: 6948, dtype: int64"
      ]
     },
     "execution_count": 171,
     "metadata": {},
     "output_type": "execute_result"
    }
   ],
   "source": [
    "단어들[단어들.str.isalpha() & ~단어들.isin(en_stopwords)].value_counts()"
   ]
  },
  {
   "cell_type": "code",
   "execution_count": 172,
   "metadata": {
    "collapsed": true
   },
   "outputs": [],
   "source": [
    "from nltk.corpus import names"
   ]
  },
  {
   "cell_type": "code",
   "execution_count": 173,
   "metadata": {},
   "outputs": [
    {
     "data": {
      "text/plain": [
       "['female.txt', 'male.txt']"
      ]
     },
     "execution_count": 173,
     "metadata": {},
     "output_type": "execute_result"
    }
   ],
   "source": [
    "names.fileids()"
   ]
  },
  {
   "cell_type": "code",
   "execution_count": 178,
   "metadata": {
    "collapsed": true
   },
   "outputs": [],
   "source": [
    "male_names = names.words('male.txt')"
   ]
  },
  {
   "cell_type": "code",
   "execution_count": 182,
   "metadata": {},
   "outputs": [],
   "source": [
    "female_names = Series(t for t in female_names)"
   ]
  },
  {
   "cell_type": "code",
   "execution_count": 183,
   "metadata": {},
   "outputs": [
    {
     "data": {
      "text/plain": [
       "3           Abbey\n",
       "5           Abbie\n",
       "6            Abby\n",
       "16          Addie\n",
       "40         Adrian\n",
       "45         Adrien\n",
       "87           Ajay\n",
       "111          Alex\n",
       "119        Alexis\n",
       "120         Alfie\n",
       "122           Ali\n",
       "138          Alix\n",
       "146         Allie\n",
       "154         Allyn\n",
       "228         Andie\n",
       "230        Andrea\n",
       "239          Andy\n",
       "246         Angel\n",
       "257         Angie\n",
       "357         Ariel\n",
       "383        Ashley\n",
       "400        Aubrey\n",
       "415     Augustine\n",
       "429        Austin\n",
       "434        Averil\n",
       "465        Barrie\n",
       "466         Barry\n",
       "475          Beau\n",
       "506        Bennie\n",
       "507         Benny\n",
       "          ...    \n",
       "4705        Timmy\n",
       "4714         Tobe\n",
       "4717        Tobie\n",
       "4718         Toby\n",
       "4727       Tommie\n",
       "4728        Tommy\n",
       "4732         Tony\n",
       "4735        Torey\n",
       "4742        Trace\n",
       "4744       Tracey\n",
       "4746       Tracie\n",
       "4747        Tracy\n",
       "4788          Val\n",
       "4791         Vale\n",
       "4798    Valentine\n",
       "4811          Van\n",
       "4855          Vin\n",
       "4859       Vinnie\n",
       "4860        Vinny\n",
       "4867       Virgie\n",
       "4893       Wallie\n",
       "4894       Wallis\n",
       "4895        Wally\n",
       "4908      Whitney\n",
       "4918        Willi\n",
       "4919       Willie\n",
       "4921        Willy\n",
       "4935       Winnie\n",
       "4937        Winny\n",
       "4943         Wynn\n",
       "Length: 365, dtype: object"
      ]
     },
     "execution_count": 183,
     "metadata": {},
     "output_type": "execute_result"
    }
   ],
   "source": [
    "female_names[female_names.isin(male_names)]"
   ]
  },
  {
   "cell_type": "code",
   "execution_count": null,
   "metadata": {
    "collapsed": true
   },
   "outputs": [],
   "source": []
  }
 ],
 "metadata": {
  "kernelspec": {
   "display_name": "Python 3",
   "language": "python",
   "name": "python3"
  },
  "language_info": {
   "codemirror_mode": {
    "name": "ipython",
    "version": 3
   },
   "file_extension": ".py",
   "mimetype": "text/x-python",
   "name": "python",
   "nbconvert_exporter": "python",
   "pygments_lexer": "ipython3",
   "version": "3.6.1"
  }
 },
 "nbformat": 4,
 "nbformat_minor": 2
}
