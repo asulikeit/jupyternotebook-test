{
 "cells": [
  {
   "cell_type": "code",
   "execution_count": 1,
   "metadata": {},
   "outputs": [],
   "source": [
    "import imp\n",
    "import os\n",
    "import sys\n",
    "import time\n",
    "import unittest\n",
    "parentPath = os.path.abspath(\"..\")\n",
    "if parentPath not in sys.path:\n",
    "    sys.path.insert(0, parentPath)\n",
    "import diff_match_patch as dmp_module"
   ]
  },
  {
   "cell_type": "code",
   "execution_count": 2,
   "metadata": {},
   "outputs": [],
   "source": [
    "dmp = dmp_module.diff_match_patch()"
   ]
  },
  {
   "cell_type": "code",
   "execution_count": null,
   "metadata": {},
   "outputs": [],
   "source": [
    "diff = dmp.diff_main(\"Hello World.\", \"Goodbye World.\")\n",
    "diff"
   ]
  },
  {
   "cell_type": "code",
   "execution_count": null,
   "metadata": {},
   "outputs": [],
   "source": [
    "dmp.diff_cleanupSemantic(diff)\n",
    "diff"
   ]
  },
  {
   "cell_type": "code",
   "execution_count": null,
   "metadata": {},
   "outputs": [],
   "source": [
    "diff = dmp.diff_main(\"안녕하세요\", \"안녕할까요\")\n",
    "dmp.diff_cleanupSemantic(diff)\n",
    "print(type(diff))\n",
    "print(diff)"
   ]
  },
  {
   "cell_type": "code",
   "execution_count": null,
   "metadata": {},
   "outputs": [],
   "source": [
    "영희 = \"김영희의 가방\"\n",
    "영수 = \"영수의 가방\"\n",
    "\n",
    "diff = dmp.diff_main(영희, 영수)\n",
    "# dmp.diff_cleanupSemantic(diff)\n",
    "print(type(diff))\n",
    "print(diff)"
   ]
  },
  {
   "cell_type": "markdown",
   "metadata": {},
   "source": [
    "## 테스트 데이터 준비"
   ]
  },
  {
   "cell_type": "code",
   "execution_count": 3,
   "metadata": {},
   "outputs": [],
   "source": [
    "표준1 = \"판매자는 계약서에 정한 계약기한 내에 본 계약상 의무를 이행하지 못한 경우에는 매지체일수마다\\\n",
    " 계약서에 정한 지체상금율을 지체된 부분에 상응하는 계약금액에 곱하여 산출한 금액(이하 '지체상금'이라 한다)을\\\n",
    " 구매자에게 현금으로 납부하여야 한다.\"\n",
    "표준2 = \"본 계약과 관련하여 판매자가 구매자에게 지급하는 지체상금의 총액은 계약금액의 10%를 한도로 한다.\"\n",
    "\n",
    "대상10 = \"판매자는 계약서에 정한 기한 내에 본 계약상 의무를 이행하지 못한 경우에는 매지체일수마다 \\\n",
    " 계약서에 정한 지체상금율을 지체된 부분에 상응하는 계약금액에 곱하여 산출한 금액(이하 '지체상금'이라 한다)을\\\n",
    " 구매자에게 현금으로 납부하여야한다.\"\n",
    "대상11 = \"판매자는 계약서에 정한 계약기한 내에 본 계약상 의무를 이행하지 못한 경우에는 매지체일수마다 계약서에 \\\n",
    " 정한 지체상금율을 지체된 부분에 상응하는 계약금액에 곱하여 산출한 금액(이하 '지체상금'이라 한다)을 구매자에게 \\\n",
    " 현금으로 납부하여야 한다.\"\n",
    "대상12 = \"판매자는 계약서에 정한 계약기한 내에 본 계약상 의무를 이행하지 못한 경우에는 매지체일수마다 계약서에\\\n",
    " 정한 지체상금율을 지체된 부분에 상응하는 계약금액에 곱한 후에 산출한 금액(이하 '지체상금'이라 한다)을 구매자에게\\\n",
    " 현금으로 납부하여야 합니다.\"\n",
    "대상13 = \"판매자는 문서에 정한 납기 내에 본 계약상 책무를 완료하지 못한 경우에는 매지체일수마다 문서에\\\n",
    " 정한 비율을 지연된 부분에 상응하는 계약금액에 곱하여 산출한 금액(이하 '지체상금'이라 한다)을 구매자에게\\\n",
    " 현금으로 지급하여야 한다.\""
   ]
  },
  {
   "cell_type": "code",
   "execution_count": 14,
   "metadata": {},
   "outputs": [],
   "source": [
    "def mark_red(text):\n",
    "    return \"\\x1b[31m\"+text+\"\\x1b[0m\"\n",
    "# print(mark_red(\"red\"))"
   ]
  },
  {
   "cell_type": "code",
   "execution_count": 21,
   "metadata": {},
   "outputs": [
    {
     "name": "stdout",
     "output_type": "stream",
     "text": [
      "(-1, '계약')\n"
     ]
    },
    {
     "data": {
      "text/plain": [
       "[(0, '판매자는 계약서에 정한 '),\n",
       " (-1, '계약'),\n",
       " (0, '기한 내에 본 계약상 의무를 이행하지 못한 경우에는 매지체일수마다'),\n",
       " (1, ' '),\n",
       " (0,\n",
       "  \" 계약서에 정한 지체상금율을 지체된 부분에 상응하는 계약금액에 곱하여 산출한 금액(이하 '지체상금'이라 한다)을 구매자에게 현금으로 납부하여야\"),\n",
       " (-1, ' '),\n",
       " (0, '한다.')]"
      ]
     },
     "execution_count": 21,
     "metadata": {},
     "output_type": "execute_result"
    }
   ],
   "source": [
    "for tmp in dmp.diff_main(표준1, 대상10):\n",
    "    if tmp[0] != 0 and len(tmp[1].strip()) > 0 :\n",
    "        print(tmp)\n",
    "dmp.diff_main(표준1, 대상10)"
   ]
  },
  {
   "cell_type": "code",
   "execution_count": 17,
   "metadata": {},
   "outputs": [
    {
     "data": {
      "text/plain": [
       "[(0, '판매자는 계약서에 정한 계약기한 내에 본 계약상 의무를 이행하지 못한 경우에는 매지체일수마다 계약서에 '),\n",
       " (1, ' '),\n",
       " (0, \"정한 지체상금율을 지체된 부분에 상응하는 계약금액에 곱하여 산출한 금액(이하 '지체상금'이라 한다)을 구매자에게\"),\n",
       " (1, ' '),\n",
       " (0, ' 현금으로 납부하여야 한다.')]"
      ]
     },
     "execution_count": 17,
     "metadata": {},
     "output_type": "execute_result"
    }
   ],
   "source": [
    "for tmp in dmp.diff_main(표준1, 대상11):\n",
    "    if tmp[0] != 0 and len(tmp[1].strip()) > 0 :\n",
    "        print(tmp)\n",
    "dmp.diff_main(표준1, 대상11)"
   ]
  },
  {
   "cell_type": "code",
   "execution_count": 18,
   "metadata": {},
   "outputs": [
    {
     "name": "stdout",
     "output_type": "stream",
     "text": [
      "(-1, '하여')\n",
      "(1, '한 후에')\n",
      "(-1, '한')\n",
      "(1, '합니')\n"
     ]
    },
    {
     "data": {
      "text/plain": [
       "[(0,\n",
       "  '판매자는 계약서에 정한 계약기한 내에 본 계약상 의무를 이행하지 못한 경우에는 매지체일수마다 계약서에 정한 지체상금율을 지체된 부분에 상응하는 계약금액에 곱'),\n",
       " (-1, '하여'),\n",
       " (1, '한 후에'),\n",
       " (0, \" 산출한 금액(이하 '지체상금'이라 한다)을 구매자에게 현금으로 납부하여야 \"),\n",
       " (-1, '한'),\n",
       " (1, '합니'),\n",
       " (0, '다.')]"
      ]
     },
     "execution_count": 18,
     "metadata": {},
     "output_type": "execute_result"
    }
   ],
   "source": [
    "for tmp in dmp.diff_main(표준1, 대상12):\n",
    "    if tmp[0] != 0 and len(tmp[1].strip()) > 0 :\n",
    "        print(tmp)\n",
    "dmp.diff_main(표준1, 대상12)"
   ]
  },
  {
   "cell_type": "code",
   "execution_count": 38,
   "metadata": {},
   "outputs": [
    {
     "name": "stdout",
     "output_type": "stream",
     "text": [
      "(-1, '계약')\n",
      "(1, '문')\n",
      "(-1, '계약')\n",
      "(1, '납')\n",
      "(-1, '한')\n",
      "(-1, '의')\n",
      "(1, '책')\n",
      "(-1, '이행')\n",
      "(1, '완료')\n",
      "(-1, '계약')\n",
      "(1, '문')\n",
      "(-1, '지체상금')\n",
      "(1, '비')\n",
      "(-1, '체')\n",
      "(1, '연')\n",
      "(-1, '납부')\n",
      "(1, '지급')\n"
     ]
    },
    {
     "data": {
      "text/plain": [
       "[(0, '판매자는 '),\n",
       " (-1, '계약'),\n",
       " (1, '문'),\n",
       " (0, '서에 정한 '),\n",
       " (-1, '계약'),\n",
       " (1, '납'),\n",
       " (0, '기'),\n",
       " (-1, '한'),\n",
       " (0, ' 내에 본 계약상 '),\n",
       " (-1, '의'),\n",
       " (1, '책'),\n",
       " (0, '무를 '),\n",
       " (-1, '이행'),\n",
       " (1, '완료'),\n",
       " (0, '하지 못한 경우에는 매지체일수마다 '),\n",
       " (-1, '계약'),\n",
       " (1, '문'),\n",
       " (0, '서에 정한 '),\n",
       " (-1, '지체상금'),\n",
       " (1, '비'),\n",
       " (0, '율을 지'),\n",
       " (-1, '체'),\n",
       " (1, '연'),\n",
       " (0, \"된 부분에 상응하는 계약금액에 곱하여 산출한 금액(이하 '지체상금'이라 한다)을 구매자에게 현금으로 \"),\n",
       " (-1, '납부'),\n",
       " (1, '지급'),\n",
       " (0, '하여야 한다.')]"
      ]
     },
     "execution_count": 38,
     "metadata": {},
     "output_type": "execute_result"
    }
   ],
   "source": [
    "for tmp in dmp.diff_main(표준1, 대상13):\n",
    "    if tmp[0] != 0 and len(tmp[1].strip()) > 0 :\n",
    "        print(tmp)\n",
    "dmp.diff_main(표준1, 대상13)"
   ]
  },
  {
   "cell_type": "code",
   "execution_count": 66,
   "metadata": {},
   "outputs": [
    {
     "name": "stdout",
     "output_type": "stream",
     "text": [
      "False\n",
      "True\n",
      "True\n",
      "False\n"
     ]
    }
   ],
   "source": [
    "contract_keyword = [ '계약', '지체', '상금' ]\n",
    "\n",
    "#     x = [2, 3, 4, 5, 6]\n",
    "#     y = [v * 5 for v in x]\n",
    "\n",
    "threshold = 0.950\n",
    "keyword_weight = 5\n",
    "\n",
    "def has_keyword(text):\n",
    "    result = False\n",
    "    for x in contract_keyword:\n",
    "        if x in text:\n",
    "            result = True\n",
    "    return result\n",
    "\n",
    "def check_std(source, target):\n",
    "    diff = dmp.diff_main(source, target)\n",
    "    diff_count = 0\n",
    "    for one in diff:\n",
    "        if one[0] < 0:\n",
    "            check_str = one[1].strip()\n",
    "            if len(check_str) > 1:\n",
    "                alpha = 1\n",
    "                if has_keyword(check_str):\n",
    "                    alpha *= keyword_weight\n",
    "                diff_count += alpha * len(check_str)\n",
    "    std_score = (len(source) - diff_count) / len(source)\n",
    "    if std_score < 0:\n",
    "        std_score = 0\n",
    "    return round(std_score, 3) > threshold\n",
    "\n",
    "print(check_std(표준1, 대상10))\n",
    "print(check_std(표준1, 대상11))\n",
    "print(check_std(표준1, 대상12))\n",
    "print(check_std(표준1, 대상13))"
   ]
  },
  {
   "cell_type": "code",
   "execution_count": 57,
   "metadata": {
    "scrolled": true
   },
   "outputs": [
    {
     "name": "stdout",
     "output_type": "stream",
     "text": [
      "\n",
      "표준: 판매자는 계약서에 정한 계약기한 내에 본 계약상 의무를 이행하지 못한 경우에는 매지체일수마다 계약서에 정한 지체상금율을 지체된 부분에 상응하는 계약금액에 곱하여 산출한 금액(이하 '지체상금'이라 한다)을 구매자에게 현금으로 납부하여야 한다.\n",
      "\n",
      "비교1: 판매자는 계약서에 정한 (\u001b[33m계약\u001b[0m)기한 내에 본 계약상 의무를 이행하지 못한 경우에는 매지체일수마다  계약서에 정한 지체상금율을 지체된 부분에 상응하는 계약금액에 곱하여 산출한 금액(이하 '지체상금'이라 한다)을 구매자에게 현금으로 납부하여야 한다.\n",
      "\n",
      "비교2: 판매자는 계약서에 정한 계약기한 내에 본 계약상 의무를 이행하지 못한 경우에는 매지체일수마다 계약서에  정한 지체상금율을 지체된 부분에 상응하는 계약금액에 곱하여 산출한 금액(이하 '지체상금'이라 한다)을 구매자에게  현금으로 납부하여야 한다.\n",
      "\n",
      "비교3: 판매자는 계약서에 정한 계약기한 내에 본 계약상 의무를 이행하지 못한 경우에는 매지체일수마다 계약서에 정한 지체상금율을 지체된 부분에 상응하는 계약금액에 곱\u001b[31m한 후에\u001b[0m(\u001b[34m하여\u001b[0m) 산출한 금액(이하 '지체상금'이라 한다)을 구매자에게 현금으로 납부하여야 \u001b[31m합니\u001b[0m(\u001b[34m한\u001b[0m)다.\n",
      "\n",
      "비교4: 판매자는 \u001b[31m문\u001b[0m(\u001b[34m계약\u001b[0m)서에 정한 \u001b[31m납\u001b[0m(\u001b[34m계약\u001b[0m)기(\u001b[33m한\u001b[0m) 내에 본 계약상 \u001b[31m책\u001b[0m(\u001b[34m의\u001b[0m)무를 \u001b[31m완료\u001b[0m(\u001b[34m이행\u001b[0m)하지 못한 경우에는 매지체일수마다 \u001b[31m문\u001b[0m(\u001b[34m계약\u001b[0m)서에 정한 \u001b[31m비\u001b[0m(\u001b[34m지체상금\u001b[0m)율을 지\u001b[31m연\u001b[0m(\u001b[34m체\u001b[0m)된 부분에 상응하는 계약금액에 곱하여 산출한 금액(이하 '지체상금'이라 한다)을 구매자에게 현금으로 \u001b[31m지급\u001b[0m(\u001b[34m납부\u001b[0m)하여야 한다.\n"
     ]
    }
   ],
   "source": [
    "# 31 red, 32 green, 33 yellow, 34 blue\n",
    "\n",
    "def __mark_red(text):\n",
    "    return \"\\x1b[31m\"+text+\"\\x1b[0m\"\n",
    "\n",
    "def __mark_origin(text):\n",
    "    return \"(\\x1b[34m\"+text+\"\\x1b[0m)\"\n",
    "\n",
    "def __mark_empty(text):\n",
    "    return \"(\\x1b[33m\"+text+\"\\x1b[0m)\"\n",
    "\n",
    "def check_std(source, target):\n",
    "    diff = dmp.diff_main(source, target)\n",
    "    diff_count = 0\n",
    "    check_text = \"\"\n",
    "    i = 0\n",
    "    orgin_text = [-2, \"\"]\n",
    "    for one in diff:\n",
    "        i += 1\n",
    "        diff_num = one[0]\n",
    "        check_str = one[1].strip()\n",
    "        if diff_num == 0 or len(check_str) == 0:\n",
    "            if (orgin_text[0] + 1) == i:\n",
    "                check_text += __mark_empty(orgin_text[1])\n",
    "            check_text += one[1]\n",
    "        elif diff_num < 0:\n",
    "            orgin_text = [i, one[1]]\n",
    "        elif diff_num > 0:\n",
    "            check_text += __mark_red(one[1])\n",
    "            if (orgin_text[0] + 1) == i:\n",
    "                check_text += __mark_origin(orgin_text[1])\n",
    "                orgin_text = [-2, \"\"]\n",
    "    return check_text\n",
    "\n",
    "print(\"\\n표준: \" + 표준1)\n",
    "print(\"\\n비교1: \" + check_std(표준1, 대상10))\n",
    "print(\"\\n비교2: \" + check_std(표준1, 대상11))\n",
    "print(\"\\n비교3: \" + check_std(표준1, 대상12))\n",
    "print(\"\\n비교4: \" + check_std(표준1, 대상13))"
   ]
  },
  {
   "cell_type": "code",
   "execution_count": null,
   "metadata": {},
   "outputs": [],
   "source": []
  },
  {
   "cell_type": "code",
   "execution_count": null,
   "metadata": {},
   "outputs": [],
   "source": []
  },
  {
   "cell_type": "code",
   "execution_count": null,
   "metadata": {},
   "outputs": [],
   "source": []
  }
 ],
 "metadata": {
  "kernelspec": {
   "display_name": "Python 3",
   "language": "python",
   "name": "python3"
  },
  "language_info": {
   "codemirror_mode": {
    "name": "ipython",
    "version": 3
   },
   "file_extension": ".py",
   "mimetype": "text/x-python",
   "name": "python",
   "nbconvert_exporter": "python",
   "pygments_lexer": "ipython3",
   "version": "3.6.4"
  }
 },
 "nbformat": 4,
 "nbformat_minor": 2
}
