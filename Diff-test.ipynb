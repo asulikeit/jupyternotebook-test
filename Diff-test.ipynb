{
 "cells": [
  {
   "cell_type": "code",
   "execution_count": 3,
   "metadata": {},
   "outputs": [],
   "source": [
    "import imp\n",
    "import os\n",
    "import sys\n",
    "import time\n",
    "import unittest\n",
    "parentPath = os.path.abspath(\"..\")\n",
    "if parentPath not in sys.path:\n",
    "    sys.path.insert(0, parentPath)\n",
    "import diff_match_patch as dmp_module"
   ]
  },
  {
   "cell_type": "code",
   "execution_count": 4,
   "metadata": {},
   "outputs": [],
   "source": [
    "dmp = dmp_module.diff_match_patch()"
   ]
  },
  {
   "cell_type": "code",
   "execution_count": 7,
   "metadata": {},
   "outputs": [
    {
     "data": {
      "text/plain": [
       "[(-1, 'Hell'), (1, 'G'), (0, 'o'), (1, 'odbye'), (0, ' World.')]"
      ]
     },
     "execution_count": 7,
     "metadata": {},
     "output_type": "execute_result"
    }
   ],
   "source": [
    "diff = dmp.diff_main(\"Hello World.\", \"Goodbye World.\")\n",
    "diff"
   ]
  },
  {
   "cell_type": "code",
   "execution_count": 8,
   "metadata": {},
   "outputs": [
    {
     "data": {
      "text/plain": [
       "[(-1, 'Hello'), (1, 'Goodbye'), (0, ' World.')]"
      ]
     },
     "execution_count": 8,
     "metadata": {},
     "output_type": "execute_result"
    }
   ],
   "source": [
    "dmp.diff_cleanupSemantic(diff)\n",
    "diff"
   ]
  },
  {
   "cell_type": "code",
   "execution_count": 14,
   "metadata": {},
   "outputs": [
    {
     "name": "stdout",
     "output_type": "stream",
     "text": [
      "<class 'list'>\n",
      "[(0, '안녕'), (-1, '하세'), (1, '할까'), (0, '요')]\n"
     ]
    }
   ],
   "source": [
    "diff = dmp.diff_main(\"안녕하세요\", \"안녕할까요\")\n",
    "dmp.diff_cleanupSemantic(diff)\n",
    "print(type(diff))\n",
    "print(diff)"
   ]
  },
  {
   "cell_type": "code",
   "execution_count": 18,
   "metadata": {},
   "outputs": [
    {
     "name": "stdout",
     "output_type": "stream",
     "text": [
      "<class 'list'>\n",
      "[(-1, '김'), (0, '영'), (-1, '희'), (1, '수'), (0, '의 가방')]\n"
     ]
    }
   ],
   "source": [
    "영희 = \"김영희의 가방\"\n",
    "영수 = \"영수의 가방\"\n",
    "\n",
    "diff = dmp.diff_main(영희, 영수)\n",
    "# dmp.diff_cleanupSemantic(diff)\n",
    "print(type(diff))\n",
    "print(diff)"
   ]
  },
  {
   "cell_type": "code",
   "execution_count": 15,
   "metadata": {},
   "outputs": [
    {
     "ename": "TypeError",
     "evalue": "count() takes exactly one argument (0 given)",
     "output_type": "error",
     "traceback": [
      "\u001b[1;31m---------------------------------------------------------------------------\u001b[0m",
      "\u001b[1;31mTypeError\u001b[0m                                 Traceback (most recent call last)",
      "\u001b[1;32m<ipython-input-15-db32cab7d75f>\u001b[0m in \u001b[0;36m<module>\u001b[1;34m()\u001b[0m\n\u001b[0;32m      2\u001b[0m \u001b[0m영수s\u001b[0m \u001b[1;33m=\u001b[0m \u001b[0m영수\u001b[0m\u001b[1;33m.\u001b[0m\u001b[0msplit\u001b[0m\u001b[1;33m(\u001b[0m\u001b[1;33m)\u001b[0m\u001b[1;33m\u001b[0m\u001b[0m\n\u001b[0;32m      3\u001b[0m \u001b[1;33m\u001b[0m\u001b[0m\n\u001b[1;32m----> 4\u001b[1;33m \u001b[0midx\u001b[0m \u001b[1;33m=\u001b[0m \u001b[0m영희s\u001b[0m\u001b[1;33m.\u001b[0m\u001b[0mcount\u001b[0m\u001b[1;33m(\u001b[0m\u001b[1;33m)\u001b[0m\u001b[1;33m\u001b[0m\u001b[0m\n\u001b[0m\u001b[0;32m      5\u001b[0m \u001b[0mprint\u001b[0m\u001b[1;33m(\u001b[0m\u001b[0midx\u001b[0m\u001b[1;33m)\u001b[0m\u001b[1;33m\u001b[0m\u001b[0m\n\u001b[0;32m      6\u001b[0m \u001b[1;33m\u001b[0m\u001b[0m\n",
      "\u001b[1;31mTypeError\u001b[0m: count() takes exactly one argument (0 given)"
     ]
    }
   ],
   "source": [
    "영희s = 영희.split()\n",
    "영수s = 영수.split()\n",
    "\n",
    "idx = 영희s.count()\n",
    "print(idx)\n",
    "\n",
    "diff = dmp.diff_main(영희, 영수)\n",
    "# diffb"
   ]
  },
  {
   "cell_type": "markdown",
   "metadata": {},
   "source": [
    "## 테스트 데이터 준비"
   ]
  },
  {
   "cell_type": "code",
   "execution_count": 3,
   "metadata": {},
   "outputs": [],
   "source": [
    "표준1 = \"판매자는 계약서에 정한 계약기한 내에 본 계약상 의무를 이행하지 못한 경우에는 매지체일수마다\\\n",
    " 계약서에 정한 지체상금율을 지체된 부분에 상응하는 계약금액에 곱하여 산출한 금액(이하 '지체상금'이라 한다)을\\\n",
    " 구매자에게 현금으로 납부하여야 한다.\"\n",
    "표준2 = \"본 계약과 관련하여 판매자가 구매자에게 지급하는 지체상금의 총액은 계약금액의 10%를 한도로 한다.\"\n",
    "\n",
    "대상11 = \"판매자는 계약서에 정한 계약기한 내에 본 계약상 의무를 이행하지 못한 경우에는 매지체일수마다 계약서에 \\\n",
    " 정한 지체상금율을 지체된 부분에 상응하는 계약금액에 곱하여 산출한 금액(이하 '지체상금'이라 한다)을 구매자에게 \\\n",
    " 현금으로 납부하여야 한다.\"\n",
    "대상12 = \"판매자는 계약서에 정한 계약기한 내에 본 계약상 의무를 이행하지 못한 경우에는 매지체일수마다 계약서에\\\n",
    " 정한 지체상금율을 지체된 부분에 상응하는 계약금액에 곱한 후에 산출한 금액(이하 '지체상금'이라 한다)을 구매자에게\\\n",
    " 현금으로 납부하여야 합니다.\"\n",
    "대상13 = \"판매자는 문서에 정한 납기 내에 본 계약상 책무를 완료하지 못한 경우에는 매지체일수마다 문서에\\\n",
    " 정한 비율을 지연된 부분에 상응하는 계약금액에 곱하여 산출한 금액(이하 '지체상금'이라 한다)을 구매자에게\\\n",
    " 현금으로 지급하여야 한다.\""
   ]
  },
  {
   "cell_type": "code",
   "execution_count": 1,
   "metadata": {},
   "outputs": [],
   "source": [
    "import imp\n",
    "import os\n",
    "import sys\n",
    "import time\n",
    "import unittest\n",
    "parentPath = os.path.abspath(\"..\")\n",
    "if parentPath not in sys.path:\n",
    "    sys.path.insert(0, parentPath)\n",
    "import diff_match_patch as dmp_module\n",
    "\n",
    "dmp = dmp_module.diff_match_patch()"
   ]
  },
  {
   "cell_type": "code",
   "execution_count": 8,
   "metadata": {},
   "outputs": [
    {
     "data": {
      "text/plain": [
       "[(0,\n",
       "  '판매자는 계약서에 정한 계약기한 내에 본 계약상 의무를 이행하지 못한 경우에는 매지체일수마다 계약서에 정한 지체상금율을 지체된 부분에 상응하는 계약금액에 곱'),\n",
       " (-1, '하여'),\n",
       " (1, '한 후에'),\n",
       " (0, \" 산출한 금액(이하 '지체상금'이라 한다)을 구매자에게 현금으로 납부하여야 \"),\n",
       " (-1, '한'),\n",
       " (1, '합니'),\n",
       " (0, '다.')]"
      ]
     },
     "execution_count": 8,
     "metadata": {},
     "output_type": "execute_result"
    }
   ],
   "source": [
    "diff = dmp.diff_main(표준1, 대상12)\n",
    "diff"
   ]
  },
  {
   "cell_type": "code",
   "execution_count": 30,
   "metadata": {},
   "outputs": [
    {
     "name": "stdout",
     "output_type": "stream",
     "text": [
      "87\n",
      "2\n",
      "4\n",
      "42\n",
      "1\n",
      "2\n",
      "2\n"
     ]
    }
   ],
   "source": [
    "for one in diff:    \n",
    "    print(len(one[1]))"
   ]
  },
  {
   "cell_type": "code",
   "execution_count": 27,
   "metadata": {},
   "outputs": [
    {
     "data": {
      "text/plain": [
       "3"
      ]
     },
     "execution_count": 27,
     "metadata": {},
     "output_type": "execute_result"
    }
   ],
   "source": [
    "abc = \"123\"\n",
    "len(abc)"
   ]
  },
  {
   "cell_type": "code",
   "execution_count": null,
   "metadata": {},
   "outputs": [],
   "source": []
  }
 ],
 "metadata": {
  "kernelspec": {
   "display_name": "Python 3",
   "language": "python",
   "name": "python3"
  },
  "language_info": {
   "codemirror_mode": {
    "name": "ipython",
    "version": 3
   },
   "file_extension": ".py",
   "mimetype": "text/x-python",
   "name": "python",
   "nbconvert_exporter": "python",
   "pygments_lexer": "ipython3",
   "version": "3.6.4"
  }
 },
 "nbformat": 4,
 "nbformat_minor": 2
}
