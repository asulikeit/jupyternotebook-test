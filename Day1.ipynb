{
 "cells": [
  {
   "cell_type": "markdown",
   "metadata": {
    "collapsed": true
   },
   "source": [
    "# 파이썬 자연어 처리 입문\n",
    "자연어 처리 방법 논의\n",
    "## 진행\n",
    "1. 환경설정\n",
    "1. 파이썬\n",
    "1. NLTK\n",
    "1. 한국어"
   ]
  },
  {
   "cell_type": "code",
   "execution_count": 1,
   "metadata": {},
   "outputs": [
    {
     "name": "stdout",
     "output_type": "stream",
     "text": [
      "파이썬 자연어 처리 입문입니다.\n",
      "셀 실행은 shift+Enter\n"
     ]
    }
   ],
   "source": [
    "인사 = '파이썬 자연어 처리 입문입니다.'\n",
    "print(인사)\n",
    "print('셀 실행은 shift+Enter')"
   ]
  },
  {
   "cell_type": "code",
   "execution_count": 2,
   "metadata": {},
   "outputs": [
    {
     "name": "stdout",
     "output_type": "stream",
     "text": [
      "파이썬 자연어 처리 입문입니다.\n",
      "저는 다니엘입니다.\n"
     ]
    }
   ],
   "source": [
    "인사 += '\\n저는 다니엘입니다.'\n",
    "print(인사)"
   ]
  },
  {
   "cell_type": "code",
   "execution_count": 3,
   "metadata": {
    "collapsed": true
   },
   "outputs": [],
   "source": [
    "x = 1"
   ]
  },
  {
   "cell_type": "code",
   "execution_count": 4,
   "metadata": {},
   "outputs": [
    {
     "name": "stdout",
     "output_type": "stream",
     "text": [
      "1\n"
     ]
    }
   ],
   "source": [
    "print(x)"
   ]
  },
  {
   "cell_type": "code",
   "execution_count": 6,
   "metadata": {
    "collapsed": true
   },
   "outputs": [],
   "source": [
    "문장 = '파이썬 자연어 처리'"
   ]
  },
  {
   "cell_type": "code",
   "execution_count": 7,
   "metadata": {},
   "outputs": [
    {
     "data": {
      "text/plain": [
       "str"
      ]
     },
     "execution_count": 7,
     "metadata": {},
     "output_type": "execute_result"
    }
   ],
   "source": [
    "type(문장)"
   ]
  },
  {
   "cell_type": "code",
   "execution_count": 10,
   "metadata": {
    "collapsed": true
   },
   "outputs": [],
   "source": [
    "문장 += '\\n파이썬 프로그래밍'"
   ]
  },
  {
   "cell_type": "code",
   "execution_count": 11,
   "metadata": {},
   "outputs": [
    {
     "data": {
      "text/plain": [
       "'파이썬 자연어 처리\\n파이썬 프로그래밍'"
      ]
     },
     "execution_count": 11,
     "metadata": {},
     "output_type": "execute_result"
    }
   ],
   "source": [
    "문장"
   ]
  },
  {
   "cell_type": "code",
   "execution_count": 12,
   "metadata": {},
   "outputs": [
    {
     "name": "stdout",
     "output_type": "stream",
     "text": [
      "파이썬 자연어 처리\n",
      "파이썬 프로그래밍\n"
     ]
    }
   ],
   "source": [
    "print(문장)"
   ]
  },
  {
   "cell_type": "markdown",
   "metadata": {},
   "source": [
    "#### 연습\n",
    "주어진 변수를 모두 사용하여 다음과 같이 출력되는 문자열을 구성합니다.\n",
    "- 파이썬 3.x 버전을 사용합니다"
   ]
  },
  {
   "cell_type": "code",
   "execution_count": 15,
   "metadata": {
    "collapsed": true
   },
   "outputs": [],
   "source": [
    "언어 = '파이썬'\n",
    "버전 = 3"
   ]
  },
  {
   "cell_type": "code",
   "execution_count": 16,
   "metadata": {},
   "outputs": [
    {
     "data": {
      "text/plain": [
       "'가나'"
      ]
     },
     "execution_count": 16,
     "metadata": {},
     "output_type": "execute_result"
    }
   ],
   "source": [
    "'가' + '나'"
   ]
  },
  {
   "cell_type": "code",
   "execution_count": 18,
   "metadata": {},
   "outputs": [
    {
     "name": "stdout",
     "output_type": "stream",
     "text": [
      "파이썬 3.x 버전을 사용합니다\n"
     ]
    }
   ],
   "source": [
    "문구 = 언어 + ' ' + str(버전) + '.x 버전을 사용합니다'\n",
    "print(문구)"
   ]
  },
  {
   "cell_type": "code",
   "execution_count": 19,
   "metadata": {
    "collapsed": true
   },
   "outputs": [],
   "source": [
    "양식 = '{0} {1}.x 버전을 사용합니다'"
   ]
  },
  {
   "cell_type": "code",
   "execution_count": 20,
   "metadata": {},
   "outputs": [
    {
     "data": {
      "text/plain": [
       "str"
      ]
     },
     "execution_count": 20,
     "metadata": {},
     "output_type": "execute_result"
    }
   ],
   "source": [
    "type(양식)"
   ]
  },
  {
   "cell_type": "code",
   "execution_count": 21,
   "metadata": {},
   "outputs": [
    {
     "data": {
      "text/plain": [
       "'{0} {1}.x 버전을 사용합니다'"
      ]
     },
     "execution_count": 21,
     "metadata": {},
     "output_type": "execute_result"
    }
   ],
   "source": [
    "양식"
   ]
  },
  {
   "cell_type": "code",
   "execution_count": 22,
   "metadata": {},
   "outputs": [
    {
     "name": "stdout",
     "output_type": "stream",
     "text": [
      "파이썬 3.x 버전을 사용합니다\n"
     ]
    }
   ],
   "source": [
    "문구 = 양식.format(언어, 버전)\n",
    "print(문구)"
   ]
  },
  {
   "cell_type": "markdown",
   "metadata": {},
   "source": [
    "※ 양식에서는 형변환을 신경쓰지 않아도 된다"
   ]
  },
  {
   "cell_type": "markdown",
   "metadata": {},
   "source": [
    "- slice 기능 사용하기"
   ]
  },
  {
   "cell_type": "code",
   "execution_count": 23,
   "metadata": {},
   "outputs": [
    {
     "data": {
      "text/plain": [
       "'파이썬'"
      ]
     },
     "execution_count": 23,
     "metadata": {},
     "output_type": "execute_result"
    }
   ],
   "source": [
    "문구[0:3]"
   ]
  },
  {
   "cell_type": "markdown",
   "metadata": {},
   "source": [
    "#### 연습\n",
    "문구에서 \"3.x\"라는 부분만 선택하기"
   ]
  },
  {
   "cell_type": "code",
   "execution_count": 26,
   "metadata": {},
   "outputs": [
    {
     "data": {
      "text/plain": [
       "'3.x'"
      ]
     },
     "execution_count": 26,
     "metadata": {},
     "output_type": "execute_result"
    }
   ],
   "source": [
    "문구[4:7]"
   ]
  },
  {
   "cell_type": "code",
   "execution_count": 27,
   "metadata": {},
   "outputs": [
    {
     "data": {
      "text/plain": [
       "4"
      ]
     },
     "execution_count": 27,
     "metadata": {},
     "output_type": "execute_result"
    }
   ],
   "source": [
    "문구.find('3')"
   ]
  },
  {
   "cell_type": "code",
   "execution_count": 28,
   "metadata": {},
   "outputs": [
    {
     "data": {
      "text/plain": [
       "4"
      ]
     },
     "execution_count": 28,
     "metadata": {},
     "output_type": "execute_result"
    }
   ],
   "source": [
    "문구.index('3')"
   ]
  },
  {
   "cell_type": "code",
   "execution_count": 29,
   "metadata": {},
   "outputs": [
    {
     "data": {
      "text/plain": [
       "-1"
      ]
     },
     "execution_count": 29,
     "metadata": {},
     "output_type": "execute_result"
    }
   ],
   "source": [
    "문구.find('4')"
   ]
  },
  {
   "cell_type": "code",
   "execution_count": 30,
   "metadata": {},
   "outputs": [
    {
     "ename": "ValueError",
     "evalue": "substring not found",
     "output_type": "error",
     "traceback": [
      "\u001b[1;31m---------------------------------------------------------------------------\u001b[0m",
      "\u001b[1;31mValueError\u001b[0m                                Traceback (most recent call last)",
      "\u001b[1;32m<ipython-input-30-b74fd47acbb4>\u001b[0m in \u001b[0;36m<module>\u001b[1;34m()\u001b[0m\n\u001b[1;32m----> 1\u001b[1;33m \u001b[0m문구\u001b[0m\u001b[1;33m.\u001b[0m\u001b[0mindex\u001b[0m\u001b[1;33m(\u001b[0m\u001b[1;34m'4'\u001b[0m\u001b[1;33m)\u001b[0m\u001b[1;33m\u001b[0m\u001b[0m\n\u001b[0m",
      "\u001b[1;31mValueError\u001b[0m: substring not found"
     ]
    }
   ],
   "source": [
    "문구.index('4')"
   ]
  },
  {
   "cell_type": "code",
   "execution_count": 31,
   "metadata": {},
   "outputs": [
    {
     "data": {
      "text/plain": [
       "'참 잘했어요참 잘했어요참 잘했어요참 잘했어요참 잘했어요참 잘했어요참 잘했어요참 잘했어요참 잘했어요참 잘했어요'"
      ]
     },
     "execution_count": 31,
     "metadata": {},
     "output_type": "execute_result"
    }
   ],
   "source": [
    "'참 잘했어요' * 10"
   ]
  },
  {
   "cell_type": "code",
   "execution_count": 32,
   "metadata": {},
   "outputs": [
    {
     "data": {
      "text/plain": [
       "True"
      ]
     },
     "execution_count": 32,
     "metadata": {},
     "output_type": "execute_result"
    }
   ],
   "source": [
    "'파이썬' in 문구"
   ]
  },
  {
   "cell_type": "code",
   "execution_count": 33,
   "metadata": {},
   "outputs": [
    {
     "data": {
      "text/plain": [
       "False"
      ]
     },
     "execution_count": 33,
     "metadata": {},
     "output_type": "execute_result"
    }
   ],
   "source": [
    "'자바' in 문구"
   ]
  },
  {
   "cell_type": "code",
   "execution_count": 34,
   "metadata": {},
   "outputs": [
    {
     "data": {
      "text/plain": [
       "['파이썬', '3.x', '버전을', '사용합니다']"
      ]
     },
     "execution_count": 34,
     "metadata": {},
     "output_type": "execute_result"
    }
   ],
   "source": [
    "문구.split()"
   ]
  },
  {
   "cell_type": "code",
   "execution_count": 35,
   "metadata": {
    "collapsed": true
   },
   "outputs": [],
   "source": [
    "낱말들 = 'a, b,      c'"
   ]
  },
  {
   "cell_type": "code",
   "execution_count": 36,
   "metadata": {},
   "outputs": [
    {
     "data": {
      "text/plain": [
       "['a', ' b', '      c']"
      ]
     },
     "execution_count": 36,
     "metadata": {},
     "output_type": "execute_result"
    }
   ],
   "source": [
    "낱말들.split(',')"
   ]
  },
  {
   "cell_type": "code",
   "execution_count": 37,
   "metadata": {
    "collapsed": true
   },
   "outputs": [],
   "source": [
    "정리된낱말들 = []\n",
    "for 항목 in 낱말들.split(','):\n",
    "    정리된낱말들.append(항목.strip())"
   ]
  },
  {
   "cell_type": "code",
   "execution_count": 38,
   "metadata": {},
   "outputs": [
    {
     "data": {
      "text/plain": [
       "['a', 'b', 'c']"
      ]
     },
     "execution_count": 38,
     "metadata": {},
     "output_type": "execute_result"
    }
   ],
   "source": [
    "정리된낱말들"
   ]
  },
  {
   "cell_type": "code",
   "execution_count": 39,
   "metadata": {},
   "outputs": [
    {
     "data": {
      "text/plain": [
       "['a', 'b', 'c']"
      ]
     },
     "execution_count": 39,
     "metadata": {},
     "output_type": "execute_result"
    }
   ],
   "source": [
    "[항목.strip() for 항목 in 낱말들.split(',')]"
   ]
  },
  {
   "cell_type": "code",
   "execution_count": 42,
   "metadata": {
    "collapsed": true
   },
   "outputs": [],
   "source": [
    "nums = [1,2]"
   ]
  },
  {
   "cell_type": "code",
   "execution_count": 44,
   "metadata": {},
   "outputs": [
    {
     "data": {
      "text/plain": [
       "1"
      ]
     },
     "execution_count": 44,
     "metadata": {},
     "output_type": "execute_result"
    }
   ],
   "source": [
    "nums[0]"
   ]
  },
  {
   "cell_type": "code",
   "execution_count": 45,
   "metadata": {},
   "outputs": [
    {
     "data": {
      "text/plain": [
       "[1, 2, 1, 2]"
      ]
     },
     "execution_count": 45,
     "metadata": {},
     "output_type": "execute_result"
    }
   ],
   "source": [
    "nums*2"
   ]
  },
  {
   "cell_type": "code",
   "execution_count": 46,
   "metadata": {},
   "outputs": [
    {
     "data": {
      "text/plain": [
       "True"
      ]
     },
     "execution_count": 46,
     "metadata": {},
     "output_type": "execute_result"
    }
   ],
   "source": [
    "1 in nums"
   ]
  },
  {
   "cell_type": "code",
   "execution_count": 47,
   "metadata": {},
   "outputs": [
    {
     "data": {
      "text/plain": [
       "False"
      ]
     },
     "execution_count": 47,
     "metadata": {},
     "output_type": "execute_result"
    }
   ],
   "source": [
    "3 in nums"
   ]
  },
  {
   "cell_type": "code",
   "execution_count": 50,
   "metadata": {
    "collapsed": true
   },
   "outputs": [],
   "source": [
    "nums.append('3')"
   ]
  },
  {
   "cell_type": "code",
   "execution_count": 51,
   "metadata": {},
   "outputs": [
    {
     "data": {
      "text/plain": [
       "[1, 2, 3, '3']"
      ]
     },
     "execution_count": 51,
     "metadata": {},
     "output_type": "execute_result"
    }
   ],
   "source": [
    "nums"
   ]
  },
  {
   "cell_type": "code",
   "execution_count": 52,
   "metadata": {},
   "outputs": [
    {
     "data": {
      "text/plain": [
       "'3'"
      ]
     },
     "execution_count": 52,
     "metadata": {},
     "output_type": "execute_result"
    }
   ],
   "source": [
    "nums.pop()"
   ]
  },
  {
   "cell_type": "code",
   "execution_count": 53,
   "metadata": {},
   "outputs": [
    {
     "data": {
      "text/plain": [
       "[1, 2, 3]"
      ]
     },
     "execution_count": 53,
     "metadata": {},
     "output_type": "execute_result"
    }
   ],
   "source": [
    "nums"
   ]
  },
  {
   "cell_type": "markdown",
   "metadata": {
    "collapsed": true
   },
   "source": [
    "## Tuples"
   ]
  },
  {
   "cell_type": "code",
   "execution_count": 74,
   "metadata": {
    "collapsed": true
   },
   "outputs": [],
   "source": [
    "좌표 = 1.2, 2.3, 3.4"
   ]
  },
  {
   "cell_type": "code",
   "execution_count": 75,
   "metadata": {},
   "outputs": [
    {
     "data": {
      "text/plain": [
       "tuple"
      ]
     },
     "execution_count": 75,
     "metadata": {},
     "output_type": "execute_result"
    }
   ],
   "source": [
    "type(좌표)"
   ]
  },
  {
   "cell_type": "code",
   "execution_count": 76,
   "metadata": {},
   "outputs": [
    {
     "data": {
      "text/plain": [
       "1.2"
      ]
     },
     "execution_count": 76,
     "metadata": {},
     "output_type": "execute_result"
    }
   ],
   "source": [
    "좌표[0]"
   ]
  },
  {
   "cell_type": "code",
   "execution_count": 77,
   "metadata": {},
   "outputs": [
    {
     "data": {
      "text/plain": [
       "(1.2, 2.3)"
      ]
     },
     "execution_count": 77,
     "metadata": {},
     "output_type": "execute_result"
    }
   ],
   "source": [
    "좌표[0:2]"
   ]
  },
  {
   "cell_type": "code",
   "execution_count": 79,
   "metadata": {},
   "outputs": [
    {
     "data": {
      "text/plain": [
       "(1.2, 2.3, 3.4)"
      ]
     },
     "execution_count": 79,
     "metadata": {},
     "output_type": "execute_result"
    }
   ],
   "source": [
    "좌표"
   ]
  },
  {
   "cell_type": "code",
   "execution_count": 80,
   "metadata": {
    "collapsed": true
   },
   "outputs": [],
   "source": [
    "x, y, z = 좌표"
   ]
  },
  {
   "cell_type": "code",
   "execution_count": 81,
   "metadata": {
    "collapsed": true
   },
   "outputs": [],
   "source": [
    "x, y = y, x"
   ]
  },
  {
   "cell_type": "code",
   "execution_count": 82,
   "metadata": {},
   "outputs": [
    {
     "data": {
      "text/plain": [
       "(2.3, 1.2)"
      ]
     },
     "execution_count": 82,
     "metadata": {},
     "output_type": "execute_result"
    }
   ],
   "source": [
    "x, y"
   ]
  },
  {
   "cell_type": "code",
   "execution_count": 83,
   "metadata": {
    "collapsed": true
   },
   "outputs": [],
   "source": [
    "x, *나머지 = 좌표"
   ]
  },
  {
   "cell_type": "code",
   "execution_count": 84,
   "metadata": {},
   "outputs": [
    {
     "data": {
      "text/plain": [
       "1.2"
      ]
     },
     "execution_count": 84,
     "metadata": {},
     "output_type": "execute_result"
    }
   ],
   "source": [
    "x"
   ]
  },
  {
   "cell_type": "code",
   "execution_count": 85,
   "metadata": {},
   "outputs": [
    {
     "data": {
      "text/plain": [
       "[2.3, 3.4]"
      ]
     },
     "execution_count": 85,
     "metadata": {},
     "output_type": "execute_result"
    }
   ],
   "source": [
    "나머지"
   ]
  },
  {
   "cell_type": "code",
   "execution_count": 86,
   "metadata": {
    "collapsed": true
   },
   "outputs": [],
   "source": [
    "*나머지, z = 좌표"
   ]
  },
  {
   "cell_type": "code",
   "execution_count": 87,
   "metadata": {},
   "outputs": [
    {
     "data": {
      "text/plain": [
       "3.4"
      ]
     },
     "execution_count": 87,
     "metadata": {},
     "output_type": "execute_result"
    }
   ],
   "source": [
    "z"
   ]
  },
  {
   "cell_type": "code",
   "execution_count": 88,
   "metadata": {},
   "outputs": [
    {
     "data": {
      "text/plain": [
       "[1.2, 2.3]"
      ]
     },
     "execution_count": 88,
     "metadata": {},
     "output_type": "execute_result"
    }
   ],
   "source": [
    "나머지"
   ]
  },
  {
   "cell_type": "markdown",
   "metadata": {},
   "source": [
    "## Dictionary"
   ]
  },
  {
   "cell_type": "code",
   "execution_count": 61,
   "metadata": {
    "collapsed": true
   },
   "outputs": [],
   "source": [
    "프로필 = {'이름': '다니엘'}"
   ]
  },
  {
   "cell_type": "code",
   "execution_count": 62,
   "metadata": {},
   "outputs": [
    {
     "data": {
      "text/plain": [
       "dict"
      ]
     },
     "execution_count": 62,
     "metadata": {},
     "output_type": "execute_result"
    }
   ],
   "source": [
    "type(프로필)"
   ]
  },
  {
   "cell_type": "code",
   "execution_count": 63,
   "metadata": {
    "collapsed": true
   },
   "outputs": [],
   "source": [
    "프로필['성별'] = '남'"
   ]
  },
  {
   "cell_type": "code",
   "execution_count": 64,
   "metadata": {},
   "outputs": [
    {
     "data": {
      "text/plain": [
       "{'성별': '남', '이름': '다니엘'}"
      ]
     },
     "execution_count": 64,
     "metadata": {},
     "output_type": "execute_result"
    }
   ],
   "source": [
    "프로필"
   ]
  },
  {
   "cell_type": "code",
   "execution_count": 68,
   "metadata": {
    "collapsed": true
   },
   "outputs": [],
   "source": [
    "양식1 = '이름은 {0}, 성별은 {1}입니다.'"
   ]
  },
  {
   "cell_type": "code",
   "execution_count": 69,
   "metadata": {},
   "outputs": [
    {
     "name": "stdout",
     "output_type": "stream",
     "text": [
      "이름은 다니엘, 성별은 남입니다.\n"
     ]
    }
   ],
   "source": [
    "문구1 = 양식1.format(프로필['이름'], 프로필['성별'])\n",
    "print(문구2)"
   ]
  },
  {
   "cell_type": "code",
   "execution_count": 70,
   "metadata": {
    "collapsed": true
   },
   "outputs": [],
   "source": [
    "양식 = '이름은 {0[이름]}, 성별은 {0[성별]}입니다.'"
   ]
  },
  {
   "cell_type": "code",
   "execution_count": 72,
   "metadata": {},
   "outputs": [
    {
     "name": "stdout",
     "output_type": "stream",
     "text": [
      "이름은 다니엘, 성별은 남입니다.\n"
     ]
    }
   ],
   "source": [
    "문구 = 양식.format(프로필)\n",
    "print(문구)"
   ]
  },
  {
   "cell_type": "markdown",
   "metadata": {},
   "source": [
    "## Function\n",
    "\n",
    "1. 함수도 객체\n",
    "1. 객체는 변수를 할당할 수 있다\n",
    "1. 함수 정의에 변수를 할당할 수 있다."
   ]
  },
  {
   "cell_type": "code",
   "execution_count": 101,
   "metadata": {
    "collapsed": true
   },
   "outputs": [],
   "source": [
    "def 주스기(재료='딸기'):\n",
    "    메뉴 = {'딸기': 10, '사과': 20}\n",
    "    if not 재료 in 메뉴:\n",
    "        return\n",
    "    주스 = 재료 + '주스'\n",
    "    가격 = 메뉴[재료]\n",
    "    return 주스, 가격"
   ]
  },
  {
   "cell_type": "code",
   "execution_count": 102,
   "metadata": {},
   "outputs": [
    {
     "data": {
      "text/plain": [
       "('딸기주스', 10)"
      ]
     },
     "execution_count": 102,
     "metadata": {},
     "output_type": "execute_result"
    }
   ],
   "source": [
    "주스기()"
   ]
  },
  {
   "cell_type": "code",
   "execution_count": 103,
   "metadata": {},
   "outputs": [
    {
     "data": {
      "text/plain": [
       "('사과주스', 20)"
      ]
     },
     "execution_count": 103,
     "metadata": {},
     "output_type": "execute_result"
    }
   ],
   "source": [
    "주스기('사과')"
   ]
  },
  {
   "cell_type": "code",
   "execution_count": 104,
   "metadata": {
    "collapsed": true
   },
   "outputs": [],
   "source": [
    "주스기('강아지')"
   ]
  },
  {
   "cell_type": "code",
   "execution_count": 105,
   "metadata": {
    "collapsed": true
   },
   "outputs": [],
   "source": [
    "juicer = 주스기"
   ]
  },
  {
   "cell_type": "code",
   "execution_count": 107,
   "metadata": {},
   "outputs": [
    {
     "data": {
      "text/plain": [
       "('딸기주스', 10)"
      ]
     },
     "execution_count": 107,
     "metadata": {},
     "output_type": "execute_result"
    }
   ],
   "source": [
    "juicer()"
   ]
  },
  {
   "cell_type": "code",
   "execution_count": 108,
   "metadata": {
    "collapsed": true
   },
   "outputs": [],
   "source": [
    "출력 = print"
   ]
  },
  {
   "cell_type": "code",
   "execution_count": 109,
   "metadata": {},
   "outputs": [
    {
     "name": "stdout",
     "output_type": "stream",
     "text": [
      "Hello world\n"
     ]
    }
   ],
   "source": [
    "출력('Hello world')"
   ]
  },
  {
   "cell_type": "code",
   "execution_count": 110,
   "metadata": {},
   "outputs": [
    {
     "data": {
      "text/plain": [
       "builtin_function_or_method"
      ]
     },
     "execution_count": 110,
     "metadata": {},
     "output_type": "execute_result"
    }
   ],
   "source": [
    "type(출력)"
   ]
  },
  {
   "cell_type": "code",
   "execution_count": 111,
   "metadata": {
    "collapsed": true
   },
   "outputs": [],
   "source": [
    "def 집계(방법, 데이터):\n",
    "    결과 = 방법(데이터)\n",
    "    return 결과"
   ]
  },
  {
   "cell_type": "code",
   "execution_count": 112,
   "metadata": {
    "collapsed": true
   },
   "outputs": [],
   "source": [
    "def 제곱합(데이터):\n",
    "    return sum(n**2 for n in 데이터)"
   ]
  },
  {
   "cell_type": "code",
   "execution_count": 113,
   "metadata": {},
   "outputs": [
    {
     "data": {
      "text/plain": [
       "[1, 2, 3, 4, 5, 6, 7, 8, 9, 10]"
      ]
     },
     "execution_count": 113,
     "metadata": {},
     "output_type": "execute_result"
    }
   ],
   "source": [
    "data = list(range(1, 11))\n",
    "data"
   ]
  },
  {
   "cell_type": "code",
   "execution_count": 114,
   "metadata": {},
   "outputs": [
    {
     "data": {
      "text/plain": [
       "55"
      ]
     },
     "execution_count": 114,
     "metadata": {},
     "output_type": "execute_result"
    }
   ],
   "source": [
    "집계(sum, data)"
   ]
  },
  {
   "cell_type": "code",
   "execution_count": 115,
   "metadata": {},
   "outputs": [
    {
     "data": {
      "text/plain": [
       "385"
      ]
     },
     "execution_count": 115,
     "metadata": {},
     "output_type": "execute_result"
    }
   ],
   "source": [
    "집계(제곱합, data)"
   ]
  },
  {
   "cell_type": "code",
   "execution_count": 116,
   "metadata": {},
   "outputs": [
    {
     "data": {
      "text/plain": [
       "range(0, 10)"
      ]
     },
     "execution_count": 116,
     "metadata": {},
     "output_type": "execute_result"
    }
   ],
   "source": [
    "range(10)"
   ]
  },
  {
   "cell_type": "code",
   "execution_count": 117,
   "metadata": {
    "collapsed": true
   },
   "outputs": [],
   "source": [
    "import pandas as pd"
   ]
  },
  {
   "cell_type": "code",
   "execution_count": 120,
   "metadata": {},
   "outputs": [],
   "source": [
    "wine = pd.read_csv('data/wine.data')"
   ]
  },
  {
   "cell_type": "code",
   "execution_count": 119,
   "metadata": {
    "collapsed": true
   },
   "outputs": [],
   "source": [
    "weather = pd.read_excel('data/weather.xlsx')"
   ]
  },
  {
   "cell_type": "code",
   "execution_count": 121,
   "metadata": {},
   "outputs": [
    {
     "data": {
      "text/plain": [
       "pandas.core.frame.DataFrame"
      ]
     },
     "execution_count": 121,
     "metadata": {},
     "output_type": "execute_result"
    }
   ],
   "source": [
    "type(weather)"
   ]
  },
  {
   "cell_type": "code",
   "execution_count": 123,
   "metadata": {
    "collapsed": true
   },
   "outputs": [
    {
     "data": {
      "text/html": [
       "<div>\n",
       "<style>\n",
       "    .dataframe thead tr:only-child th {\n",
       "        text-align: right;\n",
       "    }\n",
       "\n",
       "    .dataframe thead th {\n",
       "        text-align: left;\n",
       "    }\n",
       "\n",
       "    .dataframe tbody tr th {\n",
       "        vertical-align: top;\n",
       "    }\n",
       "</style>\n",
       "<table border=\"1\" class=\"dataframe\">\n",
       "  <thead>\n",
       "    <tr style=\"text-align: right;\">\n",
       "      <th></th>\n",
       "      <th>location</th>\n",
       "      <th>date</th>\n",
       "      <th>weekDay</th>\n",
       "      <th>avgTemp</th>\n",
       "      <th>highestTemp</th>\n",
       "      <th>lowestTemp</th>\n",
       "      <th>precipitation</th>\n",
       "      <th>snow</th>\n",
       "      <th>windSpeed</th>\n",
       "      <th>humidity</th>\n",
       "      <th>cloud</th>\n",
       "      <th>dayTime</th>\n",
       "      <th>weather</th>\n",
       "    </tr>\n",
       "  </thead>\n",
       "  <tbody>\n",
       "    <tr>\n",
       "      <th>0</th>\n",
       "      <td>seoul</td>\n",
       "      <td>2013-08-01</td>\n",
       "      <td>thur</td>\n",
       "      <td>28.0</td>\n",
       "      <td>32.1</td>\n",
       "      <td>24.5</td>\n",
       "      <td>-</td>\n",
       "      <td>-</td>\n",
       "      <td>1.8</td>\n",
       "      <td>66</td>\n",
       "      <td>7.1</td>\n",
       "      <td>6.0</td>\n",
       "      <td>구름많음</td>\n",
       "    </tr>\n",
       "    <tr>\n",
       "      <th>1</th>\n",
       "      <td>seoul</td>\n",
       "      <td>2013-08-02</td>\n",
       "      <td>fri</td>\n",
       "      <td>27.4</td>\n",
       "      <td>29.3</td>\n",
       "      <td>25.2</td>\n",
       "      <td>7.5</td>\n",
       "      <td>-</td>\n",
       "      <td>2.1</td>\n",
       "      <td>79</td>\n",
       "      <td>9.1</td>\n",
       "      <td>0.9</td>\n",
       "      <td>흐림/안개/비</td>\n",
       "    </tr>\n",
       "    <tr>\n",
       "      <th>2</th>\n",
       "      <td>seoul</td>\n",
       "      <td>2013-08-03</td>\n",
       "      <td>sat</td>\n",
       "      <td>28.9</td>\n",
       "      <td>32.6</td>\n",
       "      <td>26.7</td>\n",
       "      <td>0.1</td>\n",
       "      <td>-</td>\n",
       "      <td>3.6</td>\n",
       "      <td>72</td>\n",
       "      <td>8.1</td>\n",
       "      <td>8.9</td>\n",
       "      <td>흐림/소나기</td>\n",
       "    </tr>\n",
       "    <tr>\n",
       "      <th>3</th>\n",
       "      <td>seoul</td>\n",
       "      <td>2013-08-04</td>\n",
       "      <td>sun</td>\n",
       "      <td>28.3</td>\n",
       "      <td>31.3</td>\n",
       "      <td>26.4</td>\n",
       "      <td>4.5</td>\n",
       "      <td>-</td>\n",
       "      <td>2.5</td>\n",
       "      <td>76</td>\n",
       "      <td>8.0</td>\n",
       "      <td>4.7</td>\n",
       "      <td>흐림/소나기/안개</td>\n",
       "    </tr>\n",
       "    <tr>\n",
       "      <th>4</th>\n",
       "      <td>seoul</td>\n",
       "      <td>2013-08-05</td>\n",
       "      <td>mon</td>\n",
       "      <td>27.7</td>\n",
       "      <td>30.1</td>\n",
       "      <td>26.4</td>\n",
       "      <td>7</td>\n",
       "      <td>-</td>\n",
       "      <td>3.3</td>\n",
       "      <td>78</td>\n",
       "      <td>7.0</td>\n",
       "      <td>4.5</td>\n",
       "      <td>구름많음/안개/천둥번개/비</td>\n",
       "    </tr>\n",
       "  </tbody>\n",
       "</table>\n",
       "</div>"
      ],
      "text/plain": [
       "  location       date weekDay  avgTemp  highestTemp  lowestTemp precipitation  \\\n",
       "0    seoul 2013-08-01    thur     28.0         32.1        24.5             -   \n",
       "1    seoul 2013-08-02     fri     27.4         29.3        25.2           7.5   \n",
       "2    seoul 2013-08-03     sat     28.9         32.6        26.7           0.1   \n",
       "3    seoul 2013-08-04     sun     28.3         31.3        26.4           4.5   \n",
       "4    seoul 2013-08-05     mon     27.7         30.1        26.4             7   \n",
       "\n",
       "  snow  windSpeed  humidity  cloud  dayTime         weather  \n",
       "0    -        1.8        66    7.1      6.0            구름많음  \n",
       "1    -        2.1        79    9.1      0.9         흐림/안개/비  \n",
       "2    -        3.6        72    8.1      8.9          흐림/소나기  \n",
       "3    -        2.5        76    8.0      4.7       흐림/소나기/안개  \n",
       "4    -        3.3        78    7.0      4.5  구름많음/안개/천둥번개/비  "
      ]
     },
     "execution_count": 123,
     "metadata": {},
     "output_type": "execute_result"
    }
   ],
   "source": [
    "weather[:5]"
   ]
  },
  {
   "cell_type": "code",
   "execution_count": 125,
   "metadata": {},
   "outputs": [
    {
     "data": {
      "text/plain": [
       "seoul    730\n",
       "suwon    730\n",
       "Name: location, dtype: int64"
      ]
     },
     "execution_count": 125,
     "metadata": {},
     "output_type": "execute_result"
    }
   ],
   "source": [
    "weather['location'].value_counts()"
   ]
  },
  {
   "cell_type": "code",
   "execution_count": 127,
   "metadata": {
    "collapsed": true
   },
   "outputs": [
    {
     "data": {
      "text/plain": [
       "맑음                    226\n",
       "구름조금                  178\n",
       "구름조금/안개               160\n",
       "구름많음/안개               140\n",
       "맑음/안개                 119\n",
       "구름많음                  112\n",
       "흐림/비                   95\n",
       "흐림/안개/비                50\n",
       "흐림/안개                  40\n",
       "구름많음/비                 36\n",
       "구름많음/안개/비              33\n",
       "흐림/비/안개                27\n",
       "흐림                     23\n",
       "구름조금/비                 21\n",
       "구름많음/비/안개              17\n",
       "구름조금/안개/비              16\n",
       "구름많음/눈                  8\n",
       "구름많음/소나기                8\n",
       "구름조금/황사                 7\n",
       "맑음/황사                   7\n",
       "구름많음/소나기/안개/천둥번개        6\n",
       "구름조금/눈                  5\n",
       "흐림/안개/이슬비               5\n",
       "흐림/눈                    5\n",
       "구름조금/안개/눈               5\n",
       "흐림/비/안개/이슬비             5\n",
       "구름많음/소나기/안개             5\n",
       "구름조금/안개/황사              5\n",
       "흐림/소나기/안개               4\n",
       "구름많음/소나기/천둥번개           4\n",
       "                     ... \n",
       "맑음/소낙눈                  2\n",
       "흐림/눈/비/안개               2\n",
       "흐림/안개/천둥번개/비            2\n",
       "구름조금/소나기                2\n",
       "구름많음/천둥번개/비             1\n",
       "구름많음/비/천둥번개             1\n",
       "구름많음/황사                 1\n",
       "구름많음/소낙눈/안개             1\n",
       "구름많음/안개/진눈개비            1\n",
       "흐림/비/안개/황사              1\n",
       "흐림/비/안개/천둥번개            1\n",
       "구름많음/천둥번개/눈             1\n",
       "구름많음/비/안개/황사            1\n",
       "흐림/비/소나기/안개             1\n",
       "구름많음/안개/천둥번개/눈          1\n",
       "구름많음/비/소나기/안개/천둥번개      1\n",
       "구름조금/눈/소낙눈              1\n",
       "흐림/소낙눈/안개               1\n",
       "흐림/비/이슬비                1\n",
       "구름많음/비/소나기              1\n",
       "구름조금/소나기/천둥번개           1\n",
       "구름조금/비/안개/천둥번개/황사       1\n",
       "구름많음/눈/진눈개비             1\n",
       "구름많음/안개/황사              1\n",
       "구름많음/비/소나기/안개           1\n",
       "구름조금/황사/비               1\n",
       "흐림/눈/안개                 1\n",
       "흐림/비/안개/진눈개비            1\n",
       "구름조금/눈/안개               1\n",
       "구름조금/비/안개/천둥번개          1\n",
       "Name: weather, Length: 79, dtype: int64"
      ]
     },
     "execution_count": 127,
     "metadata": {},
     "output_type": "execute_result"
    }
   ],
   "source": [
    "weather['weather'].value_counts()"
   ]
  },
  {
   "cell_type": "code",
   "execution_count": 129,
   "metadata": {},
   "outputs": [
    {
     "data": {
      "text/plain": [
       "False    1104\n",
       "True      356\n",
       "Name: weather, dtype: int64"
      ]
     },
     "execution_count": 129,
     "metadata": {},
     "output_type": "execute_result"
    }
   ],
   "source": [
    "weather['weather'].str.contains('비').value_counts()"
   ]
  },
  {
   "cell_type": "code",
   "execution_count": 130,
   "metadata": {
    "collapsed": true
   },
   "outputs": [],
   "source": [
    "비왔나 = weather['weather'].str.contains('비')"
   ]
  },
  {
   "cell_type": "code",
   "execution_count": 131,
   "metadata": {},
   "outputs": [
    {
     "data": {
      "text/html": [
       "<div>\n",
       "<style>\n",
       "    .dataframe thead tr:only-child th {\n",
       "        text-align: right;\n",
       "    }\n",
       "\n",
       "    .dataframe thead th {\n",
       "        text-align: left;\n",
       "    }\n",
       "\n",
       "    .dataframe tbody tr th {\n",
       "        vertical-align: top;\n",
       "    }\n",
       "</style>\n",
       "<table border=\"1\" class=\"dataframe\">\n",
       "  <thead>\n",
       "    <tr style=\"text-align: right;\">\n",
       "      <th></th>\n",
       "      <th>location</th>\n",
       "      <th>date</th>\n",
       "      <th>weekDay</th>\n",
       "      <th>avgTemp</th>\n",
       "      <th>highestTemp</th>\n",
       "      <th>lowestTemp</th>\n",
       "      <th>precipitation</th>\n",
       "      <th>snow</th>\n",
       "      <th>windSpeed</th>\n",
       "      <th>humidity</th>\n",
       "      <th>cloud</th>\n",
       "      <th>dayTime</th>\n",
       "      <th>weather</th>\n",
       "    </tr>\n",
       "  </thead>\n",
       "  <tbody>\n",
       "    <tr>\n",
       "      <th>1</th>\n",
       "      <td>seoul</td>\n",
       "      <td>2013-08-02</td>\n",
       "      <td>fri</td>\n",
       "      <td>27.4</td>\n",
       "      <td>29.3</td>\n",
       "      <td>25.2</td>\n",
       "      <td>7.5</td>\n",
       "      <td>-</td>\n",
       "      <td>2.1</td>\n",
       "      <td>79</td>\n",
       "      <td>9.1</td>\n",
       "      <td>0.9</td>\n",
       "      <td>흐림/안개/비</td>\n",
       "    </tr>\n",
       "    <tr>\n",
       "      <th>4</th>\n",
       "      <td>seoul</td>\n",
       "      <td>2013-08-05</td>\n",
       "      <td>mon</td>\n",
       "      <td>27.7</td>\n",
       "      <td>30.1</td>\n",
       "      <td>26.4</td>\n",
       "      <td>7</td>\n",
       "      <td>-</td>\n",
       "      <td>3.3</td>\n",
       "      <td>78</td>\n",
       "      <td>7.0</td>\n",
       "      <td>4.5</td>\n",
       "      <td>구름많음/안개/천둥번개/비</td>\n",
       "    </tr>\n",
       "    <tr>\n",
       "      <th>5</th>\n",
       "      <td>seoul</td>\n",
       "      <td>2013-08-06</td>\n",
       "      <td>tue</td>\n",
       "      <td>26.4</td>\n",
       "      <td>27.6</td>\n",
       "      <td>23.0</td>\n",
       "      <td>45</td>\n",
       "      <td>-</td>\n",
       "      <td>2.3</td>\n",
       "      <td>81</td>\n",
       "      <td>6.6</td>\n",
       "      <td>2.8</td>\n",
       "      <td>구름많음/안개/천둥번개/비</td>\n",
       "    </tr>\n",
       "    <tr>\n",
       "      <th>9</th>\n",
       "      <td>seoul</td>\n",
       "      <td>2013-08-10</td>\n",
       "      <td>sat</td>\n",
       "      <td>28.0</td>\n",
       "      <td>29.4</td>\n",
       "      <td>25.8</td>\n",
       "      <td>2</td>\n",
       "      <td>-</td>\n",
       "      <td>2.3</td>\n",
       "      <td>81</td>\n",
       "      <td>7.1</td>\n",
       "      <td>2.6</td>\n",
       "      <td>구름많음/안개/천둥번개/비</td>\n",
       "    </tr>\n",
       "    <tr>\n",
       "      <th>17</th>\n",
       "      <td>seoul</td>\n",
       "      <td>2013-08-18</td>\n",
       "      <td>sun</td>\n",
       "      <td>28.3</td>\n",
       "      <td>31.5</td>\n",
       "      <td>26.0</td>\n",
       "      <td>13</td>\n",
       "      <td>-</td>\n",
       "      <td>4.1</td>\n",
       "      <td>72</td>\n",
       "      <td>9.8</td>\n",
       "      <td>2.8</td>\n",
       "      <td>흐림/안개/비</td>\n",
       "    </tr>\n",
       "    <tr>\n",
       "      <th>18</th>\n",
       "      <td>seoul</td>\n",
       "      <td>2013-08-19</td>\n",
       "      <td>mon</td>\n",
       "      <td>28.2</td>\n",
       "      <td>32.3</td>\n",
       "      <td>25.7</td>\n",
       "      <td>6</td>\n",
       "      <td>-</td>\n",
       "      <td>2.6</td>\n",
       "      <td>69</td>\n",
       "      <td>4.9</td>\n",
       "      <td>9.7</td>\n",
       "      <td>구름조금/안개/비</td>\n",
       "    </tr>\n",
       "    <tr>\n",
       "      <th>22</th>\n",
       "      <td>seoul</td>\n",
       "      <td>2013-08-23</td>\n",
       "      <td>fri</td>\n",
       "      <td>25.7</td>\n",
       "      <td>28.7</td>\n",
       "      <td>23.7</td>\n",
       "      <td>35</td>\n",
       "      <td>-</td>\n",
       "      <td>2.4</td>\n",
       "      <td>78</td>\n",
       "      <td>8.2</td>\n",
       "      <td>1.0</td>\n",
       "      <td>흐림/안개/비</td>\n",
       "    </tr>\n",
       "    <tr>\n",
       "      <th>28</th>\n",
       "      <td>seoul</td>\n",
       "      <td>2013-08-29</td>\n",
       "      <td>thur</td>\n",
       "      <td>25.5</td>\n",
       "      <td>26.7</td>\n",
       "      <td>24.5</td>\n",
       "      <td>21.5</td>\n",
       "      <td>-</td>\n",
       "      <td>4.2</td>\n",
       "      <td>78</td>\n",
       "      <td>9.4</td>\n",
       "      <td>0.0</td>\n",
       "      <td>흐림/안개/천둥번개/비</td>\n",
       "    </tr>\n",
       "    <tr>\n",
       "      <th>40</th>\n",
       "      <td>seoul</td>\n",
       "      <td>2013-09-10</td>\n",
       "      <td>tue</td>\n",
       "      <td>22.0</td>\n",
       "      <td>25.2</td>\n",
       "      <td>19.1</td>\n",
       "      <td>11.5</td>\n",
       "      <td>-</td>\n",
       "      <td>1.8</td>\n",
       "      <td>76</td>\n",
       "      <td>9.2</td>\n",
       "      <td>0.2</td>\n",
       "      <td>흐림/안개/비</td>\n",
       "    </tr>\n",
       "    <tr>\n",
       "      <th>41</th>\n",
       "      <td>seoul</td>\n",
       "      <td>2013-09-11</td>\n",
       "      <td>wed</td>\n",
       "      <td>20.1</td>\n",
       "      <td>20.9</td>\n",
       "      <td>19.1</td>\n",
       "      <td>36.5</td>\n",
       "      <td>-</td>\n",
       "      <td>2.2</td>\n",
       "      <td>90</td>\n",
       "      <td>9.8</td>\n",
       "      <td>0.0</td>\n",
       "      <td>흐림/안개/이슬비</td>\n",
       "    </tr>\n",
       "    <tr>\n",
       "      <th>42</th>\n",
       "      <td>seoul</td>\n",
       "      <td>2013-09-12</td>\n",
       "      <td>thur</td>\n",
       "      <td>23.0</td>\n",
       "      <td>26.3</td>\n",
       "      <td>20.3</td>\n",
       "      <td>0.5</td>\n",
       "      <td>-</td>\n",
       "      <td>1.6</td>\n",
       "      <td>80</td>\n",
       "      <td>10.0</td>\n",
       "      <td>0.5</td>\n",
       "      <td>흐림/안개/비</td>\n",
       "    </tr>\n",
       "    <tr>\n",
       "      <th>43</th>\n",
       "      <td>seoul</td>\n",
       "      <td>2013-09-13</td>\n",
       "      <td>fri</td>\n",
       "      <td>22.9</td>\n",
       "      <td>25.2</td>\n",
       "      <td>20.9</td>\n",
       "      <td>50</td>\n",
       "      <td>-</td>\n",
       "      <td>2.5</td>\n",
       "      <td>87</td>\n",
       "      <td>9.2</td>\n",
       "      <td>0.2</td>\n",
       "      <td>흐림/천둥번개/비</td>\n",
       "    </tr>\n",
       "    <tr>\n",
       "      <th>44</th>\n",
       "      <td>seoul</td>\n",
       "      <td>2013-09-14</td>\n",
       "      <td>sat</td>\n",
       "      <td>23.1</td>\n",
       "      <td>25.3</td>\n",
       "      <td>21.5</td>\n",
       "      <td>11.5</td>\n",
       "      <td>-</td>\n",
       "      <td>1.8</td>\n",
       "      <td>80</td>\n",
       "      <td>9.1</td>\n",
       "      <td>2.4</td>\n",
       "      <td>흐림/비</td>\n",
       "    </tr>\n",
       "    <tr>\n",
       "      <th>54</th>\n",
       "      <td>seoul</td>\n",
       "      <td>2013-09-24</td>\n",
       "      <td>tue</td>\n",
       "      <td>22.0</td>\n",
       "      <td>23.9</td>\n",
       "      <td>20.0</td>\n",
       "      <td>4.5</td>\n",
       "      <td>-</td>\n",
       "      <td>2.9</td>\n",
       "      <td>81</td>\n",
       "      <td>9.8</td>\n",
       "      <td>0.0</td>\n",
       "      <td>흐림/비</td>\n",
       "    </tr>\n",
       "    <tr>\n",
       "      <th>58</th>\n",
       "      <td>seoul</td>\n",
       "      <td>2013-09-28</td>\n",
       "      <td>sat</td>\n",
       "      <td>17.4</td>\n",
       "      <td>19.9</td>\n",
       "      <td>15.2</td>\n",
       "      <td>4</td>\n",
       "      <td>-</td>\n",
       "      <td>2.1</td>\n",
       "      <td>68</td>\n",
       "      <td>9.5</td>\n",
       "      <td>0.0</td>\n",
       "      <td>흐림/비</td>\n",
       "    </tr>\n",
       "    <tr>\n",
       "      <th>59</th>\n",
       "      <td>seoul</td>\n",
       "      <td>2013-09-29</td>\n",
       "      <td>sun</td>\n",
       "      <td>17.2</td>\n",
       "      <td>19.7</td>\n",
       "      <td>14.7</td>\n",
       "      <td>19</td>\n",
       "      <td>-</td>\n",
       "      <td>2.7</td>\n",
       "      <td>86</td>\n",
       "      <td>9.6</td>\n",
       "      <td>0.0</td>\n",
       "      <td>흐림/안개/비</td>\n",
       "    </tr>\n",
       "    <tr>\n",
       "      <th>60</th>\n",
       "      <td>seoul</td>\n",
       "      <td>2013-09-30</td>\n",
       "      <td>mon</td>\n",
       "      <td>20.7</td>\n",
       "      <td>25.5</td>\n",
       "      <td>18.0</td>\n",
       "      <td>1</td>\n",
       "      <td>-</td>\n",
       "      <td>2.5</td>\n",
       "      <td>71</td>\n",
       "      <td>5.9</td>\n",
       "      <td>5.6</td>\n",
       "      <td>구름많음/비</td>\n",
       "    </tr>\n",
       "    <tr>\n",
       "      <th>68</th>\n",
       "      <td>seoul</td>\n",
       "      <td>2013-10-08</td>\n",
       "      <td>tue</td>\n",
       "      <td>20.0</td>\n",
       "      <td>21.8</td>\n",
       "      <td>18.0</td>\n",
       "      <td>3</td>\n",
       "      <td>-</td>\n",
       "      <td>2.2</td>\n",
       "      <td>83</td>\n",
       "      <td>10.0</td>\n",
       "      <td>0.0</td>\n",
       "      <td>흐림/비</td>\n",
       "    </tr>\n",
       "    <tr>\n",
       "      <th>71</th>\n",
       "      <td>seoul</td>\n",
       "      <td>2013-10-11</td>\n",
       "      <td>fri</td>\n",
       "      <td>18.1</td>\n",
       "      <td>20.7</td>\n",
       "      <td>14.1</td>\n",
       "      <td>6.5</td>\n",
       "      <td>-</td>\n",
       "      <td>4.8</td>\n",
       "      <td>59</td>\n",
       "      <td>4.2</td>\n",
       "      <td>9.8</td>\n",
       "      <td>구름조금/비</td>\n",
       "    </tr>\n",
       "    <tr>\n",
       "      <th>75</th>\n",
       "      <td>seoul</td>\n",
       "      <td>2013-10-15</td>\n",
       "      <td>tue</td>\n",
       "      <td>12.0</td>\n",
       "      <td>17.4</td>\n",
       "      <td>7.7</td>\n",
       "      <td>3.5</td>\n",
       "      <td>-</td>\n",
       "      <td>2.7</td>\n",
       "      <td>79</td>\n",
       "      <td>6.5</td>\n",
       "      <td>0.0</td>\n",
       "      <td>구름많음/비</td>\n",
       "    </tr>\n",
       "    <tr>\n",
       "      <th>89</th>\n",
       "      <td>seoul</td>\n",
       "      <td>2013-10-29</td>\n",
       "      <td>tue</td>\n",
       "      <td>12.7</td>\n",
       "      <td>16.5</td>\n",
       "      <td>9.5</td>\n",
       "      <td>0.5</td>\n",
       "      <td>-</td>\n",
       "      <td>2.6</td>\n",
       "      <td>72</td>\n",
       "      <td>6.5</td>\n",
       "      <td>2.0</td>\n",
       "      <td>구름많음/안개/비</td>\n",
       "    </tr>\n",
       "    <tr>\n",
       "      <th>93</th>\n",
       "      <td>seoul</td>\n",
       "      <td>2013-11-02</td>\n",
       "      <td>sat</td>\n",
       "      <td>11.6</td>\n",
       "      <td>14.9</td>\n",
       "      <td>8.6</td>\n",
       "      <td>7.5</td>\n",
       "      <td>-</td>\n",
       "      <td>1.7</td>\n",
       "      <td>79</td>\n",
       "      <td>7.2</td>\n",
       "      <td>0.0</td>\n",
       "      <td>구름많음/안개/비</td>\n",
       "    </tr>\n",
       "    <tr>\n",
       "      <th>97</th>\n",
       "      <td>seoul</td>\n",
       "      <td>2013-11-06</td>\n",
       "      <td>wed</td>\n",
       "      <td>12.2</td>\n",
       "      <td>15.9</td>\n",
       "      <td>9.0</td>\n",
       "      <td>1</td>\n",
       "      <td>-</td>\n",
       "      <td>2.2</td>\n",
       "      <td>76</td>\n",
       "      <td>9.1</td>\n",
       "      <td>0.0</td>\n",
       "      <td>흐림/안개/비</td>\n",
       "    </tr>\n",
       "    <tr>\n",
       "      <th>98</th>\n",
       "      <td>seoul</td>\n",
       "      <td>2013-11-07</td>\n",
       "      <td>thur</td>\n",
       "      <td>12.2</td>\n",
       "      <td>15.8</td>\n",
       "      <td>7.5</td>\n",
       "      <td>0.1</td>\n",
       "      <td>-</td>\n",
       "      <td>3.9</td>\n",
       "      <td>55</td>\n",
       "      <td>1.8</td>\n",
       "      <td>9.4</td>\n",
       "      <td>맑음/비</td>\n",
       "    </tr>\n",
       "    <tr>\n",
       "      <th>100</th>\n",
       "      <td>seoul</td>\n",
       "      <td>2013-11-09</td>\n",
       "      <td>sat</td>\n",
       "      <td>11.6</td>\n",
       "      <td>15.5</td>\n",
       "      <td>9.2</td>\n",
       "      <td>5.5</td>\n",
       "      <td>-</td>\n",
       "      <td>2.4</td>\n",
       "      <td>59</td>\n",
       "      <td>9.6</td>\n",
       "      <td>0.4</td>\n",
       "      <td>흐림/비</td>\n",
       "    </tr>\n",
       "    <tr>\n",
       "      <th>105</th>\n",
       "      <td>seoul</td>\n",
       "      <td>2013-11-14</td>\n",
       "      <td>thur</td>\n",
       "      <td>6.7</td>\n",
       "      <td>9.9</td>\n",
       "      <td>3.1</td>\n",
       "      <td>1</td>\n",
       "      <td>-</td>\n",
       "      <td>2.0</td>\n",
       "      <td>54</td>\n",
       "      <td>8.9</td>\n",
       "      <td>0.9</td>\n",
       "      <td>흐림/비</td>\n",
       "    </tr>\n",
       "    <tr>\n",
       "      <th>106</th>\n",
       "      <td>seoul</td>\n",
       "      <td>2013-11-15</td>\n",
       "      <td>fri</td>\n",
       "      <td>8.2</td>\n",
       "      <td>12.4</td>\n",
       "      <td>5.8</td>\n",
       "      <td>2</td>\n",
       "      <td>-</td>\n",
       "      <td>1.7</td>\n",
       "      <td>78</td>\n",
       "      <td>5.2</td>\n",
       "      <td>3.5</td>\n",
       "      <td>구름많음/안개/비</td>\n",
       "    </tr>\n",
       "    <tr>\n",
       "      <th>107</th>\n",
       "      <td>seoul</td>\n",
       "      <td>2013-11-16</td>\n",
       "      <td>sat</td>\n",
       "      <td>7.0</td>\n",
       "      <td>12.0</td>\n",
       "      <td>2.4</td>\n",
       "      <td>2</td>\n",
       "      <td>-</td>\n",
       "      <td>2.6</td>\n",
       "      <td>70</td>\n",
       "      <td>5.0</td>\n",
       "      <td>5.6</td>\n",
       "      <td>구름많음/안개/비</td>\n",
       "    </tr>\n",
       "    <tr>\n",
       "      <th>115</th>\n",
       "      <td>seoul</td>\n",
       "      <td>2013-11-24</td>\n",
       "      <td>sun</td>\n",
       "      <td>7.3</td>\n",
       "      <td>10.6</td>\n",
       "      <td>4.4</td>\n",
       "      <td>14</td>\n",
       "      <td>-</td>\n",
       "      <td>3.6</td>\n",
       "      <td>73</td>\n",
       "      <td>7.4</td>\n",
       "      <td>2.2</td>\n",
       "      <td>구름많음/안개/비</td>\n",
       "    </tr>\n",
       "    <tr>\n",
       "      <th>116</th>\n",
       "      <td>seoul</td>\n",
       "      <td>2013-11-25</td>\n",
       "      <td>mon</td>\n",
       "      <td>4.7</td>\n",
       "      <td>10.2</td>\n",
       "      <td>-0.1</td>\n",
       "      <td>9.5</td>\n",
       "      <td>-</td>\n",
       "      <td>6.2</td>\n",
       "      <td>67</td>\n",
       "      <td>6.8</td>\n",
       "      <td>0.7</td>\n",
       "      <td>구름많음/비</td>\n",
       "    </tr>\n",
       "    <tr>\n",
       "      <th>...</th>\n",
       "      <td>...</td>\n",
       "      <td>...</td>\n",
       "      <td>...</td>\n",
       "      <td>...</td>\n",
       "      <td>...</td>\n",
       "      <td>...</td>\n",
       "      <td>...</td>\n",
       "      <td>...</td>\n",
       "      <td>...</td>\n",
       "      <td>...</td>\n",
       "      <td>...</td>\n",
       "      <td>...</td>\n",
       "      <td>...</td>\n",
       "    </tr>\n",
       "    <tr>\n",
       "      <th>1370</th>\n",
       "      <td>suwon</td>\n",
       "      <td>2015-05-03</td>\n",
       "      <td>sun</td>\n",
       "      <td>18.0</td>\n",
       "      <td>19.7</td>\n",
       "      <td>15.2</td>\n",
       "      <td>3.4</td>\n",
       "      <td>-</td>\n",
       "      <td>1.5</td>\n",
       "      <td>96</td>\n",
       "      <td>9.4</td>\n",
       "      <td>0.0</td>\n",
       "      <td>흐림/비/안개/이슬비</td>\n",
       "    </tr>\n",
       "    <tr>\n",
       "      <th>1375</th>\n",
       "      <td>suwon</td>\n",
       "      <td>2015-05-08</td>\n",
       "      <td>fri</td>\n",
       "      <td>16.1</td>\n",
       "      <td>21.6</td>\n",
       "      <td>11.3</td>\n",
       "      <td>0</td>\n",
       "      <td>-</td>\n",
       "      <td>1.9</td>\n",
       "      <td>71</td>\n",
       "      <td>8.1</td>\n",
       "      <td>3.1</td>\n",
       "      <td>흐림/비/안개</td>\n",
       "    </tr>\n",
       "    <tr>\n",
       "      <th>1378</th>\n",
       "      <td>suwon</td>\n",
       "      <td>2015-05-11</td>\n",
       "      <td>mon</td>\n",
       "      <td>18.0</td>\n",
       "      <td>23.1</td>\n",
       "      <td>12.9</td>\n",
       "      <td>14.6</td>\n",
       "      <td>-</td>\n",
       "      <td>3.4</td>\n",
       "      <td>68</td>\n",
       "      <td>7.5</td>\n",
       "      <td>1.7</td>\n",
       "      <td>구름많음/비</td>\n",
       "    </tr>\n",
       "    <tr>\n",
       "      <th>1379</th>\n",
       "      <td>suwon</td>\n",
       "      <td>2015-05-12</td>\n",
       "      <td>tue</td>\n",
       "      <td>13.9</td>\n",
       "      <td>19.1</td>\n",
       "      <td>10.3</td>\n",
       "      <td>10.5</td>\n",
       "      <td>-</td>\n",
       "      <td>4.4</td>\n",
       "      <td>80</td>\n",
       "      <td>6.4</td>\n",
       "      <td>6.0</td>\n",
       "      <td>구름많음/비</td>\n",
       "    </tr>\n",
       "    <tr>\n",
       "      <th>1386</th>\n",
       "      <td>suwon</td>\n",
       "      <td>2015-05-19</td>\n",
       "      <td>tue</td>\n",
       "      <td>15.1</td>\n",
       "      <td>18.0</td>\n",
       "      <td>12.9</td>\n",
       "      <td>1.3</td>\n",
       "      <td>-</td>\n",
       "      <td>1.9</td>\n",
       "      <td>96</td>\n",
       "      <td>9.0</td>\n",
       "      <td>0.0</td>\n",
       "      <td>흐림/비/안개/이슬비</td>\n",
       "    </tr>\n",
       "    <tr>\n",
       "      <th>1397</th>\n",
       "      <td>suwon</td>\n",
       "      <td>2015-05-30</td>\n",
       "      <td>sat</td>\n",
       "      <td>18.1</td>\n",
       "      <td>22.4</td>\n",
       "      <td>15.6</td>\n",
       "      <td>1.1</td>\n",
       "      <td>-</td>\n",
       "      <td>1.8</td>\n",
       "      <td>80</td>\n",
       "      <td>7.4</td>\n",
       "      <td>4.1</td>\n",
       "      <td>구름많음/비/안개</td>\n",
       "    </tr>\n",
       "    <tr>\n",
       "      <th>1403</th>\n",
       "      <td>suwon</td>\n",
       "      <td>2015-06-05</td>\n",
       "      <td>fri</td>\n",
       "      <td>18.9</td>\n",
       "      <td>21.8</td>\n",
       "      <td>16.5</td>\n",
       "      <td>0.3</td>\n",
       "      <td>-</td>\n",
       "      <td>1.6</td>\n",
       "      <td>59</td>\n",
       "      <td>8.5</td>\n",
       "      <td>0.5</td>\n",
       "      <td>흐림/비</td>\n",
       "    </tr>\n",
       "    <tr>\n",
       "      <th>1409</th>\n",
       "      <td>suwon</td>\n",
       "      <td>2015-06-11</td>\n",
       "      <td>thur</td>\n",
       "      <td>23.8</td>\n",
       "      <td>28.5</td>\n",
       "      <td>18.8</td>\n",
       "      <td>0.2</td>\n",
       "      <td>-</td>\n",
       "      <td>2.4</td>\n",
       "      <td>68</td>\n",
       "      <td>7.1</td>\n",
       "      <td>3.0</td>\n",
       "      <td>구름많음/비/안개</td>\n",
       "    </tr>\n",
       "    <tr>\n",
       "      <th>1410</th>\n",
       "      <td>suwon</td>\n",
       "      <td>2015-06-12</td>\n",
       "      <td>fri</td>\n",
       "      <td>23.8</td>\n",
       "      <td>29.7</td>\n",
       "      <td>18.6</td>\n",
       "      <td>0.3</td>\n",
       "      <td>-</td>\n",
       "      <td>2.5</td>\n",
       "      <td>67</td>\n",
       "      <td>5.8</td>\n",
       "      <td>11.8</td>\n",
       "      <td>구름많음/비/안개/이슬비</td>\n",
       "    </tr>\n",
       "    <tr>\n",
       "      <th>1411</th>\n",
       "      <td>suwon</td>\n",
       "      <td>2015-06-13</td>\n",
       "      <td>sat</td>\n",
       "      <td>24.2</td>\n",
       "      <td>29.7</td>\n",
       "      <td>18.6</td>\n",
       "      <td>1</td>\n",
       "      <td>-</td>\n",
       "      <td>2.2</td>\n",
       "      <td>69</td>\n",
       "      <td>7.1</td>\n",
       "      <td>6.5</td>\n",
       "      <td>구름많음/비/소나기/안개</td>\n",
       "    </tr>\n",
       "    <tr>\n",
       "      <th>1412</th>\n",
       "      <td>suwon</td>\n",
       "      <td>2015-06-14</td>\n",
       "      <td>sun</td>\n",
       "      <td>22.9</td>\n",
       "      <td>27.7</td>\n",
       "      <td>18.7</td>\n",
       "      <td>7.4</td>\n",
       "      <td>-</td>\n",
       "      <td>1.8</td>\n",
       "      <td>73</td>\n",
       "      <td>6.8</td>\n",
       "      <td>6.2</td>\n",
       "      <td>구름많음/비/안개/천둥번개</td>\n",
       "    </tr>\n",
       "    <tr>\n",
       "      <th>1418</th>\n",
       "      <td>suwon</td>\n",
       "      <td>2015-06-20</td>\n",
       "      <td>sat</td>\n",
       "      <td>20.0</td>\n",
       "      <td>22.3</td>\n",
       "      <td>17.7</td>\n",
       "      <td>3.8</td>\n",
       "      <td>-</td>\n",
       "      <td>1.3</td>\n",
       "      <td>92</td>\n",
       "      <td>8.2</td>\n",
       "      <td>0.0</td>\n",
       "      <td>흐림/비/안개</td>\n",
       "    </tr>\n",
       "    <tr>\n",
       "      <th>1423</th>\n",
       "      <td>suwon</td>\n",
       "      <td>2015-06-25</td>\n",
       "      <td>thur</td>\n",
       "      <td>23.5</td>\n",
       "      <td>27.7</td>\n",
       "      <td>20.5</td>\n",
       "      <td>1.8</td>\n",
       "      <td>-</td>\n",
       "      <td>2.1</td>\n",
       "      <td>71</td>\n",
       "      <td>9.4</td>\n",
       "      <td>0.5</td>\n",
       "      <td>흐림/비/안개</td>\n",
       "    </tr>\n",
       "    <tr>\n",
       "      <th>1424</th>\n",
       "      <td>suwon</td>\n",
       "      <td>2015-06-26</td>\n",
       "      <td>fri</td>\n",
       "      <td>21.5</td>\n",
       "      <td>25.4</td>\n",
       "      <td>18.6</td>\n",
       "      <td>14.6</td>\n",
       "      <td>-</td>\n",
       "      <td>3.0</td>\n",
       "      <td>79</td>\n",
       "      <td>9.6</td>\n",
       "      <td>0.3</td>\n",
       "      <td>흐림/비</td>\n",
       "    </tr>\n",
       "    <tr>\n",
       "      <th>1427</th>\n",
       "      <td>suwon</td>\n",
       "      <td>2015-06-29</td>\n",
       "      <td>mon</td>\n",
       "      <td>25.0</td>\n",
       "      <td>30.8</td>\n",
       "      <td>19.5</td>\n",
       "      <td>0</td>\n",
       "      <td>-</td>\n",
       "      <td>1.7</td>\n",
       "      <td>69</td>\n",
       "      <td>6.4</td>\n",
       "      <td>11.0</td>\n",
       "      <td>구름많음/비</td>\n",
       "    </tr>\n",
       "    <tr>\n",
       "      <th>1428</th>\n",
       "      <td>suwon</td>\n",
       "      <td>2015-06-30</td>\n",
       "      <td>tue</td>\n",
       "      <td>24.4</td>\n",
       "      <td>30.4</td>\n",
       "      <td>21.4</td>\n",
       "      <td>0</td>\n",
       "      <td>-</td>\n",
       "      <td>1.5</td>\n",
       "      <td>74</td>\n",
       "      <td>8.6</td>\n",
       "      <td>4.2</td>\n",
       "      <td>흐림/비/안개</td>\n",
       "    </tr>\n",
       "    <tr>\n",
       "      <th>1436</th>\n",
       "      <td>suwon</td>\n",
       "      <td>2015-07-08</td>\n",
       "      <td>wed</td>\n",
       "      <td>22.6</td>\n",
       "      <td>25.8</td>\n",
       "      <td>19.7</td>\n",
       "      <td>1.1</td>\n",
       "      <td>-</td>\n",
       "      <td>3.3</td>\n",
       "      <td>78</td>\n",
       "      <td>9.4</td>\n",
       "      <td>0.0</td>\n",
       "      <td>흐림/비</td>\n",
       "    </tr>\n",
       "    <tr>\n",
       "      <th>1439</th>\n",
       "      <td>suwon</td>\n",
       "      <td>2015-07-11</td>\n",
       "      <td>sat</td>\n",
       "      <td>29.3</td>\n",
       "      <td>35.0</td>\n",
       "      <td>24.7</td>\n",
       "      <td>0.2</td>\n",
       "      <td>-</td>\n",
       "      <td>1.8</td>\n",
       "      <td>69</td>\n",
       "      <td>7.0</td>\n",
       "      <td>9.4</td>\n",
       "      <td>구름많음/비/안개</td>\n",
       "    </tr>\n",
       "    <tr>\n",
       "      <th>1440</th>\n",
       "      <td>suwon</td>\n",
       "      <td>2015-07-12</td>\n",
       "      <td>sun</td>\n",
       "      <td>25.0</td>\n",
       "      <td>26.7</td>\n",
       "      <td>24.0</td>\n",
       "      <td>21.1</td>\n",
       "      <td>-</td>\n",
       "      <td>4.4</td>\n",
       "      <td>94</td>\n",
       "      <td>10.0</td>\n",
       "      <td>0.0</td>\n",
       "      <td>흐림/비</td>\n",
       "    </tr>\n",
       "    <tr>\n",
       "      <th>1441</th>\n",
       "      <td>suwon</td>\n",
       "      <td>2015-07-13</td>\n",
       "      <td>mon</td>\n",
       "      <td>23.1</td>\n",
       "      <td>25.4</td>\n",
       "      <td>21.5</td>\n",
       "      <td>16.3</td>\n",
       "      <td>-</td>\n",
       "      <td>3.8</td>\n",
       "      <td>96</td>\n",
       "      <td>9.0</td>\n",
       "      <td>0.6</td>\n",
       "      <td>흐림/비/안개</td>\n",
       "    </tr>\n",
       "    <tr>\n",
       "      <th>1446</th>\n",
       "      <td>suwon</td>\n",
       "      <td>2015-07-18</td>\n",
       "      <td>sat</td>\n",
       "      <td>23.8</td>\n",
       "      <td>27.4</td>\n",
       "      <td>22.4</td>\n",
       "      <td>0.2</td>\n",
       "      <td>-</td>\n",
       "      <td>1.7</td>\n",
       "      <td>70</td>\n",
       "      <td>9.6</td>\n",
       "      <td>0.2</td>\n",
       "      <td>흐림/비/안개</td>\n",
       "    </tr>\n",
       "    <tr>\n",
       "      <th>1447</th>\n",
       "      <td>suwon</td>\n",
       "      <td>2015-07-19</td>\n",
       "      <td>sun</td>\n",
       "      <td>24.8</td>\n",
       "      <td>29.1</td>\n",
       "      <td>20.6</td>\n",
       "      <td>9.7</td>\n",
       "      <td>-</td>\n",
       "      <td>1.4</td>\n",
       "      <td>85</td>\n",
       "      <td>8.6</td>\n",
       "      <td>1.8</td>\n",
       "      <td>흐림/비</td>\n",
       "    </tr>\n",
       "    <tr>\n",
       "      <th>1449</th>\n",
       "      <td>suwon</td>\n",
       "      <td>2015-07-21</td>\n",
       "      <td>tue</td>\n",
       "      <td>26.7</td>\n",
       "      <td>30.5</td>\n",
       "      <td>24.3</td>\n",
       "      <td>0.3</td>\n",
       "      <td>-</td>\n",
       "      <td>1.4</td>\n",
       "      <td>86</td>\n",
       "      <td>9.4</td>\n",
       "      <td>0.3</td>\n",
       "      <td>흐림/비/안개</td>\n",
       "    </tr>\n",
       "    <tr>\n",
       "      <th>1451</th>\n",
       "      <td>suwon</td>\n",
       "      <td>2015-07-23</td>\n",
       "      <td>thur</td>\n",
       "      <td>26.2</td>\n",
       "      <td>30.9</td>\n",
       "      <td>24.2</td>\n",
       "      <td>14.5</td>\n",
       "      <td>-</td>\n",
       "      <td>1.4</td>\n",
       "      <td>90</td>\n",
       "      <td>9.6</td>\n",
       "      <td>1.1</td>\n",
       "      <td>흐림/비/안개</td>\n",
       "    </tr>\n",
       "    <tr>\n",
       "      <th>1452</th>\n",
       "      <td>suwon</td>\n",
       "      <td>2015-07-24</td>\n",
       "      <td>fri</td>\n",
       "      <td>24.5</td>\n",
       "      <td>25.3</td>\n",
       "      <td>23.5</td>\n",
       "      <td>23.8</td>\n",
       "      <td>-</td>\n",
       "      <td>1.2</td>\n",
       "      <td>100</td>\n",
       "      <td>10.0</td>\n",
       "      <td>0.0</td>\n",
       "      <td>흐림/비/안개</td>\n",
       "    </tr>\n",
       "    <tr>\n",
       "      <th>1453</th>\n",
       "      <td>suwon</td>\n",
       "      <td>2015-07-25</td>\n",
       "      <td>sat</td>\n",
       "      <td>25.4</td>\n",
       "      <td>27.4</td>\n",
       "      <td>23.6</td>\n",
       "      <td>56.4</td>\n",
       "      <td>-</td>\n",
       "      <td>2.2</td>\n",
       "      <td>96</td>\n",
       "      <td>10.0</td>\n",
       "      <td>0.0</td>\n",
       "      <td>흐림/비/안개</td>\n",
       "    </tr>\n",
       "    <tr>\n",
       "      <th>1454</th>\n",
       "      <td>suwon</td>\n",
       "      <td>2015-07-26</td>\n",
       "      <td>sun</td>\n",
       "      <td>27.5</td>\n",
       "      <td>32.9</td>\n",
       "      <td>24.0</td>\n",
       "      <td>14.7</td>\n",
       "      <td>-</td>\n",
       "      <td>1.7</td>\n",
       "      <td>83</td>\n",
       "      <td>6.5</td>\n",
       "      <td>9.0</td>\n",
       "      <td>구름많음/비/안개</td>\n",
       "    </tr>\n",
       "    <tr>\n",
       "      <th>1455</th>\n",
       "      <td>suwon</td>\n",
       "      <td>2015-07-27</td>\n",
       "      <td>mon</td>\n",
       "      <td>25.9</td>\n",
       "      <td>30.0</td>\n",
       "      <td>24.0</td>\n",
       "      <td>2.5</td>\n",
       "      <td>-</td>\n",
       "      <td>1.3</td>\n",
       "      <td>92</td>\n",
       "      <td>8.1</td>\n",
       "      <td>2.2</td>\n",
       "      <td>흐림/비/안개</td>\n",
       "    </tr>\n",
       "    <tr>\n",
       "      <th>1456</th>\n",
       "      <td>suwon</td>\n",
       "      <td>2015-07-28</td>\n",
       "      <td>tue</td>\n",
       "      <td>27.7</td>\n",
       "      <td>32.1</td>\n",
       "      <td>24.5</td>\n",
       "      <td>0</td>\n",
       "      <td>-</td>\n",
       "      <td>1.7</td>\n",
       "      <td>82</td>\n",
       "      <td>7.5</td>\n",
       "      <td>7.5</td>\n",
       "      <td>구름많음/안개/이슬비</td>\n",
       "    </tr>\n",
       "    <tr>\n",
       "      <th>1457</th>\n",
       "      <td>suwon</td>\n",
       "      <td>2015-07-29</td>\n",
       "      <td>wed</td>\n",
       "      <td>26.3</td>\n",
       "      <td>29.6</td>\n",
       "      <td>23.9</td>\n",
       "      <td>64.7</td>\n",
       "      <td>-</td>\n",
       "      <td>1.3</td>\n",
       "      <td>93</td>\n",
       "      <td>8.5</td>\n",
       "      <td>0.2</td>\n",
       "      <td>흐림/비/안개/천둥번개</td>\n",
       "    </tr>\n",
       "  </tbody>\n",
       "</table>\n",
       "<p>356 rows × 13 columns</p>\n",
       "</div>"
      ],
      "text/plain": [
       "     location       date weekDay  avgTemp  highestTemp  lowestTemp  \\\n",
       "1       seoul 2013-08-02     fri     27.4         29.3        25.2   \n",
       "4       seoul 2013-08-05     mon     27.7         30.1        26.4   \n",
       "5       seoul 2013-08-06     tue     26.4         27.6        23.0   \n",
       "9       seoul 2013-08-10     sat     28.0         29.4        25.8   \n",
       "17      seoul 2013-08-18     sun     28.3         31.5        26.0   \n",
       "18      seoul 2013-08-19     mon     28.2         32.3        25.7   \n",
       "22      seoul 2013-08-23     fri     25.7         28.7        23.7   \n",
       "28      seoul 2013-08-29    thur     25.5         26.7        24.5   \n",
       "40      seoul 2013-09-10     tue     22.0         25.2        19.1   \n",
       "41      seoul 2013-09-11     wed     20.1         20.9        19.1   \n",
       "42      seoul 2013-09-12    thur     23.0         26.3        20.3   \n",
       "43      seoul 2013-09-13     fri     22.9         25.2        20.9   \n",
       "44      seoul 2013-09-14     sat     23.1         25.3        21.5   \n",
       "54      seoul 2013-09-24     tue     22.0         23.9        20.0   \n",
       "58      seoul 2013-09-28     sat     17.4         19.9        15.2   \n",
       "59      seoul 2013-09-29     sun     17.2         19.7        14.7   \n",
       "60      seoul 2013-09-30     mon     20.7         25.5        18.0   \n",
       "68      seoul 2013-10-08     tue     20.0         21.8        18.0   \n",
       "71      seoul 2013-10-11     fri     18.1         20.7        14.1   \n",
       "75      seoul 2013-10-15     tue     12.0         17.4         7.7   \n",
       "89      seoul 2013-10-29     tue     12.7         16.5         9.5   \n",
       "93      seoul 2013-11-02     sat     11.6         14.9         8.6   \n",
       "97      seoul 2013-11-06     wed     12.2         15.9         9.0   \n",
       "98      seoul 2013-11-07    thur     12.2         15.8         7.5   \n",
       "100     seoul 2013-11-09     sat     11.6         15.5         9.2   \n",
       "105     seoul 2013-11-14    thur      6.7          9.9         3.1   \n",
       "106     seoul 2013-11-15     fri      8.2         12.4         5.8   \n",
       "107     seoul 2013-11-16     sat      7.0         12.0         2.4   \n",
       "115     seoul 2013-11-24     sun      7.3         10.6         4.4   \n",
       "116     seoul 2013-11-25     mon      4.7         10.2        -0.1   \n",
       "...       ...        ...     ...      ...          ...         ...   \n",
       "1370    suwon 2015-05-03     sun     18.0         19.7        15.2   \n",
       "1375    suwon 2015-05-08     fri     16.1         21.6        11.3   \n",
       "1378    suwon 2015-05-11     mon     18.0         23.1        12.9   \n",
       "1379    suwon 2015-05-12     tue     13.9         19.1        10.3   \n",
       "1386    suwon 2015-05-19     tue     15.1         18.0        12.9   \n",
       "1397    suwon 2015-05-30     sat     18.1         22.4        15.6   \n",
       "1403    suwon 2015-06-05     fri     18.9         21.8        16.5   \n",
       "1409    suwon 2015-06-11    thur     23.8         28.5        18.8   \n",
       "1410    suwon 2015-06-12     fri     23.8         29.7        18.6   \n",
       "1411    suwon 2015-06-13     sat     24.2         29.7        18.6   \n",
       "1412    suwon 2015-06-14     sun     22.9         27.7        18.7   \n",
       "1418    suwon 2015-06-20     sat     20.0         22.3        17.7   \n",
       "1423    suwon 2015-06-25    thur     23.5         27.7        20.5   \n",
       "1424    suwon 2015-06-26     fri     21.5         25.4        18.6   \n",
       "1427    suwon 2015-06-29     mon     25.0         30.8        19.5   \n",
       "1428    suwon 2015-06-30     tue     24.4         30.4        21.4   \n",
       "1436    suwon 2015-07-08     wed     22.6         25.8        19.7   \n",
       "1439    suwon 2015-07-11     sat     29.3         35.0        24.7   \n",
       "1440    suwon 2015-07-12     sun     25.0         26.7        24.0   \n",
       "1441    suwon 2015-07-13     mon     23.1         25.4        21.5   \n",
       "1446    suwon 2015-07-18     sat     23.8         27.4        22.4   \n",
       "1447    suwon 2015-07-19     sun     24.8         29.1        20.6   \n",
       "1449    suwon 2015-07-21     tue     26.7         30.5        24.3   \n",
       "1451    suwon 2015-07-23    thur     26.2         30.9        24.2   \n",
       "1452    suwon 2015-07-24     fri     24.5         25.3        23.5   \n",
       "1453    suwon 2015-07-25     sat     25.4         27.4        23.6   \n",
       "1454    suwon 2015-07-26     sun     27.5         32.9        24.0   \n",
       "1455    suwon 2015-07-27     mon     25.9         30.0        24.0   \n",
       "1456    suwon 2015-07-28     tue     27.7         32.1        24.5   \n",
       "1457    suwon 2015-07-29     wed     26.3         29.6        23.9   \n",
       "\n",
       "     precipitation snow  windSpeed  humidity  cloud  dayTime         weather  \n",
       "1              7.5    -        2.1        79    9.1      0.9         흐림/안개/비  \n",
       "4                7    -        3.3        78    7.0      4.5  구름많음/안개/천둥번개/비  \n",
       "5               45    -        2.3        81    6.6      2.8  구름많음/안개/천둥번개/비  \n",
       "9                2    -        2.3        81    7.1      2.6  구름많음/안개/천둥번개/비  \n",
       "17              13    -        4.1        72    9.8      2.8         흐림/안개/비  \n",
       "18               6    -        2.6        69    4.9      9.7       구름조금/안개/비  \n",
       "22              35    -        2.4        78    8.2      1.0         흐림/안개/비  \n",
       "28            21.5    -        4.2        78    9.4      0.0    흐림/안개/천둥번개/비  \n",
       "40            11.5    -        1.8        76    9.2      0.2         흐림/안개/비  \n",
       "41            36.5    -        2.2        90    9.8      0.0       흐림/안개/이슬비  \n",
       "42             0.5    -        1.6        80   10.0      0.5         흐림/안개/비  \n",
       "43              50    -        2.5        87    9.2      0.2       흐림/천둥번개/비  \n",
       "44            11.5    -        1.8        80    9.1      2.4            흐림/비  \n",
       "54             4.5    -        2.9        81    9.8      0.0            흐림/비  \n",
       "58               4    -        2.1        68    9.5      0.0            흐림/비  \n",
       "59              19    -        2.7        86    9.6      0.0         흐림/안개/비  \n",
       "60               1    -        2.5        71    5.9      5.6          구름많음/비  \n",
       "68               3    -        2.2        83   10.0      0.0            흐림/비  \n",
       "71             6.5    -        4.8        59    4.2      9.8          구름조금/비  \n",
       "75             3.5    -        2.7        79    6.5      0.0          구름많음/비  \n",
       "89             0.5    -        2.6        72    6.5      2.0       구름많음/안개/비  \n",
       "93             7.5    -        1.7        79    7.2      0.0       구름많음/안개/비  \n",
       "97               1    -        2.2        76    9.1      0.0         흐림/안개/비  \n",
       "98             0.1    -        3.9        55    1.8      9.4            맑음/비  \n",
       "100            5.5    -        2.4        59    9.6      0.4            흐림/비  \n",
       "105              1    -        2.0        54    8.9      0.9            흐림/비  \n",
       "106              2    -        1.7        78    5.2      3.5       구름많음/안개/비  \n",
       "107              2    -        2.6        70    5.0      5.6       구름많음/안개/비  \n",
       "115             14    -        3.6        73    7.4      2.2       구름많음/안개/비  \n",
       "116            9.5    -        6.2        67    6.8      0.7          구름많음/비  \n",
       "...            ...  ...        ...       ...    ...      ...             ...  \n",
       "1370           3.4    -        1.5        96    9.4      0.0     흐림/비/안개/이슬비  \n",
       "1375             0    -        1.9        71    8.1      3.1         흐림/비/안개  \n",
       "1378          14.6    -        3.4        68    7.5      1.7          구름많음/비  \n",
       "1379          10.5    -        4.4        80    6.4      6.0          구름많음/비  \n",
       "1386           1.3    -        1.9        96    9.0      0.0     흐림/비/안개/이슬비  \n",
       "1397           1.1    -        1.8        80    7.4      4.1       구름많음/비/안개  \n",
       "1403           0.3    -        1.6        59    8.5      0.5            흐림/비  \n",
       "1409           0.2    -        2.4        68    7.1      3.0       구름많음/비/안개  \n",
       "1410           0.3    -        2.5        67    5.8     11.8   구름많음/비/안개/이슬비  \n",
       "1411             1    -        2.2        69    7.1      6.5   구름많음/비/소나기/안개  \n",
       "1412           7.4    -        1.8        73    6.8      6.2  구름많음/비/안개/천둥번개  \n",
       "1418           3.8    -        1.3        92    8.2      0.0         흐림/비/안개  \n",
       "1423           1.8    -        2.1        71    9.4      0.5         흐림/비/안개  \n",
       "1424          14.6    -        3.0        79    9.6      0.3            흐림/비  \n",
       "1427             0    -        1.7        69    6.4     11.0          구름많음/비  \n",
       "1428             0    -        1.5        74    8.6      4.2         흐림/비/안개  \n",
       "1436           1.1    -        3.3        78    9.4      0.0            흐림/비  \n",
       "1439           0.2    -        1.8        69    7.0      9.4       구름많음/비/안개  \n",
       "1440          21.1    -        4.4        94   10.0      0.0            흐림/비  \n",
       "1441          16.3    -        3.8        96    9.0      0.6         흐림/비/안개  \n",
       "1446           0.2    -        1.7        70    9.6      0.2         흐림/비/안개  \n",
       "1447           9.7    -        1.4        85    8.6      1.8            흐림/비  \n",
       "1449           0.3    -        1.4        86    9.4      0.3         흐림/비/안개  \n",
       "1451          14.5    -        1.4        90    9.6      1.1         흐림/비/안개  \n",
       "1452          23.8    -        1.2       100   10.0      0.0         흐림/비/안개  \n",
       "1453          56.4    -        2.2        96   10.0      0.0         흐림/비/안개  \n",
       "1454          14.7    -        1.7        83    6.5      9.0       구름많음/비/안개  \n",
       "1455           2.5    -        1.3        92    8.1      2.2         흐림/비/안개  \n",
       "1456             0    -        1.7        82    7.5      7.5     구름많음/안개/이슬비  \n",
       "1457          64.7    -        1.3        93    8.5      0.2    흐림/비/안개/천둥번개  \n",
       "\n",
       "[356 rows x 13 columns]"
      ]
     },
     "execution_count": 131,
     "metadata": {},
     "output_type": "execute_result"
    }
   ],
   "source": [
    "weather[비왔나]"
   ]
  },
  {
   "cell_type": "code",
   "execution_count": 132,
   "metadata": {
    "collapsed": true
   },
   "outputs": [],
   "source": [
    "눈비 = weather['weather'].str.contains('눈|비')"
   ]
  },
  {
   "cell_type": "code",
   "execution_count": 133,
   "metadata": {
    "collapsed": true
   },
   "outputs": [],
   "source": [
    "눈비온날들 = weather[눈비]"
   ]
  },
  {
   "cell_type": "code",
   "execution_count": 134,
   "metadata": {},
   "outputs": [
    {
     "data": {
      "text/plain": [
       "13.955999999999996"
      ]
     },
     "execution_count": 134,
     "metadata": {},
     "output_type": "execute_result"
    }
   ],
   "source": [
    "눈비온날들['avgTemp'].mean()"
   ]
  },
  {
   "cell_type": "code",
   "execution_count": 135,
   "metadata": {
    "collapsed": true
   },
   "outputs": [],
   "source": [
    "data = [1,2,3,4]"
   ]
  },
  {
   "cell_type": "code",
   "execution_count": 136,
   "metadata": {},
   "outputs": [
    {
     "data": {
      "text/plain": [
       "[1, 2, 3, 4]"
      ]
     },
     "execution_count": 136,
     "metadata": {},
     "output_type": "execute_result"
    }
   ],
   "source": [
    "data"
   ]
  },
  {
   "cell_type": "code",
   "execution_count": 137,
   "metadata": {},
   "outputs": [
    {
     "data": {
      "text/plain": [
       "0    1\n",
       "1    2\n",
       "2    3\n",
       "3    4\n",
       "dtype: int64"
      ]
     },
     "execution_count": 137,
     "metadata": {},
     "output_type": "execute_result"
    }
   ],
   "source": [
    "pd.Series(data)"
   ]
  },
  {
   "cell_type": "code",
   "execution_count": 138,
   "metadata": {},
   "outputs": [
    {
     "data": {
      "text/plain": [
       "a    1\n",
       "b    2\n",
       "c    3\n",
       "d    4\n",
       "dtype: int64"
      ]
     },
     "execution_count": 138,
     "metadata": {},
     "output_type": "execute_result"
    }
   ],
   "source": [
    "pd.Series(data, index=list('abcd'))"
   ]
  },
  {
   "cell_type": "code",
   "execution_count": 139,
   "metadata": {
    "collapsed": true
   },
   "outputs": [],
   "source": [
    "import nltk"
   ]
  },
  {
   "cell_type": "code",
   "execution_count": 140,
   "metadata": {},
   "outputs": [
    {
     "name": "stdout",
     "output_type": "stream",
     "text": [
      "*** Introductory Examples for the NLTK Book ***\n",
      "Loading text1, ..., text9 and sent1, ..., sent9\n",
      "Type the name of the text or sentence to view it.\n",
      "Type: 'texts()' or 'sents()' to list the materials.\n",
      "text1: Moby Dick by Herman Melville 1851\n",
      "text2: Sense and Sensibility by Jane Austen 1811\n",
      "text3: The Book of Genesis\n",
      "text4: Inaugural Address Corpus\n",
      "text5: Chat Corpus\n",
      "text6: Monty Python and the Holy Grail\n",
      "text7: Wall Street Journal\n",
      "text8: Personals Corpus\n",
      "text9: The Man Who Was Thursday by G . K . Chesterton 1908\n"
     ]
    }
   ],
   "source": [
    "import nltk.book as book"
   ]
  },
  {
   "cell_type": "code",
   "execution_count": 141,
   "metadata": {},
   "outputs": [
    {
     "data": {
      "text/plain": [
       "<Text: Moby Dick by Herman Melville 1851>"
      ]
     },
     "execution_count": 141,
     "metadata": {},
     "output_type": "execute_result"
    }
   ],
   "source": [
    "book.text1"
   ]
  },
  {
   "cell_type": "code",
   "execution_count": 142,
   "metadata": {},
   "outputs": [
    {
     "data": {
      "text/plain": [
       "nltk.text.Text"
      ]
     },
     "execution_count": 142,
     "metadata": {},
     "output_type": "execute_result"
    }
   ],
   "source": [
    "type(book.text1)"
   ]
  },
  {
   "cell_type": "code",
   "execution_count": 147,
   "metadata": {},
   "outputs": [],
   "source": [
    "nltk_data = r'C:\\Users\\student\\AppData\\Roaming\\nltk_data\\corpora'"
   ]
  },
  {
   "cell_type": "code",
   "execution_count": 148,
   "metadata": {},
   "outputs": [
    {
     "name": "stdout",
     "output_type": "stream",
     "text": [
      "C:\\Users\\student\\AppData\\Roaming\\nltk_data\\corpora\n"
     ]
    }
   ],
   "source": [
    "print(nltk_data)"
   ]
  },
  {
   "cell_type": "code",
   "execution_count": 149,
   "metadata": {
    "collapsed": true
   },
   "outputs": [],
   "source": [
    "import os"
   ]
  },
  {
   "cell_type": "code",
   "execution_count": 151,
   "metadata": {},
   "outputs": [],
   "source": [
    "경로 = os.path.join(nltk_data, 'gutenberg', 'melville-moby_dick.txt')"
   ]
  },
  {
   "cell_type": "code",
   "execution_count": 153,
   "metadata": {},
   "outputs": [],
   "source": [
    "with open(경로) as file:\n",
    "    content = file.read()"
   ]
  },
  {
   "cell_type": "code",
   "execution_count": 155,
   "metadata": {
    "collapsed": true
   },
   "outputs": [
    {
     "data": {
      "text/plain": [
       "['[Moby Dick by Herman Melville 1851]\\n\\n\\nETYMOLOGY',\n",
       " '\\n\\n(Supplied by a Late Consumptive Usher to a Grammar School)\\n\\nThe pale Usher--threadbare in coat, heart, body, and brain; I see him\\nnow',\n",
       " '  He was ever dusting his old lexicons and grammars, with a queer\\nhandkerchief, mockingly embellished with all the gay flags of all the\\nknown nations of the world',\n",
       " '  He loved to dust his old grammars; it\\nsomehow mildly reminded him of his mortality',\n",
       " '\\n\\n\"While you take in hand to school others, and to teach them by what\\nname a whale-fish is to be called in our tongue leaving out, through\\nignorance, the letter H, which almost alone maketh the signification\\nof the word, you deliver that which is not true',\n",
       " '\" --HACKLUYT\\n\\n\"WHALE',\n",
       " ' ',\n",
       " '',\n",
       " '',\n",
       " ' Sw',\n",
       " ' and Dan',\n",
       " ' HVAL',\n",
       " '  This animal is named from roundness\\nor rolling; for in Dan',\n",
       " ' HVALT is arched or vaulted',\n",
       " '\" --WEBSTER\\'S\\nDICTIONARY\\n\\n\"WHALE',\n",
       " ' ',\n",
       " '',\n",
       " '',\n",
       " ' It is more immediately from the Dut',\n",
       " ' and Ger',\n",
       " ' WALLEN;\\nA',\n",
       " 'S',\n",
       " ' WALW-IAN, to roll, to wallow',\n",
       " '\" --RICHARDSON\\'S DICTIONARY\\n\\nKETOS,               GRE']"
      ]
     },
     "execution_count": 155,
     "metadata": {},
     "output_type": "execute_result"
    }
   ],
   "source": [
    "content[:1000].split('.')"
   ]
  },
  {
   "cell_type": "code",
   "execution_count": 156,
   "metadata": {
    "collapsed": true
   },
   "outputs": [
    {
     "data": {
      "text/plain": [
       "['[',\n",
       " 'Moby',\n",
       " 'Dick',\n",
       " 'by',\n",
       " 'Herman',\n",
       " 'Melville',\n",
       " '1851',\n",
       " ']',\n",
       " 'ETYMOLOGY',\n",
       " '.',\n",
       " '(',\n",
       " 'Supplied',\n",
       " 'by',\n",
       " 'a',\n",
       " 'Late',\n",
       " 'Consumptive',\n",
       " 'Usher',\n",
       " 'to',\n",
       " 'a',\n",
       " 'Grammar',\n",
       " 'School',\n",
       " ')',\n",
       " 'The',\n",
       " 'pale',\n",
       " 'Usher',\n",
       " '--',\n",
       " 'threadbare',\n",
       " 'in',\n",
       " 'coat',\n",
       " ',',\n",
       " 'heart',\n",
       " ',',\n",
       " 'body',\n",
       " ',',\n",
       " 'and',\n",
       " 'brain',\n",
       " ';',\n",
       " 'I',\n",
       " 'see',\n",
       " 'him',\n",
       " 'now',\n",
       " '.',\n",
       " 'He',\n",
       " 'was',\n",
       " 'ever',\n",
       " 'dusting',\n",
       " 'his',\n",
       " 'old',\n",
       " 'lexicons',\n",
       " 'and',\n",
       " 'grammars',\n",
       " ',',\n",
       " 'with',\n",
       " 'a',\n",
       " 'queer',\n",
       " 'handkerchief',\n",
       " ',',\n",
       " 'mockingly',\n",
       " 'embellished',\n",
       " 'with',\n",
       " 'all',\n",
       " 'the',\n",
       " 'gay',\n",
       " 'flags',\n",
       " 'of',\n",
       " 'all',\n",
       " 'the',\n",
       " 'known',\n",
       " 'nations',\n",
       " 'of',\n",
       " 'the',\n",
       " 'world',\n",
       " '.',\n",
       " 'He',\n",
       " 'loved',\n",
       " 'to',\n",
       " 'dust',\n",
       " 'his',\n",
       " 'old',\n",
       " 'grammars',\n",
       " ';',\n",
       " 'it',\n",
       " 'somehow',\n",
       " 'mildly',\n",
       " 'reminded',\n",
       " 'him',\n",
       " 'of',\n",
       " 'his',\n",
       " 'mortality',\n",
       " '.',\n",
       " '\"',\n",
       " 'While',\n",
       " 'you',\n",
       " 'take',\n",
       " 'in',\n",
       " 'hand',\n",
       " 'to',\n",
       " 'school',\n",
       " 'others',\n",
       " ',']"
      ]
     },
     "execution_count": 156,
     "metadata": {},
     "output_type": "execute_result"
    }
   ],
   "source": [
    "book.text1[:100]"
   ]
  },
  {
   "cell_type": "code",
   "execution_count": 157,
   "metadata": {},
   "outputs": [
    {
     "name": "stdout",
     "output_type": "stream",
     "text": [
      "true contemptible christian abundant few part mean careful puzzled\n",
      "mystifying passing curious loving wise doleful gamesome singular\n",
      "delightfully perilous fearless\n"
     ]
    }
   ],
   "source": [
    "book.text1.similar('monstrous')"
   ]
  },
  {
   "cell_type": "code",
   "execution_count": 158,
   "metadata": {},
   "outputs": [
    {
     "data": {
      "text/plain": [
       "<Text: Sense and Sensibility by Jane Austen 1811>"
      ]
     },
     "execution_count": 158,
     "metadata": {},
     "output_type": "execute_result"
    }
   ],
   "source": [
    "book.text2"
   ]
  },
  {
   "cell_type": "code",
   "execution_count": 159,
   "metadata": {},
   "outputs": [
    {
     "name": "stdout",
     "output_type": "stream",
     "text": [
      "very so exceedingly heartily a as good great extremely remarkably\n",
      "sweet vast amazingly\n"
     ]
    }
   ],
   "source": [
    "book.text2.similar('monstrous')"
   ]
  },
  {
   "cell_type": "code",
   "execution_count": 160,
   "metadata": {},
   "outputs": [
    {
     "data": {
      "text/plain": [
       "260819"
      ]
     },
     "execution_count": 160,
     "metadata": {},
     "output_type": "execute_result"
    }
   ],
   "source": [
    "len(book.text1)"
   ]
  },
  {
   "cell_type": "code",
   "execution_count": 161,
   "metadata": {},
   "outputs": [
    {
     "data": {
      "text/plain": [
       "1220066"
      ]
     },
     "execution_count": 161,
     "metadata": {},
     "output_type": "execute_result"
    }
   ],
   "source": [
    "len(content)"
   ]
  },
  {
   "cell_type": "code",
   "execution_count": 163,
   "metadata": {},
   "outputs": [],
   "source": [
    "tokens = pd.Series(token for token in book.text1)"
   ]
  },
  {
   "cell_type": "code",
   "execution_count": 164,
   "metadata": {},
   "outputs": [
    {
     "data": {
      "text/plain": [
       "260819"
      ]
     },
     "execution_count": 164,
     "metadata": {},
     "output_type": "execute_result"
    }
   ],
   "source": [
    "len(tokens)"
   ]
  },
  {
   "cell_type": "code",
   "execution_count": 165,
   "metadata": {
    "collapsed": true
   },
   "outputs": [
    {
     "data": {
      "text/plain": [
       "<bound method IndexOpsMixin.value_counts of 0                   [\n",
       "1                Moby\n",
       "2                Dick\n",
       "3                  by\n",
       "4              Herman\n",
       "5            Melville\n",
       "6                1851\n",
       "7                   ]\n",
       "8           ETYMOLOGY\n",
       "9                   .\n",
       "10                  (\n",
       "11           Supplied\n",
       "12                 by\n",
       "13                  a\n",
       "14               Late\n",
       "15        Consumptive\n",
       "16              Usher\n",
       "17                 to\n",
       "18                  a\n",
       "19            Grammar\n",
       "20             School\n",
       "21                  )\n",
       "22                The\n",
       "23               pale\n",
       "24              Usher\n",
       "25                 --\n",
       "26         threadbare\n",
       "27                 in\n",
       "28               coat\n",
       "29                  ,\n",
       "             ...     \n",
       "260789            and\n",
       "260790         picked\n",
       "260791             me\n",
       "260792             up\n",
       "260793             at\n",
       "260794           last\n",
       "260795              .\n",
       "260796             It\n",
       "260797            was\n",
       "260798            the\n",
       "260799        devious\n",
       "260800              -\n",
       "260801       cruising\n",
       "260802         Rachel\n",
       "260803              ,\n",
       "260804           that\n",
       "260805             in\n",
       "260806            her\n",
       "260807      retracing\n",
       "260808         search\n",
       "260809          after\n",
       "260810            her\n",
       "260811        missing\n",
       "260812       children\n",
       "260813              ,\n",
       "260814           only\n",
       "260815          found\n",
       "260816        another\n",
       "260817         orphan\n",
       "260818              .\n",
       "Length: 260819, dtype: object>"
      ]
     },
     "execution_count": 165,
     "metadata": {},
     "output_type": "execute_result"
    }
   ],
   "source": [
    "tokens.value_counts"
   ]
  },
  {
   "cell_type": "code",
   "execution_count": 194,
   "metadata": {
    "collapsed": true
   },
   "outputs": [],
   "source": [
    "단어유형 = tokens.str.lower().drop_duplicates()"
   ]
  },
  {
   "cell_type": "code",
   "execution_count": 195,
   "metadata": {},
   "outputs": [
    {
     "data": {
      "text/plain": [
       "denizen         1\n",
       "credentials     1\n",
       "caddy           1\n",
       "divided         1\n",
       "flash           1\n",
       "millions        1\n",
       "koo             1\n",
       "pile            1\n",
       "flesh           1\n",
       "frames          1\n",
       "haven           1\n",
       "tombed          1\n",
       "plebeian        1\n",
       "sanctified      1\n",
       "exaggerating    1\n",
       "hecla           1\n",
       "nervousness     1\n",
       "habitude        1\n",
       "twelve          1\n",
       "dipped          1\n",
       "cloud           1\n",
       "deeply          1\n",
       "chattering      1\n",
       "1772            1\n",
       "cuttle          1\n",
       "tigers          1\n",
       "monsoons        1\n",
       "stick           1\n",
       "pier            1\n",
       "wittiness       1\n",
       "               ..\n",
       "budding         1\n",
       ",--             1\n",
       "goat            1\n",
       "hypothesize     1\n",
       "milky           1\n",
       "powerfully      1\n",
       "x               1\n",
       "stagger         1\n",
       "wharton         1\n",
       "rollings        1\n",
       "flowing         1\n",
       "tatters         1\n",
       "things          1\n",
       "maketh          1\n",
       "tricks          1\n",
       "conjuror        1\n",
       "foiled          1\n",
       "bounder         1\n",
       "declining       1\n",
       "concurred       1\n",
       "whereby         1\n",
       "married         1\n",
       "imports         1\n",
       "seasoned        1\n",
       "roast           1\n",
       "indigestion     1\n",
       "sanctity        1\n",
       "complain        1\n",
       "berth           1\n",
       "idolatrous      1\n",
       "Length: 17231, dtype: int64"
      ]
     },
     "execution_count": 195,
     "metadata": {},
     "output_type": "execute_result"
    }
   ],
   "source": [
    "단어유형.value_counts()"
   ]
  },
  {
   "cell_type": "code",
   "execution_count": 196,
   "metadata": {},
   "outputs": [
    {
     "data": {
      "text/plain": [
       "15.136614241773549"
      ]
     },
     "execution_count": 196,
     "metadata": {},
     "output_type": "execute_result"
    }
   ],
   "source": [
    "len(book.text1) / len(단어유형)"
   ]
  },
  {
   "cell_type": "code",
   "execution_count": 197,
   "metadata": {},
   "outputs": [
    {
     "data": {
      "text/plain": [
       "<Text: Sense and Sensibility by Jane Austen 1811>"
      ]
     },
     "execution_count": 197,
     "metadata": {},
     "output_type": "execute_result"
    }
   ],
   "source": [
    "book.text2"
   ]
  },
  {
   "cell_type": "code",
   "execution_count": 198,
   "metadata": {},
   "outputs": [
    {
     "data": {
      "text/plain": [
       "<Text: The Book of Genesis>"
      ]
     },
     "execution_count": 198,
     "metadata": {},
     "output_type": "execute_result"
    }
   ],
   "source": [
    "book.text3"
   ]
  },
  {
   "cell_type": "code",
   "execution_count": 205,
   "metadata": {
    "collapsed": true
   },
   "outputs": [],
   "source": [
    "def 어휘평균빈도산출(tokens):\n",
    "    tokens = pd.Series( t for t in tokens)\n",
    "    vocab = tokens.str.lower().drop_duplicates()\n",
    "    return len(tokens)/len(vocab)"
   ]
  },
  {
   "cell_type": "code",
   "execution_count": 206,
   "metadata": {},
   "outputs": [
    {
     "data": {
      "text/plain": [
       "22.11088552241137"
      ]
     },
     "execution_count": 206,
     "metadata": {},
     "output_type": "execute_result"
    }
   ],
   "source": [
    "어휘평균빈도산출(book.text2)"
   ]
  },
  {
   "cell_type": "code",
   "execution_count": 207,
   "metadata": {},
   "outputs": [
    {
     "data": {
      "text/plain": [
       "17.033485540334855"
      ]
     },
     "execution_count": 207,
     "metadata": {},
     "output_type": "execute_result"
    }
   ],
   "source": [
    "어휘평균빈도산출(book.text3)"
   ]
  },
  {
   "cell_type": "code",
   "execution_count": 208,
   "metadata": {
    "collapsed": true
   },
   "outputs": [],
   "source": [
    "어휘평균빈도사전 = {}\n",
    "\n",
    "for text in [book.text1, book.text2, book.text3, book.text4,\n",
    "             book.text5, book.text6, book.text7, book.text8]:\n",
    "    평균빈도 = 어휘평균빈도산출(text)\n",
    "    어휘평균빈도사전[text.name] = 평균빈도"
   ]
  },
  {
   "cell_type": "code",
   "execution_count": 210,
   "metadata": {},
   "outputs": [],
   "source": [
    "평균빈도_시리즈 = pd.Series(어휘평균빈도사전)"
   ]
  },
  {
   "cell_type": "code",
   "execution_count": 211,
   "metadata": {
    "collapsed": true
   },
   "outputs": [],
   "source": [
    "평균빈도_시리즈 = 평균빈도_시리즈.sort_values()"
   ]
  },
  {
   "cell_type": "markdown",
   "metadata": {},
   "source": [
    "'매직 설정'"
   ]
  },
  {
   "cell_type": "code",
   "execution_count": 212,
   "metadata": {
    "collapsed": true
   },
   "outputs": [],
   "source": [
    "%matplotlib inline"
   ]
  },
  {
   "cell_type": "markdown",
   "metadata": {},
   "source": [
    "'Series.plot() 기능을 활용함. 내부적으로 metplotlib 사용함'"
   ]
  },
  {
   "cell_type": "code",
   "execution_count": 213,
   "metadata": {},
   "outputs": [
    {
     "data": {
      "text/plain": [
       "<matplotlib.axes._subplots.AxesSubplot at 0x1d5bbac8>"
      ]
     },
     "execution_count": 213,
     "metadata": {},
     "output_type": "execute_result"
    },
    {
     "data": {
      "image/png": "[encoded data removed]",
      "text/plain": [
       "<matplotlib.figure.Figure at 0x1c7f4ba8>"
      ]
     },
     "metadata": {},
     "output_type": "display_data"
    }
   ],
   "source": [
    "평균빈도_시리즈.plot(kind='barh')"
   ]
  },
  {
   "cell_type": "code",
   "execution_count": 215,
   "metadata": {},
   "outputs": [
    {
     "data": {
      "text/plain": [
       "<Text: Chat Corpus>"
      ]
     },
     "execution_count": 215,
     "metadata": {},
     "output_type": "execute_result"
    }
   ],
   "source": [
    "book.text5"
   ]
  },
  {
   "cell_type": "code",
   "execution_count": 216,
   "metadata": {},
   "outputs": [
    {
     "data": {
      "text/plain": [
       "['now',\n",
       " 'im',\n",
       " 'left',\n",
       " 'with',\n",
       " 'this',\n",
       " 'gay',\n",
       " 'name',\n",
       " ':P',\n",
       " 'PART',\n",
       " 'hey',\n",
       " 'everyone',\n",
       " 'ah',\n",
       " 'well',\n",
       " 'NICK',\n",
       " ':',\n",
       " 'U7',\n",
       " 'U7',\n",
       " 'is',\n",
       " 'a',\n",
       " 'gay',\n",
       " 'name',\n",
       " '.',\n",
       " '.',\n",
       " 'ACTION',\n",
       " 'gives',\n",
       " 'U121',\n",
       " 'a',\n",
       " 'golf',\n",
       " 'clap',\n",
       " '.',\n",
       " ':)',\n",
       " 'JOIN',\n",
       " 'hi',\n",
       " 'U59',\n",
       " '26',\n",
       " '/',\n",
       " 'm',\n",
       " '/',\n",
       " 'ky',\n",
       " 'women',\n",
       " 'that',\n",
       " 'are',\n",
       " 'nice',\n",
       " 'please',\n",
       " 'pm',\n",
       " 'me',\n",
       " 'JOIN',\n",
       " 'PART',\n",
       " 'there',\n",
       " 'ya',\n",
       " 'go',\n",
       " 'U7',\n",
       " 'do',\n",
       " \"n't\",\n",
       " 'golf',\n",
       " 'clap',\n",
       " 'me',\n",
       " '.',\n",
       " 'fuck',\n",
       " 'you',\n",
       " 'U121',\n",
       " ':@',\n",
       " 'whats',\n",
       " 'everyone',\n",
       " 'up',\n",
       " 'to',\n",
       " '?',\n",
       " 'PART',\n",
       " 'PART',\n",
       " 'i',\n",
       " \"'ll\",\n",
       " 'thunder',\n",
       " 'clap',\n",
       " 'your',\n",
       " 'ass',\n",
       " '.',\n",
       " 'PART',\n",
       " 'and',\n",
       " 'i',\n",
       " 'dont',\n",
       " 'even',\n",
       " 'know',\n",
       " 'what',\n",
       " 'that',\n",
       " 'means',\n",
       " '.',\n",
       " 'that',\n",
       " 'sounds',\n",
       " 'painful',\n",
       " 'any',\n",
       " 'ladis',\n",
       " 'wanna',\n",
       " 'chat',\n",
       " '?',\n",
       " '29',\n",
       " 'm',\n",
       " '26',\n",
       " '/',\n",
       " 'm',\n",
       " 'JOIN']"
      ]
     },
     "execution_count": 216,
     "metadata": {},
     "output_type": "execute_result"
    }
   ],
   "source": [
    "book.text5[:100]"
   ]
  },
  {
   "cell_type": "code",
   "execution_count": 219,
   "metadata": {
    "collapsed": true
   },
   "outputs": [],
   "source": [
    "tokens5 = pd.Series(t for t in book.text5)"
   ]
  },
  {
   "cell_type": "code",
   "execution_count": 222,
   "metadata": {
    "collapsed": true
   },
   "outputs": [
    {
     "data": {
      "text/plain": [
       "528                                       iamahotniplickme\n",
       "592                                       !!!!!!!!!!!!!!!!\n",
       "609                                     iamahotnipwithpics\n",
       "689                               iamahotnipwithhotnippics\n",
       "2786                                  --------------------\n",
       "2900                        ..............................\n",
       "3063                                      !!!!!!!!!!!!!!!!\n",
       "3385                         mikeeeeeeeeeeeeeeeeeeeeeeeeee\n",
       "3816     oooooooooooooonnnnnnnnnnnneeeeeeeeeeeeeeesssss...\n",
       "5517                                   WEEEEEEEEEEEEEEEEEE\n",
       "5518                               !!!!!!!!!!!!!!!!!!!!!!!\n",
       "5784                                niteeeeeeeeeeeeeeeeeee\n",
       "8922                                      #talkcity_adults\n",
       "8943           http://forums.talkcity.com/tc-adults/start \n",
       "8951                                      #talkcity_adults\n",
       "8965                             http://www.shadowbots.com\n",
       "10271                                (((((((((((((((((((((\n",
       "10274                                )))))))))))))))))))))\n",
       "10301               huuuuuuuuuuuuuuuuuuuuuuuuuuuuuuuuuuugZ\n",
       "10351                                      )))))))))))))))\n",
       "10415                      wooooooooooooohoooooooooooooooo\n",
       "10500                                 www.Wunderground.com\n",
       "10634    //www.wunderground.com/cgi-bin/findweather/get...\n",
       "10657                                 www.Wunderground.com\n",
       "10900                                 www.Wunderground.com\n",
       "11397                                     #talkcity_adults\n",
       "11673                                      whoaaaaaaaaaaaa\n",
       "12971                                 ((((((((((((((((((((\n",
       "12973                                  )))))))))))))))))))\n",
       "12996                                   ((((((((((((((((((\n",
       "                               ...                        \n",
       "31779                                    eeeeeeeeewwwwwwww\n",
       "31844                              .(..(.vMp3 vi.p.t.)..).\n",
       "32068                              .(..(.vMp3 vi.p.t.)..).\n",
       "32159                 cooooooooookiiiiiiiiiiiieeeeeeeeeeee\n",
       "32160                            yuuuuuuuuuuuummmmmmmmmmmm\n",
       "32600                                    aaaaaaaaaaaaaaaaa\n",
       "32618                       raaaaaaaaaaaaaaaaaaaaaaaaaaaaa\n",
       "32621                                    weeeeeeeeeeeeeeee\n",
       "32625                                oooooooooooglyyyyyyyy\n",
       "32626                                 boooooooooooglyyyyyy\n",
       "34532    HHEEYYYYYYYYYYYYYYYYYYYYYYYYYYYYYYYYYYYYYYYYYY...\n",
       "34907    llloooozzzzeeerrrrzzzzzzzzzzzzzzzzzzzzzzzzzzzz...\n",
       "36132                         !!!!!!!!!!!!!!!!!!!!!!!!!!!!\n",
       "36212                                     ................\n",
       "36218                             ........................\n",
       "36220                               !!!!!!!!!!!!!!!!!!!!!!\n",
       "36605                               !!!!!!!!!!!!!!!!!!!!!!\n",
       "38023                                      byeeeeeeeeeeeee\n",
       "39271                                      peace-and-quiet\n",
       "39433                                     #talkcity_adults\n",
       "39454          http://forums.talkcity.com/tc-adults/start \n",
       "39484                                     #talkcity_adults\n",
       "39502                            http://www.shadowbots.com\n",
       "42242                         Mooooooooooooooooooooooooooo\n",
       "42732                 wheeeeeeeeeeeeeeeeeeeeeeeeeeeeeeeeee\n",
       "43281                                bbbbbyyyyyyyeeeeeeeee\n",
       "44324    !!!!!!!!!!!!!!!!!!!!!!!!!!!!!!!!!!!!!!!!!!!!!!...\n",
       "44367                                     HolocaustYourMom\n",
       "44942                                     Bloooooooooooood\n",
       "44952                     BAAAAALLLLLLLLIIIIIIINNNNNNNNNNN\n",
       "Length: 133, dtype: object"
      ]
     },
     "execution_count": 222,
     "metadata": {},
     "output_type": "execute_result"
    }
   ],
   "source": [
    "tokens5[tokens5.str.len() > 14]"
   ]
  },
  {
   "cell_type": "code",
   "execution_count": 223,
   "metadata": {
    "collapsed": true
   },
   "outputs": [],
   "source": [
    "sample = 'mikeeeeeeeeeeeeeeeeee!!!!!!!!!!!!!!!!!!!!!!!'"
   ]
  },
  {
   "cell_type": "code",
   "execution_count": 227,
   "metadata": {},
   "outputs": [],
   "source": [
    "def 전처리(token):\n",
    "    return ''.join(pd.Series(글자 for 글자 in token).drop_duplicates())"
   ]
  },
  {
   "cell_type": "code",
   "execution_count": 228,
   "metadata": {},
   "outputs": [
    {
     "data": {
      "text/plain": [
       "'mike!'"
      ]
     },
     "execution_count": 228,
     "metadata": {},
     "output_type": "execute_result"
    }
   ],
   "source": [
    "전처리(sample)"
   ]
  },
  {
   "cell_type": "code",
   "execution_count": 229,
   "metadata": {},
   "outputs": [
    {
     "data": {
      "text/plain": [
       "0           now\n",
       "1            im\n",
       "2          left\n",
       "3          with\n",
       "4          this\n",
       "5           gay\n",
       "6          name\n",
       "7            :P\n",
       "8          PART\n",
       "9           hey\n",
       "10       evryon\n",
       "11           ah\n",
       "12          wel\n",
       "13         NICK\n",
       "14            :\n",
       "15           U7\n",
       "16           U7\n",
       "17           is\n",
       "18            a\n",
       "19          gay\n",
       "20         name\n",
       "21            .\n",
       "22            .\n",
       "23       ACTION\n",
       "24        gives\n",
       "25          U12\n",
       "26            a\n",
       "27         golf\n",
       "28         clap\n",
       "29            .\n",
       "          ...  \n",
       "44980       U34\n",
       "44981       Wer\n",
       "44982       you\n",
       "44983        on\n",
       "44984       one\n",
       "44985        of\n",
       "44986       the\n",
       "44987     nicks\n",
       "44988         i\n",
       "44989     kiced\n",
       "44990       out\n",
       "44991       U34\n",
       "44992         ?\n",
       "44993        lo\n",
       "44994        hi\n",
       "44995        U3\n",
       "44996      JOIN\n",
       "44997        Hi\n",
       "44998         ,\n",
       "44999      U197\n",
       "45000         .\n",
       "45001       Not\n",
       "45002       tha\n",
       "45003         I\n",
       "45004      know\n",
       "45005        of\n",
       "45006         ,\n",
       "45007       U98\n",
       "45008        Uh\n",
       "45009         .\n",
       "Length: 45010, dtype: object"
      ]
     },
     "execution_count": 229,
     "metadata": {},
     "output_type": "execute_result"
    }
   ],
   "source": [
    "tokens5.map(전처리)"
   ]
  },
  {
   "cell_type": "code",
   "execution_count": 230,
   "metadata": {},
   "outputs": [
    {
     "data": {
      "text/plain": [
       "'helo'"
      ]
     },
     "execution_count": 230,
     "metadata": {},
     "output_type": "execute_result"
    }
   ],
   "source": [
    "전처리('hello')"
   ]
  },
  {
   "cell_type": "code",
   "execution_count": null,
   "metadata": {
    "collapsed": true
   },
   "outputs": [],
   "source": []
  }
 ],
 "metadata": {
  "kernelspec": {
   "display_name": "Python 3",
   "language": "python",
   "name": "python3"
  },
  "language_info": {
   "codemirror_mode": {
    "name": "ipython",
    "version": 3
   },
   "file_extension": ".py",
   "mimetype": "text/x-python",
   "name": "python",
   "nbconvert_exporter": "python",
   "pygments_lexer": "ipython3",
   "version": "3.6.1"
  }
 },
 "nbformat": 4,
 "nbformat_minor": 2
}
