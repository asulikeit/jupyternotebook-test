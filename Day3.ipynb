{
 "cells": [
  {
   "cell_type": "code",
   "execution_count": 2,
   "metadata": {
    "collapsed": true
   },
   "outputs": [],
   "source": [
    "from pandas import Series, DataFrame\n",
    "import pandas as pd\n",
    "import nltk\n",
    "import pyko\n",
    "\n",
    "%matplotlib inline"
   ]
  },
  {
   "cell_type": "code",
   "execution_count": 3,
   "metadata": {
    "collapsed": true
   },
   "outputs": [],
   "source": [
    "from nltk.corpus import wordnet"
   ]
  },
  {
   "cell_type": "code",
   "execution_count": 4,
   "metadata": {},
   "outputs": [
    {
     "data": {
      "text/plain": [
       "[Synset('car.n.01')]"
      ]
     },
     "execution_count": 4,
     "metadata": {},
     "output_type": "execute_result"
    }
   ],
   "source": [
    "wordnet.synsets('motorcar')"
   ]
  },
  {
   "cell_type": "code",
   "execution_count": 5,
   "metadata": {
    "collapsed": true
   },
   "outputs": [],
   "source": [
    "synset = wordnet.synset('car.n.01')"
   ]
  },
  {
   "cell_type": "code",
   "execution_count": 6,
   "metadata": {},
   "outputs": [
    {
     "data": {
      "text/plain": [
       "'a motor vehicle with four wheels; usually propelled by an internal combustion engine'"
      ]
     },
     "execution_count": 6,
     "metadata": {},
     "output_type": "execute_result"
    }
   ],
   "source": [
    "synset.definition()"
   ]
  },
  {
   "cell_type": "code",
   "execution_count": 7,
   "metadata": {},
   "outputs": [
    {
     "data": {
      "text/plain": [
       "['he needs a car to get to work']"
      ]
     },
     "execution_count": 7,
     "metadata": {},
     "output_type": "execute_result"
    }
   ],
   "source": [
    "synset.examples()"
   ]
  },
  {
   "cell_type": "code",
   "execution_count": 8,
   "metadata": {},
   "outputs": [
    {
     "data": {
      "text/plain": [
       "[Lemma('car.n.01.car'),\n",
       " Lemma('car.n.01.auto'),\n",
       " Lemma('car.n.01.automobile'),\n",
       " Lemma('car.n.01.machine'),\n",
       " Lemma('car.n.01.motorcar')]"
      ]
     },
     "execution_count": 8,
     "metadata": {},
     "output_type": "execute_result"
    }
   ],
   "source": [
    "synset.lemmas()"
   ]
  },
  {
   "cell_type": "code",
   "execution_count": 9,
   "metadata": {},
   "outputs": [
    {
     "data": {
      "text/plain": [
       "[Synset('car.n.01'),\n",
       " Synset('car.n.02'),\n",
       " Synset('car.n.03'),\n",
       " Synset('car.n.04'),\n",
       " Synset('cable_car.n.01')]"
      ]
     },
     "execution_count": 9,
     "metadata": {},
     "output_type": "execute_result"
    }
   ],
   "source": [
    "wordnet.synsets('car')"
   ]
  },
  {
   "cell_type": "code",
   "execution_count": 10,
   "metadata": {},
   "outputs": [
    {
     "data": {
      "text/plain": [
       "'a wheeled vehicle adapted to the rails of railroad'"
      ]
     },
     "execution_count": 10,
     "metadata": {},
     "output_type": "execute_result"
    }
   ],
   "source": [
    "wordnet.synset('car.n.02').definition()"
   ]
  },
  {
   "cell_type": "code",
   "execution_count": 11,
   "metadata": {
    "collapsed": true
   },
   "outputs": [],
   "source": [
    "motorcar = wordnet.synset('car.n.01')"
   ]
  },
  {
   "cell_type": "code",
   "execution_count": 12,
   "metadata": {
    "collapsed": true
   },
   "outputs": [
    {
     "data": {
      "text/plain": [
       "[Synset('ambulance.n.01'),\n",
       " Synset('beach_wagon.n.01'),\n",
       " Synset('bus.n.04'),\n",
       " Synset('cab.n.03'),\n",
       " Synset('compact.n.03'),\n",
       " Synset('convertible.n.01'),\n",
       " Synset('coupe.n.01'),\n",
       " Synset('cruiser.n.01'),\n",
       " Synset('electric.n.01'),\n",
       " Synset('gas_guzzler.n.01'),\n",
       " Synset('hardtop.n.01'),\n",
       " Synset('hatchback.n.01'),\n",
       " Synset('horseless_carriage.n.01'),\n",
       " Synset('hot_rod.n.01'),\n",
       " Synset('jeep.n.01'),\n",
       " Synset('limousine.n.01'),\n",
       " Synset('loaner.n.02'),\n",
       " Synset('minicar.n.01'),\n",
       " Synset('minivan.n.01'),\n",
       " Synset('model_t.n.01'),\n",
       " Synset('pace_car.n.01'),\n",
       " Synset('racer.n.02'),\n",
       " Synset('roadster.n.01'),\n",
       " Synset('sedan.n.01'),\n",
       " Synset('sport_utility.n.01'),\n",
       " Synset('sports_car.n.01'),\n",
       " Synset('stanley_steamer.n.01'),\n",
       " Synset('stock_car.n.01'),\n",
       " Synset('subcompact.n.01'),\n",
       " Synset('touring_car.n.01'),\n",
       " Synset('used-car.n.01')]"
      ]
     },
     "execution_count": 12,
     "metadata": {},
     "output_type": "execute_result"
    }
   ],
   "source": [
    "motorcar.hyponyms()"
   ]
  },
  {
   "cell_type": "code",
   "execution_count": 13,
   "metadata": {},
   "outputs": [
    {
     "data": {
      "text/plain": [
       "[Synset('motor_vehicle.n.01')]"
      ]
     },
     "execution_count": 13,
     "metadata": {},
     "output_type": "execute_result"
    }
   ],
   "source": [
    "motorcar.hypernyms()"
   ]
  },
  {
   "cell_type": "code",
   "execution_count": 14,
   "metadata": {
    "collapsed": true
   },
   "outputs": [
    {
     "data": {
      "text/plain": [
       "[[Synset('entity.n.01'),\n",
       "  Synset('physical_entity.n.01'),\n",
       "  Synset('object.n.01'),\n",
       "  Synset('whole.n.02'),\n",
       "  Synset('artifact.n.01'),\n",
       "  Synset('instrumentality.n.03'),\n",
       "  Synset('container.n.01'),\n",
       "  Synset('wheeled_vehicle.n.01'),\n",
       "  Synset('self-propelled_vehicle.n.01'),\n",
       "  Synset('motor_vehicle.n.01'),\n",
       "  Synset('car.n.01')],\n",
       " [Synset('entity.n.01'),\n",
       "  Synset('physical_entity.n.01'),\n",
       "  Synset('object.n.01'),\n",
       "  Synset('whole.n.02'),\n",
       "  Synset('artifact.n.01'),\n",
       "  Synset('instrumentality.n.03'),\n",
       "  Synset('conveyance.n.03'),\n",
       "  Synset('vehicle.n.01'),\n",
       "  Synset('wheeled_vehicle.n.01'),\n",
       "  Synset('self-propelled_vehicle.n.01'),\n",
       "  Synset('motor_vehicle.n.01'),\n",
       "  Synset('car.n.01')]]"
      ]
     },
     "execution_count": 14,
     "metadata": {},
     "output_type": "execute_result"
    }
   ],
   "source": [
    "motorcar.hypernym_paths()"
   ]
  },
  {
   "cell_type": "code",
   "execution_count": 15,
   "metadata": {
    "collapsed": true
   },
   "outputs": [],
   "source": [
    "tree = wordnet.synset('tree.n.01')"
   ]
  },
  {
   "cell_type": "code",
   "execution_count": 16,
   "metadata": {},
   "outputs": [
    {
     "data": {
      "text/plain": [
       "'a tall perennial woody plant having a main trunk and branches forming a distinct elevated crown; includes both gymnosperms and angiosperms'"
      ]
     },
     "execution_count": 16,
     "metadata": {},
     "output_type": "execute_result"
    }
   ],
   "source": [
    "tree.definition()"
   ]
  },
  {
   "cell_type": "code",
   "execution_count": 17,
   "metadata": {},
   "outputs": [
    {
     "data": {
      "text/plain": [
       "[Synset('burl.n.02'),\n",
       " Synset('crown.n.07'),\n",
       " Synset('limb.n.02'),\n",
       " Synset('stump.n.01'),\n",
       " Synset('trunk.n.01')]"
      ]
     },
     "execution_count": 17,
     "metadata": {},
     "output_type": "execute_result"
    }
   ],
   "source": [
    "tree.part_meronyms()"
   ]
  },
  {
   "cell_type": "code",
   "execution_count": 18,
   "metadata": {},
   "outputs": [
    {
     "data": {
      "text/plain": [
       "[Synset('forest.n.01')]"
      ]
     },
     "execution_count": 18,
     "metadata": {},
     "output_type": "execute_result"
    }
   ],
   "source": [
    "tree.member_holonyms()"
   ]
  },
  {
   "cell_type": "code",
   "execution_count": 19,
   "metadata": {},
   "outputs": [
    {
     "data": {
      "text/plain": [
       "[Synset('dog.n.01'),\n",
       " Synset('frump.n.01'),\n",
       " Synset('dog.n.03'),\n",
       " Synset('cad.n.01'),\n",
       " Synset('frank.n.02'),\n",
       " Synset('pawl.n.01'),\n",
       " Synset('andiron.n.01')]"
      ]
     },
     "execution_count": 19,
     "metadata": {},
     "output_type": "execute_result"
    }
   ],
   "source": [
    "wordnet.synsets('dog', wordnet.NOUN)"
   ]
  },
  {
   "cell_type": "code",
   "execution_count": 22,
   "metadata": {},
   "outputs": [
    {
     "data": {
      "text/plain": [
       "[Lemma('demand.n.02.demand')]"
      ]
     },
     "execution_count": 22,
     "metadata": {},
     "output_type": "execute_result"
    }
   ],
   "source": [
    "wordnet.lemma('supply.n.02.supply').antonyms()"
   ]
  },
  {
   "cell_type": "code",
   "execution_count": 23,
   "metadata": {},
   "outputs": [
    {
     "data": {
      "text/plain": [
       "'a member of the genus Canis (probably descended from the common wolf) that has been domesticated by man since prehistoric times; occurs in many breeds'"
      ]
     },
     "execution_count": 23,
     "metadata": {},
     "output_type": "execute_result"
    }
   ],
   "source": [
    "강아지 = wordnet.synset('dog.n.01')\n",
    "강아지.definition()"
   ]
  },
  {
   "cell_type": "code",
   "execution_count": 26,
   "metadata": {},
   "outputs": [],
   "source": [
    "고양이 = wordnet.synset('cat.n.01')"
   ]
  },
  {
   "cell_type": "code",
   "execution_count": 35,
   "metadata": {},
   "outputs": [],
   "source": [
    "사자 = wordnet.synset('lion.n.01')"
   ]
  },
  {
   "cell_type": "code",
   "execution_count": 27,
   "metadata": {},
   "outputs": [
    {
     "data": {
      "text/plain": [
       "[Synset('homo.n.02'),\n",
       " Synset('human.a.01'),\n",
       " Synset('human.a.02'),\n",
       " Synset('human.a.03')]"
      ]
     },
     "execution_count": 27,
     "metadata": {},
     "output_type": "execute_result"
    }
   ],
   "source": [
    "wordnet.synsets('human')"
   ]
  },
  {
   "cell_type": "code",
   "execution_count": 32,
   "metadata": {},
   "outputs": [],
   "source": [
    "인간 = wordnet.synset('homo.n.02')"
   ]
  },
  {
   "cell_type": "code",
   "execution_count": 36,
   "metadata": {},
   "outputs": [
    {
     "data": {
      "text/plain": [
       "[Synset('placental.n.01')]"
      ]
     },
     "execution_count": 36,
     "metadata": {},
     "output_type": "execute_result"
    }
   ],
   "source": [
    "강아지.lowest_common_hypernyms(인간)"
   ]
  },
  {
   "cell_type": "code",
   "execution_count": 37,
   "metadata": {},
   "outputs": [
    {
     "data": {
      "text/plain": [
       "[Synset('carnivore.n.01')]"
      ]
     },
     "execution_count": 37,
     "metadata": {},
     "output_type": "execute_result"
    }
   ],
   "source": [
    "강아지.lowest_common_hypernyms(고양이)"
   ]
  },
  {
   "cell_type": "code",
   "execution_count": 38,
   "metadata": {},
   "outputs": [
    {
     "data": {
      "text/plain": [
       "[Synset('feline.n.01')]"
      ]
     },
     "execution_count": 38,
     "metadata": {},
     "output_type": "execute_result"
    }
   ],
   "source": [
    "고양이.lowest_common_hypernyms(사자)"
   ]
  },
  {
   "cell_type": "code",
   "execution_count": 39,
   "metadata": {},
   "outputs": [
    {
     "data": {
      "text/plain": [
       "13"
      ]
     },
     "execution_count": 39,
     "metadata": {},
     "output_type": "execute_result"
    }
   ],
   "source": [
    "인간.min_depth()"
   ]
  },
  {
   "cell_type": "code",
   "execution_count": 40,
   "metadata": {},
   "outputs": [
    {
     "data": {
      "text/plain": [
       "8"
      ]
     },
     "execution_count": 40,
     "metadata": {},
     "output_type": "execute_result"
    }
   ],
   "source": [
    "강아지.min_depth()"
   ]
  },
  {
   "cell_type": "code",
   "execution_count": 41,
   "metadata": {},
   "outputs": [
    {
     "data": {
      "text/plain": [
       "0.14285714285714285"
      ]
     },
     "execution_count": 41,
     "metadata": {},
     "output_type": "execute_result"
    }
   ],
   "source": [
    "인간.path_similarity(강아지)"
   ]
  },
  {
   "cell_type": "code",
   "execution_count": 42,
   "metadata": {},
   "outputs": [
    {
     "data": {
      "text/plain": [
       "0.14285714285714285"
      ]
     },
     "execution_count": 42,
     "metadata": {},
     "output_type": "execute_result"
    }
   ],
   "source": [
    "인간.path_similarity(고양이)"
   ]
  },
  {
   "cell_type": "code",
   "execution_count": 43,
   "metadata": {},
   "outputs": [
    {
     "data": {
      "text/plain": [
       "0.125"
      ]
     },
     "execution_count": 43,
     "metadata": {},
     "output_type": "execute_result"
    }
   ],
   "source": [
    "인간.path_similarity(사자)"
   ]
  },
  {
   "cell_type": "markdown",
   "metadata": {},
   "source": [
    "# 정규표현식"
   ]
  },
  {
   "cell_type": "code",
   "execution_count": 45,
   "metadata": {
    "collapsed": true
   },
   "outputs": [],
   "source": [
    "text = \"\"\"연락주세요 010-1234-5678. 혹시 안 되면, \n",
    "010.2345.7890으로 부탁드립니다.\"\"\""
   ]
  },
  {
   "cell_type": "code",
   "execution_count": 44,
   "metadata": {
    "collapsed": true
   },
   "outputs": [],
   "source": [
    "import re"
   ]
  },
  {
   "cell_type": "code",
   "execution_count": 48,
   "metadata": {
    "collapsed": true
   },
   "outputs": [],
   "source": [
    "전화번호패턴 = r'\\d{3}[.-]\\d{4}[.-]\\d{4}'"
   ]
  },
  {
   "cell_type": "code",
   "execution_count": 49,
   "metadata": {},
   "outputs": [
    {
     "data": {
      "text/plain": [
       "['010-1234-5678', '010.2345.7890']"
      ]
     },
     "execution_count": 49,
     "metadata": {},
     "output_type": "execute_result"
    }
   ],
   "source": [
    "re.findall(전화번호패턴, text)"
   ]
  },
  {
   "cell_type": "code",
   "execution_count": 50,
   "metadata": {
    "collapsed": true
   },
   "outputs": [],
   "source": [
    "from nltk.corpus import words as 단어사전"
   ]
  },
  {
   "cell_type": "code",
   "execution_count": 51,
   "metadata": {
    "collapsed": true
   },
   "outputs": [],
   "source": [
    "영단어목록 = 단어사전.words('en')"
   ]
  },
  {
   "cell_type": "code",
   "execution_count": 53,
   "metadata": {
    "collapsed": true
   },
   "outputs": [],
   "source": [
    "영단어목록 = Series(t for t in 영단어목록)"
   ]
  },
  {
   "cell_type": "code",
   "execution_count": 54,
   "metadata": {
    "scrolled": true
   },
   "outputs": [
    {
     "data": {
      "text/plain": [
       "0        A\n",
       "1        a\n",
       "2       aa\n",
       "3      aal\n",
       "4    aalii\n",
       "dtype: object"
      ]
     },
     "execution_count": 54,
     "metadata": {},
     "output_type": "execute_result"
    }
   ],
   "source": [
    "영단어목록[:5]"
   ]
  },
  {
   "cell_type": "code",
   "execution_count": 56,
   "metadata": {
    "collapsed": true
   },
   "outputs": [],
   "source": [
    "패턴선택 = lambda 패턴: 영단어목록[영단어목록.str.contains(패턴)]"
   ]
  },
  {
   "cell_type": "code",
   "execution_count": 57,
   "metadata": {},
   "outputs": [
    {
     "data": {
      "text/plain": [
       "211647        unbeaued\n",
       "224795        unwailed\n",
       "186601      spiculated\n",
       "211326      unarticled\n",
       "218226    uninfuriated\n",
       "12263      aralkylated\n",
       "109978          magged\n",
       "30437           carded\n",
       "212767      uncolleged\n",
       "219662       unmounted\n",
       "dtype: object"
      ]
     },
     "execution_count": 57,
     "metadata": {},
     "output_type": "execute_result"
    }
   ],
   "source": [
    "패턴선택('ed$').sample(10)"
   ]
  },
  {
   "cell_type": "markdown",
   "metadata": {},
   "source": [
    "\"여덝 글자이면서, 세 번째 글자가 j, 여섯 번째 글자가 t인 경우\""
   ]
  },
  {
   "cell_type": "code",
   "execution_count": 63,
   "metadata": {
    "collapsed": true
   },
   "outputs": [
    {
     "data": {
      "text/plain": [
       "2620      adjuster\n",
       "50274     dejectly\n",
       "129034    objector\n",
       "166291    rejector\n",
       "218683    unjilted\n",
       "50269     dejected\n",
       "110321    majestic\n",
       "218736    unjustly\n",
       "218697    unjolted\n",
       "129006    objectee\n",
       "dtype: object"
      ]
     },
     "execution_count": 63,
     "metadata": {},
     "output_type": "execute_result"
    }
   ],
   "source": [
    "패턴선택('^..j..t..$').sample(10)"
   ]
  },
  {
   "cell_type": "code",
   "execution_count": 62,
   "metadata": {
    "collapsed": true
   },
   "outputs": [
    {
     "data": {
      "text/plain": [
       "210848     unadjectived\n",
       "218675        unjesting\n",
       "163758       readjuster\n",
       "129029    objectization\n",
       "156693      projectedly\n",
       "223544      unsubjected\n",
       "129016      objectioner\n",
       "129004      objectation\n",
       "41385     conjecturably\n",
       "2619        adjustation\n",
       "dtype: object"
      ]
     },
     "execution_count": 62,
     "metadata": {},
     "output_type": "execute_result"
    }
   ],
   "source": [
    "패턴선택('..j..t..').sample(10)"
   ]
  },
  {
   "cell_type": "code",
   "execution_count": 74,
   "metadata": {},
   "outputs": [
    {
     "data": {
      "text/plain": [
       "78596    gold\n",
       "78655    golf\n",
       "86476    hold\n",
       "86492    hole\n",
       "dtype: object"
      ]
     },
     "execution_count": 74,
     "metadata": {},
     "output_type": "execute_result"
    }
   ],
   "source": [
    "패턴선택('^[ghi][mno][jlk][def]$')"
   ]
  },
  {
   "cell_type": "code",
   "execution_count": 75,
   "metadata": {
    "collapsed": true
   },
   "outputs": [],
   "source": [
    "from nltk.corpus import nps_chat"
   ]
  },
  {
   "cell_type": "code",
   "execution_count": 76,
   "metadata": {
    "collapsed": true
   },
   "outputs": [],
   "source": [
    "패턴선택 = lambda 토큰시리즈, 패턴: 토큰시리즈[토큰시리즈.str.contains(패턴)]"
   ]
  },
  {
   "cell_type": "code",
   "execution_count": 83,
   "metadata": {
    "collapsed": true
   },
   "outputs": [],
   "source": [
    "chat_words = Series(nps_chat.words()).drop_duplicates()"
   ]
  },
  {
   "cell_type": "code",
   "execution_count": 84,
   "metadata": {},
   "outputs": [
    {
     "data": {
      "text/plain": [
       "39677           dd\n",
       "6735     beautiful\n",
       "557             ca\n",
       "8615      removing\n",
       "8903           U58\n",
       "dtype: object"
      ]
     },
     "execution_count": 84,
     "metadata": {},
     "output_type": "execute_result"
    }
   ],
   "source": [
    "chat_words.sample(5)"
   ]
  },
  {
   "cell_type": "code",
   "execution_count": 85,
   "metadata": {},
   "outputs": [
    {
     "data": {
      "text/plain": [
       "3222                                    mine\n",
       "29128              miiiiiinnnnnnnnnneeeeeeee\n",
       "29198    miiiiiiiiiiiiinnnnnnnnnnneeeeeeeeee\n",
       "29204     mmmmmmmmiiiiiiiiinnnnnnnnneeeeeeee\n",
       "dtype: object"
      ]
     },
     "execution_count": 85,
     "metadata": {},
     "output_type": "execute_result"
    }
   ],
   "source": [
    "패턴선택(chat_words, '^m+i+n+e+$')"
   ]
  },
  {
   "cell_type": "code",
   "execution_count": 88,
   "metadata": {},
   "outputs": [
    {
     "data": {
      "text/plain": [
       "1347       hello\n",
       "6617    helloooo\n",
       "dtype: object"
      ]
     },
     "execution_count": 88,
     "metadata": {},
     "output_type": "execute_result"
    }
   ],
   "source": [
    "패턴선택(chat_words, '^he+llo+$')"
   ]
  },
  {
   "cell_type": "code",
   "execution_count": 89,
   "metadata": {
    "collapsed": true
   },
   "outputs": [
    {
     "data": {
      "text/plain": [
       "36                                         m\n",
       "45                                        me\n",
       "69                                         i\n",
       "275                                       in\n",
       "1867                                     min\n",
       "2576                                     mmm\n",
       "3222                                    mine\n",
       "3315                                       n\n",
       "6946                                      mm\n",
       "15069                                   mmmm\n",
       "18067                                  mmmmm\n",
       "19375                                       \n",
       "29128              miiiiiinnnnnnnnnneeeeeeee\n",
       "29198    miiiiiiiiiiiiinnnnnnnnnnneeeeeeeeee\n",
       "29204     mmmmmmmmiiiiiiiiinnnnnnnnneeeeeeee\n",
       "30010                          mmmmmmmmmmmmm\n",
       "30586                                      e\n",
       "31203                                     ne\n",
       "32129                         meeeeeeeeeeeee\n",
       "32158                         mmmmmmmmmmmmmm\n",
       "34375                                     mi\n",
       "36378                             mmmmmmmmmm\n",
       "36982                                 mmmmmm\n",
       "dtype: object"
      ]
     },
     "execution_count": 89,
     "metadata": {},
     "output_type": "execute_result"
    }
   ],
   "source": [
    "패턴선택(chat_words, '^m*i*n*e*$')"
   ]
  },
  {
   "cell_type": "code",
   "execution_count": 91,
   "metadata": {
    "collapsed": true
   },
   "outputs": [
    {
     "data": {
      "text/plain": [
       "9250                        =)\n",
       "20654    ]]]]]]]]]]]]]]]]]]]]]\n",
       "4305                        ++\n",
       "13471             ))))))))))))\n",
       "10484                       wz\n",
       "37502                      ;-(\n",
       "6132                    <<<<<<\n",
       "13121                  (((((((\n",
       "15016               ..........\n",
       "43105                       fl\n",
       "dtype: object"
      ]
     },
     "execution_count": 91,
     "metadata": {},
     "output_type": "execute_result"
    }
   ],
   "source": [
    "패턴선택(chat_words, '^[^aeiouAEIOU]+$').sample(10)"
   ]
  },
  {
   "cell_type": "code",
   "execution_count": 92,
   "metadata": {
    "collapsed": true
   },
   "outputs": [],
   "source": [
    "from nltk.corpus import treebank as 신문"
   ]
  },
  {
   "cell_type": "code",
   "execution_count": 93,
   "metadata": {
    "collapsed": true
   },
   "outputs": [],
   "source": [
    "신문단어 = Series(t for t in 신문.words()).drop_duplicates()"
   ]
  },
  {
   "cell_type": "code",
   "execution_count": 94,
   "metadata": {
    "collapsed": true
   },
   "outputs": [
    {
     "data": {
      "text/plain": [
       "17098      profession\n",
       "91659          avenge\n",
       "32262      Brownstein\n",
       "38247        competed\n",
       "148        cigarettes\n",
       "87293              DD\n",
       "47548        Veselich\n",
       "1046             down\n",
       "70167          diaper\n",
       "44922    undiplomatic\n",
       "dtype: object"
      ]
     },
     "execution_count": 94,
     "metadata": {},
     "output_type": "execute_result"
    }
   ],
   "source": [
    "신문단어.sample(10)"
   ]
  },
  {
   "cell_type": "code",
   "execution_count": 96,
   "metadata": {
    "collapsed": true
   },
   "outputs": [
    {
     "data": {
      "text/plain": [
       "350          9.8\n",
       "888         8.45\n",
       "891         8.47\n",
       "1075        8.04\n",
       "1078        7.90\n",
       "1106         1.5\n",
       "1116       352.7\n",
       "1167        9.37\n",
       "1176        9.45\n",
       "1212        8.12\n",
       "1217        8.14\n",
       "1228        8.19\n",
       "1231        8.22\n",
       "1242        8.53\n",
       "1245        8.56\n",
       "1263        83.4\n",
       "1487        2.80\n",
       "1492        2.87\n",
       "1527         3.1\n",
       "2167        5.29\n",
       "2173         0.7\n",
       "2187        5.39\n",
       "2291       50.45\n",
       "2299       50.38\n",
       "2487         7.5\n",
       "2616         3.2\n",
       "2720         7.3\n",
       "2757         2.6\n",
       "2877        2.29\n",
       "2892        2.25\n",
       "           ...  \n",
       "97250       45.2\n",
       "97263       84.9\n",
       "97269       1.24\n",
       "97312      422.5\n",
       "97318       6.44\n",
       "97328      387.8\n",
       "97334       5.63\n",
       "97348       70.2\n",
       "97374        5.8\n",
       "97555      80.50\n",
       "97667       55.1\n",
       "98244      2.375\n",
       "98378       2.15\n",
       "98738      58.64\n",
       "98764      19.94\n",
       "98801       3.20\n",
       "98807     377.60\n",
       "98813       6.50\n",
       "98819     5.2180\n",
       "98827       5.70\n",
       "98833     494.50\n",
       "99014       1.20\n",
       "99020       1.14\n",
       "99205       51.6\n",
       "99221       47.1\n",
       "99759     34.625\n",
       "100009      15.5\n",
       "100060      13.1\n",
       "100111      2.62\n",
       "100124      2.07\n",
       "Length: 481, dtype: object"
      ]
     },
     "execution_count": 96,
     "metadata": {},
     "output_type": "execute_result"
    }
   ],
   "source": [
    "패턴선택(신문단어, '^[0-9]+\\.[0-9]+$')"
   ]
  },
  {
   "cell_type": "code",
   "execution_count": 97,
   "metadata": {
    "collapsed": true
   },
   "outputs": [
    {
     "data": {
      "text/plain": [
       "159      1956\n",
       "346      1953\n",
       "348      1955\n",
       "668      1997\n",
       "2208     1986\n",
       "2325     1990\n",
       "2559     1989\n",
       "3627     1988\n",
       "3716     1985\n",
       "4767     1991\n",
       "6225     1977\n",
       "6420     1975\n",
       "6445     1981\n",
       "6786     1987\n",
       "8315     1929\n",
       "8791     1992\n",
       "9206     1917\n",
       "9211     1934\n",
       "12226    1979\n",
       "12644    1901\n",
       "12704    1972\n",
       "12741    1999\n",
       "12918    1976\n",
       "15304    1983\n",
       "15782    1966\n",
       "17526    1984\n",
       "23180    8300\n",
       "30537    1982\n",
       "33640    1993\n",
       "33746    3057\n",
       "34174    2019\n",
       "38664    1973\n",
       "41011    1614\n",
       "42434    1637\n",
       "43311    1933\n",
       "43313    1961\n",
       "43315    1965\n",
       "43317    1968\n",
       "43319    1971\n",
       "50210    1970\n",
       "55258    1948\n",
       "58533    1925\n",
       "59030    1787\n",
       "61727    1903\n",
       "61747    1967\n",
       "72497    2009\n",
       "72563    2000\n",
       "72754    2029\n",
       "72792    2017\n",
       "72874    2005\n",
       "73050    1994\n",
       "73308    1996\n",
       "75966    1980\n",
       "78721    1969\n",
       "81343    1998\n",
       "81385    1995\n",
       "dtype: object"
      ]
     },
     "execution_count": 97,
     "metadata": {},
     "output_type": "execute_result"
    }
   ],
   "source": [
    "패턴선택(신문단어, '^[0-9]{4}$')"
   ]
  },
  {
   "cell_type": "code",
   "execution_count": 98,
   "metadata": {
    "collapsed": true
   },
   "outputs": [
    {
     "data": {
      "text/plain": [
       "1221        30-day\n",
       "1919        10-lap\n",
       "7290       52-week\n",
       "17616     50-state\n",
       "18521      14-hour\n",
       "20851     69-point\n",
       "27263      10-year\n",
       "34158      30-year\n",
       "34191       36-day\n",
       "39975    150-point\n",
       "39986     20-point\n",
       "40135     12-point\n",
       "40214     30-point\n",
       "42909    500-stock\n",
       "46378       10-day\n",
       "47858       90-day\n",
       "47888       15-day\n",
       "48892    100-share\n",
       "49703     84-month\n",
       "51241     21-month\n",
       "60716     240-page\n",
       "63842    190-point\n",
       "78191     30-share\n",
       "80967      12-year\n",
       "83063     20-stock\n",
       "86526     36-store\n",
       "86910      27-year\n",
       "90335     87-store\n",
       "91814      42-year\n",
       "91850     237-seat\n",
       "97655      300-day\n",
       "dtype: object"
      ]
     },
     "execution_count": 98,
     "metadata": {},
     "output_type": "execute_result"
    }
   ],
   "source": [
    "패턴선택(신문단어, '^[0-9]+-[a-z]{3,5}$')"
   ]
  },
  {
   "cell_type": "code",
   "execution_count": 100,
   "metadata": {},
   "outputs": [
    {
     "data": {
      "text/plain": [
       "12948       black-and-white\n",
       "39511      savings-and-loan\n",
       "44106         father-in-law\n",
       "45462    machine-gun-toting\n",
       "94123      bread-and-butter\n",
       "dtype: object"
      ]
     },
     "execution_count": 100,
     "metadata": {},
     "output_type": "execute_result"
    }
   ],
   "source": [
    "패턴선택(신문단어, '^[a-z]{5,}-[a-z]{2,3}-[a-z]{,6}$')"
   ]
  },
  {
   "cell_type": "code",
   "execution_count": 103,
   "metadata": {
    "collapsed": true
   },
   "outputs": [
    {
     "name": "stderr",
     "output_type": "stream",
     "text": [
      "C:\\ProgramData\\Anaconda3\\lib\\site-packages\\ipykernel_launcher.py:1: UserWarning: This pattern has match groups. To actually get the groups, use str.extract.\n",
      "  \"\"\"Entry point for launching an IPython kernel.\n"
     ]
    },
    {
     "data": {
      "text/plain": [
       "28              publishing\n",
       "41            Consolidated\n",
       "47                   named\n",
       "63                    used\n",
       "72                  caused\n",
       "84                 exposed\n",
       "95                reported\n",
       "120                causing\n",
       "141             York-based\n",
       "150                stopped\n",
       "151                  using\n",
       "191                  bring\n",
       "212                talking\n",
       "221                 having\n",
       "243                studied\n",
       "286                    led\n",
       "324                 making\n",
       "334               replaced\n",
       "372                 worked\n",
       "381                   died\n",
       "388               expected\n",
       "395              surviving\n",
       "398       asbestos-related\n",
       "401              including\n",
       "405              diagnosed\n",
       "441               striking\n",
       "442                finding\n",
       "491         industrialized\n",
       "505                  owned\n",
       "603             classified\n",
       "                ...       \n",
       "97182            sputtered\n",
       "97512               Baking\n",
       "97687          corn-buying\n",
       "97727            harvested\n",
       "97734              loading\n",
       "97759              reaping\n",
       "97961             trimming\n",
       "98128               slowed\n",
       "98165              budding\n",
       "98271             depleted\n",
       "98281              winding\n",
       "98289          speculating\n",
       "98604              hauling\n",
       "98633           compressed\n",
       "98663              delayed\n",
       "98724           tightening\n",
       "98731              Heating\n",
       "98846           influenced\n",
       "99043          Exxon-owned\n",
       "99292           networking\n",
       "99474               riding\n",
       "99702              earning\n",
       "99736            plummeted\n",
       "99766             exceeded\n",
       "99866           galvanized\n",
       "99867               coated\n",
       "99871         lower-priced\n",
       "99956           soliciting\n",
       "100568              shared\n",
       "100573           lawmaking\n",
       "Length: 1841, dtype: object"
      ]
     },
     "execution_count": 103,
     "metadata": {},
     "output_type": "execute_result"
    }
   ],
   "source": [
    "패턴선택(신문단어, '(ed|ing)$')"
   ]
  },
  {
   "cell_type": "code",
   "execution_count": 104,
   "metadata": {
    "collapsed": true
   },
   "outputs": [
    {
     "data": {
      "text/plain": [
       "28              publishing\n",
       "41            Consolidated\n",
       "47                   named\n",
       "63                    used\n",
       "72                  caused\n",
       "84                 exposed\n",
       "95                reported\n",
       "120                causing\n",
       "141             York-based\n",
       "150                stopped\n",
       "151                  using\n",
       "184               Medicine\n",
       "191                  bring\n",
       "212                talking\n",
       "221                 having\n",
       "243                studied\n",
       "286                    led\n",
       "298                medical\n",
       "324                 making\n",
       "334               replaced\n",
       "372                 worked\n",
       "381                   died\n",
       "388               expected\n",
       "395              surviving\n",
       "398       asbestos-related\n",
       "401              including\n",
       "405              diagnosed\n",
       "441               striking\n",
       "442                finding\n",
       "491         industrialized\n",
       "                ...       \n",
       "98017                feeds\n",
       "98128               slowed\n",
       "98165              budding\n",
       "98271             depleted\n",
       "98281              winding\n",
       "98289          speculating\n",
       "98530           Biedermann\n",
       "98604              hauling\n",
       "98633           compressed\n",
       "98663              delayed\n",
       "98724           tightening\n",
       "98731              Heating\n",
       "98846           influenced\n",
       "99043          Exxon-owned\n",
       "99078           procedural\n",
       "99168             precedes\n",
       "99292           networking\n",
       "99474               riding\n",
       "99702              earning\n",
       "99736            plummeted\n",
       "99766             exceeded\n",
       "99866           galvanized\n",
       "99867               coated\n",
       "99871         lower-priced\n",
       "99956           soliciting\n",
       "99968             Proceeds\n",
       "100354           procedure\n",
       "100444             Kennedy\n",
       "100568              shared\n",
       "100573           lawmaking\n",
       "Length: 1969, dtype: object"
      ]
     },
     "execution_count": 104,
     "metadata": {},
     "output_type": "execute_result"
    }
   ],
   "source": [
    "패턴선택(신문단어, 'ed|ing$')"
   ]
  },
  {
   "cell_type": "code",
   "execution_count": 114,
   "metadata": {},
   "outputs": [
    {
     "data": {
      "text/plain": [
       "[('010', '1234', '5678')]"
      ]
     },
     "execution_count": 114,
     "metadata": {},
     "output_type": "execute_result"
    }
   ],
   "source": [
    "re.findall(\n",
    "    r'(\\d{3})-(\\d{3,4})-(\\d{4})', \n",
    "    '내 전번은 010-1234-5678입니다.')"
   ]
  },
  {
   "cell_type": "code",
   "execution_count": 115,
   "metadata": {},
   "outputs": [
    {
     "data": {
      "text/plain": [
       "'내 전번은 010-****-5678입니다.'"
      ]
     },
     "execution_count": 115,
     "metadata": {},
     "output_type": "execute_result"
    }
   ],
   "source": [
    "re.sub(\n",
    "    r'(\\d{3})-(\\d{3,4})-(\\d{4})',\n",
    "    r'\\1-****-\\3',\n",
    "    '내 전번은 010-1234-5678입니다.'\n",
    ")"
   ]
  },
  {
   "cell_type": "code",
   "execution_count": 117,
   "metadata": {
    "collapsed": true
   },
   "outputs": [],
   "source": [
    "text = '알흠다운 우리말 ^0^ Enlgish, 123'"
   ]
  },
  {
   "cell_type": "code",
   "execution_count": 120,
   "metadata": {},
   "outputs": [
    {
     "data": {
      "text/plain": [
       "['^0^', 'Enlgish,', '123']"
      ]
     },
     "execution_count": 120,
     "metadata": {},
     "output_type": "execute_result"
    }
   ],
   "source": [
    "re.findall('[^ ㄱ-ㅣ가-힣]+', text)"
   ]
  },
  {
   "cell_type": "code",
   "execution_count": 118,
   "metadata": {},
   "outputs": [
    {
     "data": {
      "text/plain": [
       "'알흠다운우리말'"
      ]
     },
     "execution_count": 118,
     "metadata": {},
     "output_type": "execute_result"
    }
   ],
   "source": [
    "re.sub('[^ㄱ-ㅣ가-힣]+', '', text)"
   ]
  },
  {
   "cell_type": "code",
   "execution_count": 119,
   "metadata": {},
   "outputs": [
    {
     "data": {
      "text/plain": [
       "'알흠다운 우리말   '"
      ]
     },
     "execution_count": 119,
     "metadata": {},
     "output_type": "execute_result"
    }
   ],
   "source": [
    "re.sub('[^ ㄱ-ㅣ가-힣]+', '', text)"
   ]
  },
  {
   "cell_type": "code",
   "execution_count": 124,
   "metadata": {},
   "outputs": [
    {
     "data": {
      "text/plain": [
       "',  이런 것들을 제거합니다.'"
      ]
     },
     "execution_count": 124,
     "metadata": {},
     "output_type": "execute_result"
    }
   ],
   "source": [
    "re.sub('[ㄱ-ㅣ]+', '', 'ㅋㅋㅋ, ㅎㅎㅎ 이런 것들을 제거합니다.')"
   ]
  },
  {
   "cell_type": "code",
   "execution_count": 125,
   "metadata": {
    "collapsed": true
   },
   "outputs": [],
   "source": [
    "tokens = Series([\n",
    "    'processing',\n",
    "    'processed',\n",
    "    'processes',\n",
    "    'process'\n",
    "])"
   ]
  },
  {
   "cell_type": "code",
   "execution_count": 128,
   "metadata": {},
   "outputs": [
    {
     "data": {
      "text/plain": [
       "0    [(process, ing)]\n",
       "1     [(process, ed)]\n",
       "2     [(process, es)]\n",
       "3                  []\n",
       "dtype: object"
      ]
     },
     "execution_count": 128,
     "metadata": {},
     "output_type": "execute_result"
    }
   ],
   "source": [
    "tokens.str.findall('(.+)(ing|ed|es)$')"
   ]
  },
  {
   "cell_type": "code",
   "execution_count": 131,
   "metadata": {},
   "outputs": [],
   "source": [
    "영화리뷰 = pd.read_csv('data/nsmc/ratings.txt', sep='\\t')"
   ]
  },
  {
   "cell_type": "code",
   "execution_count": 132,
   "metadata": {
    "collapsed": true
   },
   "outputs": [
    {
     "data": {
      "text/plain": [
       "116340                                      줄거리에 내용을 써놨네ㅋㅋㅋ\n",
       "169853                                        여자 존나 짜증나네ㅎㅋㅋ\n",
       "87978                                         티아 레오니가 너무 예쁨\n",
       "90039                                           너무 보고싶어요...\n",
       "26085     금욜 삼시세끼 꼭 챙겨봅니다. 첨엔 일단 나pd님. 이서진씨 믿고본거긴한데.. 크 ...\n",
       "113712            피터잭슨이 이런 OOO기영화를 만들다니 ㅋㅋㅋ 러블리본즈에 이어 또실망..\n",
       "190524                                  여명은 한국에 눈이 멀었던 게지..\n",
       "126063                                                 안타까움\n",
       "34649                             평점 너무 약하다....견자단 완전 멋짐!!!\n",
       "11666     단순한 킬링타임용 호러물이 절대 아닙니다.. 완성도도 그렇지만 무엇보다 에밀리 로즈...\n",
       "Name: document, dtype: object"
      ]
     },
     "execution_count": 132,
     "metadata": {},
     "output_type": "execute_result"
    }
   ],
   "source": [
    "영화리뷰['document'].sample(10)"
   ]
  },
  {
   "cell_type": "code",
   "execution_count": 133,
   "metadata": {
    "collapsed": true
   },
   "outputs": [],
   "source": [
    "import requests"
   ]
  },
  {
   "cell_type": "code",
   "execution_count": 137,
   "metadata": {
    "collapsed": true
   },
   "outputs": [],
   "source": [
    "응답 = requests.get('http://www.naver.com')"
   ]
  },
  {
   "cell_type": "code",
   "execution_count": 138,
   "metadata": {
    "collapsed": true
   },
   "outputs": [],
   "source": [
    "data = 응답.text"
   ]
  },
  {
   "cell_type": "code",
   "execution_count": 140,
   "metadata": {},
   "outputs": [],
   "source": [
    "with open('naver_home.html', 'w', encoding='utf-8') as file:\n",
    "    file.write(data)"
   ]
  },
  {
   "cell_type": "code",
   "execution_count": 141,
   "metadata": {
    "collapsed": true
   },
   "outputs": [],
   "source": [
    "while False:\n",
    "    requests.get('http://하지마-DDoS.xyz')"
   ]
  },
  {
   "cell_type": "code",
   "execution_count": 143,
   "metadata": {},
   "outputs": [
    {
     "data": {
      "text/plain": [
       "2069"
      ]
     },
     "execution_count": 143,
     "metadata": {},
     "output_type": "execute_result"
    }
   ],
   "source": [
    "data.find('<title>')"
   ]
  },
  {
   "cell_type": "code",
   "execution_count": 146,
   "metadata": {},
   "outputs": [
    {
     "data": {
      "text/plain": [
       "2089"
      ]
     },
     "execution_count": 146,
     "metadata": {},
     "output_type": "execute_result"
    }
   ],
   "source": [
    "data.find('</title>') + len('</title>')"
   ]
  },
  {
   "cell_type": "code",
   "execution_count": 147,
   "metadata": {},
   "outputs": [
    {
     "data": {
      "text/plain": [
       "'<title>NAVER</title>'"
      ]
     },
     "execution_count": 147,
     "metadata": {},
     "output_type": "execute_result"
    }
   ],
   "source": [
    "data[2069:2089]"
   ]
  },
  {
   "cell_type": "code",
   "execution_count": 148,
   "metadata": {
    "collapsed": true
   },
   "outputs": [],
   "source": [
    "from bs4 import BeautifulSoup"
   ]
  },
  {
   "cell_type": "code",
   "execution_count": 149,
   "metadata": {
    "collapsed": true
   },
   "outputs": [],
   "source": [
    "html = BeautifulSoup(data, 'lxml')"
   ]
  },
  {
   "cell_type": "code",
   "execution_count": 150,
   "metadata": {},
   "outputs": [
    {
     "data": {
      "text/plain": [
       "<title>NAVER</title>"
      ]
     },
     "execution_count": 150,
     "metadata": {},
     "output_type": "execute_result"
    }
   ],
   "source": [
    "html.title"
   ]
  },
  {
   "cell_type": "code",
   "execution_count": 151,
   "metadata": {},
   "outputs": [
    {
     "data": {
      "text/plain": [
       "'NAVER'"
      ]
     },
     "execution_count": 151,
     "metadata": {},
     "output_type": "execute_result"
    }
   ],
   "source": [
    "html.title.text"
   ]
  },
  {
   "cell_type": "code",
   "execution_count": 154,
   "metadata": {
    "collapsed": true
   },
   "outputs": [],
   "source": [
    "links = html.find_all('a')"
   ]
  },
  {
   "cell_type": "code",
   "execution_count": 155,
   "metadata": {
    "collapsed": true
   },
   "outputs": [
    {
     "name": "stdout",
     "output_type": "stream",
     "text": [
      "뉴스스탠드 바로가기 #news_cast\n",
      "주제별캐스트 바로가기 #themecast\n",
      "타임스퀘어 바로가기 #time_square\n",
      "쇼핑캐스트 바로가기 #shop_cast\n",
      "로그인 바로가기 #account\n",
      "네이버 /\n",
      "네이버를 시작페이지로 http://help.naver.com/support/alias/contents2/naverhome/naverhome_1.naver\n",
      "쥬니어네이버 http://jr.naver.com\n",
      "해피빈 http://happybean.naver.com/main/SectionMain.nhn\n",
      "자동완성 펼치기 javascript:;\n",
      "한글 입력기 javascript:;\n",
      "@txt@ #\n",
      "도움말 보기 https://help.naver.com/support/alias/search/word/word_16.naver\n",
      "ON선택됨 #\n",
      "OFF #\n",
      "로그인 https://nid.naver.com/nidlogin.login\n",
      "자세히 https://help.naver.com/support/alias/search/word/word_16.naver\n",
      "자세히 https://help.naver.com/support/contents/contents.nhn?serviceNo=606&categoryNo=16659\n",
      "도움말 https://help.naver.com/support/alias/search/word/word_17.naver\n",
      "신고 https://help.naver.com/support/alias/search/word/word_18.naver\n",
      "검색어저장 켜기 javascript:;\n",
      "자동완성 끄기 javascript:;\n",
      "도움말 https://help.naver.com/support/alias/search/word/word_17.naver\n",
      "신고 https://help.naver.com/support/alias/search/word/word_18.naver\n",
      "검색어저장 켜기 javascript:;\n",
      "자동완성 끄기 javascript:;\n",
      "도움말 https://help.naver.com/support/alias/search/word/word_17.naver\n",
      "신고 https://help.naver.com/support/alias/search/word/word_18.naver\n",
      "검색어저장 켜기 javascript:;\n",
      "자동완성 끄기 javascript:;\n",
      "도움말 https://help.naver.com/support/alias/search/word/word_17.naver\n",
      "신고 https://help.naver.com/support/alias/search/word/word_18.naver\n",
      "검색어저장 켜기 javascript:;\n",
      "자동완성 켜기 javascript:;\n",
      "최근검색어 javascript:;\n",
      "내 검색어 javascript:;\n",
      "내 검색어 등록 javascript:;\n",
      "@txt@ javascript:;\n",
      "삭제 javascript:;\n",
      "내 검색어 해제 javascript:;\n",
      "@txt@ javascript:;\n",
      "기록 삭제 javascript:;\n",
      "검색어저장 끄기 javascript:;\n",
      "자동완성 끄기 javascript:;\n",
      "기록 전체 삭제 javascript:;\n",
      "완료 javascript:;\n",
      "기록 전체 삭제 javascript:;\n",
      "검색어저장 끄기 javascript:;\n",
      "자동완성 끄기 javascript:;\n",
      "닫기 javascript:;\n",
      "자세히보기 http://naver_diary.blog.me/220982360603\n",
      " https://search.naver.com/search.naver?where=nexearch&sm=top_ros&fbm=1&ie=utf8&query=2018+%ED%8F%89%EC%B0%BD+%EB%8F%99%EA%B3%84%EC%98%AC%EB%A6%BC%ED%94%BD%EB%8C%80%ED%9A%8C\n",
      "\n",
      "메일\n",
      " http://mail.naver.com/\n",
      "\n",
      "카페\n",
      " http://section.cafe.naver.com/\n",
      "\n",
      "블로그\n",
      " http://section.blog.naver.com/\n",
      "\n",
      "지식인\n",
      " http://kin.naver.com/\n",
      "\n",
      "쇼핑\n",
      " http://shopping2.naver.com/\n",
      "\n",
      "네이버페이\n",
      " http://pay.naver.com/\n",
      "\n",
      "네이버TV\n",
      " http://tv.naver.com/\n",
      "사전 http://dic.naver.com/\n",
      "뉴스 http://news.naver.com/\n",
      "증권(금융) http://stock.naver.com/\n",
      "부동산 http://land.naver.com/\n",
      "지도 https://map.naver.com/\n",
      "영화 http://movie.naver.com/\n",
      "뮤직 http://music.naver.com\n",
      "책 http://book.naver.com/\n",
      "만화 / 웹툰 http://comic.naver.com/\n",
      "더보기 #\n",
      "\n",
      "1\n",
      "대만 지진\n",
      " #\n",
      "\n",
      "2\n",
      "강수지\n",
      " #\n",
      "\n",
      "3\n",
      "조권\n",
      " #\n",
      "\n",
      "4\n",
      "내보험찾아줌\n",
      " #\n",
      "\n",
      "5\n",
      "국제신문\n",
      " #\n",
      "\n",
      "6\n",
      "대만\n",
      " #\n",
      "\n",
      "7\n",
      "부산시교육청\n",
      " #\n",
      "\n",
      "8\n",
      "이현주\n",
      " #\n",
      "\n",
      "9\n",
      "메가박스\n",
      " #\n",
      "\n",
      "10\n",
      "1987\n",
      " #\n",
      "\n",
      "11\n",
      "1987 관객수\n",
      " #\n",
      "\n",
      "12\n",
      "연애담\n",
      " #\n",
      "\n",
      "13\n",
      "저스틴비버\n",
      " #\n",
      "\n",
      "14\n",
      "부산일보\n",
      " #\n",
      "\n",
      "15\n",
      "미래당\n",
      " #\n",
      "\n",
      "16\n",
      "북한 응원단\n",
      " #\n",
      "\n",
      "17\n",
      "사이버국가고시센터\n",
      " #\n",
      "\n",
      "18\n",
      "알토란 황태채 무침\n",
      " #\n",
      "\n",
      "19\n",
      "농협 채용\n",
      " #\n",
      "\n",
      "20\n",
      "조이\n",
      " #\n",
      "DataLab.급상승 트래킹 http://datalab.naver.com/keyword/realtimeList.naver?where=main\n",
      "1~10위 #\n",
      "11~20위 #\n",
      "\n",
      "1\n",
      "대만 지진\n",
      " http://search.naver.com/search.naver?where=nexearch&query=%EB%8C%80%EB%A7%8C+%EC%A7%80%EC%A7%84&sm=top_lve&ie=utf8\n",
      "\n",
      "데이터랩 그래프 보기\n",
      "\n",
      " http://datalab.naver.com/keyword/realtimeDetail.naver?datetime=2018-02-07T14:20:00&query=%EB%8C%80%EB%A7%8C+%EC%A7%80%EC%A7%84&where=main\n",
      "\n",
      "2\n",
      "강수지\n",
      " http://search.naver.com/search.naver?where=nexearch&query=%EA%B0%95%EC%88%98%EC%A7%80&sm=top_lve&ie=utf8\n",
      "\n",
      "데이터랩 그래프 보기\n",
      "\n",
      " http://datalab.naver.com/keyword/realtimeDetail.naver?datetime=2018-02-07T14:20:00&query=%EA%B0%95%EC%88%98%EC%A7%80&where=main\n",
      "\n",
      "3\n",
      "조권\n",
      " http://search.naver.com/search.naver?where=nexearch&query=%EC%A1%B0%EA%B6%8C&sm=top_lve&ie=utf8\n",
      "\n",
      "데이터랩 그래프 보기\n",
      "\n",
      " http://datalab.naver.com/keyword/realtimeDetail.naver?datetime=2018-02-07T14:20:00&query=%EC%A1%B0%EA%B6%8C&where=main\n",
      "\n",
      "4\n",
      "내보험찾아줌\n",
      " http://search.naver.com/search.naver?where=nexearch&query=%EB%82%B4%EB%B3%B4%ED%97%98%EC%B0%BE%EC%95%84%EC%A4%8C&sm=top_lve&ie=utf8\n",
      "\n",
      "데이터랩 그래프 보기\n",
      "\n",
      " http://datalab.naver.com/keyword/realtimeDetail.naver?datetime=2018-02-07T14:20:00&query=%EB%82%B4%EB%B3%B4%ED%97%98%EC%B0%BE%EC%95%84%EC%A4%8C&where=main\n",
      "\n",
      "5\n",
      "국제신문\n",
      " http://search.naver.com/search.naver?where=nexearch&query=%EA%B5%AD%EC%A0%9C%EC%8B%A0%EB%AC%B8&sm=top_lve&ie=utf8\n",
      "\n",
      "데이터랩 그래프 보기\n",
      "\n",
      " http://datalab.naver.com/keyword/realtimeDetail.naver?datetime=2018-02-07T14:20:00&query=%EA%B5%AD%EC%A0%9C%EC%8B%A0%EB%AC%B8&where=main\n",
      "\n",
      "6\n",
      "대만\n",
      " http://search.naver.com/search.naver?where=nexearch&query=%EB%8C%80%EB%A7%8C&sm=top_lve&ie=utf8\n",
      "\n",
      "데이터랩 그래프 보기\n",
      "\n",
      " http://datalab.naver.com/keyword/realtimeDetail.naver?datetime=2018-02-07T14:20:00&query=%EB%8C%80%EB%A7%8C&where=main\n",
      "\n",
      "7\n",
      "부산시교육청\n",
      " http://search.naver.com/search.naver?where=nexearch&query=%EB%B6%80%EC%82%B0%EC%8B%9C%EA%B5%90%EC%9C%A1%EC%B2%AD&sm=top_lve&ie=utf8\n",
      "\n",
      "데이터랩 그래프 보기\n",
      "\n",
      " http://datalab.naver.com/keyword/realtimeDetail.naver?datetime=2018-02-07T14:20:00&query=%EB%B6%80%EC%82%B0%EC%8B%9C%EA%B5%90%EC%9C%A1%EC%B2%AD&where=main\n",
      "\n",
      "8\n",
      "이현주\n",
      " http://search.naver.com/search.naver?where=nexearch&query=%EC%9D%B4%ED%98%84%EC%A3%BC&sm=top_lve&ie=utf8\n",
      "\n",
      "데이터랩 그래프 보기\n",
      "\n",
      " http://datalab.naver.com/keyword/realtimeDetail.naver?datetime=2018-02-07T14:20:00&query=%EC%9D%B4%ED%98%84%EC%A3%BC&where=main\n",
      "\n",
      "9\n",
      "메가박스\n",
      " http://search.naver.com/search.naver?where=nexearch&query=%EB%A9%94%EA%B0%80%EB%B0%95%EC%8A%A4&sm=top_lve&ie=utf8\n",
      "\n",
      "데이터랩 그래프 보기\n",
      "\n",
      " http://datalab.naver.com/keyword/realtimeDetail.naver?datetime=2018-02-07T14:20:00&query=%EB%A9%94%EA%B0%80%EB%B0%95%EC%8A%A4&where=main\n",
      "\n",
      "10\n",
      "1987\n",
      " http://search.naver.com/search.naver?where=nexearch&query=1987&sm=top_lve&ie=utf8\n",
      "\n",
      "데이터랩 그래프 보기\n",
      "\n",
      " http://datalab.naver.com/keyword/realtimeDetail.naver?datetime=2018-02-07T14:20:00&query=1987&where=main\n",
      "\n",
      "11\n",
      "1987 관객수\n",
      " http://search.naver.com/search.naver?where=nexearch&query=1987+%EA%B4%80%EA%B0%9D%EC%88%98&sm=top_lve&ie=utf8\n",
      "\n",
      "데이터랩 그래프 보기\n",
      "\n",
      " http://datalab.naver.com/keyword/realtimeDetail.naver?datetime=2018-02-07T14:20:00&query=1987+%EA%B4%80%EA%B0%9D%EC%88%98&where=main\n",
      "\n",
      "12\n",
      "연애담\n",
      " http://search.naver.com/search.naver?where=nexearch&query=%EC%97%B0%EC%95%A0%EB%8B%B4&sm=top_lve&ie=utf8\n",
      "\n",
      "데이터랩 그래프 보기\n",
      "\n",
      " http://datalab.naver.com/keyword/realtimeDetail.naver?datetime=2018-02-07T14:20:00&query=%EC%97%B0%EC%95%A0%EB%8B%B4&where=main\n",
      "\n",
      "13\n",
      "저스틴비버\n",
      " http://search.naver.com/search.naver?where=nexearch&query=%EC%A0%80%EC%8A%A4%ED%8B%B4%EB%B9%84%EB%B2%84&sm=top_lve&ie=utf8\n",
      "\n",
      "데이터랩 그래프 보기\n",
      "\n",
      " http://datalab.naver.com/keyword/realtimeDetail.naver?datetime=2018-02-07T14:20:00&query=%EC%A0%80%EC%8A%A4%ED%8B%B4%EB%B9%84%EB%B2%84&where=main\n",
      "\n",
      "14\n",
      "부산일보\n",
      " http://search.naver.com/search.naver?where=nexearch&query=%EB%B6%80%EC%82%B0%EC%9D%BC%EB%B3%B4&sm=top_lve&ie=utf8\n",
      "\n",
      "데이터랩 그래프 보기\n",
      "\n",
      " http://datalab.naver.com/keyword/realtimeDetail.naver?datetime=2018-02-07T14:20:00&query=%EB%B6%80%EC%82%B0%EC%9D%BC%EB%B3%B4&where=main\n",
      "\n",
      "15\n",
      "미래당\n",
      " http://search.naver.com/search.naver?where=nexearch&query=%EB%AF%B8%EB%9E%98%EB%8B%B9&sm=top_lve&ie=utf8\n",
      "\n",
      "데이터랩 그래프 보기\n",
      "\n",
      " http://datalab.naver.com/keyword/realtimeDetail.naver?datetime=2018-02-07T14:20:00&query=%EB%AF%B8%EB%9E%98%EB%8B%B9&where=main\n",
      "\n",
      "16\n",
      "북한 응원단\n",
      " http://search.naver.com/search.naver?where=nexearch&query=%EB%B6%81%ED%95%9C+%EC%9D%91%EC%9B%90%EB%8B%A8&sm=top_lve&ie=utf8\n",
      "\n",
      "데이터랩 그래프 보기\n",
      "\n",
      " http://datalab.naver.com/keyword/realtimeDetail.naver?datetime=2018-02-07T14:20:00&query=%EB%B6%81%ED%95%9C+%EC%9D%91%EC%9B%90%EB%8B%A8&where=main\n",
      "\n",
      "17\n",
      "사이버국가고시센터\n",
      " http://search.naver.com/search.naver?where=nexearch&query=%EC%82%AC%EC%9D%B4%EB%B2%84%EA%B5%AD%EA%B0%80%EA%B3%A0%EC%8B%9C%EC%84%BC%ED%84%B0&sm=top_lve&ie=utf8\n",
      "\n",
      "데이터랩 그래프 보기\n",
      "\n",
      " http://datalab.naver.com/keyword/realtimeDetail.naver?datetime=2018-02-07T14:20:00&query=%EC%82%AC%EC%9D%B4%EB%B2%84%EA%B5%AD%EA%B0%80%EA%B3%A0%EC%8B%9C%EC%84%BC%ED%84%B0&where=main\n",
      "\n",
      "18\n",
      "알토란 황태채 무침\n",
      " http://search.naver.com/search.naver?where=nexearch&query=%EC%95%8C%ED%86%A0%EB%9E%80+%ED%99%A9%ED%83%9C%EC%B1%84+%EB%AC%B4%EC%B9%A8&sm=top_lve&ie=utf8\n",
      "\n",
      "데이터랩 그래프 보기\n",
      "\n",
      " http://datalab.naver.com/keyword/realtimeDetail.naver?datetime=2018-02-07T14:20:00&query=%EC%95%8C%ED%86%A0%EB%9E%80+%ED%99%A9%ED%83%9C%EC%B1%84+%EB%AC%B4%EC%B9%A8&where=main\n",
      "\n",
      "19\n",
      "농협 채용\n",
      " http://search.naver.com/search.naver?where=nexearch&query=%EB%86%8D%ED%98%91+%EC%B1%84%EC%9A%A9&sm=top_lve&ie=utf8\n",
      "\n",
      "데이터랩 그래프 보기\n",
      "\n",
      " http://datalab.naver.com/keyword/realtimeDetail.naver?datetime=2018-02-07T14:20:00&query=%EB%86%8D%ED%98%91+%EC%B1%84%EC%9A%A9&where=main\n",
      "\n",
      "20\n",
      "조이\n",
      " http://search.naver.com/search.naver?where=nexearch&query=%EC%A1%B0%EC%9D%B4&sm=top_lve&ie=utf8\n",
      "\n",
      "데이터랩 그래프 보기\n",
      "\n",
      " http://datalab.naver.com/keyword/realtimeDetail.naver?datetime=2018-02-07T14:20:00&query=%EC%A1%B0%EC%9D%B4&where=main\n",
      "도움말 http://help.naver.com/support/alias/search/word/word_5.naver\n",
      "연합뉴스 http://news.naver.com/main/list.nhn?mode=LPOD&mid=sec&sid1=001&sid2=140&oid=001&isYeonhapFlash=Y\n",
      "방남 北응원단 \"기존에 없던 것 보여줄 생각…보시면 압네다\" http://news.naver.com/main/list.nhn?mode=LPOD&mid=sec&sid1=001&sid2=140&oid=001&isYeonhapFlash=Y&aid=0009867432\n",
      "강원랜드 비리 수사단장 \"일체 고려없이 수사…의혹해소\" http://news.naver.com/main/list.nhn?mode=LPOD&mid=sec&sid1=001&sid2=140&oid=001&isYeonhapFlash=Y&aid=0009867568\n",
      "정해구 \"국민개헌자문특위 발족해 개헌안 만들 것\" http://news.naver.com/main/list.nhn?mode=LPOD&mid=sec&sid1=001&sid2=140&oid=001&isYeonhapFlash=Y&aid=0009867615\n",
      "이건리 5·18특조위원장 \"헬기 사격 처음 밝혀내\" http://news.naver.com/main/list.nhn?mode=LPOD&mid=sec&sid1=001&sid2=140&oid=001&isYeonhapFlash=Y&aid=0009866966\n",
      "'쾌지나 칭칭 나네'에 맞춰 대한민국 선수단 공식 입촌 http://news.naver.com/main/list.nhn?mode=LPOD&mid=sec&sid1=001&sid2=140&oid=001&isYeonhapFlash=Y&aid=0009867061\n",
      "내일부터 최고금리 연 24%…안전망대출 접수 시작 http://news.naver.com/main/list.nhn?mode=LPOD&mid=sec&sid1=001&sid2=140&oid=001&isYeonhapFlash=Y&aid=0009867008\n",
      "국민-바른 통합당, '미래당' 사용 못해…새 당명 찾아야 http://news.naver.com/main/list.nhn?mode=LPOD&mid=sec&sid1=001&sid2=140&oid=001&isYeonhapFlash=Y&aid=0009867260\n",
      "김동연 \"올해 신생기업 12만개 만들어 청년일자리 창출\" http://news.naver.com/main/list.nhn?mode=LPOD&mid=sec&sid1=001&sid2=140&oid=001&isYeonhapFlash=Y&aid=0009867333\n",
      "고준희양 암매장 친부·동거녀 첫 재판…방청객 고함 http://news.naver.com/main/list.nhn?mode=LPOD&mid=sec&sid1=001&sid2=140&oid=001&isYeonhapFlash=Y&aid=0009867272\n",
      "대만 심야 강진…2명 사망·219명 부상·177명 실종 상태 http://news.naver.com/main/list.nhn?mode=LPOD&mid=sec&sid1=001&sid2=140&oid=001&isYeonhapFlash=Y&aid=0009867065\n",
      "\n",
      "네이버뉴스 http://news.naver.com/\n",
      "\n",
      "연예 http://entertain.naver.com/home\n",
      "\n",
      "스포츠 http://sports.news.naver.com/\n",
      "\n",
      "경제 http://news.naver.com/main/main.nhn?mode=LSD&mid=shm&sid1=101\n",
      "\n",
      "2018평창\n",
      " http://sports.news.naver.com/pc2018/index.nhn\n",
      "뉴스스탠드 http://newsstand.naver.com/\n",
      "전체 언론사 #\n",
      "MY 뉴스 #\n",
      "이미지형 #\n",
      "리스트형 #\n",
      "설정 http://newsstand.naver.com/config.html\n",
      "이전 페이지 #\n",
      "다음 페이지 #\n",
      "\n",
      "\n",
      " http://newsstand.naver.com/?list=ct1&pcode=008\n",
      "구독 #\n",
      "해지 #\n",
      "기사보기 http://newsstand.naver.com/?list=ct1&pcode=008\n",
      "\n",
      "\n",
      " http://newsstand.naver.com/?list=ct1&pcode=002\n",
      "구독 #\n",
      "해지 #\n",
      "기사보기 http://newsstand.naver.com/?list=ct1&pcode=002\n",
      "\n",
      "\n",
      " http://newsstand.naver.com/?list=ct1&pcode=241\n",
      "구독 #\n",
      "해지 #\n",
      "기사보기 http://newsstand.naver.com/?list=ct1&pcode=241\n",
      "\n",
      "\n",
      " http://newsstand.naver.com/?list=ct1&pcode=076\n",
      "구독 #\n",
      "해지 #\n",
      "기사보기 http://newsstand.naver.com/?list=ct1&pcode=076\n",
      "\n",
      "\n",
      " http://newsstand.naver.com/?list=ct1&pcode=215\n",
      "구독 #\n",
      "해지 #\n",
      "기사보기 http://newsstand.naver.com/?list=ct1&pcode=215\n",
      "\n",
      "\n",
      " http://newsstand.naver.com/?list=ct1&pcode=023\n",
      "구독 #\n",
      "해지 #\n",
      "기사보기 http://newsstand.naver.com/?list=ct1&pcode=023\n",
      "\n",
      "\n",
      " http://newsstand.naver.com/?list=ct1&pcode=047\n",
      "구독 #\n",
      "해지 #\n",
      "기사보기 http://newsstand.naver.com/?list=ct1&pcode=047\n",
      "\n",
      "\n",
      " http://newsstand.naver.com/?list=ct1&pcode=029\n",
      "구독 #\n",
      "해지 #\n",
      "기사보기 http://newsstand.naver.com/?list=ct1&pcode=029\n",
      "\n",
      "\n",
      " http://newsstand.naver.com/?list=ct1&pcode=327\n",
      "구독 #\n",
      "해지 #\n",
      "기사보기 http://newsstand.naver.com/?list=ct1&pcode=327\n",
      "\n",
      "\n",
      " http://newsstand.naver.com/?list=ct1&pcode=011\n",
      "구독 #\n",
      "해지 #\n",
      "기사보기 http://newsstand.naver.com/?list=ct1&pcode=011\n",
      "\n",
      "\n",
      " http://newsstand.naver.com/?list=ct1&pcode=005\n",
      "구독 #\n",
      "해지 #\n",
      "기사보기 http://newsstand.naver.com/?list=ct1&pcode=005\n",
      "\n",
      "\n",
      " http://newsstand.naver.com/?list=ct1&pcode=368\n",
      "구독 #\n",
      "해지 #\n",
      "기사보기 http://newsstand.naver.com/?list=ct1&pcode=368\n",
      "\n",
      "\n",
      " http://newsstand.naver.com/?list=ct7&pcode=967\n",
      "구독 #\n",
      "해지 #\n",
      "기사보기 http://newsstand.naver.com/?list=ct7&pcode=967\n",
      "\n",
      "\n",
      " http://newsstand.naver.com/?list=ct3&pcode=980\n",
      "구독 #\n",
      "해지 #\n",
      "기사보기 http://newsstand.naver.com/?list=ct3&pcode=980\n",
      "\n",
      "\n",
      " http://newsstand.naver.com/?list=ct2&pcode=941\n",
      "구독 #\n",
      "해지 #\n",
      "기사보기 http://newsstand.naver.com/?list=ct2&pcode=941\n",
      "\n",
      "\n",
      " http://newsstand.naver.com/?list=ct2&pcode=960\n",
      "구독 #\n",
      "해지 #\n",
      "기사보기 http://newsstand.naver.com/?list=ct2&pcode=960\n",
      "\n",
      "\n",
      " http://newsstand.naver.com/?list=ct3&pcode=422\n",
      "구독 #\n",
      "해지 #\n",
      "기사보기 http://newsstand.naver.com/?list=ct3&pcode=422\n",
      "\n",
      "\n",
      " http://newsstand.naver.com/?list=ct2&pcode=913\n",
      "구독 #\n",
      "해지 #\n",
      "기사보기 http://newsstand.naver.com/?list=ct2&pcode=913\n",
      "종합/경제 #\n",
      "방송/통신 #\n",
      "IT #\n",
      "영자지 #\n",
      "스포츠/연예 #\n",
      "매거진/전문지 #\n",
      "지역 #\n",
      "언론사 추가 http://newsstand.naver.com/config.html\n",
      "\n",
      "NAVER Sign in\n",
      " https://nid.naver.com/nidlogin.login?url=https%3A%2F%2Fwww.naver.com\n",
      "Sign up https://nid.naver.com/nidregister.form?url=https%3A%2F%2Fwww.naver.com\n",
      "Username https://nid.naver.com/user/help.nhn?todo=idinquiry\n",
      "Password? https://nid.naver.com/nidreminder.form\n",
      "02.07.(수) https://calendar.naver.com\n",
      "앞의 목록으로 이동 #\n",
      "뒤의 목록으로 이동 #\n",
      "학습 http://news.naver.com/main/hotissue/sectionList.nhn?mid=hot&sid1=110&cid=933879\n",
      "영어로 듣는 뉴스 http://news.naver.com/main/hotissue/sectionList.nhn?mid=hot&sid1=110&cid=933879\n",
      "영어 톡톡 http://talkie.naver.com/english/room-list.dict?mode=pc\n",
      "뉴스 http://news.naver.com/main/hotissue/sectionList.nhn?mid=hot&sid1=104&gid=1065188&cid=1065187\n",
      "위클리 이슈 - 세계와 생각 나누기 http://news.naver.com/main/hotissue/sectionList.nhn?mid=hot&sid1=104&gid=1065188&cid=1065187\n",
      "부동산 http://land.naver.com/news\n",
      "‘강남 아파트값 잡기’ 반작용으로 빌라 거래 활기 http://land.naver.com/news\n",
      "스포츠 http://sports.news.naver.com/pc2018/index.nhn\n",
      "\n",
      "PyeongChang 20182018 평창 동계올림픽\n",
      "D-2\n",
      " http://sports.news.naver.com/pc2018/index.nhn\n",
      "\n",
      "\n",
      "대한민국 대표 김희원 선수를 응원해주세요!\n",
      " http://sports.news.naver.com/pc2018/player/index.nhn?disciplineCode=IHO&playerId=NCR0164\n",
      "평창 뉴스 http://sports.news.naver.com/pc2018/news/index.nhn?type=popular\n",
      "전체 경기일정 http://sports.news.naver.com/pc2018/schedule/index.nhn\n",
      "리빙 #LIVINGHOME\n",
      "푸드 #LIVING\n",
      "스포츠 #SPORTS\n",
      "자동차 #CARGAME\n",
      "패션뷰티 #BEAUTY\n",
      "맘·키즈 #MOMKIDS\n",
      "건강 #HEALTH\n",
      "웹툰 #BBOOM\n",
      "게임 #GAMEAPP\n",
      "TV연예 #VIDEO\n",
      "뮤직 #MUSIC\n",
      "영화 #MOVIE\n",
      "책문화 #CULTURE\n",
      "함께N #WITH\n",
      "여행+ #TRAVEL\n",
      "디자인 #DESIGN\n",
      "경제M #FINANCE\n",
      "JOB& #JOB\n",
      "과학 #SCIENCE\n",
      "중국 #CHINA\n",
      "비즈니스 #BUSINESS\n",
      "FARM #FARM\n",
      "스쿨잼 #SCHOOL\n",
      "공연전시 #SHOW\n",
      "법률 #LAW\n",
      "동물공감 #ANIMAL\n",
      "연애·결혼 #WEDDING\n",
      "테크 #ITTECH\n",
      "이전 주제 #\n",
      "다음 주제 #\n",
      "전체 주제 열기 #\n",
      "전체 주제 목록 닫기 #\n",
      "관심주제 설정 #\n",
      "모바일 관심 주제 가져오기 #\n",
      "취소 #\n",
      "확인 #\n",
      "초기화 #\n",
      "전체선택 #\n",
      "모바일 관심 주제 가져오기 #\n",
      "해피빈 홈 http://happybean.naver.com/\n",
      "정기저금 http://fund.happybean.naver.com/prddeposit/main.nhn?_ga=1.162920252.1034863832.1487058700\n",
      "기   부 http://happybean.naver.com/donation/DonateHomeMain.nhn\n",
      "펀   딩 http://happybean.naver.com/crowdFunding/Home\n",
      "펀딩뉴스 http://news.naver.com/main/hotissue/sectionList.nhn?mid=hot&sid1=102&cid=1049063&rc=N\n",
      "공익캠페인 http://happybean.naver.com/campaignhome/Main.nhn?_ga=1.162920252.1034863832.1487058700\n",
      "함께N 블로그 http://blog.naver.com/nv_withn\n",
      "\n",
      "\n",
      "\n",
      "\n",
      "\n",
      "\n",
      "\n",
      "\n",
      "해피빈 펀딩\n",
      "새해에는 숲을 만드는 '반려나무' 입양 어때요?\n",
      "\n",
      "\n",
      "\n",
      " http://happybean.naver.com/crowdFunding/Intro/H000000145262?p=p&s=f\n",
      "\n",
      "\n",
      "\n",
      "\n",
      "\n",
      "\n",
      "응원해요! 모두의설렘 가득한 출발\n",
      "\n",
      " http://happybean.naver.com/doubleproject/201802\n",
      "\n",
      "\n",
      "\n",
      "\n",
      "\n",
      "\n",
      "현이의 구멍난 필통엔몽당연필만 있을 뿐입니다\n",
      "\n",
      " http://happybean.naver.com/donations/H000000145449?p=p&s=s\n",
      "평화로운집 http://happylog.naver.com/ilsoonpark.do\n",
      "\n",
      "\n",
      "\n",
      "\n",
      "\n",
      "\n",
      "세계인의 축제가평창에서 시작됩니다\n",
      "\n",
      " http://campaign.happybean.naver.com/2018PyeongChang\n",
      "\n",
      "\n",
      "\n",
      "\n",
      "\n",
      "\n",
      "황금 개띠해 기념으로탄생한 '한정판' 노트\n",
      "\n",
      " http://happybean.naver.com/crowdFunding/Intro/H000000142037?p=p&s=s\n",
      "\n",
      "\n",
      "\n",
      "\n",
      "\n",
      "\n",
      "“배울게 아직 많아요”젊은날 꿈을 다시 그립니다\n",
      "\n",
      " http://happybean.naver.com/donations/H000000145264?p=p&s=s\n",
      "계양푸른빛노인지원센터 http://happylog.naver.com/greenlight5814.do\n",
      "\n",
      "\n",
      "\n",
      "\n",
      "\n",
      "\n",
      "생에 한 번 뿐인 결혼식,우리도 할 수 있을까요?\n",
      "\n",
      " http://happybean.naver.com/donations/H000000141456?p=p&s=s\n",
      "인천종합사회복지관 http://happylog.naver.com/icwelfare.do\n",
      "\n",
      "\n",
      "\n",
      "\n",
      "\n",
      "\n",
      "“손이 참 따뜻하구나”뒤늦게 잡은 아버지의 손\n",
      "\n",
      " http://post.naver.com/viewer/postView.nhn?volumeNo=12454288&memberNo=22225909&mainMenu=WITH\n",
      "\n",
      "\n",
      "\n",
      "\n",
      "\n",
      "\n",
      "베트남 기성용! 쯔엉 선수가응원 전하는 희망 월드컵\n",
      "\n",
      " http://blog.naver.com/hungersaver/220808158900\n",
      "\n",
      "\n",
      "\n",
      "\n",
      "\n",
      "\n",
      "새학기, 중고 교복도 없어동동거리는 아이들\n",
      "\n",
      " http://happybean.naver.com/donations/H000000145429?p=p&s=s\n",
      "한국다문화청소년협회 http://happylog.naver.com/kmcyouth4148.do\n",
      "\n",
      "\n",
      "\n",
      "\n",
      "\n",
      "\n",
      "최이현 모어댄 대표, 폐차가죽으로 희망 재단하다\n",
      "\n",
      " http://m.post.naver.com/viewer/postView.nhn?volumeNo=12206308&memberNo=12494964&mainMenu=WITH\n",
      "\n",
      "\n",
      "\n",
      "\n",
      "\n",
      "\n",
      "할아버지가 미용실로치킨을 보낸 이유\n",
      "\n",
      " http://news.naver.com/main/hotissue/read.nhn?mid=hot&sid1=110&cid=1021544&iid=36869818&oid=005&aid=0001068822&viewType=pc&rc=N\n",
      "\n",
      "\n",
      "\n",
      "\n",
      "\n",
      "\n",
      "배우 김태리와 함께아이들의 미소 찾는 '저금'\n",
      "\n",
      " http://fund.happybean.naver.com/congfund/FundView/postscripts/123462930422?fundno=1538691\n",
      "\n",
      "\n",
      "\n",
      "\n",
      "\n",
      "\n",
      "작은 위로가 필요할 때,'여행자'가 되는 서울스냅\n",
      "\n",
      " http://happybean.naver.com/crowdFunding/Intro/H000000145364?p=p&s=f\n",
      "https://castbox.shopping.naver.com/shopbox/main.nhn?svgless=true https://castbox.shopping.naver.com/shopbox/main.nhn?svgless=true\n",
      "\n",
      "\n",
      "\n",
      "\n",
      "\n",
      "\n",
      "소프트웨어야 놀자\n",
      "온·오프라인 무료 교육\n",
      "집에서 시작하는즐거운 소프트웨어 학습!\n",
      "\n",
      " https://blog.naver.com/nvplaysw/221186758933\n",
      "\n",
      "\n",
      "\n",
      "\n",
      "\n",
      "\n",
      "온스테이지\n",
      "싱어송라이터, 스텔라장\n",
      "팍팍한 현실을발랄하게 노래하는 뮤지션\n",
      "\n",
      " http://music.naver.com/onStage/onStageReview.nhn?articleId=7604&menu=onStageReview\n",
      "공지사항 http://www.naver.com/NOTICE\n",
      "네이버 ‘개인정보 처리방침’ 변경에 대한 안내 https://www.naver.com/NOTICE/read/1100001014/10000000000030659999\n",
      "서비스 전체보기 more.html\n",
      "바로가기 https://search.naver.com/search.naver?where=nexearch&sm=top_hty&fbm=1&ie=utf8&query=%ED%94%84%EB%A1%9C%EC%A0%9D%ED%8A%B8%EA%BD%83\n",
      "프로젝트 꽃 https://search.naver.com/search.naver?where=nexearch&sm=top_hty&fbm=1&ie=utf8&query=%ED%94%84%EB%A1%9C%EC%A0%9D%ED%8A%B8%EA%BD%83\n",
      "바로가기 http://music.naver.com/promotion/clovaspeaker/ticket.nhn\n",
      "클로바 프렌즈 스피커 http://music.naver.com/promotion/clovaspeaker/ticket.nhn\n",
      "크리에이터 http://www.navercorp.com/ko/service/creators.nhn\n",
      "스몰비즈니스 http://www.navercorp.com/ko/service/business.nhn\n",
      "비즈니스 파트너 안내 http://business.naver.com/guide.html\n",
      "비즈니스 · 광고 http://business.naver.com/service.html\n",
      "스토어 개설 https://sell.storefarm.naver.com/#/home/about\n",
      "지역업체 등록 https://smartplace.naver.com/\n",
      "네이버 개발자센터 http://developers.naver.com\n",
      "오픈 API https://developers.naver.com/docs/common/openapiguide/#/apilist.md/\n",
      "오픈소스 http://naver.github.io/\n",
      "네이버 D2 https://developers.naver.com/d2/d2campus/\n",
      "네이버 랩스 http://www.naverlabs.com/\n",
      "회사소개 http://www.navercorp.com/\n",
      "인재채용 http://recruit.navercorp.com/naver/recruitMain\n",
      "제휴제안 https://www.navercorp.com/ko/company/proposalGuide.nhn\n",
      "이용약관 /policy/service.html\n",
      "개인정보처리방침 /policy/privacy.html\n",
      "청소년보호정책 /policy/youthpolicy.html\n",
      "네이버 정책 /policy/spamcheck.html\n",
      "고객센터 https://help.naver.com/\n",
      "NAVER Corp. http://www.navercorp.com/\n"
     ]
    }
   ],
   "source": [
    "for link in links:\n",
    "    print(link.text, link.get('href'))"
   ]
  },
  {
   "cell_type": "code",
   "execution_count": 156,
   "metadata": {
    "collapsed": true
   },
   "outputs": [],
   "source": [
    "응답 = requests.get('http://www.yonhapnews.co.kr/')"
   ]
  },
  {
   "cell_type": "code",
   "execution_count": 160,
   "metadata": {},
   "outputs": [],
   "source": [
    "응답.encoding = 'utf-8'"
   ]
  },
  {
   "cell_type": "code",
   "execution_count": 161,
   "metadata": {
    "collapsed": true
   },
   "outputs": [],
   "source": [
    "data = 응답.text"
   ]
  },
  {
   "cell_type": "code",
   "execution_count": 162,
   "metadata": {
    "collapsed": true
   },
   "outputs": [
    {
     "name": "stdout",
     "output_type": "stream",
     "text": [
      "﻿<!DOCTYPE HTML>\r\n",
      "<html lang=\"ko\">\r\n",
      "<head>\r\n",
      "<meta charset=\"utf-8\">\r\n",
      "<meta http-equiv=\"X-UA-Compatible\" content=\"IE=edge, chrome=1\">\r\n",
      "<meta name=\"viewport\" content=\"width=device-width, initial-scale=1.0, maximum-scale=1.0, minimum-scale=1.0, user-scalable=no, target-densitydpi=medium-dpi\"/>\r\n",
      "<title>연합뉴스</title>\r\n",
      "<meta property=\"og:url\" content=\"http://www.yonhapnews.co.kr/\">\r\n",
      "<meta name=\"twitter:url\" content=\"http://www.yonhapnews.co.kr/\">\r\n",
      "<meta itemprop=\"url\" content=\"http://www.yonhapnews.co.kr/\">\r\n",
      "<meta name=\"title\" content=\"연합뉴스\">\r\n",
      "<meta property=\"og:title\" content=\"연합뉴스\">\r\n",
      "<meta name=\"twitter:title\" content=\"연합뉴스\">\r\n",
      "<meta itemprop=\"name\" content=\"연합뉴스\">\r\n",
      "<link rel=\"canonical\" id=\"canonical\" href=\"http://www.yonhapnews.co.kr/\">\r\n",
      "<link rel=\"alternate\" href=\"http://m.yna.co.kr/\">\r\n",
      "<link rel=\"alternate\" hreflang=\"en-us\" href=\"http://english.yonhapnews.co.kr/\">\r\n",
      "<link rel=\"alternate\" hreflang=\"zh-cn\" href=\"http://chinese.yonhapnews.co.kr/\">\r\n",
      "<link rel=\"alternate\" hreflang=\"ja\" href=\"ht\n"
     ]
    }
   ],
   "source": [
    "print(data[:1000])"
   ]
  },
  {
   "cell_type": "code",
   "execution_count": 163,
   "metadata": {
    "collapsed": true
   },
   "outputs": [],
   "source": [
    "html = BeautifulSoup(data, 'lxml')"
   ]
  },
  {
   "cell_type": "code",
   "execution_count": 164,
   "metadata": {},
   "outputs": [
    {
     "data": {
      "text/plain": [
       "<title>연합뉴스</title>"
      ]
     },
     "execution_count": 164,
     "metadata": {},
     "output_type": "execute_result"
    }
   ],
   "source": [
    "html.title"
   ]
  },
  {
   "cell_type": "code",
   "execution_count": 174,
   "metadata": {},
   "outputs": [],
   "source": [
    "기사링크들 = []\n",
    "for link in html.find_all('a'):\n",
    "    url = link.get('href')    \n",
    "    if url and '.HTML?template' in url:\n",
    "        # print(link.text, url)\n",
    "        if link.text:\n",
    "            기사링크들.append((link.text, url))"
   ]
  },
  {
   "cell_type": "code",
   "execution_count": 176,
   "metadata": {
    "collapsed": true
   },
   "outputs": [
    {
     "data": {
      "text/html": [
       "<div>\n",
       "<style>\n",
       "    .dataframe thead tr:only-child th {\n",
       "        text-align: right;\n",
       "    }\n",
       "\n",
       "    .dataframe thead th {\n",
       "        text-align: left;\n",
       "    }\n",
       "\n",
       "    .dataframe tbody tr th {\n",
       "        vertical-align: top;\n",
       "    }\n",
       "</style>\n",
       "<table border=\"1\" class=\"dataframe\">\n",
       "  <thead>\n",
       "    <tr style=\"text-align: right;\">\n",
       "      <th></th>\n",
       "      <th>0</th>\n",
       "      <th>1</th>\n",
       "    </tr>\n",
       "  </thead>\n",
       "  <tbody>\n",
       "    <tr>\n",
       "      <th>0</th>\n",
       "      <td>방남 北응원단\"기존에 없던것 보여줄 생각…보시면 압네다\"</td>\n",
       "      <td>HTTP://www.yonhapnews.co.kr/politics/2018/02/0...</td>\n",
       "    </tr>\n",
       "    <tr>\n",
       "      <th>1</th>\n",
       "      <td>北고위급대표단 빼고 다 왔다…응원단도 방남</td>\n",
       "      <td>HTTP://www.yonhapnews.co.kr/politics/2018/02/0...</td>\n",
       "    </tr>\n",
       "    <tr>\n",
       "      <th>2</th>\n",
       "      <td>김일국 체육상 \"힘 합쳐 이번 대회 잘 합시다\"</td>\n",
       "      <td>HTTP://www.yonhapnews.co.kr/sports/2018/02/07/...</td>\n",
       "    </tr>\n",
       "    <tr>\n",
       "      <th>3</th>\n",
       "      <td>13년 만에 온 북한 응원단…대부분 20대 여성</td>\n",
       "      <td>HTTP://www.yonhapnews.co.kr/politics/2018/02/0...</td>\n",
       "    </tr>\n",
       "    <tr>\n",
       "      <th>4</th>\n",
       "      <td>北김여정 평창 오나…가능성 증가 관측</td>\n",
       "      <td>HTTP://www.yonhapnews.co.kr/politics/2018/02/0...</td>\n",
       "    </tr>\n",
       "    <tr>\n",
       "      <th>5</th>\n",
       "      <td>통일부 \"北에서 만경봉92호 유류 요청…검토중\"</td>\n",
       "      <td>HTTP://www.yonhapnews.co.kr/sports/2018/02/07/...</td>\n",
       "    </tr>\n",
       "    <tr>\n",
       "      <th>6</th>\n",
       "      <td>통일차관 주재로 오늘밤 北응원단 등 환영만찬</td>\n",
       "      <td>HTTP://www.yonhapnews.co.kr/politics/2018/02/0...</td>\n",
       "    </tr>\n",
       "    <tr>\n",
       "      <th>7</th>\n",
       "      <td>\\n\\n\\n</td>\n",
       "      <td>HTTP://www.yonhapnews.co.kr/society/2018/02/07...</td>\n",
       "    </tr>\n",
       "    <tr>\n",
       "      <th>8</th>\n",
       "      <td>5·18 계엄군 비무장 시민 향해…38년만에 드러난 헬기사격 진실</td>\n",
       "      <td>HTTP://www.yonhapnews.co.kr/society/2018/02/07...</td>\n",
       "    </tr>\n",
       "    <tr>\n",
       "      <th>9</th>\n",
       "      <td></td>\n",
       "      <td>HTTP://www.yonhapnews.co.kr/society/2018/02/07...</td>\n",
       "    </tr>\n",
       "    <tr>\n",
       "      <th>10</th>\n",
       "      <td>이건리 5·18특조위원장 \"헬기 사격 처음 밝혀내\"</td>\n",
       "      <td>HTTP://www.yonhapnews.co.kr/politics/2018/02/0...</td>\n",
       "    </tr>\n",
       "    <tr>\n",
       "      <th>11</th>\n",
       "      <td>\"무장폭도 핵심점 사격 소탕\"…5·18특조위 공개 헬기작전 지침</td>\n",
       "      <td>HTTP://www.yonhapnews.co.kr/politics/2018/02/0...</td>\n",
       "    </tr>\n",
       "    <tr>\n",
       "      <th>12</th>\n",
       "      <td>5·18특조위 \"헬기 사격 있었고 전투기 폭탄장착 대기\"</td>\n",
       "      <td>HTTP://www.yonhapnews.co.kr/politics/2018/02/0...</td>\n",
       "    </tr>\n",
       "    <tr>\n",
       "      <th>13</th>\n",
       "      <td>5·18단체 \"헬기사격 명령자 없이 사람만 죽었나…밝혀내야\"</td>\n",
       "      <td>HTTP://www.yonhapnews.co.kr/society/2018/02/07...</td>\n",
       "    </tr>\n",
       "    <tr>\n",
       "      <th>14</th>\n",
       "      <td>\\n\\n\\n</td>\n",
       "      <td>HTTP://www.yonhapnews.co.kr/society/2018/02/07...</td>\n",
       "    </tr>\n",
       "    <tr>\n",
       "      <th>15</th>\n",
       "      <td>강원랜드 비리 수사단장 양부남 \"일체 고려없이 수사\"</td>\n",
       "      <td>HTTP://www.yonhapnews.co.kr/society/2018/02/07...</td>\n",
       "    </tr>\n",
       "    <tr>\n",
       "      <th>16</th>\n",
       "      <td>'강원랜드 채용비리' 수사단장 양부남(57·사법연수원 22기) 광주지검장은 7일 \"...</td>\n",
       "      <td>HTTP://www.yonhapnews.co.kr/society/2018/02/07...</td>\n",
       "    </tr>\n",
       "    <tr>\n",
       "      <th>17</th>\n",
       "      <td>'강원랜드 비리 수사단' 인선 마치고 수사돌입…'독립성' 최우선</td>\n",
       "      <td>HTTP://www.yonhapnews.co.kr/politics/2018/02/0...</td>\n",
       "    </tr>\n",
       "    <tr>\n",
       "      <th>18</th>\n",
       "      <td>정해구 \"권력구조 포함한 정부 개헌안, 3월 중순께 대통령 보고\"</td>\n",
       "      <td>HTTP://www.yonhapnews.co.kr/politics/2018/02/0...</td>\n",
       "    </tr>\n",
       "    <tr>\n",
       "      <th>19</th>\n",
       "      <td>대통령 직속 기구인 정책기획위원회는 7일 문재인 대통령이 정부 개헌안 마련을 지시한...</td>\n",
       "      <td>HTTP://www.yonhapnews.co.kr/politics/2018/02/0...</td>\n",
       "    </tr>\n",
       "    <tr>\n",
       "      <th>20</th>\n",
       "      <td>\\n\\n\\n</td>\n",
       "      <td>HTTP://www.yonhapnews.co.kr/sports/2018/02/07/...</td>\n",
       "    </tr>\n",
       "    <tr>\n",
       "      <th>21</th>\n",
       "      <td>'쾌지나 칭칭 나네'에 맞춰 한국 선수단 공식 입촌</td>\n",
       "      <td>HTTP://www.yonhapnews.co.kr/sports/2018/02/07/...</td>\n",
       "    </tr>\n",
       "    <tr>\n",
       "      <th>22</th>\n",
       "      <td></td>\n",
       "      <td>HTTP://www.yonhapnews.co.kr/sports/2018/02/07/...</td>\n",
       "    </tr>\n",
       "    <tr>\n",
       "      <th>23</th>\n",
       "      <td>南김규은이 준비한 北렴대옥 생일선물…립밤, 수분팩, 핫팩</td>\n",
       "      <td>HTTP://www.yonhapnews.co.kr/sports/2018/02/07/...</td>\n",
       "    </tr>\n",
       "    <tr>\n",
       "      <th>24</th>\n",
       "      <td>\"단일팀 말고 단일팀 경기에 관심을…'전승' 목표\"</td>\n",
       "      <td>HTTP://www.yonhapnews.co.kr/politics/2018/02/0...</td>\n",
       "    </tr>\n",
       "    <tr>\n",
       "      <th>25</th>\n",
       "      <td>29살 맏형부터 19살 막내까지…'화기애애' 男 쇼트트랙팀</td>\n",
       "      <td>HTTP://www.yonhapnews.co.kr/sports/2018/02/07/...</td>\n",
       "    </tr>\n",
       "    <tr>\n",
       "      <th>26</th>\n",
       "      <td>공식연습에 '땅땅' 망치 소리…스키점프장은 아직 '준비 중'</td>\n",
       "      <td>HTTP://www.yonhapnews.co.kr/sports/2018/02/07/...</td>\n",
       "    </tr>\n",
       "    <tr>\n",
       "      <th>27</th>\n",
       "      <td>\\n\\n\\n</td>\n",
       "      <td>HTTP://www.yonhapnews.co.kr/economy/2018/02/07...</td>\n",
       "    </tr>\n",
       "    <tr>\n",
       "      <th>28</th>\n",
       "      <td>내일부터 최고금리 연 24%…안전망대출 접수 시작</td>\n",
       "      <td>HTTP://www.yonhapnews.co.kr/economy/2018/02/07...</td>\n",
       "    </tr>\n",
       "    <tr>\n",
       "      <th>29</th>\n",
       "      <td>8일부터 법정최고금리가 연 24%로 낮아진다. 정부는 최고금리 인하로 제도권 대출이...</td>\n",
       "      <td>HTTP://www.yonhapnews.co.kr/economy/2018/02/07...</td>\n",
       "    </tr>\n",
       "    <tr>\n",
       "      <th>...</th>\n",
       "      <td>...</td>\n",
       "      <td>...</td>\n",
       "    </tr>\n",
       "    <tr>\n",
       "      <th>136</th>\n",
       "      <td>김명민 \"'설날엔 '조선명탐정'…의무감 생겼습니다\"</td>\n",
       "      <td>HTTP://www.yonhapnews.co.kr/tongtongtv/2018/01...</td>\n",
       "    </tr>\n",
       "    <tr>\n",
       "      <th>137</th>\n",
       "      <td>밀레니엄 베이비 TRCNG 새해 출사표…\"10대의 챔피언 될래요\"</td>\n",
       "      <td>HTTP://www.yonhapnews.co.kr/tongtongtv/2018/01...</td>\n",
       "    </tr>\n",
       "    <tr>\n",
       "      <th>138</th>\n",
       "      <td>[리뷰] 담백해서 더 날카로운 연출 '1987'</td>\n",
       "      <td>HTTP://www.yonhapnews.co.kr/tongtongtv/2017/12...</td>\n",
       "    </tr>\n",
       "    <tr>\n",
       "      <th>139</th>\n",
       "      <td>[카드뉴스] 국회의원 여러분, 시간 약속 좀 지킵시다</td>\n",
       "      <td>HTTP://www.yonhapnews.co.kr/politics/2018/02/0...</td>\n",
       "    </tr>\n",
       "    <tr>\n",
       "      <th>140</th>\n",
       "      <td>[카드뉴스] \"우리아이, 청소년 전용 클럽에 보내도 될까요\"</td>\n",
       "      <td>HTTP://www.yonhapnews.co.kr/society/2018/02/05...</td>\n",
       "    </tr>\n",
       "    <tr>\n",
       "      <th>141</th>\n",
       "      <td>[올림픽] ESPN 매거진 표지 장식 클로이 김…차세대 올림픽 영웅</td>\n",
       "      <td>HTTP://www.yonhapnews.co.kr/international/2018...</td>\n",
       "    </tr>\n",
       "    <tr>\n",
       "      <th>142</th>\n",
       "      <td>[올림픽] 이상화 \"부담 없어요…나 자신만 믿으면 돼\"</td>\n",
       "      <td>HTTP://www.yonhapnews.co.kr/sports/2018/02/07/...</td>\n",
       "    </tr>\n",
       "    <tr>\n",
       "      <th>143</th>\n",
       "      <td>f루나·신인 혜다, 9일 '프리 섬바디' 듀엣 버전 발표</td>\n",
       "      <td>HTTP://www.yonhapnews.co.kr/entertainment/2018...</td>\n",
       "    </tr>\n",
       "    <tr>\n",
       "      <th>144</th>\n",
       "      <td>'K팝스타 5' 김예림·'슈스케 7' 나율, 듀엣 결성</td>\n",
       "      <td>HTTP://www.yonhapnews.co.kr/entertainment/2018...</td>\n",
       "    </tr>\n",
       "    <tr>\n",
       "      <th>145</th>\n",
       "      <td>에버랜드, 설 연휴 이벤트 '스트레스 훌훌 날리시개'</td>\n",
       "      <td>HTTP://www.yonhapnews.co.kr/society/2018/02/07...</td>\n",
       "    </tr>\n",
       "    <tr>\n",
       "      <th>146</th>\n",
       "      <td>포항∼영덕 동해선 철도 이용객 몰려 '대박 예감'</td>\n",
       "      <td>HTTP://www.yonhapnews.co.kr/society/2018/02/06...</td>\n",
       "    </tr>\n",
       "    <tr>\n",
       "      <th>147</th>\n",
       "      <td>[쉿! 우리동네] 수에즈운하보다 수백 년 앞선 굴포운하</td>\n",
       "      <td>HTTP://www.yonhapnews.co.kr/society/2018/01/17...</td>\n",
       "    </tr>\n",
       "    <tr>\n",
       "      <th>148</th>\n",
       "      <td>[쉿! 우리동네] 살기엔 '척박한 땅'…황태 만들기엔 '최적'</td>\n",
       "      <td>HTTP://www.yonhapnews.co.kr/society/2018/01/23...</td>\n",
       "    </tr>\n",
       "    <tr>\n",
       "      <th>149</th>\n",
       "      <td>\\n\\n\\n\\n\\n\\n\"성추행 감찰 불발 뒤이어 인사보복\"…진상조사단 경위 수사\\n\\n</td>\n",
       "      <td>HTTP://www.yonhapnews.co.kr/society/2018/02/07...</td>\n",
       "    </tr>\n",
       "    <tr>\n",
       "      <th>150</th>\n",
       "      <td>\\n\\n\\n\\n\\n\\n작년 북미시장서 애플 '찜찜한 1위'…삼성·LG는 '선방' \\n\\n</td>\n",
       "      <td>HTTP://www.yonhapnews.co.kr/it/2018/02/07/2401...</td>\n",
       "    </tr>\n",
       "    <tr>\n",
       "      <th>151</th>\n",
       "      <td>\\n\\n\\n\\n\\n\\n'네이버 댓글조작 의혹' 서울 사이버수사대가 맡는다 \\n\\n</td>\n",
       "      <td>HTTP://www.yonhapnews.co.kr/society/2018/02/07...</td>\n",
       "    </tr>\n",
       "    <tr>\n",
       "      <th>152</th>\n",
       "      <td>\\n\\n\\n\\n\\n\\n서울시, 이주시기 조정권 본격 행사하나…잠실 재건축 심사대에 ...</td>\n",
       "      <td>HTTP://www.yonhapnews.co.kr/economy/2018/02/06...</td>\n",
       "    </tr>\n",
       "    <tr>\n",
       "      <th>153</th>\n",
       "      <td>\\n\\n\\n\\n\\n\\n중기중앙회장 후보 정회원 10% 추천제 폐지…'현직 기득권 포...</td>\n",
       "      <td>HTTP://www.yonhapnews.co.kr/economy/2018/02/06...</td>\n",
       "    </tr>\n",
       "    <tr>\n",
       "      <th>154</th>\n",
       "      <td>\\n\\n\\n\\n\\n\\n[SNS돋보기] 6살 원생에게 주먹질한 보육교사…\"아직도 이런...</td>\n",
       "      <td>HTTP://www.yonhapnews.co.kr/sns/2018/02/07/160...</td>\n",
       "    </tr>\n",
       "    <tr>\n",
       "      <th>155</th>\n",
       "      <td>\\n\\n\\n\\n\\n\\n[SNS돋보기] 초1 학부모 '10시 출근' 추진…\"얼른 정착...</td>\n",
       "      <td>HTTP://www.yonhapnews.co.kr/society/2018/02/06...</td>\n",
       "    </tr>\n",
       "    <tr>\n",
       "      <th>156</th>\n",
       "      <td>\\n\\n\\n\\n\\n\\n부산 부경대 같은 학과에 나란히 합격한 모녀\\n\\n</td>\n",
       "      <td>HTTP://www.yonhapnews.co.kr/society/2018/02/07...</td>\n",
       "    </tr>\n",
       "    <tr>\n",
       "      <th>157</th>\n",
       "      <td>\\n\\n\\n\\n\\n\\n이미현과 박윤정…평창에서 뿌리 찾는 입양아들\\n\\n</td>\n",
       "      <td>HTTP://www.yonhapnews.co.kr/international/2018...</td>\n",
       "    </tr>\n",
       "    <tr>\n",
       "      <th>158</th>\n",
       "      <td>\\n\\n\\n\\n\\n\\n\"천식약, 대동맥류 진행 억제\"\\n\\n</td>\n",
       "      <td>HTTP://www.yonhapnews.co.kr/international/2018...</td>\n",
       "    </tr>\n",
       "    <tr>\n",
       "      <th>159</th>\n",
       "      <td>\\n\\n\\n\\n\\n\\n\"체내 아연 부족이 아토피·천식 면역질환 야기할 수도\" \\n\\n</td>\n",
       "      <td>HTTP://www.yonhapnews.co.kr/society/2018/02/07...</td>\n",
       "    </tr>\n",
       "    <tr>\n",
       "      <th>160</th>\n",
       "      <td>\\n\\n\\n\\n\\n\\n\"진통제 타이레놀·이부프로펜, 마음의 아픔에도 영향\" \\n\\n</td>\n",
       "      <td>HTTP://www.yonhapnews.co.kr/international/2018...</td>\n",
       "    </tr>\n",
       "    <tr>\n",
       "      <th>161</th>\n",
       "      <td>\\n\\n\\n\\n\\n\\n[명의에게 묻다] '진행성간암'은 희망없다?…\"이젠 완치도 가...</td>\n",
       "      <td>HTTP://www.yonhapnews.co.kr/health/2018/02/06/...</td>\n",
       "    </tr>\n",
       "    <tr>\n",
       "      <th>162</th>\n",
       "      <td>\\n\\n\\n\\n\\n\\n[신간] 노자와 탈현대 문명·류스페이 사상선집\\n\\n</td>\n",
       "      <td>HTTP://www.yonhapnews.co.kr/culture/2018/02/07...</td>\n",
       "    </tr>\n",
       "    <tr>\n",
       "      <th>163</th>\n",
       "      <td>\\n\\n\\n\\n\\n\\n일본사회를 조종하는 보이지 않는 힘 '공기' \\n\\n</td>\n",
       "      <td>HTTP://www.yonhapnews.co.kr/review/2018/02/07/...</td>\n",
       "    </tr>\n",
       "    <tr>\n",
       "      <th>164</th>\n",
       "      <td>\\n\\n\\n\\n\\n\\n[신간] 한국 여성을 위한 목회상담·장 바니에 언제나… \\n\\n</td>\n",
       "      <td>HTTP://www.yonhapnews.co.kr/culture/2018/02/07...</td>\n",
       "    </tr>\n",
       "    <tr>\n",
       "      <th>165</th>\n",
       "      <td>\\n\\n\\n\\n\\n\\n한국에 온 핀란드 '괴짜 노인 그럼프'…소설 출간 \\n\\n</td>\n",
       "      <td>HTTP://www.yonhapnews.co.kr/review/2018/02/06/...</td>\n",
       "    </tr>\n",
       "  </tbody>\n",
       "</table>\n",
       "<p>166 rows × 2 columns</p>\n",
       "</div>"
      ],
      "text/plain": [
       "                                                     0  \\\n",
       "0                      방남 北응원단\"기존에 없던것 보여줄 생각…보시면 압네다\"   \n",
       "1                             北고위급대표단 빼고 다 왔다…응원단도 방남    \n",
       "2                          김일국 체육상 \"힘 합쳐 이번 대회 잘 합시다\"    \n",
       "3                          13년 만에 온 북한 응원단…대부분 20대 여성    \n",
       "4                                北김여정 평창 오나…가능성 증가 관측    \n",
       "5                          통일부 \"北에서 만경봉92호 유류 요청…검토중\"    \n",
       "6                             통일차관 주재로 오늘밤 北응원단 등 환영만찬   \n",
       "7                                               \\n\\n\\n   \n",
       "8                5·18 계엄군 비무장 시민 향해…38년만에 드러난 헬기사격 진실    \n",
       "9                                                        \n",
       "10                       이건리 5·18특조위원장 \"헬기 사격 처음 밝혀내\"    \n",
       "11                \"무장폭도 핵심점 사격 소탕\"…5·18특조위 공개 헬기작전 지침    \n",
       "12                    5·18특조위 \"헬기 사격 있었고 전투기 폭탄장착 대기\"    \n",
       "13                  5·18단체 \"헬기사격 명령자 없이 사람만 죽었나…밝혀내야\"    \n",
       "14                                              \\n\\n\\n   \n",
       "15                      강원랜드 비리 수사단장 양부남 \"일체 고려없이 수사\"    \n",
       "16   '강원랜드 채용비리' 수사단장 양부남(57·사법연수원 22기) 광주지검장은 7일 \"...   \n",
       "17                '강원랜드 비리 수사단' 인선 마치고 수사돌입…'독립성' 최우선    \n",
       "18               정해구 \"권력구조 포함한 정부 개헌안, 3월 중순께 대통령 보고\"    \n",
       "19   대통령 직속 기구인 정책기획위원회는 7일 문재인 대통령이 정부 개헌안 마련을 지시한...   \n",
       "20                                              \\n\\n\\n   \n",
       "21                       '쾌지나 칭칭 나네'에 맞춰 한국 선수단 공식 입촌    \n",
       "22                                                       \n",
       "23                    南김규은이 준비한 北렴대옥 생일선물…립밤, 수분팩, 핫팩    \n",
       "24                       \"단일팀 말고 단일팀 경기에 관심을…'전승' 목표\"    \n",
       "25                   29살 맏형부터 19살 막내까지…'화기애애' 男 쇼트트랙팀    \n",
       "26                  공식연습에 '땅땅' 망치 소리…스키점프장은 아직 '준비 중'    \n",
       "27                                              \\n\\n\\n   \n",
       "28                        내일부터 최고금리 연 24%…안전망대출 접수 시작    \n",
       "29   8일부터 법정최고금리가 연 24%로 낮아진다. 정부는 최고금리 인하로 제도권 대출이...   \n",
       "..                                                 ...   \n",
       "136                      김명민 \"'설날엔 '조선명탐정'…의무감 생겼습니다\"    \n",
       "137              밀레니엄 베이비 TRCNG 새해 출사표…\"10대의 챔피언 될래요\"    \n",
       "138                        [리뷰] 담백해서 더 날카로운 연출 '1987'    \n",
       "139                    [카드뉴스] 국회의원 여러분, 시간 약속 좀 지킵시다     \n",
       "140                [카드뉴스] \"우리아이, 청소년 전용 클럽에 보내도 될까요\"     \n",
       "141            [올림픽] ESPN 매거진 표지 장식 클로이 김…차세대 올림픽 영웅     \n",
       "142                   [올림픽] 이상화 \"부담 없어요…나 자신만 믿으면 돼\"     \n",
       "143                  f루나·신인 혜다, 9일 '프리 섬바디' 듀엣 버전 발표     \n",
       "144                   'K팝스타 5' 김예림·'슈스케 7' 나율, 듀엣 결성     \n",
       "145                    에버랜드, 설 연휴 이벤트 '스트레스 훌훌 날리시개'     \n",
       "146                      포항∼영덕 동해선 철도 이용객 몰려 '대박 예감'     \n",
       "147                     [쉿! 우리동네] 수에즈운하보다 수백 년 앞선 굴포운하   \n",
       "148                [쉿! 우리동네] 살기엔 '척박한 땅'…황태 만들기엔 '최적'    \n",
       "149   \\n\\n\\n\\n\\n\\n\"성추행 감찰 불발 뒤이어 인사보복\"…진상조사단 경위 수사\\n\\n   \n",
       "150  \\n\\n\\n\\n\\n\\n작년 북미시장서 애플 '찜찜한 1위'…삼성·LG는 '선방' \\n\\n   \n",
       "151      \\n\\n\\n\\n\\n\\n'네이버 댓글조작 의혹' 서울 사이버수사대가 맡는다 \\n\\n   \n",
       "152  \\n\\n\\n\\n\\n\\n서울시, 이주시기 조정권 본격 행사하나…잠실 재건축 심사대에 ...   \n",
       "153  \\n\\n\\n\\n\\n\\n중기중앙회장 후보 정회원 10% 추천제 폐지…'현직 기득권 포...   \n",
       "154  \\n\\n\\n\\n\\n\\n[SNS돋보기] 6살 원생에게 주먹질한 보육교사…\"아직도 이런...   \n",
       "155  \\n\\n\\n\\n\\n\\n[SNS돋보기] 초1 학부모 '10시 출근' 추진…\"얼른 정착...   \n",
       "156           \\n\\n\\n\\n\\n\\n부산 부경대 같은 학과에 나란히 합격한 모녀\\n\\n   \n",
       "157           \\n\\n\\n\\n\\n\\n이미현과 박윤정…평창에서 뿌리 찾는 입양아들\\n\\n   \n",
       "158                  \\n\\n\\n\\n\\n\\n\"천식약, 대동맥류 진행 억제\"\\n\\n   \n",
       "159    \\n\\n\\n\\n\\n\\n\"체내 아연 부족이 아토피·천식 면역질환 야기할 수도\" \\n\\n   \n",
       "160     \\n\\n\\n\\n\\n\\n\"진통제 타이레놀·이부프로펜, 마음의 아픔에도 영향\" \\n\\n   \n",
       "161  \\n\\n\\n\\n\\n\\n[명의에게 묻다] '진행성간암'은 희망없다?…\"이젠 완치도 가...   \n",
       "162          \\n\\n\\n\\n\\n\\n[신간] 노자와 탈현대 문명·류스페이 사상선집\\n\\n   \n",
       "163          \\n\\n\\n\\n\\n\\n일본사회를 조종하는 보이지 않는 힘 '공기' \\n\\n   \n",
       "164    \\n\\n\\n\\n\\n\\n[신간] 한국 여성을 위한 목회상담·장 바니에 언제나… \\n\\n   \n",
       "165       \\n\\n\\n\\n\\n\\n한국에 온 핀란드 '괴짜 노인 그럼프'…소설 출간 \\n\\n   \n",
       "\n",
       "                                                     1  \n",
       "0    HTTP://www.yonhapnews.co.kr/politics/2018/02/0...  \n",
       "1    HTTP://www.yonhapnews.co.kr/politics/2018/02/0...  \n",
       "2    HTTP://www.yonhapnews.co.kr/sports/2018/02/07/...  \n",
       "3    HTTP://www.yonhapnews.co.kr/politics/2018/02/0...  \n",
       "4    HTTP://www.yonhapnews.co.kr/politics/2018/02/0...  \n",
       "5    HTTP://www.yonhapnews.co.kr/sports/2018/02/07/...  \n",
       "6    HTTP://www.yonhapnews.co.kr/politics/2018/02/0...  \n",
       "7    HTTP://www.yonhapnews.co.kr/society/2018/02/07...  \n",
       "8    HTTP://www.yonhapnews.co.kr/society/2018/02/07...  \n",
       "9    HTTP://www.yonhapnews.co.kr/society/2018/02/07...  \n",
       "10   HTTP://www.yonhapnews.co.kr/politics/2018/02/0...  \n",
       "11   HTTP://www.yonhapnews.co.kr/politics/2018/02/0...  \n",
       "12   HTTP://www.yonhapnews.co.kr/politics/2018/02/0...  \n",
       "13   HTTP://www.yonhapnews.co.kr/society/2018/02/07...  \n",
       "14   HTTP://www.yonhapnews.co.kr/society/2018/02/07...  \n",
       "15   HTTP://www.yonhapnews.co.kr/society/2018/02/07...  \n",
       "16   HTTP://www.yonhapnews.co.kr/society/2018/02/07...  \n",
       "17   HTTP://www.yonhapnews.co.kr/politics/2018/02/0...  \n",
       "18   HTTP://www.yonhapnews.co.kr/politics/2018/02/0...  \n",
       "19   HTTP://www.yonhapnews.co.kr/politics/2018/02/0...  \n",
       "20   HTTP://www.yonhapnews.co.kr/sports/2018/02/07/...  \n",
       "21   HTTP://www.yonhapnews.co.kr/sports/2018/02/07/...  \n",
       "22   HTTP://www.yonhapnews.co.kr/sports/2018/02/07/...  \n",
       "23   HTTP://www.yonhapnews.co.kr/sports/2018/02/07/...  \n",
       "24   HTTP://www.yonhapnews.co.kr/politics/2018/02/0...  \n",
       "25   HTTP://www.yonhapnews.co.kr/sports/2018/02/07/...  \n",
       "26   HTTP://www.yonhapnews.co.kr/sports/2018/02/07/...  \n",
       "27   HTTP://www.yonhapnews.co.kr/economy/2018/02/07...  \n",
       "28   HTTP://www.yonhapnews.co.kr/economy/2018/02/07...  \n",
       "29   HTTP://www.yonhapnews.co.kr/economy/2018/02/07...  \n",
       "..                                                 ...  \n",
       "136  HTTP://www.yonhapnews.co.kr/tongtongtv/2018/01...  \n",
       "137  HTTP://www.yonhapnews.co.kr/tongtongtv/2018/01...  \n",
       "138  HTTP://www.yonhapnews.co.kr/tongtongtv/2017/12...  \n",
       "139  HTTP://www.yonhapnews.co.kr/politics/2018/02/0...  \n",
       "140  HTTP://www.yonhapnews.co.kr/society/2018/02/05...  \n",
       "141  HTTP://www.yonhapnews.co.kr/international/2018...  \n",
       "142  HTTP://www.yonhapnews.co.kr/sports/2018/02/07/...  \n",
       "143  HTTP://www.yonhapnews.co.kr/entertainment/2018...  \n",
       "144  HTTP://www.yonhapnews.co.kr/entertainment/2018...  \n",
       "145  HTTP://www.yonhapnews.co.kr/society/2018/02/07...  \n",
       "146  HTTP://www.yonhapnews.co.kr/society/2018/02/06...  \n",
       "147  HTTP://www.yonhapnews.co.kr/society/2018/01/17...  \n",
       "148  HTTP://www.yonhapnews.co.kr/society/2018/01/23...  \n",
       "149  HTTP://www.yonhapnews.co.kr/society/2018/02/07...  \n",
       "150  HTTP://www.yonhapnews.co.kr/it/2018/02/07/2401...  \n",
       "151  HTTP://www.yonhapnews.co.kr/society/2018/02/07...  \n",
       "152  HTTP://www.yonhapnews.co.kr/economy/2018/02/06...  \n",
       "153  HTTP://www.yonhapnews.co.kr/economy/2018/02/06...  \n",
       "154  HTTP://www.yonhapnews.co.kr/sns/2018/02/07/160...  \n",
       "155  HTTP://www.yonhapnews.co.kr/society/2018/02/06...  \n",
       "156  HTTP://www.yonhapnews.co.kr/society/2018/02/07...  \n",
       "157  HTTP://www.yonhapnews.co.kr/international/2018...  \n",
       "158  HTTP://www.yonhapnews.co.kr/international/2018...  \n",
       "159  HTTP://www.yonhapnews.co.kr/society/2018/02/07...  \n",
       "160  HTTP://www.yonhapnews.co.kr/international/2018...  \n",
       "161  HTTP://www.yonhapnews.co.kr/health/2018/02/06/...  \n",
       "162  HTTP://www.yonhapnews.co.kr/culture/2018/02/07...  \n",
       "163  HTTP://www.yonhapnews.co.kr/review/2018/02/07/...  \n",
       "164  HTTP://www.yonhapnews.co.kr/culture/2018/02/07...  \n",
       "165  HTTP://www.yonhapnews.co.kr/review/2018/02/06/...  \n",
       "\n",
       "[166 rows x 2 columns]"
      ]
     },
     "execution_count": 176,
     "metadata": {},
     "output_type": "execute_result"
    }
   ],
   "source": [
    "DataFrame(기사링크들)"
   ]
  },
  {
   "cell_type": "code",
   "execution_count": 178,
   "metadata": {},
   "outputs": [],
   "source": [
    "url = 기사링크들[0][1]"
   ]
  },
  {
   "cell_type": "code",
   "execution_count": 179,
   "metadata": {
    "collapsed": true
   },
   "outputs": [],
   "source": [
    "응답 = requests.get(url)"
   ]
  },
  {
   "cell_type": "code",
   "execution_count": 181,
   "metadata": {},
   "outputs": [],
   "source": [
    "응답.encoding = 'utf-8'"
   ]
  },
  {
   "cell_type": "code",
   "execution_count": 183,
   "metadata": {
    "collapsed": true
   },
   "outputs": [],
   "source": [
    "웹페이지 = BeautifulSoup(응답.text, 'lxml')"
   ]
  },
  {
   "cell_type": "code",
   "execution_count": 185,
   "metadata": {},
   "outputs": [
    {
     "data": {
      "text/plain": [
       "'방남 北응원단 \"기존에 없던 것 보여줄 생각…보시면 압네다\"(종합)'"
      ]
     },
     "execution_count": 185,
     "metadata": {},
     "output_type": "execute_result"
    }
   ],
   "source": [
    "웹페이지.title.text"
   ]
  },
  {
   "cell_type": "code",
   "execution_count": 188,
   "metadata": {},
   "outputs": [],
   "source": [
    "본문 = '\\n'.join(\n",
    "    문단.text for 문단 in 웹페이지.select('.article p'))"
   ]
  },
  {
   "cell_type": "code",
   "execution_count": 189,
   "metadata": {
    "collapsed": true
   },
   "outputs": [
    {
     "name": "stdout",
     "output_type": "stream",
     "text": [
      "\n",
      "\n",
      "    (도라산·서울=연합뉴스) 공동취재단 이정진 김정은 기자 = 평창동계올림픽에서 남북 선수들을 응원할 북한 응원단과 태권도시범단 등이 7일 방남했다. \n",
      "    버스 9대에 나눠타고 이날 오전 9시 28분 경기 파주의 도라산 남북출입사무소(CIQ)에 도착한 이들은 10시 13분부터 기자단, 응원단, 태권도시범단, 민족올림픽위원회(NOC) 관계자 순으로 차례차례 남측 출구로 나왔다.\n",
      "    남성들은 검은색 코트에 털모자, 여성들은 붉은 코트에 검은색 털모자와 목도리에 자주색 여행용 가방을 끌었다. 모두 가슴에는 인공기 배지를 달고 있었다. \n",
      "    응원단 소속 여성들은 165cm 정도의 키가 눈에 띄었고, 얼굴에 미소를 띤 채 비교적 밝은 얼굴로 남한 땅을 밟았다. \n",
      "    단장 격으로 보이는 한 20대 여성은 함박웃음을 지으며 남측 취재진에게 \"반갑습니다\"라고 인사했다. \n",
      "    모두 평양에서 왔느냐는 질문에 고개를 끄덕끄덕하고는 \"평양에서 2∼3시간 걸려서 왔습니다\"하고 수줍게 웃었다. 이들은 오전 7시께 출발한 것으로 전해졌다.\n",
      "    특히 취재진이 '응원은 무엇을 준비하셨나, 준비 많이 하셨나'라고 묻자 이 단장 격의 여성은 잠시 당혹해 하다가 \"보시면 압네다. 지금 다 이야기하면 재미없지 않습네까\"라고 응수했다. \n",
      "    한 여성은 \"활기있고 박력 있는 응원을 하겠습니다\"라고 말했지만, 대부분의 단원은 취재진의 질문에도 거의 대답을 하지 않은 채 \"반갑습니다\"라는 인사만 반복했다. \n",
      "    또 '북측만 응원하느냐'는 질문에 \"아니다\"라고 말한 뒤 명확하지는 않지만 \"이웃팀도 응원한다\"고 말하는 것처럼 들렸다.\n",
      "    응원단은 평창동계올림픽 기간에 북측 선수들의 경기와 여자 아이스하키 단일팀 경기뿐만 아니라 남측 선수들의 일부 경기에서도 응원전을 펼칠 것으로 알려졌다.\n",
      "\n",
      "\n",
      "\n",
      "    응원단의 나이를 묻는 말에는 \"각양각색입니다\", \"25살입니다\" 등 대부분 20대라는 취지의 답변이 돌아왔다.\n",
      "    응원단에 포함된 40대로 보이는 한 여성은 방남 소감을 묻자 \"통일을 이룩하기 위해 왔다. 우리가 힘을 합쳐 응원하도록 준비했다\"고 말했다. '한 달간 준비했느냐'고 묻자 \"며칠밖에 준비 못했다\"는 답이 돌아왔다. \n",
      "    응원단 중에는 악기를 들고 있는 경우도 많았다. 꽹과리와 징, 소고, 대고 등 민속악기와 클라리넷을 비롯한 서양악기가 두루 눈에 띄었다. 응원단에는 일종의 밴드인 '취주악단'도 포함된 것으로 전해졌다.\n",
      "    보장성원(행사 지원인력)으로 보이는 한 남성에 '어떤 연주를 보여줄 것이냐'고 묻자 \"좌우지간 기존에 없던 것을 보여줄 생각\"이라고 말했다.\n",
      "\n",
      "\n",
      "\n",
      "    응원단에 앞서 들어온 북한 기자단은 모두 조선중앙통신 소속으로, 카메라를 한 대씩 들고 들어왔다. 여성 기자들도 포함돼 있었다. \"북에서도 이번 올림픽에 관심이 많냐\"고 물으니 기자 중 한 명이 \"그럼요. 민족적 대사인데\"라고 답했다.\n",
      "    응원단과 같은 붉은 코트를 입은 20대로 보이는 여기자가 니콘 카메라 2대를 멘 모습도 눈에 띄었다.\n",
      "    이날 방남한 북한 대표단은 김일국 체육상을 비롯한 북한 민족올림픽위원회(NOC) 관계자 4명과 응원단 229명, 태권도시범단 26명, 기자단 21명 등 북측 방남단 280명이다.\n",
      "    이들은 입경 수속을 마친 뒤 오전 11시39분께 CIQ를 떠났다. 응원단과 기자단은 41인승 버스 9대에 탑승했고 태권도시범단은 25인승 버스, NOC 관계자는 승용차 2대와 승합차 1대에 나눠탔다. 이들은 모두 강원도의 숙소로 향한 것으로 전해졌다.\n",
      "    NOC 관계자들은 평창 홀리데이인 호텔, 응원단과 태권도시범단, 기자단은 인제 스피디움에서 묵는 것으로 알려졌다.\n",
      "    kje@yna.co.kr\n",
      "2018/02/07 13:19  송고\n"
     ]
    }
   ],
   "source": [
    "print(본문)"
   ]
  },
  {
   "cell_type": "code",
   "execution_count": 192,
   "metadata": {
    "collapsed": true
   },
   "outputs": [],
   "source": [
    "내용 = '[{}]\\n\\n{}'.format(웹페이지.title.text, 본문)"
   ]
  },
  {
   "cell_type": "code",
   "execution_count": 199,
   "metadata": {},
   "outputs": [
    {
     "data": {
      "text/plain": [
       "'연합뉴스-0505000000AKR20180207084551014.txt'"
      ]
     },
     "execution_count": 199,
     "metadata": {},
     "output_type": "execute_result"
    }
   ],
   "source": [
    "article_id = url.split('/')[-1].split('.')[0]\n",
    "filename = '연합뉴스-{}.txt'.format(article_id)\n",
    "filename"
   ]
  },
  {
   "cell_type": "code",
   "execution_count": 200,
   "metadata": {},
   "outputs": [],
   "source": [
    "with open(filename,'w', encoding='utf-8') as file:\n",
    "    file.write(내용)"
   ]
  },
  {
   "cell_type": "code",
   "execution_count": 201,
   "metadata": {
    "collapsed": true
   },
   "outputs": [],
   "source": [
    "from nltk.corpus import PlaintextCorpusReader"
   ]
  },
  {
   "cell_type": "code",
   "execution_count": 202,
   "metadata": {
    "collapsed": true
   },
   "outputs": [],
   "source": [
    "processor = pyko.OpenKoreanTextProcessor()"
   ]
  },
  {
   "cell_type": "code",
   "execution_count": 203,
   "metadata": {
    "collapsed": true
   },
   "outputs": [],
   "source": [
    "reader = PlaintextCorpusReader(\n",
    "    root='.', \n",
    "    fileids=['연합뉴스-0505000000AKR20180207084551014.txt'],\n",
    "    word_tokenizer=processor\n",
    ")"
   ]
  },
  {
   "cell_type": "code",
   "execution_count": 204,
   "metadata": {
    "collapsed": true
   },
   "outputs": [],
   "source": [
    "tokens = reader.words()"
   ]
  },
  {
   "cell_type": "code",
   "execution_count": 205,
   "metadata": {},
   "outputs": [
    {
     "data": {
      "text/plain": [
       "['[', '방남', '北', '응원단', '\"', '기존', '에', '없던', '것', ...]"
      ]
     },
     "execution_count": 205,
     "metadata": {},
     "output_type": "execute_result"
    }
   ],
   "source": [
    "tokens"
   ]
  },
  {
   "cell_type": "code",
   "execution_count": 206,
   "metadata": {},
   "outputs": [
    {
     "name": "stdout",
     "output_type": "stream",
     "text": [
      "올림픽 위원회; NOC 관계자\n"
     ]
    }
   ],
   "source": [
    "nltk.Text(tokens).collocations()"
   ]
  },
  {
   "cell_type": "markdown",
   "metadata": {},
   "source": [
    "# 품사 태그"
   ]
  },
  {
   "cell_type": "code",
   "execution_count": 207,
   "metadata": {
    "collapsed": true
   },
   "outputs": [],
   "source": [
    "from pyko.reader import SejongCorpusReader"
   ]
  },
  {
   "cell_type": "code",
   "execution_count": 208,
   "metadata": {
    "collapsed": true
   },
   "outputs": [],
   "source": [
    "sejong = SejongCorpusReader(\n",
    "    root='data/sejong/',\n",
    "    fileids='spoken/word_tag/.+\\.txt',\n",
    "    encoding='utf-16'\n",
    ")"
   ]
  },
  {
   "cell_type": "code",
   "execution_count": 209,
   "metadata": {
    "collapsed": true
   },
   "outputs": [
    {
     "data": {
      "text/plain": [
       "['spoken/word_tag/5CT_0013.txt',\n",
       " 'spoken/word_tag/5CT_0014.txt',\n",
       " 'spoken/word_tag/5CT_0015.txt',\n",
       " 'spoken/word_tag/5CT_0016.txt',\n",
       " 'spoken/word_tag/5CT_0017.txt',\n",
       " 'spoken/word_tag/5CT_0018.txt',\n",
       " 'spoken/word_tag/5CT_0019.txt',\n",
       " 'spoken/word_tag/5CT_0020.txt',\n",
       " 'spoken/word_tag/5CT_0021.txt',\n",
       " 'spoken/word_tag/5CT_0022.txt',\n",
       " 'spoken/word_tag/5CT_0023.txt',\n",
       " 'spoken/word_tag/5CT_0029.txt',\n",
       " 'spoken/word_tag/5CT_0030.txt',\n",
       " 'spoken/word_tag/5CT_0031.txt',\n",
       " 'spoken/word_tag/5CT_0032.txt',\n",
       " 'spoken/word_tag/5CT_0033.txt',\n",
       " 'spoken/word_tag/5CT_0034.txt',\n",
       " 'spoken/word_tag/5CT_0035.txt',\n",
       " 'spoken/word_tag/5CT_0036.txt',\n",
       " 'spoken/word_tag/5CT_0037.txt',\n",
       " 'spoken/word_tag/5CT_0038.txt',\n",
       " 'spoken/word_tag/5CT_0039.txt',\n",
       " 'spoken/word_tag/5CT_0040.txt',\n",
       " 'spoken/word_tag/5CT_0041.txt',\n",
       " 'spoken/word_tag/5CT_0042.txt',\n",
       " 'spoken/word_tag/5CT_0043.txt',\n",
       " 'spoken/word_tag/5CT_0044.txt',\n",
       " 'spoken/word_tag/5CT_0045.txt',\n",
       " 'spoken/word_tag/5CT_0046.txt',\n",
       " 'spoken/word_tag/5CT_0047.txt',\n",
       " 'spoken/word_tag/5CT_0048.txt',\n",
       " 'spoken/word_tag/5CT_0049.txt',\n",
       " 'spoken/word_tag/5CT_0050.txt',\n",
       " 'spoken/word_tag/5CT_0051.txt',\n",
       " 'spoken/word_tag/5CT_0052.txt',\n",
       " 'spoken/word_tag/5CT_0053.txt',\n",
       " 'spoken/word_tag/5CT_0054.txt',\n",
       " 'spoken/word_tag/5CT_0055.txt',\n",
       " 'spoken/word_tag/5CT_0056.txt',\n",
       " 'spoken/word_tag/5CT_0057.txt',\n",
       " 'spoken/word_tag/5CT_0058.txt',\n",
       " 'spoken/word_tag/6CT_0002.txt',\n",
       " 'spoken/word_tag/6CT_0003.txt',\n",
       " 'spoken/word_tag/6CT_0004.txt',\n",
       " 'spoken/word_tag/6CT_0005.txt',\n",
       " 'spoken/word_tag/6CT_0006.txt',\n",
       " 'spoken/word_tag/6CT_0007.txt',\n",
       " 'spoken/word_tag/6CT_0008.txt',\n",
       " 'spoken/word_tag/6CT_0009.txt',\n",
       " 'spoken/word_tag/6CT_0010.txt',\n",
       " 'spoken/word_tag/6CT_0011.txt',\n",
       " 'spoken/word_tag/6CT_0012.txt',\n",
       " 'spoken/word_tag/6CT_0013.txt',\n",
       " 'spoken/word_tag/6CT_0014.txt',\n",
       " 'spoken/word_tag/6CT_0015.txt',\n",
       " 'spoken/word_tag/6CT_0016.txt',\n",
       " 'spoken/word_tag/6CT_0017.txt',\n",
       " 'spoken/word_tag/6CT_0018.txt',\n",
       " 'spoken/word_tag/6CT_0019.txt',\n",
       " 'spoken/word_tag/6CT_0020.txt',\n",
       " 'spoken/word_tag/6CT_0021.txt',\n",
       " 'spoken/word_tag/6CT_0022.txt',\n",
       " 'spoken/word_tag/6CT_0023.txt',\n",
       " 'spoken/word_tag/6CT_0024.txt',\n",
       " 'spoken/word_tag/6CT_0027.txt',\n",
       " 'spoken/word_tag/6CT_0028.txt',\n",
       " 'spoken/word_tag/6CT_0029.txt',\n",
       " 'spoken/word_tag/6CT_0030.txt',\n",
       " 'spoken/word_tag/6CT_0031.txt',\n",
       " 'spoken/word_tag/6CT_0032.txt',\n",
       " 'spoken/word_tag/6CT_0033.txt',\n",
       " 'spoken/word_tag/6CT_0034.txt',\n",
       " 'spoken/word_tag/6CT_0035.txt',\n",
       " 'spoken/word_tag/6CT_0036.txt',\n",
       " 'spoken/word_tag/6CT_0037.txt',\n",
       " 'spoken/word_tag/6CT_0038.txt',\n",
       " 'spoken/word_tag/6CT_0039.txt',\n",
       " 'spoken/word_tag/6CT_0040.txt',\n",
       " 'spoken/word_tag/6CT_0041.txt',\n",
       " 'spoken/word_tag/6CT_0042.txt',\n",
       " 'spoken/word_tag/6CT_0043.txt',\n",
       " 'spoken/word_tag/6CT_0044.txt',\n",
       " 'spoken/word_tag/6CT_0047.txt',\n",
       " 'spoken/word_tag/6CT_0048.txt',\n",
       " 'spoken/word_tag/6CT_0049.txt',\n",
       " 'spoken/word_tag/6CT_0050.txt',\n",
       " 'spoken/word_tag/6CT_0051.txt',\n",
       " 'spoken/word_tag/6CT_0052.txt',\n",
       " 'spoken/word_tag/6CT_0053.txt',\n",
       " 'spoken/word_tag/6CT_0054.txt',\n",
       " 'spoken/word_tag/6CT_0055.txt',\n",
       " 'spoken/word_tag/6CT_0056.txt',\n",
       " 'spoken/word_tag/6CT_0057.txt',\n",
       " 'spoken/word_tag/6CT_0058.txt',\n",
       " 'spoken/word_tag/6CT_0059.txt',\n",
       " 'spoken/word_tag/7CT_0001.txt',\n",
       " 'spoken/word_tag/7CT_0002.txt',\n",
       " 'spoken/word_tag/7CT_0003.txt',\n",
       " 'spoken/word_tag/7CT_0004.txt',\n",
       " 'spoken/word_tag/7CT_0005.txt',\n",
       " 'spoken/word_tag/7CT_0006.txt',\n",
       " 'spoken/word_tag/7CT_0007.txt',\n",
       " 'spoken/word_tag/7CT_0008.txt',\n",
       " 'spoken/word_tag/7CT_0009.txt',\n",
       " 'spoken/word_tag/7CT_0010.txt',\n",
       " 'spoken/word_tag/7CT_0011.txt',\n",
       " 'spoken/word_tag/7CT_0012.txt',\n",
       " 'spoken/word_tag/7CT_0013.txt',\n",
       " 'spoken/word_tag/7CT_0014.txt',\n",
       " 'spoken/word_tag/7CT_0015.txt',\n",
       " 'spoken/word_tag/7CT_0016.txt',\n",
       " 'spoken/word_tag/7CT_0017.txt',\n",
       " 'spoken/word_tag/7CT_0018.txt',\n",
       " 'spoken/word_tag/7CT_0019.txt',\n",
       " 'spoken/word_tag/7CT_0020.txt',\n",
       " 'spoken/word_tag/7CT_0021.txt',\n",
       " 'spoken/word_tag/7CT_0022.txt',\n",
       " 'spoken/word_tag/7CT_0023.txt',\n",
       " 'spoken/word_tag/7CT_0024.txt',\n",
       " 'spoken/word_tag/7CT_0025.txt',\n",
       " 'spoken/word_tag/7CT_0026.txt',\n",
       " 'spoken/word_tag/7CT_0027.txt',\n",
       " 'spoken/word_tag/7CT_0028.txt',\n",
       " 'spoken/word_tag/7CT_0029.txt',\n",
       " 'spoken/word_tag/7CT_0030.txt',\n",
       " 'spoken/word_tag/7CT_0031.txt',\n",
       " 'spoken/word_tag/7CT_0032.txt',\n",
       " 'spoken/word_tag/7CT_0033.txt',\n",
       " 'spoken/word_tag/7CT_0034.txt',\n",
       " 'spoken/word_tag/7CT_0035.txt',\n",
       " 'spoken/word_tag/7CT_0036.txt',\n",
       " 'spoken/word_tag/7CT_0037.txt',\n",
       " 'spoken/word_tag/7CT_0038.txt',\n",
       " 'spoken/word_tag/7CT_0039.txt',\n",
       " 'spoken/word_tag/7CT_0040.txt',\n",
       " 'spoken/word_tag/7CT_0041.txt',\n",
       " 'spoken/word_tag/7CT_0042.txt',\n",
       " 'spoken/word_tag/7CT_0043.txt',\n",
       " 'spoken/word_tag/7CT_0044.txt',\n",
       " 'spoken/word_tag/7CT_0045.txt',\n",
       " 'spoken/word_tag/8CT_0001.txt',\n",
       " 'spoken/word_tag/8CT_0002.txt',\n",
       " 'spoken/word_tag/8CT_0003.txt',\n",
       " 'spoken/word_tag/8CT_0004.txt',\n",
       " 'spoken/word_tag/8CT_0005.txt',\n",
       " 'spoken/word_tag/8CT_0006.txt',\n",
       " 'spoken/word_tag/8CT_0007.txt',\n",
       " 'spoken/word_tag/8CT_0008.txt',\n",
       " 'spoken/word_tag/8CT_0009.txt',\n",
       " 'spoken/word_tag/8CT_0010.txt',\n",
       " 'spoken/word_tag/8CT_0011.txt',\n",
       " 'spoken/word_tag/8CT_0012.txt',\n",
       " 'spoken/word_tag/8CT_0013.txt',\n",
       " 'spoken/word_tag/8CT_0014.txt',\n",
       " 'spoken/word_tag/8CT_0015.txt',\n",
       " 'spoken/word_tag/8CT_0016.txt',\n",
       " 'spoken/word_tag/8CT_0017.txt',\n",
       " 'spoken/word_tag/8CT_0018.txt',\n",
       " 'spoken/word_tag/8CT_0019.txt',\n",
       " 'spoken/word_tag/8CT_0020.txt',\n",
       " 'spoken/word_tag/8CT_0021.txt',\n",
       " 'spoken/word_tag/8CT_0022.txt',\n",
       " 'spoken/word_tag/8CT_0023.txt',\n",
       " 'spoken/word_tag/8CT_0024.txt',\n",
       " 'spoken/word_tag/8CT_0025.txt',\n",
       " 'spoken/word_tag/8CT_0026.txt',\n",
       " 'spoken/word_tag/8CT_0027.txt',\n",
       " 'spoken/word_tag/8CT_0028.txt',\n",
       " 'spoken/word_tag/8CT_0029.txt',\n",
       " 'spoken/word_tag/8CT_0030.txt',\n",
       " 'spoken/word_tag/8CT_0031.txt',\n",
       " 'spoken/word_tag/8CT_0032.txt',\n",
       " 'spoken/word_tag/8CT_0033.txt',\n",
       " 'spoken/word_tag/8CT_0034.txt',\n",
       " 'spoken/word_tag/8CT_0035.txt',\n",
       " 'spoken/word_tag/8CT_0036.txt',\n",
       " 'spoken/word_tag/8CT_0037.txt',\n",
       " 'spoken/word_tag/8CT_0038.txt',\n",
       " 'spoken/word_tag/8CT_0039.txt',\n",
       " 'spoken/word_tag/8CT_0040.txt',\n",
       " 'spoken/word_tag/8CT_0041.txt',\n",
       " 'spoken/word_tag/8CT_0042.txt',\n",
       " 'spoken/word_tag/8CT_0043.txt',\n",
       " 'spoken/word_tag/8CT_0044.txt',\n",
       " 'spoken/word_tag/8CT_0045.txt',\n",
       " 'spoken/word_tag/8CT_0046.txt',\n",
       " 'spoken/word_tag/8CT_0047.txt',\n",
       " 'spoken/word_tag/9CT_0001.txt',\n",
       " 'spoken/word_tag/9CT_0002.txt',\n",
       " 'spoken/word_tag/9CT_0003.txt',\n",
       " 'spoken/word_tag/9CT_0004.txt',\n",
       " 'spoken/word_tag/9CT_0005.txt',\n",
       " 'spoken/word_tag/9CT_0006.txt',\n",
       " 'spoken/word_tag/9CT_0007.txt',\n",
       " 'spoken/word_tag/9CT_0008.txt',\n",
       " 'spoken/word_tag/9CT_0009.txt',\n",
       " 'spoken/word_tag/9CT_0010.txt',\n",
       " 'spoken/word_tag/9CT_0011.txt',\n",
       " 'spoken/word_tag/9CT_0012.txt',\n",
       " 'spoken/word_tag/9CT_0013.txt']"
      ]
     },
     "execution_count": 209,
     "metadata": {},
     "output_type": "execute_result"
    }
   ],
   "source": [
    "sejong.fileids()"
   ]
  },
  {
   "cell_type": "code",
   "execution_count": 212,
   "metadata": {},
   "outputs": [
    {
     "data": {
      "text/plain": [
       "[['뭐', '타고', '가?'], ['지하철.'], ['기차?'], ['아침에', '몇', '시에', '타고', '가는데?'], ['아침에', '한', '일찍', '가면은', '일곱시', '이십분', ...], ['음.'], ...]"
      ]
     },
     "execution_count": 212,
     "metadata": {},
     "output_type": "execute_result"
    }
   ],
   "source": [
    "sejong.sents()"
   ]
  },
  {
   "cell_type": "code",
   "execution_count": 210,
   "metadata": {
    "collapsed": true
   },
   "outputs": [],
   "source": [
    "tagged_sents = sejong.sents(tagged=True)"
   ]
  },
  {
   "cell_type": "code",
   "execution_count": 211,
   "metadata": {},
   "outputs": [
    {
     "data": {
      "text/plain": [
       "[[('뭐', 'NP'), ('타', 'VV'), ('고', 'EC'), ('가', 'VV'), ('ㅏ', 'EF'), ('?', 'SF')], [('지하철', 'NNG'), ('.', 'SF')], [('기차', 'NNG'), ('?', 'SF')], [('아침', 'NNG'), ('에', 'JKB'), ('몇', 'MM'), ('시', 'NNB'), ('에', 'JKB'), ('타', 'VV'), ...], [('아침', 'NNG'), ('에', 'JKB'), ('한', 'MM'), ('일찍', 'MAG'), ('가', 'VV'), ('면은', 'EC'), ...], [('음', 'IC'), ('.', 'SF')], ...]"
      ]
     },
     "execution_count": 211,
     "metadata": {},
     "output_type": "execute_result"
    }
   ],
   "source": [
    "tagged_sents"
   ]
  },
  {
   "cell_type": "code",
   "execution_count": 214,
   "metadata": {},
   "outputs": [
    {
     "data": {
      "text/html": [
       "<div>\n",
       "<style>\n",
       "    .dataframe thead tr:only-child th {\n",
       "        text-align: right;\n",
       "    }\n",
       "\n",
       "    .dataframe thead th {\n",
       "        text-align: left;\n",
       "    }\n",
       "\n",
       "    .dataframe tbody tr th {\n",
       "        vertical-align: top;\n",
       "    }\n",
       "</style>\n",
       "<table border=\"1\" class=\"dataframe\">\n",
       "  <thead>\n",
       "    <tr style=\"text-align: right;\">\n",
       "      <th></th>\n",
       "      <th>Description</th>\n",
       "    </tr>\n",
       "    <tr>\n",
       "      <th>Tag</th>\n",
       "      <th></th>\n",
       "    </tr>\n",
       "  </thead>\n",
       "  <tbody>\n",
       "    <tr>\n",
       "      <th>NNG</th>\n",
       "      <td>일반 명사</td>\n",
       "    </tr>\n",
       "    <tr>\n",
       "      <th>NNP</th>\n",
       "      <td>고유 명사</td>\n",
       "    </tr>\n",
       "    <tr>\n",
       "      <th>NNB</th>\n",
       "      <td>의존 명사</td>\n",
       "    </tr>\n",
       "    <tr>\n",
       "      <th>NR</th>\n",
       "      <td>수사</td>\n",
       "    </tr>\n",
       "    <tr>\n",
       "      <th>NP</th>\n",
       "      <td>대명사</td>\n",
       "    </tr>\n",
       "    <tr>\n",
       "      <th>VV</th>\n",
       "      <td>동사</td>\n",
       "    </tr>\n",
       "    <tr>\n",
       "      <th>VA</th>\n",
       "      <td>형용사</td>\n",
       "    </tr>\n",
       "    <tr>\n",
       "      <th>VX</th>\n",
       "      <td>보조 용언</td>\n",
       "    </tr>\n",
       "    <tr>\n",
       "      <th>VCP</th>\n",
       "      <td>긍정 지정사</td>\n",
       "    </tr>\n",
       "    <tr>\n",
       "      <th>VCN</th>\n",
       "      <td>부정 지정사</td>\n",
       "    </tr>\n",
       "    <tr>\n",
       "      <th>MM</th>\n",
       "      <td>관형사</td>\n",
       "    </tr>\n",
       "    <tr>\n",
       "      <th>MAG</th>\n",
       "      <td>일반 부사</td>\n",
       "    </tr>\n",
       "    <tr>\n",
       "      <th>MAJ</th>\n",
       "      <td>접속 부사</td>\n",
       "    </tr>\n",
       "    <tr>\n",
       "      <th>IC</th>\n",
       "      <td>감탄사</td>\n",
       "    </tr>\n",
       "    <tr>\n",
       "      <th>JKS</th>\n",
       "      <td>주격 조사</td>\n",
       "    </tr>\n",
       "    <tr>\n",
       "      <th>JKC</th>\n",
       "      <td>보격 조사</td>\n",
       "    </tr>\n",
       "    <tr>\n",
       "      <th>JKG</th>\n",
       "      <td>관형격 조사</td>\n",
       "    </tr>\n",
       "    <tr>\n",
       "      <th>JKO</th>\n",
       "      <td>목적격 조사</td>\n",
       "    </tr>\n",
       "    <tr>\n",
       "      <th>JKB</th>\n",
       "      <td>부사격 조사</td>\n",
       "    </tr>\n",
       "    <tr>\n",
       "      <th>JKV</th>\n",
       "      <td>호격 조사</td>\n",
       "    </tr>\n",
       "    <tr>\n",
       "      <th>JKQ</th>\n",
       "      <td>인용격 조사</td>\n",
       "    </tr>\n",
       "    <tr>\n",
       "      <th>JC</th>\n",
       "      <td>접속 조사</td>\n",
       "    </tr>\n",
       "    <tr>\n",
       "      <th>JX</th>\n",
       "      <td>보조사</td>\n",
       "    </tr>\n",
       "    <tr>\n",
       "      <th>EP</th>\n",
       "      <td>선어말어미</td>\n",
       "    </tr>\n",
       "    <tr>\n",
       "      <th>EF</th>\n",
       "      <td>종결 어미</td>\n",
       "    </tr>\n",
       "    <tr>\n",
       "      <th>EC</th>\n",
       "      <td>연결 어미</td>\n",
       "    </tr>\n",
       "    <tr>\n",
       "      <th>ETN</th>\n",
       "      <td>명사형 전성 어미</td>\n",
       "    </tr>\n",
       "    <tr>\n",
       "      <th>ETM</th>\n",
       "      <td>관형형 전성 어미</td>\n",
       "    </tr>\n",
       "    <tr>\n",
       "      <th>XPN</th>\n",
       "      <td>체언 접두사</td>\n",
       "    </tr>\n",
       "    <tr>\n",
       "      <th>XSN</th>\n",
       "      <td>명사파생 접미사</td>\n",
       "    </tr>\n",
       "    <tr>\n",
       "      <th>XSV</th>\n",
       "      <td>동사 파생 접미사</td>\n",
       "    </tr>\n",
       "    <tr>\n",
       "      <th>XSA</th>\n",
       "      <td>형용사 파생 접미사</td>\n",
       "    </tr>\n",
       "    <tr>\n",
       "      <th>XR</th>\n",
       "      <td>어근</td>\n",
       "    </tr>\n",
       "    <tr>\n",
       "      <th>SF</th>\n",
       "      <td>마침표, 물음표, 느낌표</td>\n",
       "    </tr>\n",
       "    <tr>\n",
       "      <th>SE</th>\n",
       "      <td>줄임표</td>\n",
       "    </tr>\n",
       "    <tr>\n",
       "      <th>SS</th>\n",
       "      <td>따옴표,괄호표,줄표</td>\n",
       "    </tr>\n",
       "    <tr>\n",
       "      <th>SP</th>\n",
       "      <td>쉼표,가운뎃점,콜론,빗금</td>\n",
       "    </tr>\n",
       "    <tr>\n",
       "      <th>SO</th>\n",
       "      <td>붙임표(물결,숨김,빠짐)</td>\n",
       "    </tr>\n",
       "    <tr>\n",
       "      <th>SW</th>\n",
       "      <td>기타기호 (논리수학기호,화폐기호)</td>\n",
       "    </tr>\n",
       "    <tr>\n",
       "      <th>SH</th>\n",
       "      <td>한자</td>\n",
       "    </tr>\n",
       "    <tr>\n",
       "      <th>SL</th>\n",
       "      <td>외국어</td>\n",
       "    </tr>\n",
       "    <tr>\n",
       "      <th>SN</th>\n",
       "      <td>숫자</td>\n",
       "    </tr>\n",
       "    <tr>\n",
       "      <th>NF</th>\n",
       "      <td>명사추정범주</td>\n",
       "    </tr>\n",
       "    <tr>\n",
       "      <th>NV</th>\n",
       "      <td>용언추정범주</td>\n",
       "    </tr>\n",
       "  </tbody>\n",
       "</table>\n",
       "</div>"
      ],
      "text/plain": [
       "            Description\n",
       "Tag                    \n",
       "NNG               일반 명사\n",
       "NNP               고유 명사\n",
       "NNB               의존 명사\n",
       "NR                   수사\n",
       "NP                  대명사\n",
       "VV                   동사\n",
       "VA                  형용사\n",
       "VX                보조 용언\n",
       "VCP              긍정 지정사\n",
       "VCN              부정 지정사\n",
       "MM                  관형사\n",
       "MAG               일반 부사\n",
       "MAJ               접속 부사\n",
       "IC                  감탄사\n",
       "JKS               주격 조사\n",
       "JKC               보격 조사\n",
       "JKG              관형격 조사\n",
       "JKO              목적격 조사\n",
       "JKB              부사격 조사\n",
       "JKV               호격 조사\n",
       "JKQ              인용격 조사\n",
       "JC                접속 조사\n",
       "JX                  보조사\n",
       "EP                선어말어미\n",
       "EF                종결 어미\n",
       "EC                연결 어미\n",
       "ETN           명사형 전성 어미\n",
       "ETM           관형형 전성 어미\n",
       "XPN              체언 접두사\n",
       "XSN            명사파생 접미사\n",
       "XSV           동사 파생 접미사\n",
       "XSA          형용사 파생 접미사\n",
       "XR                   어근\n",
       "SF        마침표, 물음표, 느낌표\n",
       "SE                  줄임표\n",
       "SS           따옴표,괄호표,줄표\n",
       "SP        쉼표,가운뎃점,콜론,빗금\n",
       "SO        붙임표(물결,숨김,빠짐)\n",
       "SW   기타기호 (논리수학기호,화폐기호)\n",
       "SH                   한자\n",
       "SL                  외국어\n",
       "SN                   숫자\n",
       "NF               명사추정범주\n",
       "NV               용언추정범주"
      ]
     },
     "execution_count": 214,
     "metadata": {},
     "output_type": "execute_result"
    }
   ],
   "source": [
    "pd.read_csv('data/sejong_tagset.txt', index_col='Tag')"
   ]
  },
  {
   "cell_type": "code",
   "execution_count": 215,
   "metadata": {
    "collapsed": true
   },
   "outputs": [],
   "source": [
    "tags = []\n",
    "for sent in tagged_sents:\n",
    "    for token in sent:\n",
    "        tag = token[1]\n",
    "        tags.append(tag)"
   ]
  },
  {
   "cell_type": "code",
   "execution_count": 219,
   "metadata": {},
   "outputs": [],
   "source": [
    "tag_pairs = list(nltk.bigrams(tags))"
   ]
  },
  {
   "cell_type": "code",
   "execution_count": 220,
   "metadata": {
    "collapsed": true
   },
   "outputs": [
    {
     "data": {
      "text/plain": [
       "[('NP', 'VV'),\n",
       " ('VV', 'EC'),\n",
       " ('EC', 'VV'),\n",
       " ('VV', 'EF'),\n",
       " ('EF', 'SF'),\n",
       " ('SF', 'NNG'),\n",
       " ('NNG', 'SF'),\n",
       " ('SF', 'NNG'),\n",
       " ('NNG', 'SF'),\n",
       " ('SF', 'NNG')]"
      ]
     },
     "execution_count": 220,
     "metadata": {},
     "output_type": "execute_result"
    }
   ],
   "source": [
    "tag_pairs[:10]"
   ]
  },
  {
   "cell_type": "code",
   "execution_count": 221,
   "metadata": {
    "collapsed": true
   },
   "outputs": [],
   "source": [
    "target_tags = []\n",
    "for t1, t2 in tag_pairs:\n",
    "    if t2.startswith('NN'):\n",
    "        target_tags.append(t1)"
   ]
  },
  {
   "cell_type": "code",
   "execution_count": 225,
   "metadata": {},
   "outputs": [],
   "source": [
    "명사앞품사빈도 = Series(target_tags).value_counts()"
   ]
  },
  {
   "cell_type": "code",
   "execution_count": 226,
   "metadata": {
    "collapsed": true
   },
   "outputs": [
    {
     "data": {
      "text/plain": [
       "ETM    0.179681\n",
       "SP     0.114895\n",
       "MM     0.113797\n",
       "NNG    0.107767\n",
       "SF     0.076395\n",
       "MAG    0.071870\n",
       "IC     0.039236\n",
       "EC     0.036536\n",
       "NR     0.030991\n",
       "JKB    0.029997\n",
       "JX     0.027949\n",
       "JKS    0.027728\n",
       "MAJ    0.019014\n",
       "NP     0.018680\n",
       "JKG    0.017883\n",
       "NNP    0.015400\n",
       "JKO    0.015029\n",
       "NNB    0.010551\n",
       "XSN    0.009306\n",
       "EF     0.008744\n",
       "UNT    0.006666\n",
       "JC     0.006452\n",
       "UNC    0.005689\n",
       "ETN    0.005257\n",
       "XPN    0.002911\n",
       "JKQ    0.000930\n",
       "UNA    0.000318\n",
       "JKV    0.000154\n",
       "JKC    0.000134\n",
       "XR     0.000027\n",
       "EP     0.000010\n",
       "VX     0.000003\n",
       "dtype: float64"
      ]
     },
     "execution_count": 226,
     "metadata": {},
     "output_type": "execute_result"
    }
   ],
   "source": [
    "명사앞품사빈도 / 명사앞품사빈도.sum()"
   ]
  },
  {
   "cell_type": "code",
   "execution_count": 227,
   "metadata": {},
   "outputs": [],
   "source": [
    "words, tags = zip(*(token for sent in tagged_sents for token in sent))"
   ]
  },
  {
   "cell_type": "code",
   "execution_count": 228,
   "metadata": {
    "collapsed": true
   },
   "outputs": [],
   "source": [
    "tags = Series(tags, index=words)"
   ]
  },
  {
   "cell_type": "code",
   "execution_count": 231,
   "metadata": {},
   "outputs": [],
   "source": [
    "품사빈도 = tags.value_counts()"
   ]
  },
  {
   "cell_type": "code",
   "execution_count": 232,
   "metadata": {
    "collapsed": true
   },
   "outputs": [
    {
     "data": {
      "text/plain": [
       "NNG    0.141131\n",
       "VV     0.081347\n",
       "EC     0.074598\n",
       "SP     0.070458\n",
       "MAG    0.061327\n",
       "SF     0.056858\n",
       "EF     0.053093\n",
       "ETM    0.037305\n",
       "IC     0.036368\n",
       "NNB    0.032776\n",
       "JX     0.031553\n",
       "NP     0.030999\n",
       "JKS    0.029350\n",
       "JKB    0.028807\n",
       "VA     0.028258\n",
       "MM     0.024303\n",
       "EP     0.021676\n",
       "JKO    0.020409\n",
       "VCP    0.019729\n",
       "VX     0.018414\n",
       "XSN    0.014816\n",
       "MAJ    0.014024\n",
       "NR     0.013156\n",
       "XSV    0.011622\n",
       "NNP    0.010713\n",
       "XSA    0.005404\n",
       "JKG    0.004420\n",
       "UNC    0.004019\n",
       "UNA    0.003930\n",
       "UNT    0.003562\n",
       "JC     0.003131\n",
       "XR     0.003130\n",
       "ETN    0.003003\n",
       "VCN    0.002854\n",
       "JKC    0.002201\n",
       "XPN    0.000593\n",
       "JKQ    0.000407\n",
       "JKV    0.000254\n",
       "dtype: float64"
      ]
     },
     "execution_count": 232,
     "metadata": {},
     "output_type": "execute_result"
    }
   ],
   "source": [
    "품사빈도 / 품사빈도.sum()"
   ]
  },
  {
   "cell_type": "code",
   "execution_count": 236,
   "metadata": {},
   "outputs": [],
   "source": [
    "sample = [w for w, t in tagged_sents[0]]"
   ]
  },
  {
   "cell_type": "code",
   "execution_count": 235,
   "metadata": {
    "collapsed": true
   },
   "outputs": [],
   "source": [
    "기본태그기 = nltk.DefaultTagger('NNG')"
   ]
  },
  {
   "cell_type": "code",
   "execution_count": 237,
   "metadata": {},
   "outputs": [
    {
     "data": {
      "text/plain": [
       "[('뭐', 'NNG'),\n",
       " ('타', 'NNG'),\n",
       " ('고', 'NNG'),\n",
       " ('가', 'NNG'),\n",
       " ('ㅏ', 'NNG'),\n",
       " ('?', 'NNG')]"
      ]
     },
     "execution_count": 237,
     "metadata": {},
     "output_type": "execute_result"
    }
   ],
   "source": [
    "기본태그기.tag(sample)"
   ]
  },
  {
   "cell_type": "code",
   "execution_count": 239,
   "metadata": {},
   "outputs": [
    {
     "data": {
      "text/plain": [
       "[('뭐', 'NP'), ('타', 'VV'), ('고', 'EC'), ('가', 'VV'), ('ㅏ', 'EF'), ('?', 'SF')]"
      ]
     },
     "execution_count": 239,
     "metadata": {},
     "output_type": "execute_result"
    }
   ],
   "source": [
    "tagged_sents[0]"
   ]
  },
  {
   "cell_type": "code",
   "execution_count": 238,
   "metadata": {},
   "outputs": [
    {
     "data": {
      "text/plain": [
       "0.11324162845630123"
      ]
     },
     "execution_count": 238,
     "metadata": {},
     "output_type": "execute_result"
    }
   ],
   "source": [
    "기본태그기.evaluate(tagged_sents[:1000])"
   ]
  },
  {
   "cell_type": "code",
   "execution_count": 240,
   "metadata": {
    "collapsed": true
   },
   "outputs": [],
   "source": [
    "단어별품사빈도 = nltk.ConditionalFreqDist(\n",
    "    token for sent in tagged_sents for token in sent\n",
    ")"
   ]
  },
  {
   "cell_type": "code",
   "execution_count": 241,
   "metadata": {
    "collapsed": true
   },
   "outputs": [
    {
     "data": {
      "text/plain": [
       "ConditionalFreqDist(nltk.probability.FreqDist,\n",
       "                    {'뭐': FreqDist({'IC': 7321,\n",
       "                               'MAG': 1,\n",
       "                               'NNG': 11,\n",
       "                               'NNP': 1,\n",
       "                               'NP': 5284,\n",
       "                               'UNT': 1}),\n",
       "                     '타': FreqDist({'MM': 3,\n",
       "                               'NNB': 21,\n",
       "                               'NNG': 11,\n",
       "                               'UNT': 3,\n",
       "                               'VV': 570,\n",
       "                               'XPN': 1}),\n",
       "                     '고': FreqDist({'EC': 19104,\n",
       "                               'EF': 518,\n",
       "                               'ETM': 1,\n",
       "                               'IC': 9,\n",
       "                               'JC': 2,\n",
       "                               'JKQ': 16,\n",
       "                               'JX': 4,\n",
       "                               'MM': 204,\n",
       "                               'NNG': 72,\n",
       "                               'NNP': 2,\n",
       "                               'NP': 1,\n",
       "                               'UNA': 4,\n",
       "                               'UNT': 17,\n",
       "                               'VV': 4,\n",
       "                               'XPN': 18}),\n",
       "                     '가': FreqDist({'EC': 1,\n",
       "                               'EF': 5,\n",
       "                               'IC': 3,\n",
       "                               'JKC': 1178,\n",
       "                               'JKS': 21466,\n",
       "                               'JX': 78,\n",
       "                               'NNB': 1,\n",
       "                               'NNG': 24,\n",
       "                               'UNA': 2,\n",
       "                               'UNT': 73,\n",
       "                               'VV': 5516,\n",
       "                               'VX': 311,\n",
       "                               'XPN': 2,\n",
       "                               'XSN': 40}),\n",
       "                     'ㅏ': FreqDist({'EC': 2505, 'EF': 2284, 'EP': 1, 'SF': 1}),\n",
       "                     '?': FreqDist({'EF': 33, 'IC': 1, 'SF': 26290, 'SP': 2}),\n",
       "                     '지하철': FreqDist({'NNG': 35}),\n",
       "                     '.': FreqDist({'SF': 64172, 'SP': 15}),\n",
       "                     '기차': FreqDist({'NNG': 37}),\n",
       "                     '아침': FreqDist({'NNG': 269}),\n",
       "                     '에': FreqDist({'EF': 1,\n",
       "                               'IC': 941,\n",
       "                               'JKB': 21688,\n",
       "                               'JKG': 548,\n",
       "                               'MAG': 1,\n",
       "                               'NNB': 1,\n",
       "                               'NNG': 3,\n",
       "                               'UNA': 1,\n",
       "                               'UNT': 12}),\n",
       "                     '몇': FreqDist({'MM': 883, 'NR': 68, 'UNT': 4}),\n",
       "                     '시': FreqDist({'EF': 1,\n",
       "                               'EP': 4426,\n",
       "                               'IC': 1,\n",
       "                               'NNB': 650,\n",
       "                               'NNG': 187,\n",
       "                               'UNC': 1,\n",
       "                               'UNT': 51,\n",
       "                               'VA': 5,\n",
       "                               'VCP': 2,\n",
       "                               'VV': 2,\n",
       "                               'XSN': 9}),\n",
       "                     '는데': FreqDist({'EC': 7522, 'EF': 908}),\n",
       "                     '한': FreqDist({'IC': 6,\n",
       "                               'MAG': 5,\n",
       "                               'MM': 3482,\n",
       "                               'NNB': 11,\n",
       "                               'NNG': 10,\n",
       "                               'NNP': 12,\n",
       "                               'UNA': 5,\n",
       "                               'UNC': 2,\n",
       "                               'UNT': 45,\n",
       "                               'VV': 2,\n",
       "                               'XPN': 12,\n",
       "                               'XSA': 1}),\n",
       "                     '일찍': FreqDist({'MAG': 122, 'NNG': 3}),\n",
       "                     '면은': FreqDist({'EC': 2188, 'MAJ': 1}),\n",
       "                     '일곱': FreqDist({'NR': 183}),\n",
       "                     '이': FreqDist({'EP': 4,\n",
       "                               'IC': 641,\n",
       "                               'JKB': 8,\n",
       "                               'JKC': 1513,\n",
       "                               'JKG': 1,\n",
       "                               'JKS': 19320,\n",
       "                               'MM': 3278,\n",
       "                               'NNB': 22,\n",
       "                               'NNG': 42,\n",
       "                               'NNP': 18,\n",
       "                               'NP': 113,\n",
       "                               'NR': 2264,\n",
       "                               'UNA': 7,\n",
       "                               'UNC': 6,\n",
       "                               'UNT': 153,\n",
       "                               'VCN': 5,\n",
       "                               'VCP': 15182,\n",
       "                               'VV': 3,\n",
       "                               'XSN': 1396}),\n",
       "                     '십': FreqDist({'NR': 3300, 'UNT': 10}),\n",
       "                     '분': FreqDist({'NNB': 1316,\n",
       "                               'NNG': 12,\n",
       "                               'UNT': 11,\n",
       "                               'XSN': 5}),\n",
       "                     '오': FreqDist({'EC': 4,\n",
       "                               'EF': 17,\n",
       "                               'EP': 1,\n",
       "                               'IC': 132,\n",
       "                               'NNG': 34,\n",
       "                               'NNP': 5,\n",
       "                               'NR': 1347,\n",
       "                               'UNA': 15,\n",
       "                               'UNC': 1,\n",
       "                               'UNT': 38,\n",
       "                               'VV': 2980,\n",
       "                               'VX': 107}),\n",
       "                     '차': FreqDist({'IC': 5,\n",
       "                               'NNB': 123,\n",
       "                               'NNG': 356,\n",
       "                               'UNA': 1,\n",
       "                               'UNC': 1,\n",
       "                               'UNT': 6,\n",
       "                               'VA': 24,\n",
       "                               'VV': 75,\n",
       "                               'XPN': 1,\n",
       "                               'XSN': 6}),\n",
       "                     '를': FreqDist({'JKO': 13014,\n",
       "                               'JX': 37,\n",
       "                               'UNA': 1,\n",
       "                               'UNT': 2}),\n",
       "                     ',': FreqDist({'SF': 30, 'SP': 114017}),\n",
       "                     '음': FreqDist({'EC': 28,\n",
       "                               'ETN': 102,\n",
       "                               'IC': 5986,\n",
       "                               'NNG': 27,\n",
       "                               'UNT': 3}),\n",
       "                     '늦': FreqDist({'UNT': 1, 'VA': 194, 'VV': 50, 'XPN': 3}),\n",
       "                     '게': FreqDist({'EC': 4760,\n",
       "                               'EF': 50,\n",
       "                               'IC': 18,\n",
       "                               'JKB': 21,\n",
       "                               'NNG': 8,\n",
       "                               'UNA': 1,\n",
       "                               'UNC': 4,\n",
       "                               'UNT': 9}),\n",
       "                     '삼': FreqDist({'MM': 1,\n",
       "                               'NNG': 7,\n",
       "                               'NP': 1,\n",
       "                               'NR': 1646,\n",
       "                               'UNA': 1,\n",
       "                               'UNT': 8,\n",
       "                               'VV': 31}),\n",
       "                     '지': FreqDist({'EC': 3755,\n",
       "                               'EF': 5545,\n",
       "                               'IC': 1,\n",
       "                               'MM': 11,\n",
       "                               'NNB': 74,\n",
       "                               'NNG': 10,\n",
       "                               'NNP': 1,\n",
       "                               'NP': 92,\n",
       "                               'UNT': 43,\n",
       "                               'VV': 80,\n",
       "                               'VX': 2085,\n",
       "                               'XSA': 2,\n",
       "                               'XSN': 8,\n",
       "                               'XSV': 17}),\n",
       "                     '사람': FreqDist({'NNG': 5035,\n",
       "                               'NNP': 1,\n",
       "                               'NP': 1,\n",
       "                               'UNT': 1}),\n",
       "                     '많': FreqDist({'UNT': 14, 'VA': 1678}),\n",
       "                     '아': FreqDist({'EC': 2091,\n",
       "                               'EF': 4288,\n",
       "                               'IC': 6776,\n",
       "                               'JKV': 204,\n",
       "                               'NNG': 55,\n",
       "                               'UNT': 45,\n",
       "                               'XSN': 1}),\n",
       "                     '육호선': FreqDist({'NNG': 3}),\n",
       "                     '은': FreqDist({'EC': 4,\n",
       "                               'ETM': 5635,\n",
       "                               'ETN': 1,\n",
       "                               'JKO': 1,\n",
       "                               'JX': 8157,\n",
       "                               'NNG': 9,\n",
       "                               'UNA': 1,\n",
       "                               'UNT': 3}),\n",
       "                     '별루': FreqDist({'MAG': 152, 'NNB': 1, 'NNG': 2}),\n",
       "                     '없': FreqDist({'UNT': 34, 'VA': 4320, 'VV': 8, 'VX': 1}),\n",
       "                     '앉': FreqDist({'UNT': 2, 'VV': 270, 'VX': 1}),\n",
       "                     'ㄹ': FreqDist({'EC': 3,\n",
       "                               'EP': 1,\n",
       "                               'ETM': 10034,\n",
       "                               'ETN': 3,\n",
       "                               'JKB': 1,\n",
       "                               'JKO': 3013,\n",
       "                               'JKQ': 1,\n",
       "                               'JX': 60}),\n",
       "                     '수': FreqDist({'EF': 1,\n",
       "                               'NNB': 4410,\n",
       "                               'NNG': 135,\n",
       "                               'UNT': 31}),\n",
       "                     '있': FreqDist({'UNT': 68,\n",
       "                               'VA': 12756,\n",
       "                               'VV': 201,\n",
       "                               'VX': 4749}),\n",
       "                     '어': FreqDist({'EC': 3826,\n",
       "                               'EF': 7563,\n",
       "                               'EP': 1,\n",
       "                               'IC': 10332,\n",
       "                               'MAG': 7,\n",
       "                               'NNG': 53,\n",
       "                               'UNA': 17,\n",
       "                               'UNC': 1,\n",
       "                               'UNT': 58,\n",
       "                               'XSN': 3}),\n",
       "                     '근데': FreqDist({'MAG': 13, 'MAJ': 5330}),\n",
       "                     '이호선': FreqDist({'NNG': 1}),\n",
       "                     '으로': FreqDist({'EC': 1,\n",
       "                               'JKB': 5107,\n",
       "                               'NNB': 1,\n",
       "                               'UNT': 3}),\n",
       "                     '딱': FreqDist({'MAG': 1786, 'MM': 1, 'UNT': 1}),\n",
       "                     '넘어가': FreqDist({'VV': 192}),\n",
       "                     '운': FreqDist({'NNG': 36, 'UNT': 7}),\n",
       "                     '좋': FreqDist({'UNT': 10, 'VA': 3268}),\n",
       "                     '아야지': FreqDist({'EC': 7, 'EF': 43}),\n",
       "                     '하긴': FreqDist({'MAG': 1, 'MAJ': 55}),\n",
       "                     '다가': FreqDist({'EC': 1325,\n",
       "                               'EF': 4,\n",
       "                               'JKB': 2,\n",
       "                               'JX': 142,\n",
       "                               'UNA': 1}),\n",
       "                     '정도': FreqDist({'NNG': 1306, 'NP': 1}),\n",
       "                     '다섯': FreqDist({'NR': 295}),\n",
       "                     '정거장': FreqDist({'NNG': 15}),\n",
       "                     '니까': FreqDist({'EC': 2771, 'EF': 186, 'UNT': 1}),\n",
       "                     'ㅏㅆ': FreqDist({'EF': 2, 'EP': 5769}),\n",
       "                     '합정역': FreqDist({'NNP': 3}),\n",
       "                     '에서': FreqDist({'JKB': 5953,\n",
       "                               'JKC': 1,\n",
       "                               'JKS': 21,\n",
       "                               'NNB': 1,\n",
       "                               'NNG': 1,\n",
       "                               'UNT': 1}),\n",
       "                     '갈아타': FreqDist({'VV': 13}),\n",
       "                     '그': FreqDist({'EC': 1,\n",
       "                               'IC': 6164,\n",
       "                               'MM': 9566,\n",
       "                               'NP': 149,\n",
       "                               'UNA': 3,\n",
       "                               'UNC': 2,\n",
       "                               'UNT': 151}),\n",
       "                     '다음': FreqDist({'MAG': 1, 'NNG': 1941, 'NNP': 5}),\n",
       "                     '인제': FreqDist({'IC': 750,\n",
       "                               'MAG': 1576,\n",
       "                               'NNG': 3,\n",
       "                               'NNP': 1}),\n",
       "                     '육': FreqDist({'NNG': 1, 'NR': 822, 'UNT': 9}),\n",
       "                     '간': FreqDist({'NNB': 98,\n",
       "                               'NNG': 21,\n",
       "                               'UNT': 11,\n",
       "                               'XSN': 93}),\n",
       "                     '라고': FreqDist({'EC': 2160,\n",
       "                               'EF': 102,\n",
       "                               'JKC': 1,\n",
       "                               'JKQ': 572,\n",
       "                               'JX': 3}),\n",
       "                     '쓰': FreqDist({'IC': 3,\n",
       "                               'NNG': 4,\n",
       "                               'UNT': 11,\n",
       "                               'VA': 5,\n",
       "                               'VV': 2415}),\n",
       "                     'ㅓ': FreqDist({'EC': 5592, 'EF': 2467, 'EP': 2}),\n",
       "                     '어쨌든': FreqDist({'MAG': 159, 'MAJ': 24}),\n",
       "                     '는': FreqDist({'EC': 2,\n",
       "                               'ETM': 19922,\n",
       "                               'ETN': 2,\n",
       "                               'JKS': 3,\n",
       "                               'JX': 15406,\n",
       "                               'UNA': 1,\n",
       "                               'UNC': 2,\n",
       "                               'UNT': 7}),\n",
       "                     '거': FreqDist({'IC': 43,\n",
       "                               'NNB': 22417,\n",
       "                               'NNG': 7,\n",
       "                               'NNP': 2,\n",
       "                               'NP': 183,\n",
       "                               'UNC': 2,\n",
       "                               'UNT': 21}),\n",
       "                     '(이)': FreqDist({'EP': 4, 'VCP': 16730}),\n",
       "                     '그러면': FreqDist({'MAJ': 646}),\n",
       "                     '사': FreqDist({'NNG': 23,\n",
       "                               'NR': 1096,\n",
       "                               'UNC': 1,\n",
       "                               'UNT': 83,\n",
       "                               'VV': 875,\n",
       "                               'XPN': 1}),\n",
       "                     '응': FreqDist({'IC': 2925, 'NNG': 3}),\n",
       "                     '그때': FreqDist({'NNG': 1166}),\n",
       "                     '부터': FreqDist({'JC': 1, 'JKB': 11, 'JX': 936}),\n",
       "                     'ㄴ': FreqDist({'EC': 7,\n",
       "                               'EP': 1,\n",
       "                               'ETM': 15718,\n",
       "                               'JKB': 2,\n",
       "                               'JX': 5204,\n",
       "                               'MM': 1}),\n",
       "                     '은가': FreqDist({'EC': 14, 'EF': 18}),\n",
       "                     '라도': FreqDist({'EC': 21, 'JX': 84}),\n",
       "                     '되게': FreqDist({'MAG': 2489}),\n",
       "                     '정말': FreqDist({'MAG': 1223, 'MAJ': 3, 'NNG': 12}),\n",
       "                     '으면': FreqDist({'EC': 1433, 'EF': 8}),\n",
       "                     '잘': FreqDist({'MAG': 2590, 'UNT': 8, 'VA': 11}),\n",
       "                     '고르': FreqDist({'UNT': 1, 'VA': 5, 'VV': 79}),\n",
       "                     'ㅏ야': FreqDist({'EC': 711}),\n",
       "                     '되': FreqDist({'EC': 20,\n",
       "                               'UNT': 33,\n",
       "                               'VA': 13,\n",
       "                               'VV': 11541,\n",
       "                               'XSA': 18,\n",
       "                               'XSN': 3,\n",
       "                               'XSV': 1970}),\n",
       "                     '그러니까': FreqDist({'MAG': 1, 'MAJ': 714}),\n",
       "                     '내리': FreqDist({'MAG': 2, 'UNT': 1, 'VV': 215}),\n",
       "                     '안': FreqDist({'IC': 1,\n",
       "                               'MAG': 6734,\n",
       "                               'MAJ': 1,\n",
       "                               'NNB': 1,\n",
       "                               'NNG': 460,\n",
       "                               'NNP': 3,\n",
       "                               'UNT': 26,\n",
       "                               'VV': 15}),\n",
       "                     '을': FreqDist({'EC': 1,\n",
       "                               'ETM': 2913,\n",
       "                               'ETN': 1,\n",
       "                               'JKO': 17003,\n",
       "                               'NNG': 2,\n",
       "                               'UNT': 4}),\n",
       "                     '보': FreqDist({'UNT': 46, 'VV': 6934, 'VX': 4000}),\n",
       "                     'ㅏ서': FreqDist({'EC': 2876, 'EF': 14}),\n",
       "                     '합정': FreqDist({'NNP': 1}),\n",
       "                     '이쪽': FreqDist({'NP': 295}),\n",
       "                     '거꾸로': FreqDist({'MAG': 20}),\n",
       "                     '바로': FreqDist({'MAG': 622}),\n",
       "                     '다리': FreqDist({'NNB': 1, 'NNG': 110, 'VV': 16}),\n",
       "                     '넘': FreqDist({'MAG': 8, 'NNG': 1, 'UNT': 7, 'VV': 200}),\n",
       "                     '어서': FreqDist({'EC': 1288,\n",
       "                               'EF': 20,\n",
       "                               'MAG': 14,\n",
       "                               'UNA': 1}),\n",
       "                     '당산': FreqDist({'NNP': 4}),\n",
       "                     '그지': FreqDist({'IC': 267, 'NNG': 2, 'UNA': 1}),\n",
       "                     '할튼가': FreqDist({'MAG': 1}),\n",
       "                     '제일': FreqDist({'MAG': 336,\n",
       "                               'NNG': 3,\n",
       "                               'NNP': 1,\n",
       "                               'NR': 10,\n",
       "                               'XR': 2}),\n",
       "                     '처음': FreqDist({'MAG': 249, 'NNG': 631}),\n",
       "                     '영등포구청': FreqDist({'NNP': 2}),\n",
       "                     '데': FreqDist({'EC': 1,\n",
       "                               'EF': 16,\n",
       "                               'EP': 1,\n",
       "                               'MAJ': 1,\n",
       "                               'NNB': 1073,\n",
       "                               'NNG': 5,\n",
       "                               'NP': 1,\n",
       "                               'UNC': 1,\n",
       "                               'UNT': 4}),\n",
       "                     '좀': FreqDist({'IC': 7, 'MAG': 4271, 'UNT': 1}),\n",
       "                     '드라': FreqDist({'EF': 222}),\n",
       "                     '거기': FreqDist({'NP': 1965, 'UNT': 1}),\n",
       "                     '학교': FreqDist({'NNB': 1, 'NNG': 1141}),\n",
       "                     '나': FreqDist({'EC': 426,\n",
       "                               'EF': 949,\n",
       "                               'IC': 3,\n",
       "                               'JC': 566,\n",
       "                               'JKB': 5,\n",
       "                               'JX': 291,\n",
       "                               'NNG': 31,\n",
       "                               'NNP': 8,\n",
       "                               'NP': 5486,\n",
       "                               'UNA': 2,\n",
       "                               'UNT': 52,\n",
       "                               'VV': 1689,\n",
       "                               'VX': 442,\n",
       "                               'XSA': 1}),\n",
       "                     '학생': FreqDist({'NNB': 1, 'NNG': 428}),\n",
       "                     '들': FreqDist({'JX': 1,\n",
       "                               'MAG': 3,\n",
       "                               'NNB': 2,\n",
       "                               'NNG': 1,\n",
       "                               'NP': 1,\n",
       "                               'UNT': 8,\n",
       "                               'VA': 3,\n",
       "                               'VV': 1444,\n",
       "                               'VX': 2,\n",
       "                               'XSN': 10319,\n",
       "                               'XSV': 2}),\n",
       "                     '이렇게': FreqDist({'MAG': 5155}),\n",
       "                     '구서': FreqDist({'EC': 152}),\n",
       "                     '앞': FreqDist({'NNG': 623, 'UNT': 1}),\n",
       "                     '거나': FreqDist({'EC': 377, 'EF': 2, 'JC': 1, 'JKB': 1}),\n",
       "                     '아니면은': FreqDist({'MAJ': 102}),\n",
       "                     '이거': FreqDist({'IC': 1, 'NNG': 1, 'NP': 4243}),\n",
       "                     '한번': FreqDist({'MAG': 756, 'NNB': 1, 'NNG': 10}),\n",
       "                     '도박': FreqDist({'NNG': 8}),\n",
       "                     '하': FreqDist({'IC': 153,\n",
       "                               'NNB': 2,\n",
       "                               'NNG': 3,\n",
       "                               'UNA': 7,\n",
       "                               'UNT': 115,\n",
       "                               'VA': 19,\n",
       "                               'VV': 23318,\n",
       "                               'VX': 3125,\n",
       "                               'XPN': 1,\n",
       "                               'XSA': 8257,\n",
       "                               'XSN': 21,\n",
       "                               'XSV': 16235}),\n",
       "                     '야': FreqDist({'EC': 24,\n",
       "                               'EF': 5939,\n",
       "                               'IC': 895,\n",
       "                               'JKV': 204,\n",
       "                               'JX': 100,\n",
       "                               'NNG': 4,\n",
       "                               'NP': 7,\n",
       "                               'UNT': 2}),\n",
       "                     '몸집': FreqDist({'NNG': 3}),\n",
       "                     '크': FreqDist({'IC': 3, 'UNT': 4, 'VA': 758, 'VV': 53}),\n",
       "                     '아저씨': FreqDist({'NNG': 239, 'NP': 1}),\n",
       "                     '서': FreqDist({'EC': 1,\n",
       "                               'JKB': 1543,\n",
       "                               'JKS': 109,\n",
       "                               'JX': 1,\n",
       "                               'MAJ': 1,\n",
       "                               'NNG': 2,\n",
       "                               'NNP': 2,\n",
       "                               'UNT': 23,\n",
       "                               'VV': 160}),\n",
       "                     '면': FreqDist({'EC': 6533,\n",
       "                               'EF': 41,\n",
       "                               'ETM': 1,\n",
       "                               'NNB': 1,\n",
       "                               'NNG': 182,\n",
       "                               'UNA': 1,\n",
       "                               'XSN': 3}),\n",
       "                     '자리': FreqDist({'NNG': 217, 'VA': 1}),\n",
       "                     '많이': FreqDist({'MAG': 2933, 'MM': 1}),\n",
       "                     '비': FreqDist({'NNG': 197,\n",
       "                               'UNC': 1,\n",
       "                               'UNT': 12,\n",
       "                               'VV': 41,\n",
       "                               'XPN': 126}),\n",
       "                     '잖': FreqDist({'UNA': 5215}),\n",
       "                     '아서': FreqDist({'EC': 573, 'EF': 8}),\n",
       "                     '편안': FreqDist({'NNG': 20, 'XR': 3}),\n",
       "                     '그렇': FreqDist({'UNT': 25, 'VA': 4243, 'VV': 3, 'VX': 1}),\n",
       "                     '구나': FreqDist({'EC': 3, 'EF': 579}),\n",
       "                     '만': FreqDist({'EC': 1,\n",
       "                               'JKB': 2,\n",
       "                               'JX': 2796,\n",
       "                               'MAJ': 1,\n",
       "                               'MM': 4,\n",
       "                               'NNB': 67,\n",
       "                               'NNG': 6,\n",
       "                               'NNP': 4,\n",
       "                               'NR': 436,\n",
       "                               'UNT': 17,\n",
       "                               'VV': 2}),\n",
       "                     '의': FreqDist({'JKG': 6598,\n",
       "                               'NNG': 7,\n",
       "                               'UNA': 1,\n",
       "                               'UNT': 9}),\n",
       "                     '노하우': FreqDist({'NNG': 9}),\n",
       "                     '어쩌다가': FreqDist({'MAG': 5}),\n",
       "                     '실패': FreqDist({'NNG': 26}),\n",
       "                     '경우': FreqDist({'NNG': 1186}),\n",
       "                     '어쩌다': FreqDist({'MAG': 7, 'MAJ': 1}),\n",
       "                     'ㄴ데': FreqDist({'EC': 1914, 'EF': 530}),\n",
       "                     '끝': FreqDist({'NNG': 752, 'UNT': 5, 'VV': 1}),\n",
       "                     '까지': FreqDist({'JKS': 1,\n",
       "                               'JX': 1813,\n",
       "                               'NNB': 1,\n",
       "                               'UNT': 1,\n",
       "                               'VV': 3}),\n",
       "                     'ㅣ': FreqDist({'JKC': 870, 'JKS': 6432, 'VCP': 6}),\n",
       "                     '알': FreqDist({'NNG': 44,\n",
       "                               'UNA': 2,\n",
       "                               'UNT': 21,\n",
       "                               'VV': 2448}),\n",
       "                     '사복': FreqDist({'NNG': 3}),\n",
       "                     '입': FreqDist({'NNG': 142, 'UNT': 3, 'VA': 2, 'VV': 341}),\n",
       "                     '역삼동': FreqDist({'NNP': 2}),\n",
       "                     '프로그래머': FreqDist({'NNG': 2}),\n",
       "                     '여': FreqDist({'EC': 79,\n",
       "                               'EF': 19,\n",
       "                               'IC': 8,\n",
       "                               'JKV': 3,\n",
       "                               'MM': 1,\n",
       "                               'NNG': 4,\n",
       "                               'NP': 17,\n",
       "                               'UNC': 1,\n",
       "                               'UNT': 62,\n",
       "                               'XPN': 7,\n",
       "                               'XSN': 18}),\n",
       "                     '어린애': FreqDist({'NNG': 8}),\n",
       "                     '이런': FreqDist({'IC': 21, 'MM': 3386, 'UNT': 2}),\n",
       "                     '애': FreqDist({'EC': 18,\n",
       "                               'EF': 1050,\n",
       "                               'NNB': 4,\n",
       "                               'NNG': 2386,\n",
       "                               'NNP': 1,\n",
       "                               'NP': 3,\n",
       "                               'UNT': 6}),\n",
       "                     '대부분': FreqDist({'MAG': 27, 'NNG': 143}),\n",
       "                     '다': FreqDist({'EC': 1603,\n",
       "                               'EF': 4548,\n",
       "                               'ETM': 3,\n",
       "                               'JC': 1,\n",
       "                               'JKB': 3,\n",
       "                               'JX': 169,\n",
       "                               'MAG': 3968,\n",
       "                               'NNG': 85,\n",
       "                               'UNA': 2,\n",
       "                               'UNT': 36}),\n",
       "                     '들어맞': FreqDist({'VV': 2}),\n",
       "                     '첫': FreqDist({'MM': 213, 'UNT': 1, 'XPN': 36}),\n",
       "                     '방': FreqDist({'NNB': 10,\n",
       "                               'NNG': 102,\n",
       "                               'UNT': 12,\n",
       "                               'XSN': 1}),\n",
       "                     '아니': FreqDist({'IC': 1624,\n",
       "                               'MAG': 27,\n",
       "                               'UNC': 1,\n",
       "                               'UNT': 10,\n",
       "                               'VCN': 4606,\n",
       "                               'VCP': 7,\n",
       "                               'VV': 4}),\n",
       "                     '대림': FreqDist({'NNP': 1}),\n",
       "                     '계속': FreqDist({'MAG': 784, 'NNG': 66}),\n",
       "                     '자': FreqDist({'EC': 120,\n",
       "                               'EF': 490,\n",
       "                               'IC': 728,\n",
       "                               'NNB': 172,\n",
       "                               'NNG': 14,\n",
       "                               'NP': 1,\n",
       "                               'UNA': 1,\n",
       "                               'UNT': 37,\n",
       "                               'VA': 1,\n",
       "                               'VV': 387,\n",
       "                               'XSN': 896}),\n",
       "                     '이제': FreqDist({'IC': 653,\n",
       "                               'MAG': 2283,\n",
       "                               'NNG': 46,\n",
       "                               'UNT': 1}),\n",
       "                     '신문': FreqDist({'NNG': 116}),\n",
       "                     'ㄹ려고': FreqDist({'EC': 258, 'EF': 14}),\n",
       "                     '노력': FreqDist({'NNG': 103}),\n",
       "                     'ㅕ': FreqDist({'EC': 6174, 'EF': 2281, 'EP': 3}),\n",
       "                     '보통': FreqDist({'MAG': 243, 'MAJ': 1, 'NNG': 104}),\n",
       "                     '때': FreqDist({'MAG': 1,\n",
       "                               'NNB': 25,\n",
       "                               'NNG': 4361,\n",
       "                               'UNT': 2,\n",
       "                               'VV': 12}),\n",
       "                     '그런데': FreqDist({'MAJ': 473}),\n",
       "                     '그러다가': FreqDist({'MAJ': 57}),\n",
       "                     '졸음': FreqDist({'NNG': 1}),\n",
       "                     '조금': FreqDist({'MAG': 662, 'NNG': 18}),\n",
       "                     '씩': FreqDist({'MAG': 8,\n",
       "                               'NNB': 1,\n",
       "                               'UNA': 1,\n",
       "                               'UNT': 1,\n",
       "                               'XSN': 501}),\n",
       "                     '졸음끼': FreqDist({'NNG': 1}),\n",
       "                     '느끼': FreqDist({'UNT': 1, 'VV': 404, 'XR': 33}),\n",
       "                     '기': FreqDist({'EC': 2,\n",
       "                               'ETM': 31,\n",
       "                               'ETN': 4372,\n",
       "                               'IC': 1,\n",
       "                               'NNB': 15,\n",
       "                               'NNG': 34,\n",
       "                               'UNT': 25,\n",
       "                               'VA': 3,\n",
       "                               'VV': 12,\n",
       "                               'XSN': 9}),\n",
       "                     '시작': FreqDist({'NNG': 424, 'UNT': 1}),\n",
       "                     '비몽사몽': FreqDist({'NNG': 2}),\n",
       "                     '로': FreqDist({'EC': 1,\n",
       "                               'JKB': 3810,\n",
       "                               'JKO': 1,\n",
       "                               'NNG': 1,\n",
       "                               'UNA': 1,\n",
       "                               'UNT': 1}),\n",
       "                     '따르': FreqDist({'UNT': 2, 'VA': 1, 'VV': 448}),\n",
       "                     '쓸려가': FreqDist({'VV': 1}),\n",
       "                     '요행히': FreqDist({'MAG': 1}),\n",
       "                     '차지': FreqDist({'NNG': 59}),\n",
       "                     '그러면은': FreqDist({'MAJ': 219}),\n",
       "                     '예의': FreqDist({'NNG': 17, 'UNT': 1}),\n",
       "                     '상': FreqDist({'NNB': 2,\n",
       "                               'NNG': 58,\n",
       "                               'UNT': 14,\n",
       "                               'XSN': 158}),\n",
       "                     '척': FreqDist({'MAG': 1, 'NNB': 36}),\n",
       "                     '까무룩': FreqDist({'MAG': 2}),\n",
       "                     '잠': FreqDist({'NNG': 104, 'UNT': 2}),\n",
       "                     '그래두': FreqDist({'MAJ': 228}),\n",
       "                     '막히': FreqDist({'VV': 61}),\n",
       "                     '번': FreqDist({'NNB': 1534, 'NNG': 2, 'NR': 1, 'UNT': 8}),\n",
       "                     '들키': FreqDist({'VV': 3}),\n",
       "                     'ㅓㅆ': FreqDist({'EC': 3, 'EF': 2, 'EP': 6053, 'VX': 1}),\n",
       "                     '적': FreqDist({'NNB': 267,\n",
       "                               'NNG': 15,\n",
       "                               'UNT': 12,\n",
       "                               'VA': 85,\n",
       "                               'VV': 113,\n",
       "                               'XSN': 3711,\n",
       "                               'XSV': 1}),\n",
       "                     '었': FreqDist({'EF': 1, 'EP': 4512, 'UNT': 2, 'VV': 1}),\n",
       "                     '너': FreqDist({'NNG': 1, 'NP': 1630, 'UNT': 10}),\n",
       "                     '어떻게': FreqDist({'MAG': 1781}),\n",
       "                     'ㅕㅆ': FreqDist({'EC': 6, 'EP': 6504, 'VX': 1}),\n",
       "                     '돌아오': FreqDist({'VV': 96}),\n",
       "                     '다시': FreqDist({'MAG': 753, 'NNG': 39, 'VV': 1}),\n",
       "                     '얼마나': FreqDist({'MAG': 413}),\n",
       "                     '더': FreqDist({'EP': 27,\n",
       "                               'MAG': 1797,\n",
       "                               'MAJ': 1,\n",
       "                               'NNG': 7,\n",
       "                               'UNA': 1,\n",
       "                               'UNT': 3}),\n",
       "                     '아마': FreqDist({'MAG': 376}),\n",
       "                     '선릉': FreqDist({'NNP': 3}),\n",
       "                     'ㄴ가': FreqDist({'EC': 825, 'EF': 992}),\n",
       "                     '삼성': FreqDist({'NNG': 1, 'NNP': 30}),\n",
       "                     '가지': FreqDist({'NNB': 700,\n",
       "                               'NNG': 12,\n",
       "                               'UNA': 1,\n",
       "                               'UNT': 5,\n",
       "                               'VV': 1010,\n",
       "                               'VX': 2992}),\n",
       "                     '두': FreqDist({'EC': 4,\n",
       "                               'JKS': 2,\n",
       "                               'JX': 2795,\n",
       "                               'MM': 1426,\n",
       "                               'NNG': 4,\n",
       "                               'UNA': 16,\n",
       "                               'UNT': 10,\n",
       "                               'VV': 149,\n",
       "                               'VX': 89}),\n",
       "                     '버스': FreqDist({'NNG': 135}),\n",
       "                     '다니': FreqDist({'EC': 2, 'EF': 13, 'UNT': 2, 'VV': 733}),\n",
       "                     '학원': FreqDist({'NNG': 190}),\n",
       "                     '도': FreqDist({'EC': 12,\n",
       "                               'JKB': 1,\n",
       "                               'JKG': 1,\n",
       "                               'JKS': 6,\n",
       "                               'JX': 9797,\n",
       "                               'NNB': 75,\n",
       "                               'NNG': 10,\n",
       "                               'UNT': 14}),\n",
       "                     '아니면': FreqDist({'MAJ': 382}),\n",
       "                     '여기': FreqDist({'MAG': 39,\n",
       "                               'NNG': 2,\n",
       "                               'NNP': 1,\n",
       "                               'NP': 2280,\n",
       "                               'NR': 1,\n",
       "                               'VV': 20}),\n",
       "                     '교보빌딩': FreqDist({'NNP': 1}),\n",
       "                     '짜증': FreqDist({'NNG': 118, 'UNT': 1}),\n",
       "                     '겠': FreqDist({'EC': 12, 'EF': 1, 'EP': 4229}),\n",
       "                     '아니야': FreqDist({'IC': 331}),\n",
       "                     '가깝': FreqDist({'VA': 133, 'VV': 2}),\n",
       "                     '광화문터널': FreqDist({'NNP': 1}),\n",
       "                     '시간': FreqDist({'NNG': 1479}),\n",
       "                     '그래': FreqDist({'IC': 971,\n",
       "                               'MAG': 5,\n",
       "                               'MAJ': 80,\n",
       "                               'UNA': 1,\n",
       "                               'UNC': 1,\n",
       "                               'UNT': 11}),\n",
       "                     '반': FreqDist({'NNB': 2,\n",
       "                               'NNG': 324,\n",
       "                               'UNA': 1,\n",
       "                               'UNT': 14,\n",
       "                               'XPN': 12}),\n",
       "                     '여덟': FreqDist({'NR': 167}),\n",
       "                     '는지': FreqDist({'EC': 576, 'EF': 91}),\n",
       "                     '모르': FreqDist({'UNT': 4, 'VV': 1983}),\n",
       "                     '내': FreqDist({'IC': 5,\n",
       "                               'MAG': 2,\n",
       "                               'MM': 970,\n",
       "                               'NNB': 97,\n",
       "                               'NNG': 12,\n",
       "                               'NP': 3103,\n",
       "                               'UNA': 5,\n",
       "                               'UNC': 1,\n",
       "                               'UNT': 38,\n",
       "                               'VV': 661,\n",
       "                               'VX': 199,\n",
       "                               'XSV': 1}),\n",
       "                     '빨리': FreqDist({'MAG': 379, 'NNG': 1}),\n",
       "                     '사십': FreqDist({'UNT': 1}),\n",
       "                     '거던': FreqDist({'EF': 47}),\n",
       "                     '그까': FreqDist({'IC': 2, 'MAG': 1, 'MAJ': 816}),\n",
       "                     '일': FreqDist({'MM': 1,\n",
       "                               'NNB': 386,\n",
       "                               'NNG': 1069,\n",
       "                               'NNP': 4,\n",
       "                               'NP': 1,\n",
       "                               'NR': 2061,\n",
       "                               'UNA': 1,\n",
       "                               'UNT': 50,\n",
       "                               'VV': 5}),\n",
       "                     '아현': FreqDist({'NNP': 1}),\n",
       "                     '쯤': FreqDist({'MAG': 1, 'NNB': 3, 'XSN': 233}),\n",
       "                     '더라': FreqDist({'EC': 3, 'EF': 396}),\n",
       "                     '그쪽': FreqDist({'NP': 204}),\n",
       "                     '나오': FreqDist({'UNT': 6, 'VV': 2985}),\n",
       "                     '이름': FreqDist({'NNG': 392}),\n",
       "                     '한성': FreqDist({'NNP': 1}),\n",
       "                     '!': FreqDist({'SF': 1535, 'SP': 1}),\n",
       "                     '어이구': FreqDist({'IC': 6}),\n",
       "                     '네': FreqDist({'EC': 6,\n",
       "                               'EF': 922,\n",
       "                               'IC': 1781,\n",
       "                               'MM': 474,\n",
       "                               'NP': 31,\n",
       "                               'UNA': 3,\n",
       "                               'UNT': 4,\n",
       "                               'XPN': 1,\n",
       "                               'XSN': 883}),\n",
       "                     '그래서': FreqDist({'MAJ': 4501}),\n",
       "                     '생기': FreqDist({'UNT': 2, 'VA': 2, 'VV': 577}),\n",
       "                     '그래도': FreqDist({'MAG': 7, 'MAJ': 338}),\n",
       "                     '막': FreqDist({'IC': 17,\n",
       "                               'MAG': 4814,\n",
       "                               'MAJ': 1,\n",
       "                               'UNT': 6,\n",
       "                               'VV': 109}),\n",
       "                     '굳이': FreqDist({'MAG': 62}),\n",
       "                     '을려고': FreqDist({'EC': 30}),\n",
       "                     '별로': FreqDist({'MAG': 471}),\n",
       "                     '것': FreqDist({'EP': 12,\n",
       "                               'NNB': 5570,\n",
       "                               'NP': 41,\n",
       "                               'UNT': 2}),\n",
       "                     '같': FreqDist({'UNT': 26, 'VA': 5226}),\n",
       "                     '오늘': FreqDist({'MAG': 722, 'NNG': 140}),\n",
       "                     '일어나': FreqDist({'VV': 254}),\n",
       "                     '옆': FreqDist({'NNG': 294, 'NP': 2}),\n",
       "                     '아가씨': FreqDist({'NNG': 49, 'NNP': 1}),\n",
       "                     '명': FreqDist({'NNB': 946,\n",
       "                               'NNG': 29,\n",
       "                               'NR': 1,\n",
       "                               'UNT': 2,\n",
       "                               'XSN': 6}),\n",
       "                     '오른쪽': FreqDist({'NNG': 110}),\n",
       "                     '아줌마': FreqDist({'NNG': 150}),\n",
       "                     '역시': FreqDist({'MAG': 165, 'MAJ': 2}),\n",
       "                     '약간': FreqDist({'MAG': 379, 'NNG': 39}),\n",
       "                     '머뭇': FreqDist({'MAG': 1, 'XR': 1}),\n",
       "                     '거리': FreqDist({'NNB': 18,\n",
       "                               'NNG': 103,\n",
       "                               'UNT': 1,\n",
       "                               'VV': 2,\n",
       "                               'XSN': 1,\n",
       "                               'XSV': 115}),\n",
       "                     '듯하': FreqDist({'VX': 42}),\n",
       "                     'ㅕ서': FreqDist({'EC': 4182, 'EF': 26, 'EP': 1, 'JKB': 1}),\n",
       "                     '그냥': FreqDist({'MAG': 2682, 'MM': 1, 'NNG': 1}),\n",
       "                     '가만히': FreqDist({'MAG': 70}),\n",
       "                     '비키': FreqDist({'VV': 10}),\n",
       "                     '주': FreqDist({'MM': 3,\n",
       "                               'NNB': 133,\n",
       "                               'NNG': 237,\n",
       "                               'NNP': 148,\n",
       "                               'UNT': 30,\n",
       "                               'VV': 1189,\n",
       "                               'VX': 3671,\n",
       "                               'XPN': 12,\n",
       "                               'XR': 1}),\n",
       "                     '그러': FreqDist({'UNT': 39,\n",
       "                               'VA': 2,\n",
       "                               'VV': 5963,\n",
       "                               'XR': 303}),\n",
       "                     '더니': FreqDist({'EC': 685, 'EF': 15}),\n",
       "                     '누': FreqDist({'NP': 293, 'UNT': 13, 'VV': 1}),\n",
       "                     '디': FreqDist({'EC': 1,\n",
       "                               'EF': 10,\n",
       "                               'MAG': 1,\n",
       "                               'NNG': 57,\n",
       "                               'UNA': 1,\n",
       "                               'UNT': 4,\n",
       "                               'VV': 1}),\n",
       "                     '또': FreqDist({'IC': 1,\n",
       "                               'MAG': 3405,\n",
       "                               'MAJ': 25,\n",
       "                               'UNT': 3}),\n",
       "                     '여자': FreqDist({'NNB': 1,\n",
       "                               'NNG': 1164,\n",
       "                               'NNP': 1,\n",
       "                               'NP': 1,\n",
       "                               'UNT': 1}),\n",
       "                     '을려구': FreqDist({'EC': 21, 'EF': 7}),\n",
       "                     '않': FreqDist({'UNT': 13, 'VA': 9, 'VV': 5, 'VX': 2594}),\n",
       "                     '구': FreqDist({'EC': 6965,\n",
       "                               'EF': 771,\n",
       "                               'NNG': 71,\n",
       "                               'NNP': 5,\n",
       "                               'NR': 608,\n",
       "                               'UNC': 3,\n",
       "                               'UNT': 15,\n",
       "                               'XPN': 3}),\n",
       "                     '을려니까': FreqDist({'EC': 1}),\n",
       "                     '맨날': FreqDist({'MAG': 430, 'NNG': 5}),\n",
       "                     '힘들': FreqDist({'UNT': 5, 'VA': 527}),\n",
       "                     '진짜': FreqDist({'MAG': 2255, 'NNG': 85}),\n",
       "                     '춥': FreqDist({'UNT': 1, 'VA': 84}),\n",
       "                     '완전히': FreqDist({'MAG': 159}),\n",
       "                     '에어콘': FreqDist({'NNG': 4}),\n",
       "                     '때문': FreqDist({'NNB': 1352, 'NNG': 10, 'UNT': 2}),\n",
       "                     '모': FreqDist({'IC': 6,\n",
       "                               'MM': 4,\n",
       "                               'NNG': 4,\n",
       "                               'NP': 23,\n",
       "                               'UNT': 17,\n",
       "                               'VV': 4}),\n",
       "                     '그러구': FreqDist({'MAJ': 84}),\n",
       "                     '동태': FreqDist({'NNG': 1}),\n",
       "                     'ㅓ서': FreqDist({'EC': 1497, 'EF': 20, 'VV': 1}),\n",
       "                     '거든': FreqDist({'EC': 19, 'EF': 1085}),\n",
       "                     '게다가': FreqDist({'MAG': 20}),\n",
       "                     '대': FreqDist({'EC': 1,\n",
       "                               'EF': 452,\n",
       "                               'NNB': 398,\n",
       "                               'NNG': 11,\n",
       "                               'UNA': 11,\n",
       "                               'UNT': 24,\n",
       "                               'VV': 108,\n",
       "                               'VX': 10,\n",
       "                               'XPN': 27,\n",
       "                               'XSN': 47,\n",
       "                               'XSV': 8}),\n",
       "                     '길': FreqDist({'NNG': 114, 'UNT': 1, 'VA': 204, 'VV': 5}),\n",
       "                     '맘': FreqDist({'NNG': 79}),\n",
       "                     '대루': FreqDist({'JKB': 18, 'JX': 2, 'NNB': 8}),\n",
       "                     '운전': FreqDist({'NNG': 96}),\n",
       "                     '싶': FreqDist({'UNT': 2, 'VX': 1037}),\n",
       "                     '은데': FreqDist({'EC': 679, 'EF': 227}),\n",
       "                     '읽': FreqDist({'UNT': 4, 'VA': 1, 'VV': 444}),\n",
       "                     '어지럽': FreqDist({'VA': 10}),\n",
       "                     '덜커덩': FreqDist({'MAG': 4}),\n",
       "                     '면서': FreqDist({'EC': 2347, 'EF': 30}),\n",
       "                     '가방': FreqDist({'NNG': 70}),\n",
       "                     '하고': FreqDist({'EC': 3,\n",
       "                               'JC': 583,\n",
       "                               'JKB': 508,\n",
       "                               'JKQ': 5,\n",
       "                               'JX': 3,\n",
       "                               'UNT': 4}),\n",
       "                     '같이': FreqDist({'JKB': 97, 'MAG': 1039}),\n",
       "                     '확': FreqDist({'IC': 1, 'MAG': 102, 'NNG': 1}),\n",
       "                     '쏠리': FreqDist({'VV': 11}),\n",
       "                     '대학교': FreqDist({'NNG': 138}),\n",
       "                     '학년': FreqDist({'NNB': 10, 'NNG': 499, 'XSN': 1}),\n",
       "                     '토하': FreqDist({'VV': 11}),\n",
       "                     '길래': FreqDist({'EC': 57, 'EF': 7}),\n",
       "                     '글자': FreqDist({'NNG': 65}),\n",
       "                     '흔들': FreqDist({'MAG': 2, 'VV': 12, 'XR': 1}),\n",
       "                     'ㅕ도': FreqDist({'EC': 383, 'EF': 3, 'MAJ': 1}),\n",
       "                     '몸': FreqDist({'NNG': 186, 'UNT': 1}),\n",
       "                     '약하': FreqDist({'VA': 65}),\n",
       "                     '울컥': FreqDist({'MAG': 9}),\n",
       "                     '솟아오르': FreqDist({'VV': 3}),\n",
       "                     '죽': FreqDist({'MAG': 6,\n",
       "                               'NNG': 6,\n",
       "                               'UNT': 6,\n",
       "                               'VV': 358,\n",
       "                               'VX': 19}),\n",
       "                     '뻔하': FreqDist({'VA': 22, 'VX': 37}),\n",
       "                     '외국': FreqDist({'NNG': 200, 'NNP': 1, 'UNT': 1}),\n",
       "                     '한국': FreqDist({'NNP': 455}),\n",
       "                     '롤러코스터': FreqDist({'NNG': 1}),\n",
       "                     '텔레비전': FreqDist({'NNG': 32}),\n",
       "                     '월드컵': FreqDist({'NNP': 19}),\n",
       "                     '앞두': FreqDist({'VV': 5}),\n",
       "                     '교통': FreqDist({'NNG': 37, 'NNP': 1}),\n",
       "                     '문화': FreqDist({'NNG': 287}),\n",
       "                     '개선': FreqDist({'NNG': 25}),\n",
       "                     'ㅕ야': FreqDist({'EC': 1324}),\n",
       "                     'ㄴ다고': FreqDist({'EC': 732, 'EF': 115}),\n",
       "                     '일본': FreqDist({'NNP': 328}),\n",
       "                     '비교': FreqDist({'NNG': 165}),\n",
       "                     '더라구': FreqDist({'EC': 4, 'EF': 239}),\n",
       "                     '천천히': FreqDist({'MAG': 48}),\n",
       "                     '정차': FreqDist({'NNG': 2}),\n",
       "                     '지키': FreqDist({'UNT': 1, 'VV': 96}),\n",
       "                     '그런': FreqDist({'IC': 6, 'MM': 6402, 'UNT': 9}),\n",
       "                     '그거': FreqDist({'NNG': 1, 'NP': 5824}),\n",
       "                     '맞': FreqDist({'UNT': 13, 'VV': 1384, 'XPN': 2}),\n",
       "                     '보다': FreqDist({'JKB': 834, 'MAG': 29, 'UNA': 1}),\n",
       "                     '택시': FreqDist({'NNB': 1, 'NNG': 68}),\n",
       "                     '바꾸': FreqDist({'UNT': 1, 'VV': 327}),\n",
       "                     '학': FreqDist({'NNG': 16, 'UNT': 45, 'XSN': 1}),\n",
       "                     '왜': FreqDist({'IC': 82, 'MAG': 2007, 'UNT': 3}),\n",
       "                     '승차': FreqDist({'NNG': 4}),\n",
       "                     '거부': FreqDist({'NNG': 33}),\n",
       "                     '적어두': FreqDist({'MAG': 8}),\n",
       "                     '가끔': FreqDist({'MAG': 160}),\n",
       "                     '휙': FreqDist({'MAG': 10}),\n",
       "                     '지나가': FreqDist({'UNT': 1, 'VV': 137}),\n",
       "                     '어도': FreqDist({'EC': 190, 'EF': 1, 'JX': 1}),\n",
       "                     '뒤': FreqDist({'NNG': 389, 'UNT': 2}),\n",
       "                     '밤': FreqDist({'NNG': 185}),\n",
       "                     '특히': FreqDist({'MAG': 264}),\n",
       "                     '신촌': FreqDist({'NNP': 33}),\n",
       "                     '이나': FreqDist({'JC': 662, 'JKB': 5, 'JX': 157}),\n",
       "                     '종로': FreqDist({'NNP': 13}),\n",
       "                     '태우': FreqDist({'VV': 32}),\n",
       "                     '그치': FreqDist({'IC': 432, 'VV': 5}),\n",
       "                     '하나': FreqDist({'NNG': 231,\n",
       "                               'NNP': 13,\n",
       "                               'NP': 4,\n",
       "                               'NR': 1407,\n",
       "                               'UNT': 1}),\n",
       "                     '잡': FreqDist({'NNG': 2, 'UNT': 5, 'VV': 317, 'XPN': 1}),\n",
       "                     '을려면': FreqDist({'EC': 6}),\n",
       "                     '무진장': FreqDist({'MAG': 2}),\n",
       "                     '았': FreqDist({'EP': 1975}),\n",
       "                     '운전사': FreqDist({'NNG': 5}),\n",
       "                     '고개': FreqDist({'NNG': 33}),\n",
       "                     '쑥': FreqDist({'MAG': 6}),\n",
       "                     '내밀': FreqDist({'VV': 17}),\n",
       "                     '어디': FreqDist({'IC': 4,\n",
       "                               'MAG': 5,\n",
       "                               'NNG': 1,\n",
       "                               'NP': 925,\n",
       "                               'VCN': 1}),\n",
       "                     '냐는': FreqDist({'ETM': 16, 'UNT': 1}),\n",
       "                     '눈빛': FreqDist({'NNG': 20}),\n",
       "                     '눈치': FreqDist({'NNG': 43}),\n",
       "                     '그럼': FreqDist({'IC': 42, 'MAJ': 1294}),\n",
       "                     '붕': FreqDist({'MAG': 12, 'UNT': 1}),\n",
       "                     '버리': FreqDist({'UNT': 1, 'VV': 96, 'VX': 444}),\n",
       "                     '참': FreqDist({'IC': 213,\n",
       "                               'MAG': 651,\n",
       "                               'NNB': 1,\n",
       "                               'NNG': 7,\n",
       "                               'UNT': 2,\n",
       "                               'VV': 25}),\n",
       "                     '기분': FreqDist({'NNG': 213}),\n",
       "                     '나쁘': FreqDist({'UNT': 1, 'VA': 276, 'VV': 1}),\n",
       "                     '세': FreqDist({'EF': 2,\n",
       "                               'MM': 780,\n",
       "                               'NNB': 90,\n",
       "                               'NNG': 6,\n",
       "                               'UNT': 12,\n",
       "                               'VA': 17,\n",
       "                               'VV': 20}),\n",
       "                     '목적지': FreqDist({'NNG': 9}),\n",
       "                     '얘기': FreqDist({'NNB': 1, 'NNG': 3672, 'NP': 2}),\n",
       "                     '부붕': FreqDist({'MAG': 1}),\n",
       "                     '최고': FreqDist({'MAG': 1, 'NNG': 64, 'NNP': 1}),\n",
       "                     '기록': FreqDist({'NNG': 42}),\n",
       "                     '그것': FreqDist({'NP': 840}),\n",
       "                     '뜨문뜨문': FreqDist({'MAG': 1}),\n",
       "                     '한참': FreqDist({'IC': 1, 'MAG': 81, 'NNG': 6}),\n",
       "                     '기다리': FreqDist({'UNT': 1, 'VV': 160}),\n",
       "                     '개인': FreqDist({'NNG': 166}),\n",
       "                     '건': FreqDist({'EC': 44, 'NNB': 10, 'UNT': 1}),\n",
       "                     '회사': FreqDist({'NNG': 281, 'UNT': 1}),\n",
       "                     '잡히': FreqDist({'VV': 67}),\n",
       "                     '너무': FreqDist({'MAG': 1723, 'XR': 1}),\n",
       "                     '뿐': FreqDist({'JX': 67, 'NNB': 74, 'NNG': 1}),\n",
       "                     '더러': FreqDist({'JKB': 5, 'JX': 2, 'MAG': 1}),\n",
       "                     '되는': FreqDist({'UNT': 1}),\n",
       "                     '절대': FreqDist({'MAG': 155, 'NNG': 23}),\n",
       "                     '차라리': FreqDist({'MAG': 113}),\n",
       "                     '생각': FreqDist({'NNB': 1,\n",
       "                               'NNG': 3118,\n",
       "                               'NNP': 1,\n",
       "                               'UNT': 6}),\n",
       "                     '얼마': FreqDist({'MAG': 12, 'NNG': 347, 'UNT': 2}),\n",
       "                     '전': FreqDist({'MM': 56,\n",
       "                               'NNB': 1,\n",
       "                               'NNG': 679,\n",
       "                               'UNT': 29,\n",
       "                               'XSN': 20}),\n",
       "                     '요금': FreqDist({'NNG': 11}),\n",
       "                     '오르': FreqDist({'VV': 51}),\n",
       "                     '니': FreqDist({'EC': 100,\n",
       "                               'EF': 272,\n",
       "                               'JC': 23,\n",
       "                               'MM': 130,\n",
       "                               'NP': 663,\n",
       "                               'UNA': 3,\n",
       "                               'UNT': 3}),\n",
       "                     '어제': FreqDist({'MAG': 161, 'NNG': 57}),\n",
       "                     '그저께': FreqDist({'MAG': 10, 'NNG': 6}),\n",
       "                     '천': FreqDist({'NNG': 6,\n",
       "                               'NNP': 5,\n",
       "                               'NR': 534,\n",
       "                               'UNA': 1,\n",
       "                               'UNT': 2}),\n",
       "                     '백': FreqDist({'NNG': 4, 'NNP': 1, 'NR': 873, 'UNT': 7}),\n",
       "                     '원': FreqDist({'NNB': 490,\n",
       "                               'NNG': 136,\n",
       "                               'NR': 125,\n",
       "                               'UNA': 1,\n",
       "                               'UNC': 1,\n",
       "                               'UNT': 11,\n",
       "                               'XPN': 13}),\n",
       "                     '구월': FreqDist({'NNG': 33}),\n",
       "                     '말': FreqDist({'NNB': 52,\n",
       "                               'NNG': 3846,\n",
       "                               'NNP': 1,\n",
       "                               'NP': 1,\n",
       "                               'UNT': 14,\n",
       "                               'VV': 292,\n",
       "                               'VX': 559}),\n",
       "                     '승객': FreqDist({'NNG': 3}),\n",
       "                     '반갑': FreqDist({'VA': 27}),\n",
       "                     '여전': FreqDist({'XR': 4}),\n",
       "                     '기사': FreqDist({'NNG': 77}),\n",
       "                     '사납금': FreqDist({'NNG': 2}),\n",
       "                     '이상': FreqDist({'MAG': 1,\n",
       "                               'NNG': 767,\n",
       "                               'UNT': 2,\n",
       "                               'VV': 2,\n",
       "                               'XR': 4}),\n",
       "                     '대나': FreqDist({'EC': 1, 'EF': 4}),\n",
       "                     '괜찮': FreqDist({'UNT': 2, 'VA': 483, 'VV': 3}),\n",
       "                     '하루': FreqDist({'MAG': 1, 'NNG': 243, 'NNP': 2}),\n",
       "                     '수익': FreqDist({'NNG': 7}),\n",
       "                     '으니까': FreqDist({'EC': 877, 'EF': 92}),\n",
       "                     '벌': FreqDist({'NNB': 8, 'NNG': 9, 'UNT': 1, 'VV': 177}),\n",
       "                     'ㅑ': FreqDist({'EF': 266}),\n",
       "                     '훨씬': FreqDist({'MAG': 180}),\n",
       "                     '헤': FreqDist({'IC': 51, 'UNT': 2}),\n",
       "                     '묻': FreqDist({'UNT': 5, 'VV': 385}),\n",
       "                     '밖에': FreqDist({'JX': 565}),\n",
       "                     '못': FreqDist({'MAG': 1951, 'NNG': 3, 'UNT': 4}),\n",
       "                     '달': FreqDist({'NNB': 217,\n",
       "                               'NNG': 142,\n",
       "                               'UNT': 6,\n",
       "                               'VA': 20,\n",
       "                               'VV': 114,\n",
       "                               'VX': 184}),\n",
       "                     'ㄹ지': FreqDist({'EC': 223, 'EF': 15, 'ETM': 1}),\n",
       "                     '멀리': FreqDist({'MAG': 58, 'NNG': 1}),\n",
       "                     '합승': FreqDist({'NNG': 3}),\n",
       "                     '이렇': FreqDist({'UNT': 9, 'VA': 229, 'VV': 1}),\n",
       "                     '사실': FreqDist({'MAG': 628, 'NNG': 99}),\n",
       "                     '그렇게': FreqDist({'MAG': 2357}),\n",
       "                     '늘': FreqDist({'MAG': 60,\n",
       "                               'UNA': 1,\n",
       "                               'UNT': 3,\n",
       "                               'VA': 1,\n",
       "                               'VV': 58}),\n",
       "                     '기본': FreqDist({'NNG': 205}),\n",
       "                     '아깝': FreqDist({'UNT': 1, 'VA': 48, 'VV': 1}),\n",
       "                     '쭐어들': FreqDist({'VV': 2}),\n",
       "                     '셈': FreqDist({'NNB': 10, 'NNG': 2}),\n",
       "                     '칠': FreqDist({'NNG': 7, 'NNP': 1, 'NR': 612}),\n",
       "                     '팔': FreqDist({'NNG': 47,\n",
       "                               'NR': 664,\n",
       "                               'UNT': 6,\n",
       "                               'VV': 180}),\n",
       "                     '안타깝': FreqDist({'VA': 30}),\n",
       "                     '셔틀': FreqDist({'NNG': 4}),\n",
       "                     '뻐스': FreqDist({'NNG': 18}),\n",
       "                     '어야': FreqDist({'EC': 534, 'IC': 1}),\n",
       "                     '수단': FreqDist({'NNG': 59}),\n",
       "                     '돈': FreqDist({'NNG': 756, 'UNA': 1}),\n",
       "                     '옛날': FreqDist({'MAG': 6, 'NNG': 615, 'UNT': 1}),\n",
       "                     '대중': FreqDist({'NNG': 38}),\n",
       "                     '욕': FreqDist({'NNG': 95}),\n",
       "                     '하도': FreqDist({'MAG': 27}),\n",
       "                     '이랑': FreqDist({'JC': 258, 'JKB': 262, 'JKS': 1}),\n",
       "                     '우리': FreqDist({'NNG': 7, 'NP': 4359, 'VV': 7}),\n",
       "                     '나라': FreqDist({'NNG': 805}),\n",
       "                     '랑': FreqDist({'JC': 661,\n",
       "                               'JKB': 801,\n",
       "                               'JKG': 2,\n",
       "                               'UNT': 1}),\n",
       "                     '교통비': FreqDist({'NNG': 4}),\n",
       "                     '엄청': FreqDist({'MAG': 103, 'UNT': 2}),\n",
       "                     '차이': FreqDist({'NNB': 1, 'NNG': 387, 'VV': 6}),\n",
       "                     '비싸': FreqDist({'VA': 187}),\n",
       "                     '걔': FreqDist({'MM': 11, 'NP': 1224, 'UNT': 1}),\n",
       "                     '가격': FreqDist({'NNG': 63}),\n",
       "                     '대비': FreqDist({'NNG': 16}),\n",
       "                     '으음': FreqDist({'IC': 129}),\n",
       "                     'ㅕㅆ었': FreqDist({'EP': 500, 'VV': 1}),\n",
       "                     '며칠': FreqDist({'NNG': 90}),\n",
       "                     '동안': FreqDist({'MAG': 2, 'NNB': 4, 'NNG': 309}),\n",
       "                     '속': FreqDist({'NNG': 312, 'UNT': 1, 'VV': 5}),\n",
       "                     '울렁': FreqDist({'XR': 4}),\n",
       "                     '적응': FreqDist({'NNG': 38, 'UNT': 1}),\n",
       "                     '무섭': FreqDist({'UNT': 2, 'VA': 191}),\n",
       "                     '꽉': FreqDist({'MAG': 26}),\n",
       "                     '떨어지': FreqDist({'UNT': 1, 'VV': 362}),\n",
       "                     '그리구': FreqDist({'EC': 1, 'JC': 1, 'MAJ': 708}),\n",
       "                     '덜컹덜컹': FreqDist({'MAG': 1}),\n",
       "                     '값': FreqDist({'NNG': 117}),\n",
       "                     '문제': FreqDist({'MAG': 1, 'NNB': 2, 'NNG': 1267}),\n",
       "                     '습관': FreqDist({'NNG': 38}),\n",
       "                     '경찰': FreqDist({'NNG': 44}),\n",
       "                     '한테': FreqDist({'JKB': 1687, 'JX': 1}),\n",
       "                     '걸리': FreqDist({'UNT': 2, 'VV': 368}),\n",
       "                     '딱지': FreqDist({'NNG': 4}),\n",
       "                     '떼': FreqDist({'NNG': 3, 'UNT': 1, 'VV': 26}),\n",
       "                     '종점': FreqDist({'NNG': 6}),\n",
       "                     '살': FreqDist({'NNB': 225,\n",
       "                               'NNG': 136,\n",
       "                               'NNP': 1,\n",
       "                               'UNT': 9,\n",
       "                               'VA': 2,\n",
       "                               'VV': 831}),\n",
       "                     '년': FreqDist({'NNB': 776, 'NNG': 2, 'XSN': 1}),\n",
       "                     '광화문': FreqDist({'NNP': 3}),\n",
       "                     '육교': FreqDist({'NNG': 3}),\n",
       "                     '고가': FreqDist({'NNG': 4}),\n",
       "                     '도로': FreqDist({'MAG': 5, 'NNG': 55}),\n",
       "                     '건너': FreqDist({'NNG': 2, 'VV': 12}),\n",
       "                     '줄': FreqDist({'NNB': 384,\n",
       "                               'NNG': 109,\n",
       "                               'UNA': 1,\n",
       "                               'UNT': 1,\n",
       "                               'VA': 1,\n",
       "                               'VV': 30}),\n",
       "                     '냐': FreqDist({'EC': 179, 'EF': 1696, 'NNG': 1}),\n",
       "                     '그리고': FreqDist({'IC': 1, 'MAJ': 1164}),\n",
       "                     '다른': FreqDist({'MM': 851}),\n",
       "                     '사고': FreqDist({'NNG': 65}),\n",
       "                     '싸우': FreqDist({'VV': 173}),\n",
       "                     '비일비재': FreqDist({'NNG': 3}),\n",
       "                     '놓': FreqDist({'UNT': 2, 'VV': 216, 'VX': 924}),\n",
       "                     '미치': FreqDist({'VA': 1, 'VV': 173}),\n",
       "                     '편하': FreqDist({'UNT': 1, 'VA': 176, 'XSA': 1}),\n",
       "                     '제시간': FreqDist({'NNG': 1}),\n",
       "                     '딱딱': FreqDist({'MAG': 19, 'XR': 18}),\n",
       "                     '굉장히': FreqDist({'MAG': 1053}),\n",
       "                     '친절': FreqDist({'NNG': 43, 'XR': 2}),\n",
       "                     '편': FreqDist({'NNB': 173,\n",
       "                               'NNG': 17,\n",
       "                               'UNT': 5,\n",
       "                               'XSN': 4}),\n",
       "                     '친철': FreqDist({'NNG': 1}),\n",
       "                     '다는': FreqDist({'EC': 2, 'ETM': 985, 'UNT': 1}),\n",
       "                     '가만': FreqDist({'MAG': 24}),\n",
       "                     '난폭': FreqDist({'NNG': 5}),\n",
       "                     '신경': FreqDist({'NNG': 145}),\n",
       "                     '짜르': FreqDist({'VV': 66}),\n",
       "                     '원래': FreqDist({'MAG': 553, 'NNG': 29}),\n",
       "                     '대화': FreqDist({'NNG': 430, 'NNP': 1}),\n",
       "                     '의식': FreqDist({'NNG': 112, 'VV': 3}),\n",
       "                     '던': FreqDist({'EC': 33,\n",
       "                               'ETM': 1684,\n",
       "                               'ETN': 1,\n",
       "                               'UNT': 3}),\n",
       "                     '대로': FreqDist({'JKB': 271,\n",
       "                               'JX': 16,\n",
       "                               'NNB': 92,\n",
       "                               'NNG': 2}),\n",
       "                     '이만': FreqDist({'MAG': 5, 'XR': 10}),\n",
       "                     'ㄹ까': FreqDist({'EC': 118, 'EF': 476}),\n",
       "                     '단순': FreqDist({'NNG': 64, 'XR': 1}),\n",
       "                     '수업': FreqDist({'NNG': 514, 'NNP': 1}),\n",
       "                     '받': FreqDist({'UNT': 14, 'VA': 4, 'VV': 1491}),\n",
       "                     '미찌': FreqDist({'NNP': 1}),\n",
       "                     '귀엽': FreqDist({'VA': 44}),\n",
       "                     '웃': FreqDist({'UNT': 3, 'VA': 1, 'VV': 125}),\n",
       "                     '곰돌이': FreqDist({'NNG': 6}),\n",
       "                     '인형': FreqDist({'NNG': 17}),\n",
       "                     '무슨': FreqDist({'IC': 5, 'MM': 1131}),\n",
       "                     '펜더곰': FreqDist({'NNG': 1}),\n",
       "                     '닮': FreqDist({'UNT': 1, 'VV': 60}),\n",
       "                     '중': FreqDist({'NNB': 758,\n",
       "                               'NNG': 41,\n",
       "                               'NNP': 1,\n",
       "                               'UNT': 15,\n",
       "                               'XPN': 2,\n",
       "                               'XSN': 1}),\n",
       "                     '한무': FreqDist({'NNP': 7}),\n",
       "                     '금붕어': FreqDist({'NNG': 3}),\n",
       "                     '눈': FreqDist({'NNG': 310, 'UNT': 2}),\n",
       "                     '톡': FreqDist({'MAG': 6, 'UNT': 1}),\n",
       "                     '튀어나오': FreqDist({'VV': 18}),\n",
       "                     '라': FreqDist({'EC': 1482,\n",
       "                               'EF': 222,\n",
       "                               'NNG': 1,\n",
       "                               'UNT': 2}),\n",
       "                     '별명': FreqDist({'NNG': 9}),\n",
       "                     '똥그랗': FreqDist({'VA': 16}),\n",
       "                     '특이': FreqDist({'NNG': 42, 'UNT': 1, 'XR': 26}),\n",
       "                     '똥글똥글': FreqDist({'MAG': 1}),\n",
       "                     '계통': FreqDist({'NNG': 20}),\n",
       "                     '지갑': FreqDist({'NNG': 43}),\n",
       "                     '갖': FreqDist({'UNT': 12, 'VV': 697, 'VX': 840}),\n",
       "                     '편의점': FreqDist({'NNG': 14}),\n",
       "                     '들어가': FreqDist({'UNT': 2, 'VV': 1257, 'VX': 2}),\n",
       "                     '삼각': FreqDist({'NNG': 6}),\n",
       "                     '김밥': FreqDist({'NNG': 26}),\n",
       "                     '루': FreqDist({'JKB': 281, 'JX': 2, 'UNT': 1}),\n",
       "                     'ㄹ라구': FreqDist({'EC': 40, 'EF': 29}),\n",
       "                     '카운터': FreqDist({'NNG': 2}),\n",
       "                     '저런': FreqDist({'IC': 16, 'MM': 122}),\n",
       "                     '황망': FreqDist({'XR': 1}),\n",
       "                     '스럽': FreqDist({'VA': 5, 'XSA': 302}),\n",
       "                     '번째': FreqDist({'NNB': 500}),\n",
       "                     '당황': FreqDist({'NNG': 30, 'UNT': 1, 'XR': 16}),\n",
       "                     '언제': FreqDist({'MAG': 149, 'NP': 186}),\n",
       "                     'ㄴ지': FreqDist({'EC': 718, 'EF': 22}),\n",
       "                     '기억': FreqDist({'NNG': 328}),\n",
       "                     '겪': FreqDist({'VV': 40}),\n",
       "                     '찾': FreqDist({'UNT': 2, 'VA': 1, 'VV': 380}),\n",
       "                     '으면은': FreqDist({'EC': 231, 'EF': 1}),\n",
       "                     '미안': FreqDist({'IC': 8, 'NNG': 126, 'UNT': 1}),\n",
       "                     '니까는': FreqDist({'EC': 33}),\n",
       "                     '탁': FreqDist({'MAG': 68}),\n",
       "                     '던지': FreqDist({'EC': 32, 'EF': 6, 'VV': 66}),\n",
       "                     '라면': FreqDist({'EC': 89, 'EF': 1, 'NNG': 54}),\n",
       "                     '먹': FreqDist({'NNG': 18,\n",
       "                               'UNT': 20,\n",
       "                               'VV': 2158,\n",
       "                               'VX': 37}),\n",
       "                     '가져오': FreqDist({'UNT': 1, 'VV': 67}),\n",
       "                     '확실': FreqDist({'NNG': 3, 'XR': 73}),\n",
       "                     '집': FreqDist({'NNB': 2, 'NNG': 931, 'UNT': 2, 'VV': 31}),\n",
       "                     '과연': FreqDist({'MAG': 96}),\n",
       "                     '을까': FreqDist({'EC': 42, 'EF': 276}),\n",
       "                     '챙기': FreqDist({'VV': 72}),\n",
       "                     'ㄹ려니까': FreqDist({'EC': 10}),\n",
       "                     '눌러앉': FreqDist({'VV': 1}),\n",
       "                     '저녁': FreqDist({'NNG': 136, 'UNT': 1}),\n",
       "                     '책': FreqDist({'NNG': 393, 'UNT': 4}),\n",
       "                     '공부': FreqDist({'MAG': 1, 'NNG': 617}),\n",
       "                     '운동': FreqDist({'NNG': 305, 'NNP': 1}),\n",
       "                     '어떻': FreqDist({'MM': 1, 'UNT': 6, 'VA': 263, 'VV': 5}),\n",
       "                     '자정': FreqDist({'UNT': 1}),\n",
       "                     '똑같': FreqDist({'UNT': 4, 'VA': 393}),\n",
       "                     '자전거': FreqDist({'NNB': 1, 'NNG': 26}),\n",
       "                     '런닝머신': FreqDist({'NNG': 9}),\n",
       "                     '정하': FreqDist({'UNT': 1, 'VA': 2, 'VV': 173}),\n",
       "                     '그러니깐': FreqDist({'MAJ': 46}),\n",
       "                     '층': FreqDist({'NNG': 92, 'XSN': 35}),\n",
       "                     '먼저': FreqDist({'MAG': 318, 'NNG': 9}),\n",
       "                     '윗몸': FreqDist({'NNG': 4}),\n",
       "                     '일으키': FreqDist({'VV': 41}),\n",
       "                     '뛰': FreqDist({'UNT': 4, 'VV': 143}),\n",
       "                     '걷': FreqDist({'UNT': 2, 'VA': 1, 'VV': 102}),\n",
       "                     '중간': FreqDist({'MAG': 1, 'NNG': 286}),\n",
       "                     '늘리': FreqDist({'VV': 32}),\n",
       "                     '다구': FreqDist({'EC': 241, 'EF': 162}),\n",
       "                     '냐면': FreqDist({'EC': 368, 'EF': 6}),\n",
       "                     '에잉': FreqDist({'IC': 2}),\n",
       "                     '속도': FreqDist({'NNG': 50, 'NNP': 1}),\n",
       "                     '엉': FreqDist({'EF': 1, 'IC': 72, 'UNT': 1}),\n",
       "                     '일단': FreqDist({'MAG': 521, 'NNG': 5}),\n",
       "                     '준비': FreqDist({'NNG': 228, 'NNP': 1}),\n",
       "                     '마지막': FreqDist({'MAG': 9, 'NNG': 272}),\n",
       "                     '물론': FreqDist({'MAG': 383, 'MAJ': 1, 'NNG': 9}),\n",
       "                     '합치': FreqDist({'UNT': 1, 'VV': 39}),\n",
       "                     '비율': FreqDist({'NNG': 38}),\n",
       "                     '는구나': FreqDist({'EF': 112}),\n",
       "                     '재밌': FreqDist({'UNT': 4, 'VA': 549}),\n",
       "                     '재미': FreqDist({'NNG': 61, 'UNT': 1}),\n",
       "                     '지루': FreqDist({'NNG': 2, 'XR': 10}),\n",
       "                     '마찬가지': FreqDist({'MAG': 1, 'NNG': 154}),\n",
       "                     '불': FreqDist({'NNB': 12,\n",
       "                               'NNG': 90,\n",
       "                               'UNA': 1,\n",
       "                               'UNT': 5,\n",
       "                               'VV': 55,\n",
       "                               'XPN': 110}),\n",
       "                     '규칙': FreqDist({'NNG': 55}),\n",
       "                     '코스': FreqDist({'NNG': 30}),\n",
       "                     '계곡': FreqDist({'NNG': 4}),\n",
       "                     '애서': FreqDist({'EC': 61, 'EF': 3}),\n",
       "                     '낮추': FreqDist({'VV': 9}),\n",
       "                     '느리': FreqDist({'VA': 35}),\n",
       "                     '속보': FreqDist({'NNG': 1}),\n",
       "                     '빼': FreqDist({'UNT': 1, 'VV': 337}),\n",
       "                     '그러고': FreqDist({'MAJ': 66}),\n",
       "                     '위몸': FreqDist({'NNG': 1}),\n",
       "                     '윗몸일으키기': FreqDist({'NNG': 1}),\n",
       "                     '훌라후프': FreqDist({'NNG': 4}),\n",
       "                     '돌리': FreqDist({'VV': 117}),\n",
       "                     '그만두': FreqDist({'VV': 27}),\n",
       "                     '오오': FreqDist({'IC': 4}),\n",
       "                     '자신': FreqDist({'NNG': 208, 'NP': 4}),\n",
       "                     '감': FreqDist({'NNG': 31,\n",
       "                               'UNA': 1,\n",
       "                               'UNT': 9,\n",
       "                               'VV': 33,\n",
       "                               'XSN': 171}),\n",
       "                     '개': FreqDist({'NNB': 1179,\n",
       "                               'NNG': 80,\n",
       "                               'UNT': 8,\n",
       "                               'VV': 1,\n",
       "                               'XSN': 1}),\n",
       "                     '어리': FreqDist({'NNP': 1, 'UNT': 1, 'VA': 272, 'VV': 7}),\n",
       "                     '최근': FreqDist({'MAG': 4, 'NNG': 72}),\n",
       "                     '저번': FreqDist({'NNG': 153}),\n",
       "                     '뺏': FreqDist({'VV': 34}),\n",
       "                     '저기': FreqDist({'IC': 153,\n",
       "                               'MAG': 5,\n",
       "                               'NNG': 1,\n",
       "                               'NP': 253,\n",
       "                               'XR': 1}),\n",
       "                     '지금': FreqDist({'IC': 2, 'MAG': 2880, 'NNG': 282}),\n",
       "                     '기구': FreqDist({'NNG': 20}),\n",
       "                     '열': FreqDist({'NNG': 106,\n",
       "                               'NP': 1,\n",
       "                               'NR': 415,\n",
       "                               'UNT': 8,\n",
       "                               'VV': 119}),\n",
       "                     '아무것': FreqDist({'NNG': 3, 'NP': 99}),\n",
       "                     '올리': FreqDist({'UNT': 1, 'VV': 224, 'VX': 1}),\n",
       "                     '아무리': FreqDist({'MAG': 150, 'NNG': 2}),\n",
       "                     '오래간만': FreqDist({'NNG': 2}),\n",
       "                     '틀': FreqDist({'NNG': 37, 'UNT': 2, 'VV': 40}),\n",
       "                     '방법': FreqDist({'NNG': 404}),\n",
       "                     '익숙': FreqDist({'NNG': 1, 'XR': 44}),\n",
       "                     '금방': FreqDist({'MAG': 113, 'NNG': 1}),\n",
       "                     '얘': FreqDist({'IC': 3, 'MAG': 1, 'NP': 886, 'UNT': 9}),\n",
       "                     '튼튼': FreqDist({'XR': 17}),\n",
       "                     '였': FreqDist({'EP': 70, 'UNT': 1}),\n",
       "                     '기진맥진': FreqDist({'NNG': 3, 'XR': 1}),\n",
       "                     '하늘': FreqDist({'NNG': 89}),\n",
       "                     '노랗': FreqDist({'VA': 22}),\n",
       "                     '갑자기': FreqDist({'MAG': 335}),\n",
       "                     '풀리': FreqDist({'UNT': 1, 'VV': 37}),\n",
       "                     '주저앉': FreqDist({'VV': 6}),\n",
       "                     '무리': FreqDist({'NNG': 32}),\n",
       "                     '상쾌': FreqDist({'XR': 2}),\n",
       "                     '카타르시스': FreqDist({'NNG': 2}),\n",
       "                     '땀': FreqDist({'NNG': 26}),\n",
       "                     '빠져나가': FreqDist({'VV': 18}),\n",
       "                     '온몸': FreqDist({'NNG': 7}),\n",
       "                     '쫙': FreqDist({'MAG': 106}),\n",
       "                     '소름': FreqDist({'NNG': 4}),\n",
       "                     '돋': FreqDist({'VV': 8}),\n",
       "                     '으면서': FreqDist({'EC': 188, 'EF': 3}),\n",
       "                     '느낌': FreqDist({'MAG': 1, 'NNG': 194}),\n",
       "                     '아프': FreqDist({'UNT': 4, 'VA': 224}),\n",
       "                     '정리': FreqDist({'NNG': 195}),\n",
       "                     '의외로': FreqDist({'MAG': 10}),\n",
       "                     '오랜만': FreqDist({'NNG': 25}),\n",
       "                     '워낙': FreqDist({'MAG': 92, 'NNG': 1}),\n",
       "                     '아이': FreqDist({'IC': 494,\n",
       "                               'NNG': 448,\n",
       "                               'NNP': 1,\n",
       "                               'NR': 1,\n",
       "                               'UNA': 12,\n",
       "                               'UNT': 2,\n",
       "                               'VCN': 5}),\n",
       "                     '등산': FreqDist({'NNG': 9}),\n",
       "                     '자발': FreqDist({'NNG': 2, 'XR': 23}),\n",
       "                     '타의': FreqDist({'NNG': 1}),\n",
       "                     '의하': FreqDist({'VV': 156}),\n",
       "                     '종일': FreqDist({'NNG': 61}),\n",
       "                     'ㄹ려': FreqDist({'EC': 33}),\n",
       "                     '아까': FreqDist({'MAG': 741, 'NNG': 17}),\n",
       "                     '유원식': FreqDist({'NNP': 3}),\n",
       "                     '만나': FreqDist({'NNG': 16, 'UNT': 3, 'VA': 2, 'VV': 787}),\n",
       "                     '대메': FreqDist({'EF': 37}),\n",
       "                     '낮': FreqDist({'MAG': 1, 'NNG': 34, 'UNT': 1, 'VA': 102}),\n",
       "                     '놀라': FreqDist({'VA': 1, 'VV': 40}),\n",
       "                     'ㅐㅆ': FreqDist({'EP': 1}),\n",
       "                     '약속': FreqDist({'NNG': 59}),\n",
       "                     '전화': FreqDist({'NNG': 630, 'NNP': 1, 'UNT': 1}),\n",
       "                     '바쁘': FreqDist({'VA': 107, 'VV': 4}),\n",
       "                     '추석': FreqDist({'NNG': 18}),\n",
       "                     '난리': FreqDist({'NNG': 65, 'NP': 1}),\n",
       "                     '상품권': FreqDist({'NNG': 9}),\n",
       "                     '니라고': FreqDist({'EC': 9}),\n",
       "                     '요즘': FreqDist({'MAG': 264, 'NNG': 270}),\n",
       "                     '팀': FreqDist({'NNG': 111, 'NNP': 1}),\n",
       "                     '나누': FreqDist({'VA': 1, 'VV': 348}),\n",
       "                     '마케팅': FreqDist({'NNG': 6}),\n",
       "                     '지원': FreqDist({'NNG': 74, 'NNP': 26}),\n",
       "                     '신규': FreqDist({'NNG': 7}),\n",
       "                     '영업': FreqDist({'NNG': 13}),\n",
       "                     '아직': FreqDist({'MAG': 442}),\n",
       "                     '어떤': FreqDist({'IC': 4, 'MM': 2125, 'NNG': 1, 'UNT': 1}),\n",
       "                     '성과': FreqDist({'NNG': 16}),\n",
       "                     '기존': FreqDist({'NNG': 112}),\n",
       "                     '혼자': FreqDist({'MAG': 239, 'NNG': 59}),\n",
       "                     '핸들링': FreqDist({'NNG': 1}),\n",
       "                     '어렵': FreqDist({'NNG': 1, 'UNT': 3, 'VA': 401, 'VV': 1}),\n",
       "                     'ㅓ야': FreqDist({'EC': 1007, 'EP': 1, 'IC': 2}),\n",
       "                     '이것저것': FreqDist({'MAG': 3, 'NNG': 40}),\n",
       "                     '이러': FreqDist({'MAG': 1,\n",
       "                               'UNC': 1,\n",
       "                               'UNT': 18,\n",
       "                               'VA': 9,\n",
       "                               'VV': 998,\n",
       "                               'XR': 159}),\n",
       "                     '느라고': FreqDist({'EC': 29, 'EF': 2}),\n",
       "                     '새로': FreqDist({'MAG': 69}),\n",
       "                     '들어오': FreqDist({'UNT': 1, 'VV': 480}),\n",
       "                     '해외': FreqDist({'NNG': 26}),\n",
       "                     '자료': FreqDist({'NNG': 325}),\n",
       "                     '조사': FreqDist({'NNG': 230}),\n",
       "                     '영어': FreqDist({'NNB': 1,\n",
       "                               'NNG': 462,\n",
       "                               'NNP': 10,\n",
       "                               'UNT': 1}),\n",
       "                     '영국': FreqDist({'NNP': 80}),\n",
       "                     '통화': FreqDist({'NNG': 37}),\n",
       "                     '해결': FreqDist({'NNG': 95}),\n",
       "                     '비용': FreqDist({'NNG': 17}),\n",
       "                     '절감': FreqDist({'NNG': 2}),\n",
       "                     '효과': FreqDist({'NNG': 94}),\n",
       "                     '확실히': FreqDist({'MAG': 94}),\n",
       "                     '수입': FreqDist({'NNG': 23}),\n",
       "                     '결정': FreqDist({'NNG': 119}),\n",
       "                     '마음': FreqDist({'NNG': 368}),\n",
       "                     'ㄴ다는': FreqDist({'ETM': 708}),\n",
       "                     '컨버터': FreqDist({'NNG': 5}),\n",
       "                     '부르': FreqDist({'UNT': 1, 'VA': 4, 'VV': 221}),\n",
       "                     '더라고': FreqDist({'EC': 6, 'EF': 84}),\n",
       "                     '만들': FreqDist({'UNT': 1, 'VV': 1120}),\n",
       "                     '원자재': FreqDist({'NNG': 1}),\n",
       "                     '가공': FreqDist({'NNG': 25}),\n",
       "                     '제시': FreqDist({'NNG': 136}),\n",
       "                     '발행': FreqDist({'NNG': 4}),\n",
       "                     '변환': FreqDist({'NNG': 14}),\n",
       "                     '시키': FreqDist({'UNT': 3, 'VV': 483, 'XSV': 409}),\n",
       "                     '프린터': FreqDist({'NNG': 6}),\n",
       "                     '프린팅': FreqDist({'NNG': 1}),\n",
       "                     '경쟁': FreqDist({'NNG': 47}),\n",
       "                     '력': FreqDist({'XSN': 144}),\n",
       "                     '높': FreqDist({'UNT': 1, 'VA': 191}),\n",
       "                     '당연히': FreqDist({'MAG': 164}),\n",
       "                     '다르': FreqDist({'UNT': 6, 'VA': 790}),\n",
       "                     '쪽': FreqDist({'MAG': 3,\n",
       "                               'NNB': 629,\n",
       "                               'NNG': 20,\n",
       "                               'UNT': 1}),\n",
       "                     '모든': FreqDist({'MAG': 5, 'MM': 252}),\n",
       "                     '대외': FreqDist({'NNG': 4}),\n",
       "                     '국외': FreqDist({'NNG': 29}),\n",
       "                     '에다가': FreqDist({'EC': 2, 'JC': 1, 'JKB': 245, 'UNT': 1}),\n",
       "                     '연결': FreqDist({'NNG': 217, 'UNT': 1}),\n",
       "                     '출장': FreqDist({'NNG': 11}),\n",
       "                     '빌붙': FreqDist({'VV': 3}),\n",
       "                     '지방': FreqDist({'NNG': 92}),\n",
       "                     '지자체': FreqDist({'NNG': 5}),\n",
       "                     '얼': FreqDist({'IC': 1, 'UNA': 1, 'UNT': 14, 'VV': 8}),\n",
       "                     '전주': FreqDist({'NNG': 1, 'NNP': 18}),\n",
       "                     '근처': FreqDist({'NNG': 60}),\n",
       "                     '지영': FreqDist({'NNP': 44}),\n",
       "                     'ㄴ다': FreqDist({'EC': 279, 'EF': 1165, 'ETM': 2}),\n",
       "                     '꿈꾸': FreqDist({'VV': 12}),\n",
       "                     '꿈': FreqDist({'NNG': 121}),\n",
       "                     '나타나': FreqDist({'VV': 269}),\n",
       "                     'ㅕ야지': FreqDist({'EC': 60, 'EF': 134}),\n",
       "                     '멋지': FreqDist({'UNT': 1, 'VA': 46, 'VV': 3}),\n",
       "                     '스포츠카': FreqDist({'NNG': 8}),\n",
       "                     '앴': FreqDist({'EP': 15}),\n",
       "                     '색깔': FreqDist({'NNG': 118}),\n",
       "                     '보라색': FreqDist({'NNG': 10}),\n",
       "                     '건물': FreqDist({'NNG': 78}),\n",
       "                     '나중': FreqDist({'MAG': 3, 'NNG': 634}),\n",
       "                     '화장실': FreqDist({'NNG': 52}),\n",
       "                     '호텔': FreqDist({'NNG': 47}),\n",
       "                     '콘도': FreqDist({'NNG': 6}),\n",
       "                     '으러': FreqDist({'EC': 61}),\n",
       "                     '남자': FreqDist({'NNG': 905, 'NNP': 2}),\n",
       "                     '커다랗': FreqDist({'VA': 35}),\n",
       "                     '돌': FreqDist({'NNG': 68, 'UNT': 5, 'VV': 84}),\n",
       "                     '광장': FreqDist({'NNG': 14}),\n",
       "                     '찌': FreqDist({'VV': 115}),\n",
       "                     'ㅓㅆ었': FreqDist({'EP': 148}),\n",
       "                     '날씬': FreqDist({'XR': 8}),\n",
       "                     '모습': FreqDist({'NNG': 179}),\n",
       "                     '차종': FreqDist({'NNG': 2}),\n",
       "                     '관심': FreqDist({'NNG': 190}),\n",
       "                     '듣': FreqDist({'UNT': 9, 'VA': 1, 'VV': 1563}),\n",
       "                     '쪼그맣': FreqDist({'VA': 35}),\n",
       "                     '뚜껑': FreqDist({'NNG': 11}),\n",
       "                     '지붕': FreqDist({'NNG': 6}),\n",
       "                     '의자': FreqDist({'NNG': 29, 'NNP': 1}),\n",
       "                     '앨란': FreqDist({'NNP': 1}),\n",
       "                     '착각': FreqDist({'NNG': 12}),\n",
       "                     '넓': FreqDist({'UNT': 3, 'VA': 68, 'VV': 1}),\n",
       "                     '는군': FreqDist({'EF': 8}),\n",
       "                     '분위기': FreqDist({'NNG': 212}),\n",
       "                     '외제차': FreqDist({'NNG': 2}),\n",
       "                     '뒷좌석': FreqDist({'NNG': 2}),\n",
       "                     '놓이': FreqDist({'VV': 6}),\n",
       "                     '바구니': FreqDist({'NNG': 10}),\n",
       "                     '그렇다면': FreqDist({'MAJ': 15}),\n",
       "                     '단': FreqDist({'ETM': 196,\n",
       "                               'MAG': 5,\n",
       "                               'MM': 12,\n",
       "                               'NNB': 22,\n",
       "                               'NNG': 1,\n",
       "                               'UNA': 1,\n",
       "                               'UNT': 7,\n",
       "                               'XPN': 3}),\n",
       "                     '내일': FreqDist({'MAG': 110, 'NNG': 56}),\n",
       "                     '혹시': FreqDist({'MAG': 191}),\n",
       "                     '을지': FreqDist({'EC': 53, 'ETM': 1}),\n",
       "                     '옷': FreqDist({'NNG': 319, 'UNT': 2}),\n",
       "                     '갖다놓': FreqDist({'VV': 2}),\n",
       "                     '락커룸': FreqDist({'NNG': 1}),\n",
       "                     '락커': FreqDist({'NNG': 1}),\n",
       "                     '흘리': FreqDist({'UNT': 1, 'VV': 30}),\n",
       "                     '빨': FreqDist({'UNT': 1, 'VV': 35}),\n",
       "                     '옷걸이': FreqDist({'NNG': 5}),\n",
       "                     '걸': FreqDist({'NNG': 10, 'UNA': 1, 'UNT': 8, 'VV': 109}),\n",
       "                     '던데': FreqDist({'EC': 50, 'EF': 179}),\n",
       "                     '밖': FreqDist({'NNG': 129}),\n",
       "                     '빨래': FreqDist({'NNG': 12}),\n",
       "                     '써붙이': FreqDist({'VV': 1}),\n",
       "                     '목욕탕': FreqDist({'NNG': 20}),\n",
       "                     'ㅏ두': FreqDist({'EC': 102, 'EF': 1}),\n",
       "                     '꼭': FreqDist({'MAG': 418}),\n",
       "                     '붙': FreqDist({'NNG': 1, 'UNT': 3, 'VA': 1, 'VV': 200}),\n",
       "                     '라구': FreqDist({'EC': 356,\n",
       "                               'EF': 178,\n",
       "                               'JC': 1,\n",
       "                               'JKQ': 32}),\n",
       "                     '세탁기': FreqDist({'NNG': 4}),\n",
       "                     '수건': FreqDist({'NNG': 15}),\n",
       "                     '아니믄': FreqDist({'MAJ': 9}),\n",
       "                     '속옷': FreqDist({'NNG': 3}),\n",
       "                     '어차피': FreqDist({'MAG': 156}),\n",
       "                     '물': FreqDist({'NNG': 271, 'UNA': 1, 'UNT': 5, 'VV': 18}),\n",
       "                     '묻히': FreqDist({'VV': 14}),\n",
       "                     '비누칠': FreqDist({'NNG': 1}),\n",
       "                     '닦': FreqDist({'VV': 46}),\n",
       "                     '아야': FreqDist({'EC': 242, 'IC': 6, 'NNG': 1}),\n",
       "                     '귀찮': FreqDist({'VA': 66, 'VV': 1}),\n",
       "                     '깔': FreqDist({'UNT': 2, 'VV': 80}),\n",
       "                     '앉아': FreqDist({'UNT': 1}),\n",
       "                     '더럽': FreqDist({'VA': 11}),\n",
       "                     '사우나': FreqDist({'NNG': 1}),\n",
       "                     'ㄹ걸': FreqDist({'EC': 3, 'EF': 90}),\n",
       "                     '어딨': FreqDist({'VA': 80}),\n",
       "                     '싸우나': FreqDist({'NNG': 3}),\n",
       "                     '지만': FreqDist({'EC': 1494, 'EF': 25}),\n",
       "                     '일반': FreqDist({'NNG': 264}),\n",
       "                     '엄마': FreqDist({'NNG': 639}),\n",
       "                     '샤워': FreqDist({'NNG': 21}),\n",
       "                     '냐고': FreqDist({'EC': 128, 'EF': 62, 'JKB': 1}),\n",
       "                     'ㄴ다구': FreqDist({'EC': 137, 'EF': 115}),\n",
       "                     '야근': FreqDist({'NNG': 11}),\n",
       "                     '빠져나오': FreqDist({'VV': 4}),\n",
       "                     'ㅏ도': FreqDist({'EC': 264}),\n",
       "                     '밥': FreqDist({'NNG': 346, 'NNP': 1}),\n",
       "                     '마땅히': FreqDist({'MAG': 8}),\n",
       "                     '간단': FreqDist({'UNT': 1, 'XR': 87}),\n",
       "                     '던킨도너츠': FreqDist({'NNP': 3}),\n",
       "                     '아홉': FreqDist({'NR': 110}),\n",
       "                     '살찌': FreqDist({'VV': 21}),\n",
       "                     '터': FreqDist({'NNB': 231, 'NNG': 6, 'UNT': 1, 'VCP': 1}),\n",
       "                     '낫': FreqDist({'NNG': 2, 'UNT': 2, 'VA': 199, 'VV': 25}),\n",
       "                     '떡볶기': FreqDist({'NNG': 1}),\n",
       "                     '배고프': FreqDist({'VA': 43, 'VV': 1}),\n",
       "                     'ㄴ대매': FreqDist({'EF': 6}),\n",
       "                     '어두': FreqDist({'EC': 96}),\n",
       "                     '점심': FreqDist({'NNG': 60}),\n",
       "                     '드라고': FreqDist({'EC': 6, 'EF': 24}),\n",
       "                     '깔깔': FreqDist({'MAG': 1, 'XR': 2}),\n",
       "                     '보구': FreqDist({'JKB': 22}),\n",
       "                     '끼': FreqDist({'NNB': 13, 'NNG': 3, 'VV': 97}),\n",
       "                     '란': FreqDist({'EC': 2,\n",
       "                               'EF': 1,\n",
       "                               'ETM': 291,\n",
       "                               'ETN': 1,\n",
       "                               'JX': 23,\n",
       "                               'UNT': 2,\n",
       "                               'XSN': 15}),\n",
       "                     '과일': FreqDist({'NNG': 39}),\n",
       "                     '깎': FreqDist({'VV': 56}),\n",
       "                     '도시락': FreqDist({'NNG': 11}),\n",
       "                     '싸': FreqDist({'UNT': 4, 'VA': 115, 'VV': 54}),\n",
       "                     '듯이': FreqDist({'EC': 116, 'NNB': 18}),\n",
       "                     '뺏기': FreqDist({'VV': 10}),\n",
       "                     '차마': FreqDist({'MAG': 9}),\n",
       "                     '에이': FreqDist({'IC': 68,\n",
       "                               'NNG': 139,\n",
       "                               'UNA': 2,\n",
       "                               'UNT': 1}),\n",
       "                     '못하': FreqDist({'UNT': 4, 'VV': 2, 'VX': 359}),\n",
       "                     '라는': FreqDist({'EC': 2,\n",
       "                               'ETM': 1830,\n",
       "                               'JKQ': 1,\n",
       "                               'UNT': 1}),\n",
       "                     '소리': FreqDist({'NNG': 529, 'NNP': 1}),\n",
       "                     '사과': FreqDist({'NNG': 35}),\n",
       "                     '쓱싹쓱싹': FreqDist({'MAG': 1}),\n",
       "                     '베어먹': FreqDist({'VV': 1}),\n",
       "                     '매일': FreqDist({'MAG': 50, 'NNG': 14}),\n",
       "                     'ㅕ두': FreqDist({'EC': 125, 'JX': 1}),\n",
       "                     '별다르': FreqDist({'VA': 3}),\n",
       "                     '여기저기': FreqDist({'MAG': 1, 'NNG': 35}),\n",
       "                     '돌아다니': FreqDist({'UNT': 1, 'VV': 65}),\n",
       "                     '거래처': FreqDist({'NNG': 6}),\n",
       "                     '웃기': FreqDist({'UNT': 1, 'VV': 256}),\n",
       "                     '회사원': FreqDist({'NNG': 8}),\n",
       "                     '불쌍': FreqDist({'XR': 39}),\n",
       "                     '사회': FreqDist({'NNB': 1, 'NNG': 459, 'UNT': 2}),\n",
       "                     '인': FreqDist({'NNB': 20,\n",
       "                               'NNG': 86,\n",
       "                               'UNA': 3,\n",
       "                               'UNT': 23,\n",
       "                               'XSN': 264}),\n",
       "                     '으로서': FreqDist({'JKB': 54, 'JX': 1}),\n",
       "                     '몫': FreqDist({'NNG': 13}),\n",
       "                     '과하': FreqDist({'VA': 6}),\n",
       "                     '연봉': FreqDist({'NNG': 15}),\n",
       "                     '협상': FreqDist({'NNG': 4}),\n",
       "                     '유리': FreqDist({'NNG': 33, 'NNP': 1, 'UNT': 2, 'XR': 26}),\n",
       "                     '내년': FreqDist({'NNG': 48}),\n",
       "                     '사월': FreqDist({'NNG': 52}),\n",
       "                     '백수': FreqDist({'NNG': 11}),\n",
       "                     'ㄹ께': FreqDist({'EF': 3}),\n",
       "                     '합': FreqDist({'NNG': 10, 'UNT': 3}),\n",
       "                     '지나': FreqDist({'UNA': 1, 'UNT': 3, 'VV': 228}),\n",
       "                     '박사': FreqDist({'NNG': 83}),\n",
       "                     '학위': FreqDist({'NNG': 21}),\n",
       "                     '따': FreqDist({'JKB': 3, 'NNG': 3, 'UNT': 9, 'VV': 143}),\n",
       "                     '끼리': FreqDist({'XSN': 163}),\n",
       "                     '고생': FreqDist({'NNG': 79}),\n",
       "                     '녹음': FreqDist({'NNG': 298}),\n",
       "                     '느라구': FreqDist({'EC': 7, 'EF': 5}),\n",
       "                     '고맙': FreqDist({'VA': 95, 'VV': 1}),\n",
       "                     'ㄹ게': FreqDist({'EC': 1, 'EF': 91}),\n",
       "                     '날씨': FreqDist({'NNG': 50}),\n",
       "                     '거지': FreqDist({'NNG': 7}),\n",
       "                     '리얼': FreqDist({'NNG': 7, 'XR': 2}),\n",
       "                     '배': FreqDist({'NNB': 29,\n",
       "                               'NNG': 179,\n",
       "                               'NNP': 8,\n",
       "                               'UNT': 5,\n",
       "                               'VV': 6}),\n",
       "                     '고프': FreqDist({'VA': 27}),\n",
       "                     '철판': FreqDist({'NNG': 3}),\n",
       "                     '볶음밥': FreqDist({'NNG': 7}),\n",
       "                     '억수로': FreqDist({'MAG': 1}),\n",
       "                     '비오': FreqDist({'VV': 4}),\n",
       "                     '쏟아지': FreqDist({'VV': 13}),\n",
       "                     '아이씨': FreqDist({'IC': 23}),\n",
       "                     '바지': FreqDist({'NNG': 49}),\n",
       "                     '젖': FreqDist({'NNG': 1, 'UNT': 3, 'VV': 12}),\n",
       "                     '햇볕': FreqDist({'NNG': 7}),\n",
       "                     '쨍쨍': FreqDist({'MAG': 4}),\n",
       "                     '싫': FreqDist({'UNT': 1, 'VA': 509, 'VV': 2}),\n",
       "                     '국지': FreqDist({'NNG': 1}),\n",
       "                     '성': FreqDist({'NNG': 38,\n",
       "                               'UNT': 13,\n",
       "                               'XPN': 1,\n",
       "                               'XSN': 570}),\n",
       "                     '호우': FreqDist({'NNG': 4}),\n",
       "                     '아무튼': FreqDist({'MAG': 162, 'MAJ': 7}),\n",
       "                     '게릴라': FreqDist({'NNG': 2}),\n",
       "                     '타이밍': FreqDist({'NNG': 12}),\n",
       "                     '맞추': FreqDist({'VV': 224}),\n",
       "                     '나가': FreqDist({'UNA': 1,\n",
       "                               'UNT': 4,\n",
       "                               'VV': 732,\n",
       "                               'VX': 113}),\n",
       "                     '피하': FreqDist({'VV': 81}),\n",
       "                     '어느': FreqDist({'MAG': 1, 'MM': 547}),\n",
       "                     '햇빛': FreqDist({'NNG': 25}),\n",
       "                     '덥': FreqDist({'UNT': 3, 'VA': 66}),\n",
       "                     '후덥지근': FreqDist({'XR': 5}),\n",
       "                     '축축': FreqDist({'XR': 3}),\n",
       "                     '습기': FreqDist({'NNG': 9}),\n",
       "                     '은지': FreqDist({'EC': 30, 'EF': 2, 'NNP': 23}),\n",
       "                     '하마': FreqDist({'NNG': 1}),\n",
       "                     '까득': FreqDist({'MAG': 1}),\n",
       "                     '주일': FreqDist({'NNB': 97, 'NNG': 52}),\n",
       "                     '오빠': FreqDist({'NNG': 940, 'NNP': 3}),\n",
       "                     '넣': FreqDist({'UNT': 2, 'VV': 482, 'VX': 7}),\n",
       "                     '옷장': FreqDist({'NNG': 6}),\n",
       "                     '따루': FreqDist({'MAG': 26}),\n",
       "                     '상관없': FreqDist({'UNT': 2, 'VA': 71}),\n",
       "                     '다행': FreqDist({'NNG': 44}),\n",
       "                     '놀러가': FreqDist({'VV': 3}),\n",
       "                     '이번': FreqDist({'NNG': 422, 'NP': 2}),\n",
       "                     '법': FreqDist({'NNB': 22, 'NNG': 110, 'UNT': 4}),\n",
       "                     '일정량': FreqDist({'NNG': 1}),\n",
       "                     '작년': FreqDist({'NNG': 157, 'UNT': 1}),\n",
       "                     '겨울': FreqDist({'NNG': 82}),\n",
       "                     '장마': FreqDist({'NNG': 6}),\n",
       "                     '전체': FreqDist({'NNG': 228, 'NNP': 1}),\n",
       "                     '으루': FreqDist({'JKB': 339, 'JKO': 2}),\n",
       "                     '가뭄': FreqDist({'NNG': 1}),\n",
       "                     '천둥': FreqDist({'NNG': 9}),\n",
       "                     '번개': FreqDist({'NNG': 10}),\n",
       "                     '잠깐': FreqDist({'MAG': 253, 'NNG': 8}),\n",
       "                     '새벽': FreqDist({'NNG': 94}),\n",
       "                     '치': FreqDist({'IC': 38,\n",
       "                               'NNB': 2,\n",
       "                               'NNG': 1,\n",
       "                               'UNT': 7,\n",
       "                               'VV': 504,\n",
       "                               'XSN': 4}),\n",
       "                     '깨': FreqDist({'NNG': 2, 'UNT': 2, 'VV': 158}),\n",
       "                     '스타일': FreqDist({'NNG': 149}),\n",
       "                     '땜': FreqDist({'NNB': 147, 'NNG': 1}),\n",
       "                     '아파트': FreqDist({'NNG': 41}),\n",
       "                     '단지': FreqDist({'MAG': 31, 'NNG': 17}),\n",
       "                     '세우': FreqDist({'NNG': 1, 'VV': 121}),\n",
       "                     '벼락': FreqDist({'NNG': 2}),\n",
       "                     '경보음': FreqDist({'NNG': 1}),\n",
       "                     '울리': FreqDist({'UNA': 1, 'VV': 50}),\n",
       "                     '쿵': FreqDist({'MAG': 3}),\n",
       "                     '삐비비비빅': FreqDist({'MAG': 1}),\n",
       "                     '으흥': FreqDist({'IC': 1}),\n",
       "                     '지리산': FreqDist({'NNP': 13}),\n",
       "                     'ㄹ려구': FreqDist({'EC': 129, 'EF': 41}),\n",
       "                     '뉴스': FreqDist({'NNG': 50}),\n",
       "                     '입산': FreqDist({'NNG': 1}),\n",
       "                     '금지': FreqDist({'NNG': 24}),\n",
       "                     '등반': FreqDist({'NNG': 6}),\n",
       "                     '산장': FreqDist({'NNG': 1}),\n",
       "                     '남자애': FreqDist({'NNG': 32}),\n",
       "                     '데리': FreqDist({'VV': 138}),\n",
       "                     'ㄴ다나': FreqDist({'EF': 2}),\n",
       "                     '식': FreqDist({'NNB': 660,\n",
       "                               'NNG': 124,\n",
       "                               'UNT': 5,\n",
       "                               'VV': 7,\n",
       "                               'XSN': 66}),\n",
       "                     '막상': FreqDist({'MAG': 50}),\n",
       "                     '기상': FreqDist({'NNG': 3}),\n",
       "                     ...})"
      ]
     },
     "execution_count": 241,
     "metadata": {},
     "output_type": "execute_result"
    }
   ],
   "source": [
    "단어별품사빈도"
   ]
  },
  {
   "cell_type": "code",
   "execution_count": 246,
   "metadata": {},
   "outputs": [],
   "source": [
    "토큰생성기 = lambda: (token for sent in tagged_sents for token in sent)"
   ]
  },
  {
   "cell_type": "code",
   "execution_count": 247,
   "metadata": {},
   "outputs": [],
   "source": [
    "단어도수 = Series(t[0] for t in 토큰생성기()).value_counts()"
   ]
  },
  {
   "cell_type": "code",
   "execution_count": 248,
   "metadata": {
    "collapsed": true
   },
   "outputs": [
    {
     "data": {
      "text/plain": [
       ",    114047\n",
       ".     64187\n",
       "하     51256\n",
       "이     43976\n",
       "는     35345\n",
       "가     28700\n",
       "?     26326\n",
       "에     23196\n",
       "거     22675\n",
       "어     21861\n",
       "dtype: int64"
      ]
     },
     "execution_count": 248,
     "metadata": {},
     "output_type": "execute_result"
    }
   ],
   "source": [
    "단어도수[:10]"
   ]
  },
  {
   "cell_type": "code",
   "execution_count": 249,
   "metadata": {
    "collapsed": true
   },
   "outputs": [],
   "source": [
    "품사추측 = dict(\n",
    "    (word, 단어별품사빈도[word].max()) for word in 단어도수.index)"
   ]
  },
  {
   "cell_type": "code",
   "execution_count": 251,
   "metadata": {
    "collapsed": true
   },
   "outputs": [
    {
     "data": {
      "text/plain": [
       "{',': 'SP',\n",
       " '.': 'SF',\n",
       " '하': 'VV',\n",
       " '이': 'JKS',\n",
       " '는': 'ETM',\n",
       " '가': 'JKS',\n",
       " '?': 'SF',\n",
       " '에': 'JKB',\n",
       " '거': 'NNB',\n",
       " '어': 'IC',\n",
       " 'ㄴ': 'ETM',\n",
       " '고': 'EC',\n",
       " '을': 'JKO',\n",
       " '있': 'VA',\n",
       " '(이)': 'VCP',\n",
       " '그': 'MM',\n",
       " '은': 'JX',\n",
       " '되': 'VV',\n",
       " '아': 'IC',\n",
       " 'ㄹ': 'ETM',\n",
       " '를': 'JKO',\n",
       " '뭐': 'IC',\n",
       " '들': 'XSN',\n",
       " '지': 'EF',\n",
       " '보': 'VV',\n",
       " '다': 'EF',\n",
       " '나': 'NP',\n",
       " '도': 'JX',\n",
       " 'ㅕ': 'EC',\n",
       " '구': 'EC',\n",
       " '는데': 'EC',\n",
       " 'ㅓ': 'EC',\n",
       " 'ㅣ': 'JKS',\n",
       " '안': 'MAG',\n",
       " '야': 'EF',\n",
       " '면': 'EC',\n",
       " '의': 'JKG',\n",
       " 'ㅕㅆ': 'EP',\n",
       " '그런': 'MM',\n",
       " '그러': 'VV',\n",
       " '아니': 'VCN',\n",
       " '음': 'IC',\n",
       " 'ㅓㅆ': 'EP',\n",
       " '에서': 'JKB',\n",
       " '그거': 'NP',\n",
       " 'ㅏㅆ': 'EP',\n",
       " '것': 'NNB',\n",
       " '주': 'VX',\n",
       " '근데': 'MAJ',\n",
       " '시': 'EP',\n",
       " '같': 'VA',\n",
       " '…': 'UNC',\n",
       " '잖': 'UNA',\n",
       " '이렇게': 'MAG',\n",
       " '으로': 'JKB',\n",
       " '내': 'NP',\n",
       " '사람': 'NNG',\n",
       " '막': 'MAG',\n",
       " '게': 'EC',\n",
       " 'ㅏ': 'EC',\n",
       " '말': 'NNG',\n",
       " '가지': 'VX',\n",
       " '오': 'VV',\n",
       " '수': 'NNB',\n",
       " '었': 'EP',\n",
       " '기': 'ETN',\n",
       " '그래서': 'MAJ',\n",
       " '두': 'JX',\n",
       " '때': 'NNG',\n",
       " '우리': 'NP',\n",
       " '없': 'VA',\n",
       " '좀': 'MAG',\n",
       " '그렇': 'VA',\n",
       " '이거': 'NP',\n",
       " '겠': 'EP',\n",
       " 'ㅕ서': 'EC',\n",
       " '적': 'XSN',\n",
       " '어요': 'EF',\n",
       " '네': 'IC',\n",
       " '죠': 'EF',\n",
       " '로': 'JKB',\n",
       " '얘기': 'NNG',\n",
       " '한': 'MM',\n",
       " '일': 'NR',\n",
       " '애': 'NNG',\n",
       " '또': 'MAG',\n",
       " '이런': 'MM',\n",
       " '만': 'JX',\n",
       " '십': 'NR',\n",
       " '좋': 'VA',\n",
       " '지금': 'MAG',\n",
       " '생각': 'NNG',\n",
       " 'ㅂ니다': 'EF',\n",
       " '나오': 'VV',\n",
       " '이제': 'MAG',\n",
       " '니까': 'EC',\n",
       " '많이': 'MAG',\n",
       " '응': 'IC',\n",
       " '예': 'IC',\n",
       " 'ㅏ서': 'EC',\n",
       " '습니다': 'EF',\n",
       " '자': 'XSN',\n",
       " '라고': 'EC',\n",
       " '그냥': 'MAG',\n",
       " '않': 'VX',\n",
       " '잘': 'MAG',\n",
       " 'ㅔ요': 'EF',\n",
       " '알': 'VV',\n",
       " '되게': 'MAG',\n",
       " 'ㄴ데': 'EC',\n",
       " '쓰': 'VV',\n",
       " '면서': 'EC',\n",
       " '그렇게': 'MAG',\n",
       " '여기': 'NP',\n",
       " '진짜': 'MAG',\n",
       " '인제': 'MAG',\n",
       " '아요': 'EF',\n",
       " '먹': 'VV',\n",
       " '면은': 'EC',\n",
       " '어떤': 'MM',\n",
       " '저': 'NP',\n",
       " '왜': 'MAG',\n",
       " '사': 'NR',\n",
       " '모르': 'VV',\n",
       " '요': 'JX',\n",
       " '았': 'EP',\n",
       " '거기': 'NP',\n",
       " '못': 'MAG',\n",
       " '다음': 'NNG',\n",
       " '근까': 'MAJ',\n",
       " '님': 'XSN',\n",
       " '냐': 'EF',\n",
       " '서': 'JKB',\n",
       " '더': 'MAG',\n",
       " '라는': 'ETM',\n",
       " '까지': 'JX',\n",
       " 'ㄴ가': 'EF',\n",
       " '딱': 'MAG',\n",
       " '어떻게': 'MAG',\n",
       " '너무': 'MAG',\n",
       " '던': 'ETM',\n",
       " '제': 'NP',\n",
       " '라': 'EC',\n",
       " '삼': 'NR',\n",
       " '많': 'VA',\n",
       " '한테': 'JKB',\n",
       " '하나': 'NR',\n",
       " '너': 'NP',\n",
       " '듣': 'VV',\n",
       " '갖': 'VX',\n",
       " '번': 'NNB',\n",
       " '!': 'SF',\n",
       " '지만': 'EC',\n",
       " 'ㅓ서': 'EC',\n",
       " '자기': 'NP',\n",
       " '받': 'VV',\n",
       " '대하': 'VV',\n",
       " '시간': 'NNG',\n",
       " '다가': 'EC',\n",
       " '거든요': 'EF',\n",
       " '랑': 'JKB',\n",
       " 'ㄴ다': 'EF',\n",
       " '친구': 'NNG',\n",
       " '으면': 'EC',\n",
       " '과': 'JC',\n",
       " '맞': 'VV',\n",
       " '다고': 'EC',\n",
       " '때문': 'NNB',\n",
       " '분': 'NNB',\n",
       " '그럼': 'MAJ',\n",
       " 'ㅕ야': 'EC',\n",
       " '어서': 'EC',\n",
       " '구요': 'EF',\n",
       " '정도': 'NNG',\n",
       " '문제': 'NNG',\n",
       " '개': 'NNB',\n",
       " '들어가': 'VV',\n",
       " '정말': 'MAG',\n",
       " '걔': 'NP',\n",
       " '살': 'VV',\n",
       " '니': 'NP',\n",
       " '경우': 'NNG',\n",
       " '이러': 'VV',\n",
       " '여자': 'NNG',\n",
       " '그때': 'NNG',\n",
       " '그리고': 'MAJ',\n",
       " '놓': 'VX',\n",
       " '학교': 'NNG',\n",
       " '무슨': 'MM',\n",
       " '같이': 'MAG',\n",
       " '그니까': 'MAJ',\n",
       " 'ㅓ요': 'EF',\n",
       " '선생': 'NNG',\n",
       " '만들': 'VV',\n",
       " 'ㅕ요': 'EF',\n",
       " '하고': 'JC',\n",
       " '거든': 'EF',\n",
       " '데': 'NNB',\n",
       " '대': 'EF',\n",
       " '그래': 'IC',\n",
       " '굉장히': 'MAG',\n",
       " '싶': 'VX',\n",
       " '와': 'JC',\n",
       " 'ㅓ야': 'EC',\n",
       " '보이': 'VV',\n",
       " '다는': 'ETM',\n",
       " '명': 'NNB',\n",
       " '으니까': 'EC',\n",
       " '집': 'NNG',\n",
       " '아이': 'IC',\n",
       " '몇': 'MM',\n",
       " '에요': 'EF',\n",
       " '부터': 'JX',\n",
       " '언어': 'NNG',\n",
       " '오빠': 'NNG',\n",
       " '어디': 'NP',\n",
       " '세': 'MM',\n",
       " '남자': 'NNG',\n",
       " '은데': 'EC',\n",
       " '여러분': 'NP',\n",
       " '얘': 'NP',\n",
       " '참': 'MAG',\n",
       " '팔': 'NR',\n",
       " '시키': 'VV',\n",
       " '백': 'NR',\n",
       " '처음': 'NNG',\n",
       " '보다': 'JKB',\n",
       " '식': 'NNB',\n",
       " '오늘': 'MAG',\n",
       " '다른': 'MM',\n",
       " '나가': 'VV',\n",
       " '계속': 'MAG',\n",
       " '점': 'NNB',\n",
       " 'ㄴ다고': 'EC',\n",
       " '그것': 'NP',\n",
       " '육': 'NR',\n",
       " '이나': 'JC',\n",
       " '그까': 'MAJ',\n",
       " '중': 'NNB',\n",
       " '크': 'VA',\n",
       " '만나': 'VV',\n",
       " '나라': 'NNG',\n",
       " '다르': 'VA',\n",
       " '부분': 'NNG',\n",
       " '다시': 'MAG',\n",
       " '전': 'NNG',\n",
       " '화': 'XSN',\n",
       " '년': 'NNB',\n",
       " '원': 'NNB',\n",
       " '언니': 'NNG',\n",
       " '이상': 'NNG',\n",
       " '한번': 'MAG',\n",
       " '날': 'NNG',\n",
       " '끝': 'NNG',\n",
       " '아까': 'MAG',\n",
       " '돈': 'NNG',\n",
       " '다니': 'VV',\n",
       " 'ㄴ지': 'EC',\n",
       " '사실': 'MAG',\n",
       " '그러니까': 'MAJ',\n",
       " '거의': 'MAG',\n",
       " 'ㅏ야': 'EC',\n",
       " '그리구': 'MAJ',\n",
       " 'ㄴ다는': 'ETM',\n",
       " '위하': 'VV',\n",
       " '영화': 'NNG',\n",
       " '저희': 'NP',\n",
       " '더니': 'EC',\n",
       " '드리': 'VV',\n",
       " '형': 'NNG',\n",
       " '달': 'NNB',\n",
       " '조금': 'MAG',\n",
       " '는지': 'EC',\n",
       " '쪽': 'NNB',\n",
       " 'ㅏ요': 'EF',\n",
       " '열': 'NR',\n",
       " '그러면': 'MAJ',\n",
       " '엄마': 'NNG',\n",
       " '나중': 'NNG',\n",
       " '전화': 'NNG',\n",
       " '': 'NNP',\n",
       " '앞': 'NNG',\n",
       " '옛날': 'NNG',\n",
       " '성': 'XSN',\n",
       " '바로': 'MAG',\n",
       " '칠': 'NR',\n",
       " '공부': 'NNG',\n",
       " '말씀': 'NNG',\n",
       " '교육': 'NNG',\n",
       " '누구': 'NP',\n",
       " '타': 'VV',\n",
       " '차': 'NNG',\n",
       " 'ㄹ까': 'EF',\n",
       " '아주': 'MAG',\n",
       " '남': 'VV',\n",
       " '원래': 'MAG',\n",
       " '구나': 'EF',\n",
       " '생기': 'VV',\n",
       " '아서': 'EC',\n",
       " '라구': 'EC',\n",
       " '밖에': 'JX',\n",
       " '처럼': 'JKB',\n",
       " '필요': 'NNG',\n",
       " '치': 'VV',\n",
       " '재밌': 'VA',\n",
       " '천': 'NR',\n",
       " '어느': 'MM',\n",
       " '이것': 'NP',\n",
       " '버리': 'VX',\n",
       " '어야': 'EC',\n",
       " '요즘': 'NNG',\n",
       " '힘들': 'VA',\n",
       " '소리': 'NNG',\n",
       " '일단': 'MAG',\n",
       " '줄': 'NNB',\n",
       " '이랑': 'JKB',\n",
       " '수업': 'NNG',\n",
       " '중요': 'NNG',\n",
       " '싫': 'VA',\n",
       " '씩': 'XSN',\n",
       " '학년': 'NNG',\n",
       " '담': 'NNG',\n",
       " 'ㅕㅆ었': 'EP',\n",
       " '번째': 'NNB',\n",
       " '씨': 'NNB',\n",
       " '그죠': 'IC',\n",
       " '내용': 'NNG',\n",
       " '시험': 'NNG',\n",
       " '넣': 'VV',\n",
       " '입': 'VV',\n",
       " '괜찮': 'VA',\n",
       " '둘': 'NR',\n",
       " '배우': 'VV',\n",
       " '여러': 'MM',\n",
       " '애요': 'EF',\n",
       " '들어오': 'VV',\n",
       " '솔직히': 'MAG',\n",
       " '이해': 'NNG',\n",
       " '술': 'NNG',\n",
       " '영어': 'NNG',\n",
       " '그런데': 'MAJ',\n",
       " '별로': 'MAG',\n",
       " '사용': 'NNG',\n",
       " '사회': 'NNG',\n",
       " '한국': 'NNP',\n",
       " '가장': 'MAG',\n",
       " '따르': 'VV',\n",
       " '읽': 'VV',\n",
       " '하구': 'JC',\n",
       " '는데요': 'EF',\n",
       " '아직': 'MAG',\n",
       " '느냐': 'EF',\n",
       " '느끼': 'VV',\n",
       " '그치': 'IC',\n",
       " '맨날': 'MAG',\n",
       " '에게': 'JKB',\n",
       " '대화': 'NNG',\n",
       " '학생': 'NNG',\n",
       " '권': 'XSN',\n",
       " '시작': 'NNG',\n",
       " '이번': 'NNG',\n",
       " '꼭': 'MAG',\n",
       " '약간': 'MAG',\n",
       " '공': 'NR',\n",
       " '머리': 'NNG',\n",
       " '얼마나': 'MAG',\n",
       " '저기': 'NP',\n",
       " 'ㅁ': 'ETN',\n",
       " '저거': 'NP',\n",
       " '어렵': 'VA',\n",
       " '요거': 'NP',\n",
       " '놀': 'VV',\n",
       " '방법': 'NNG',\n",
       " '다구': 'EC',\n",
       " '더라': 'EF',\n",
       " '책': 'NNG',\n",
       " '똑같': 'VA',\n",
       " '인': 'XSN',\n",
       " '죽': 'VV',\n",
       " 'XX': 'UNC',\n",
       " '차이': 'NNG',\n",
       " '자체': 'NNG',\n",
       " '물론': 'MAG',\n",
       " '이름': 'NNG',\n",
       " '뒤': 'NNG',\n",
       " '묻': 'VV',\n",
       " 'ㅕ도': 'EC',\n",
       " '만약': 'NNG',\n",
       " '찾': 'VV',\n",
       " '아니면': 'MAJ',\n",
       " '대로': 'JKB',\n",
       " '거나': 'EC',\n",
       " '빨리': 'MAG',\n",
       " '보내': 'VV',\n",
       " '비': 'NNG',\n",
       " '아마': 'MAG',\n",
       " '냐면': 'EC',\n",
       " '미국': 'NNP',\n",
       " '걸리': 'VV',\n",
       " '찍': 'VV',\n",
       " '마음': 'NNG',\n",
       " '못하': 'VX',\n",
       " '서로': 'MAG',\n",
       " '떨어지': 'VV',\n",
       " '위': 'NNG',\n",
       " '얼마': 'NNG',\n",
       " '세계': 'NNG',\n",
       " '연구': 'NNG',\n",
       " '표현': 'NNG',\n",
       " '쉽': 'VA',\n",
       " '반': 'NNG',\n",
       " '제일': 'MAG',\n",
       " '정보': 'NNG',\n",
       " '나누': 'VV',\n",
       " '으시': 'EP',\n",
       " '보통': 'MAG',\n",
       " '밥': 'NNG',\n",
       " '그래도': 'MAJ',\n",
       " '별': 'XSN',\n",
       " '항상': 'MAG',\n",
       " '선수': 'NNG',\n",
       " '으루': 'JKB',\n",
       " '설명': 'NNG',\n",
       " '빼': 'VV',\n",
       " '란': 'ETM',\n",
       " '갑자기': 'MAG',\n",
       " '언제': 'NP',\n",
       " '아니야': 'IC',\n",
       " '한국어': 'NNG',\n",
       " '바꾸': 'VV',\n",
       " ' ': 'NNP',\n",
       " '기억': 'NNG',\n",
       " '일본': 'NNP',\n",
       " '과정': 'NNG',\n",
       " '먼저': 'MAG',\n",
       " '잡': 'VV',\n",
       " '자료': 'NNG',\n",
       " '길': 'VA',\n",
       " '학습': 'NNG',\n",
       " '옷': 'NNG',\n",
       " '학기': 'NNG',\n",
       " '을까': 'EF',\n",
       " '대학': 'NNG',\n",
       " '나이': 'NNG',\n",
       " '속': 'NNG',\n",
       " '동안': 'NNG',\n",
       " '눈': 'NNG',\n",
       " '러': 'EC',\n",
       " '통하': 'VV',\n",
       " '누': 'NP',\n",
       " '스럽': 'XSA',\n",
       " '운동': 'NNG',\n",
       " '도록': 'EC',\n",
       " '결국': 'MAG',\n",
       " '결혼': 'NNG',\n",
       " '틀리': 'VA',\n",
       " '이야기': 'NNG',\n",
       " '교수': 'NNG',\n",
       " '녹음': 'NNG',\n",
       " '혼자': 'MAG',\n",
       " '관계': 'NNG',\n",
       " '옆': 'NNG',\n",
       " '이쪽': 'NP',\n",
       " '물': 'NNG',\n",
       " '다섯': 'NR',\n",
       " '생활': 'NNG',\n",
       " '그림': 'NNG',\n",
       " 'ㄴ대': 'EF',\n",
       " '문화': 'NNG',\n",
       " '중간': 'NNG',\n",
       " '네요': 'EF',\n",
       " '군대': 'NNG',\n",
       " '루': 'JKB',\n",
       " '상태': 'NNG',\n",
       " '회사': 'NNG',\n",
       " '어리': 'VA',\n",
       " '마지막': 'NNG',\n",
       " '나쁘': 'VA',\n",
       " '우선': 'MAG',\n",
       " '아무': 'MM',\n",
       " '잘못': 'MAG',\n",
       " '분석': 'NNG',\n",
       " '어떻': 'VA',\n",
       " '불': 'XPN',\n",
       " '마시': 'VV',\n",
       " '앉': 'VV',\n",
       " '빠지': 'VV',\n",
       " 'ㄹ려고': 'EC',\n",
       " '(하)': 'VX',\n",
       " '점수': 'NNG',\n",
       " '그지': 'IC',\n",
       " '나타나': 'VV',\n",
       " '아침': 'NNG',\n",
       " 'ㅓ도': 'EC',\n",
       " '영': 'NR',\n",
       " 'ㅑ': 'EF',\n",
       " 'ㄹ로': 'JKB',\n",
       " 'ㅏㅆ었': 'EP',\n",
       " '이유': 'NNG',\n",
       " '특히': 'MAG',\n",
       " 'ㅏ도': 'EC',\n",
       " '일반': 'NNG',\n",
       " '으': 'IC',\n",
       " '열심히': 'MAG',\n",
       " '요새': 'MAG',\n",
       " '의미': 'NNG',\n",
       " '잠깐': 'MAG',\n",
       " '모든': 'MM',\n",
       " '웃기': 'VV',\n",
       " '방송': 'NNG',\n",
       " '상황': 'NNG',\n",
       " '일어나': 'VV',\n",
       " '발표': 'NNG',\n",
       " 'ㄴ다구': 'EC',\n",
       " '첫': 'MM',\n",
       " '더라구요': 'EF',\n",
       " '광고': 'NNG',\n",
       " '아야': 'EC',\n",
       " '에다가': 'JKB',\n",
       " '딴': 'MM',\n",
       " '늦': 'VA',\n",
       " '단': 'ETM',\n",
       " '하루': 'NNG',\n",
       " '밑': 'NNG',\n",
       " '감': 'XSN',\n",
       " '개념': 'NNG',\n",
       " '래': 'EF',\n",
       " '더라구': 'EF',\n",
       " '단어': 'NNG',\n",
       " '발음': 'NNG',\n",
       " '마다': 'JX',\n",
       " '친하': 'VA',\n",
       " '아저씨': 'NNG',\n",
       " '거리': 'XSV',\n",
       " '장애': 'NNG',\n",
       " '비슷': 'XR',\n",
       " '터': 'NNB',\n",
       " 'ㄹ지': 'EC',\n",
       " '이렇': 'VA',\n",
       " '저작': 'NNG',\n",
       " '아우': 'IC',\n",
       " '쯤': 'XSN',\n",
       " '여섯': 'NR',\n",
       " '아빠': 'NNG',\n",
       " 'ㄴ데요': 'EF',\n",
       " '없이': 'MAG',\n",
       " '올라가': 'VV',\n",
       " '인터넷': 'NNG',\n",
       " '상': 'XSN',\n",
       " '지나': 'VV',\n",
       " '얼굴': 'NNG',\n",
       " '으면은': 'EC',\n",
       " '이용': 'NNG',\n",
       " '계시': 'VV',\n",
       " '조사': 'NNG',\n",
       " '준비': 'NNG',\n",
       " '전체': 'NNG',\n",
       " '던데': 'EF',\n",
       " '낫': 'VA',\n",
       " '그래두': 'MAJ',\n",
       " '아프': 'VA',\n",
       " '배': 'NNG',\n",
       " 'ㅂ니까': 'EF',\n",
       " '전혀': 'MAG',\n",
       " '올리': 'VV',\n",
       " '부르': 'VV',\n",
       " '바뀌': 'VV',\n",
       " '맞추': 'VV',\n",
       " '장': 'NNB',\n",
       " '자꾸': 'MAG',\n",
       " '교회': 'NNG',\n",
       " '교사': 'NNG',\n",
       " '간': 'NNB',\n",
       " '드라': 'EF',\n",
       " '피': 'NNG',\n",
       " '대요': 'EF',\n",
       " '그러면은': 'MAJ',\n",
       " '여': 'EC',\n",
       " '내리': 'VV',\n",
       " '어제': 'MAG',\n",
       " '연결': 'NNG',\n",
       " '자리': 'NNG',\n",
       " '중국': 'NNP',\n",
       " '전공': 'NNG',\n",
       " '넘': 'VV',\n",
       " '왜냐면': 'MAJ',\n",
       " '들리': 'VV',\n",
       " '기분': 'NNG',\n",
       " '그리': 'VV',\n",
       " '분위기': 'NNG',\n",
       " '사귀': 'VV',\n",
       " '자신': 'NNG',\n",
       " '맛있': 'VA',\n",
       " '뽑': 'VV',\n",
       " '에이': 'NNG',\n",
       " '주로': 'MAG',\n",
       " '여행': 'NNG',\n",
       " '사랑': 'NNG',\n",
       " '국가': 'NNG',\n",
       " '는가': 'EF',\n",
       " '곳': 'NNB',\n",
       " '하나님': 'NNG',\n",
       " '어쩌': 'VV',\n",
       " '이루': 'VV',\n",
       " '사이': 'NNG',\n",
       " '기본': 'NNG',\n",
       " '상당히': 'MAG',\n",
       " '붙': 'VV',\n",
       " '그쪽': 'NP',\n",
       " '아버지': 'NNG',\n",
       " '또는': 'MAJ',\n",
       " '외국': 'NNG',\n",
       " '지역': 'NNG',\n",
       " '사진': 'NNG',\n",
       " '프로': 'NNB',\n",
       " '손': 'NNG',\n",
       " '편': 'NNB',\n",
       " '장난': 'NNG',\n",
       " '기능': 'NNG',\n",
       " '개월': 'NNB',\n",
       " '뜻': 'NNG',\n",
       " '서울': 'NNP',\n",
       " '붙이': 'VV',\n",
       " '치료': 'NNG',\n",
       " 'ㄹ까요': 'EF',\n",
       " '단체': 'NNG',\n",
       " '정리': 'NNG',\n",
       " '이쁘': 'VA',\n",
       " '느낌': 'NNG',\n",
       " '벌': 'VV',\n",
       " 'ㅕ야지': 'EF',\n",
       " '무섭': 'VA',\n",
       " '높': 'VA',\n",
       " '졸업': 'NNG',\n",
       " '어도': 'EC',\n",
       " '넘어가': 'VV',\n",
       " '투': 'NR',\n",
       " '인자': 'MAG',\n",
       " '혹시': 'MAG',\n",
       " '선배': 'NNG',\n",
       " '으면서': 'EC',\n",
       " '냐고': 'EC',\n",
       " '프로그램': 'NNG',\n",
       " '관심': 'NNG',\n",
       " '학원': 'NNG',\n",
       " '질문': 'NNG',\n",
       " '노래': 'NNG',\n",
       " '그쵸': 'IC',\n",
       " '인간': 'NNG',\n",
       " '정치': 'NNG',\n",
       " '페이지': 'NNG',\n",
       " '든': 'EC',\n",
       " '비싸': 'VA',\n",
       " '몸': 'NNG',\n",
       " '심하': 'VA',\n",
       " '가능': 'NNG',\n",
       " '밤': 'NNG',\n",
       " '어쨌든': 'MAG',\n",
       " '일곱': 'NR',\n",
       " '하여튼': 'MAG',\n",
       " '부모': 'NNG',\n",
       " '지요': 'EF',\n",
       " '훨씬': 'MAG',\n",
       " '약': 'NNG',\n",
       " '정신': 'NNG',\n",
       " '컴퓨터': 'NNG',\n",
       " '뜨': 'VV',\n",
       " '모습': 'NNG',\n",
       " '고등': 'NNG',\n",
       " '에다': 'JKB',\n",
       " '절대': 'MAG',\n",
       " '오히려': 'MAG',\n",
       " '편하': 'VA',\n",
       " '가르치': 'VV',\n",
       " '오래': 'MAG',\n",
       " '정하': 'VV',\n",
       " '주제': 'NNG',\n",
       " '맨': 'MM',\n",
       " '힘': 'NNG',\n",
       " '방학': 'NNG',\n",
       " '요기': 'NP',\n",
       " '강의': 'NNG',\n",
       " '미치': 'VV',\n",
       " '싸': 'VA',\n",
       " '싸우': 'VV',\n",
       " '마이나스': 'NNG',\n",
       " '입장': 'NNG',\n",
       " '습니까': 'EF',\n",
       " '믿': 'VV',\n",
       " '작업': 'NNG',\n",
       " '무엇': 'NP',\n",
       " 'ㄹ려구': 'EC',\n",
       " '대부분': 'NNG',\n",
       " '현재': 'NNG',\n",
       " '관련': 'NNG',\n",
       " '아무튼': 'MAG',\n",
       " '목소리': 'NNG',\n",
       " '학점': 'NNG',\n",
       " '엔지오': 'NNG',\n",
       " '작': 'VA',\n",
       " '맛': 'NNG',\n",
       " '드라구': 'EF',\n",
       " '여덟': 'NR',\n",
       " '역시': 'MAG',\n",
       " '집단': 'NNG',\n",
       " '짓': 'VV',\n",
       " '발달': 'NNG',\n",
       " '결과': 'NNG',\n",
       " '반대': 'NNG',\n",
       " '개인': 'NNG',\n",
       " '내일': 'MAG',\n",
       " '비교': 'NNG',\n",
       " '나름': 'NNB',\n",
       " '쭉': 'MAG',\n",
       " '당연히': 'MAG',\n",
       " '생': 'XSN',\n",
       " '짜리': 'XSN',\n",
       " '허': 'IC',\n",
       " '끼리': 'XSN',\n",
       " '특징': 'NNG',\n",
       " '따로': 'MAG',\n",
       " '재': 'XPN',\n",
       " '깨': 'VV',\n",
       " '풀': 'VV',\n",
       " '무조건': 'MAG',\n",
       " '엑스': 'NNG',\n",
       " '퍼센트': 'NNB',\n",
       " '기다리': 'VV',\n",
       " '가끔': 'MAG',\n",
       " '세상': 'NNG',\n",
       " '든지': 'EC',\n",
       " '글': 'NNG',\n",
       " 'ㄴ다면': 'EC',\n",
       " '고서': 'EC',\n",
       " '상대방': 'NNG',\n",
       " '쉬': 'VV',\n",
       " '신': 'XPN',\n",
       " '냐면은': 'EC',\n",
       " '완전히': 'MAG',\n",
       " '기술': 'NNG',\n",
       " '새롭': 'VA',\n",
       " '양': 'NNG',\n",
       " '따': 'VV',\n",
       " '작년': 'NNG',\n",
       " '돌': 'VV',\n",
       " '만하': 'VX',\n",
       " '고거': 'NP',\n",
       " '과목': 'NNG',\n",
       " '오류': 'NNG',\n",
       " '의하': 'VV',\n",
       " '어우': 'IC',\n",
       " '어차피': 'MAG',\n",
       " '다양': 'XR',\n",
       " '니깐': 'EC',\n",
       " '활동': 'NNG',\n",
       " '마찬가지': 'NNG',\n",
       " '별루': 'MAG',\n",
       " '실험': 'NNG',\n",
       " '갔다오': 'VV',\n",
       " '저번': 'NNG',\n",
       " 'ㅏ야지': 'EF',\n",
       " '키': 'NNG',\n",
       " 'ㅓ야지': 'EF',\n",
       " '평가': 'NNG',\n",
       " '아무리': 'MAG',\n",
       " '능력': 'NNG',\n",
       " '구서': 'EC',\n",
       " '각': 'MM',\n",
       " '선택': 'NNG',\n",
       " '경기': 'NNG',\n",
       " '아예': 'MAG',\n",
       " '비디오': 'NNG',\n",
       " '논문': 'NNG',\n",
       " '기관': 'NNG',\n",
       " '아줌마': 'NNG',\n",
       " '표시': 'NNG',\n",
       " '주일': 'NNB',\n",
       " '국어': 'NNG',\n",
       " '성격': 'NNG',\n",
       " '아유': 'IC',\n",
       " '영향': 'NNG',\n",
       " '스타일': 'NNG',\n",
       " '제대로': 'MAG',\n",
       " '초': 'NNB',\n",
       " '동생': 'NNG',\n",
       " '드라구요': 'EF',\n",
       " '땜': 'NNB',\n",
       " '목적': 'NNG',\n",
       " '학번': 'NNG',\n",
       " 'ㅓㅆ었': 'EP',\n",
       " '나요': 'EF',\n",
       " '연락': 'NNG',\n",
       " '등': 'NNB',\n",
       " '인정': 'NNG',\n",
       " '소개': 'NNG',\n",
       " '뛰': 'VV',\n",
       " '모이': 'VV',\n",
       " '어머니': 'NNG',\n",
       " '께서': 'JKS',\n",
       " '신경': 'NNG',\n",
       " '중심': 'NNG',\n",
       " '평균': 'NNG',\n",
       " '그대로': 'MAG',\n",
       " '력': 'XSN',\n",
       " '라면': 'EC',\n",
       " '문': 'NNG',\n",
       " '냐구': 'EF',\n",
       " '진행': 'NNG',\n",
       " '이라든가': 'JC',\n",
       " '유': 'NNG',\n",
       " '뿐': 'NNB',\n",
       " '인사': 'NNG',\n",
       " '예쁘': 'VA',\n",
       " '단계': 'NNG',\n",
       " '여름': 'NNG',\n",
       " '알리': 'VV',\n",
       " '영역': 'NNG',\n",
       " '제품': 'NNG',\n",
       " '수비': 'NNG',\n",
       " '대학교': 'NNG',\n",
       " '서비스': 'NNG',\n",
       " '데리': 'VV',\n",
       " '저런': 'MM',\n",
       " '낮': 'VA',\n",
       " '까': 'EF',\n",
       " '지나가': 'VV',\n",
       " '실제': 'NNG',\n",
       " '저녁': 'NNG',\n",
       " '이요': 'JX',\n",
       " '화자': 'NNG',\n",
       " '똑같이': 'MAG',\n",
       " '전쟁': 'NNG',\n",
       " '제시': 'NNG',\n",
       " '법': 'NNG',\n",
       " '가깝': 'VA',\n",
       " '걱정': 'NNG',\n",
       " '버스': 'NNG',\n",
       " '경제': 'NNG',\n",
       " '고민': 'NNG',\n",
       " '따지': 'VV',\n",
       " '미안': 'NNG',\n",
       " '음식': 'NNG',\n",
       " '라서': 'EC',\n",
       " '듯이': 'EC',\n",
       " '어머': 'IC',\n",
       " '마이크': 'NNG',\n",
       " '직접': 'MAG',\n",
       " '울': 'VV',\n",
       " '만큼': 'JKB',\n",
       " '아르바이트': 'NNG',\n",
       " '새': 'MM',\n",
       " '음악': 'NNG',\n",
       " '시민': 'NNG',\n",
       " 'ㅏ라': 'EF',\n",
       " '방언': 'NNG',\n",
       " '인식': 'NNG',\n",
       " '공간': 'NNG',\n",
       " '음성': 'NNG',\n",
       " '체계': 'NNG',\n",
       " '싸이트': 'NNG',\n",
       " '고는': 'EC',\n",
       " '께': 'EF',\n",
       " '어어': 'IC',\n",
       " '개발': 'NNG',\n",
       " '기독교': 'NNG',\n",
       " '아웃': 'NNG',\n",
       " '지내': 'VV',\n",
       " '웃': 'VV',\n",
       " '밖': 'NNG',\n",
       " '으음': 'IC',\n",
       " '목표': 'NNG',\n",
       " 'ㄹ게요': 'EF',\n",
       " '역사': 'NNG',\n",
       " '한두': 'MM',\n",
       " '문장': 'NNG',\n",
       " '반응': 'NNG',\n",
       " '걸': 'VV',\n",
       " '계획': 'NNG',\n",
       " '돌아가': 'VV',\n",
       " '경험': 'NNG',\n",
       " '도움': 'NNG',\n",
       " '자연': 'NNG',\n",
       " '층': 'NNG',\n",
       " '기준': 'NNG',\n",
       " '할머니': 'NNG',\n",
       " '어떡': 'XR',\n",
       " '다리': 'NNG',\n",
       " '끊': 'VV',\n",
       " '조': 'NNG',\n",
       " '해당': 'NNG',\n",
       " 'ㅕ두': 'EC',\n",
       " '쟤': 'NP',\n",
       " '일찍': 'MAG',\n",
       " '위치': 'NNG',\n",
       " '표준': 'NNG',\n",
       " '끄': 'VV',\n",
       " '다루': 'VV',\n",
       " '방': 'NNG',\n",
       " '그날': 'NNG',\n",
       " '당신': 'NP',\n",
       " '움직이': 'VV',\n",
       " '바라': 'VV',\n",
       " '실제로': 'MAG',\n",
       " '벌써': 'MAG',\n",
       " '모으': 'VV',\n",
       " '이라든지': 'JC',\n",
       " '토론': 'NNG',\n",
       " '늘': 'MAG',\n",
       " '유명': 'NNG',\n",
       " '요렇게': 'MAG',\n",
       " '구체': 'NNG',\n",
       " '대상': 'NNG',\n",
       " '모두': 'MAG',\n",
       " '돕': 'VV',\n",
       " '괜히': 'MAG',\n",
       " '빠르': 'VA',\n",
       " '금요일': 'NNG',\n",
       " '역할': 'NNG',\n",
       " '시대': 'NNG',\n",
       " '예전': 'NNG',\n",
       " '완전': 'MAG',\n",
       " '당하': 'VV',\n",
       " '병원': 'NNG',\n",
       " '순간': 'NNG',\n",
       " '세우': 'VV',\n",
       " '삶': 'NNG',\n",
       " '나머지': 'NNG',\n",
       " '세대': 'NNG',\n",
       " '더라도': 'EC',\n",
       " '방식': 'NNG',\n",
       " '수준': 'NNG',\n",
       " '나타내': 'VV',\n",
       " '장면': 'NNG',\n",
       " '꿈': 'NNG',\n",
       " '때리': 'VV',\n",
       " '구조': 'NNG',\n",
       " '스물': 'NR',\n",
       " '다면': 'EC',\n",
       " '이미': 'MAG',\n",
       " '말뭉치': 'NNG',\n",
       " '짜증': 'NNG',\n",
       " '결정': 'NNG',\n",
       " '라든가': 'JC',\n",
       " '색깔': 'NNG',\n",
       " '번호': 'NNG',\n",
       " '에너지': 'NNG',\n",
       " '변화': 'NNG',\n",
       " '분명히': 'MAG',\n",
       " '얻': 'VV',\n",
       " '이미지': 'NNG',\n",
       " '돌리': 'VV',\n",
       " '누르': 'VV',\n",
       " '값': 'NNG',\n",
       " '신문': 'NNG',\n",
       " '전문': 'NNG',\n",
       " '결합': 'NNG',\n",
       " '군': 'EF',\n",
       " '의식': 'NNG',\n",
       " '북한': 'NNP',\n",
       " '찌': 'VV',\n",
       " '짧': 'VA',\n",
       " '형태': 'NNG',\n",
       " '셋': 'NR',\n",
       " '바람': 'NNG',\n",
       " '놈': 'NNB',\n",
       " '글쎄': 'IC',\n",
       " '금방': 'MAG',\n",
       " '숫자': 'NNG',\n",
       " '기간': 'NNG',\n",
       " '라든지': 'JC',\n",
       " '코드': 'NNG',\n",
       " '분야': 'NNG',\n",
       " '후': 'NNG',\n",
       " 'ㄴ단': 'ETM',\n",
       " '가운데': 'NNG',\n",
       " '발': 'NNG',\n",
       " '공격': 'NNG',\n",
       " '목': 'NNG',\n",
       " '나무': 'NNG',\n",
       " '끼': 'VV',\n",
       " '감사': 'NNG',\n",
       " '차라리': 'MAG',\n",
       " '중학교': 'NNG',\n",
       " '현상': 'NNG',\n",
       " '함께': 'MAG',\n",
       " '는구나': 'EF',\n",
       " '팀': 'NNG',\n",
       " '기존': 'NNG',\n",
       " '바쁘': 'VA',\n",
       " '문법': 'NNG',\n",
       " '종교': 'NNG',\n",
       " '여성': 'NNG',\n",
       " 'ㄴ대요': 'EF',\n",
       " '용': 'XSN',\n",
       " '금': 'NNG',\n",
       " '고런': 'MM',\n",
       " '려고': 'EC',\n",
       " '며': 'EC',\n",
       " '젤': 'MAG',\n",
       " '진아': 'NNP',\n",
       " ...}"
      ]
     },
     "execution_count": 251,
     "metadata": {},
     "output_type": "execute_result"
    }
   ],
   "source": [
    "품사추측"
   ]
  },
  {
   "cell_type": "code",
   "execution_count": 252,
   "metadata": {
    "collapsed": true
   },
   "outputs": [],
   "source": [
    "baseline_tagger = nltk.UnigramTagger(model=품사추측)"
   ]
  },
  {
   "cell_type": "code",
   "execution_count": 253,
   "metadata": {},
   "outputs": [
    {
     "data": {
      "text/plain": [
       "0.8603526460812297"
      ]
     },
     "execution_count": 253,
     "metadata": {},
     "output_type": "execute_result"
    }
   ],
   "source": [
    "baseline_tagger.evaluate(tagged_sents)"
   ]
  },
  {
   "cell_type": "code",
   "execution_count": 254,
   "metadata": {
    "collapsed": true
   },
   "outputs": [
    {
     "data": {
      "text/plain": [
       "['아침', '에', '몇', '시', '에', '타', '고', '가', '는데', '?']"
      ]
     },
     "execution_count": 254,
     "metadata": {},
     "output_type": "execute_result"
    }
   ],
   "source": [
    "sample = [token[0] for token in tagged_sents[3]]\n",
    "sample"
   ]
  },
  {
   "cell_type": "code",
   "execution_count": 255,
   "metadata": {
    "collapsed": true
   },
   "outputs": [
    {
     "data": {
      "text/plain": [
       "[('아침', 'NNG'),\n",
       " ('에', 'JKB'),\n",
       " ('몇', 'MM'),\n",
       " ('시', 'EP'),\n",
       " ('에', 'JKB'),\n",
       " ('타', 'VV'),\n",
       " ('고', 'EC'),\n",
       " ('가', 'JKS'),\n",
       " ('는데', 'EC'),\n",
       " ('?', 'SF')]"
      ]
     },
     "execution_count": 255,
     "metadata": {},
     "output_type": "execute_result"
    }
   ],
   "source": [
    "baseline_tagger.tag(sample)"
   ]
  },
  {
   "cell_type": "code",
   "execution_count": 256,
   "metadata": {
    "collapsed": true
   },
   "outputs": [
    {
     "data": {
      "text/plain": [
       "[('아침', 'NNG'),\n",
       " ('에', 'JKB'),\n",
       " ('몇', 'MM'),\n",
       " ('시', 'NNB'),\n",
       " ('에', 'JKB'),\n",
       " ('타', 'VV'),\n",
       " ('고', 'EC'),\n",
       " ('가', 'VV'),\n",
       " ('는데', 'EF'),\n",
       " ('?', 'SF')]"
      ]
     },
     "execution_count": 256,
     "metadata": {},
     "output_type": "execute_result"
    }
   ],
   "source": [
    "tagged_sents[3]"
   ]
  },
  {
   "cell_type": "markdown",
   "metadata": {},
   "source": [
    "# N-Gram Tagging"
   ]
  },
  {
   "cell_type": "code",
   "execution_count": 257,
   "metadata": {
    "collapsed": true
   },
   "outputs": [],
   "source": [
    "unigram_tagger = nltk.UnigramTagger(tagged_sents)"
   ]
  },
  {
   "cell_type": "code",
   "execution_count": 258,
   "metadata": {},
   "outputs": [
    {
     "data": {
      "text/plain": [
       "0.8603526460812297"
      ]
     },
     "execution_count": 258,
     "metadata": {},
     "output_type": "execute_result"
    }
   ],
   "source": [
    "unigram_tagger.evaluate(tagged_sents)"
   ]
  },
  {
   "cell_type": "code",
   "execution_count": 259,
   "metadata": {
    "collapsed": true
   },
   "outputs": [],
   "source": [
    "n = int(len(tagged_sents) * 0.9)"
   ]
  },
  {
   "cell_type": "code",
   "execution_count": 260,
   "metadata": {},
   "outputs": [
    {
     "data": {
      "text/plain": [
       "195046"
      ]
     },
     "execution_count": 260,
     "metadata": {},
     "output_type": "execute_result"
    }
   ],
   "source": [
    "n"
   ]
  },
  {
   "cell_type": "code",
   "execution_count": 261,
   "metadata": {
    "collapsed": true
   },
   "outputs": [],
   "source": [
    "train_sents = tagged_sents[:n]\n",
    "test_sents = tagged_sents[n:]"
   ]
  },
  {
   "cell_type": "code",
   "execution_count": 262,
   "metadata": {
    "collapsed": true
   },
   "outputs": [],
   "source": [
    "unigram_tagger = nltk.UnigramTagger(train_sents)"
   ]
  },
  {
   "cell_type": "code",
   "execution_count": 263,
   "metadata": {},
   "outputs": [
    {
     "data": {
      "text/plain": [
       "0.845963781461019"
      ]
     },
     "execution_count": 263,
     "metadata": {},
     "output_type": "execute_result"
    }
   ],
   "source": [
    "unigram_tagger.evaluate(test_sents)"
   ]
  },
  {
   "cell_type": "code",
   "execution_count": 264,
   "metadata": {
    "collapsed": true
   },
   "outputs": [],
   "source": [
    "bigram_tagger = nltk.BigramTagger(train_sents)"
   ]
  },
  {
   "cell_type": "code",
   "execution_count": 265,
   "metadata": {},
   "outputs": [
    {
     "data": {
      "text/plain": [
       "0.6856353591160221"
      ]
     },
     "execution_count": 265,
     "metadata": {},
     "output_type": "execute_result"
    }
   ],
   "source": [
    "bigram_tagger.evaluate(test_sents)"
   ]
  },
  {
   "cell_type": "code",
   "execution_count": 266,
   "metadata": {
    "collapsed": true
   },
   "outputs": [],
   "source": [
    "t0 = nltk.DefaultTagger('NNG')\n",
    "t1 = nltk.UnigramTagger(train_sents, backoff=t0)\n",
    "t2 = nltk.BigramTagger(train_sents, backoff=t1)"
   ]
  },
  {
   "cell_type": "code",
   "execution_count": 267,
   "metadata": {},
   "outputs": [
    {
     "data": {
      "text/plain": [
       "0.9252839165131983"
      ]
     },
     "execution_count": 267,
     "metadata": {},
     "output_type": "execute_result"
    }
   ],
   "source": [
    "t2.evaluate(test_sents)"
   ]
  },
  {
   "cell_type": "code",
   "execution_count": 268,
   "metadata": {
    "collapsed": true
   },
   "outputs": [
    {
     "data": {
      "text/plain": [
       "[('아침', 'NNG'),\n",
       " ('에', 'JKB'),\n",
       " ('몇', 'MM'),\n",
       " ('시', 'NNB'),\n",
       " ('에', 'JKB'),\n",
       " ('타', 'VV'),\n",
       " ('고', 'EC'),\n",
       " ('가', 'VV'),\n",
       " ('는데', 'EC'),\n",
       " ('?', 'SF')]"
      ]
     },
     "execution_count": 268,
     "metadata": {},
     "output_type": "execute_result"
    }
   ],
   "source": [
    "t2.tag(sample)"
   ]
  },
  {
   "cell_type": "code",
   "execution_count": 269,
   "metadata": {
    "collapsed": true
   },
   "outputs": [
    {
     "data": {
      "text/plain": [
       "[('아침', 'NNG'),\n",
       " ('에', 'JKB'),\n",
       " ('몇', 'MM'),\n",
       " ('시', 'NNB'),\n",
       " ('에', 'JKB'),\n",
       " ('타', 'VV'),\n",
       " ('고', 'EC'),\n",
       " ('가', 'VV'),\n",
       " ('는데', 'EF'),\n",
       " ('?', 'SF')]"
      ]
     },
     "execution_count": 269,
     "metadata": {},
     "output_type": "execute_result"
    }
   ],
   "source": [
    "tagged_sents[3]"
   ]
  },
  {
   "cell_type": "code",
   "execution_count": 270,
   "metadata": {
    "collapsed": true
   },
   "outputs": [],
   "source": [
    "import pickle"
   ]
  },
  {
   "cell_type": "code",
   "execution_count": 271,
   "metadata": {
    "collapsed": true
   },
   "outputs": [],
   "source": [
    "with open('sejong_tagger.pkl', 'wb') as file:\n",
    "    pickle.dump(t2, file)"
   ]
  },
  {
   "cell_type": "code",
   "execution_count": 272,
   "metadata": {
    "collapsed": true
   },
   "outputs": [],
   "source": [
    "del t2"
   ]
  },
  {
   "cell_type": "code",
   "execution_count": 274,
   "metadata": {},
   "outputs": [],
   "source": [
    "with open('sejong_tagger.pkl', 'rb') as file:\n",
    "    t2 = pickle.load(file)"
   ]
  },
  {
   "cell_type": "code",
   "execution_count": 275,
   "metadata": {},
   "outputs": [
    {
     "data": {
      "text/plain": [
       "[('아침', 'NNG'),\n",
       " ('에', 'JKB'),\n",
       " ('몇', 'MM'),\n",
       " ('시', 'NNB'),\n",
       " ('에', 'JKB'),\n",
       " ('타', 'VV'),\n",
       " ('고', 'EC'),\n",
       " ('가', 'VV'),\n",
       " ('는데', 'EC'),\n",
       " ('?', 'SF')]"
      ]
     },
     "execution_count": 275,
     "metadata": {},
     "output_type": "execute_result"
    }
   ],
   "source": [
    "t2.tag(sample)"
   ]
  },
  {
   "cell_type": "code",
   "execution_count": null,
   "metadata": {
    "collapsed": true
   },
   "outputs": [],
   "source": []
  }
 ],
 "metadata": {
  "kernelspec": {
   "display_name": "Python 3",
   "language": "python",
   "name": "python3"
  },
  "language_info": {
   "codemirror_mode": {
    "name": "ipython",
    "version": 3
   },
   "file_extension": ".py",
   "mimetype": "text/x-python",
   "name": "python",
   "nbconvert_exporter": "python",
   "pygments_lexer": "ipython3",
   "version": "3.6.1"
  }
 },
 "nbformat": 4,
 "nbformat_minor": 2
}
